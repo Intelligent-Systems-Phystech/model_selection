{
 "cells": [
  {
   "cell_type": "code",
   "execution_count": 4,
   "metadata": {},
   "outputs": [
    {
     "data": {
      "text/plain": [
       "(2, 2)"
      ]
     },
     "execution_count": 4,
     "metadata": {},
     "output_type": "execute_result"
    }
   ],
   "source": [
    "from zlib import crc32\n",
    "theory = crc32(\"Шульгин\".lower().encode(\"utf-8\"))%3+1\n",
    "practice = crc32(\"Shulgin\".lower().encode(\"utf-8\"))%3+1\n",
    "\n",
    "theory, practice"
   ]
  },
  {
   "cell_type": "markdown",
   "metadata": {},
   "source": [
    "**Практическое задание**  \n",
    "Реализовать пример выбора модели с вариационным нормальным распределением (Graves)"
   ]
  },
  {
   "cell_type": "code",
   "execution_count": 9,
   "metadata": {},
   "outputs": [],
   "source": [
    "import numpy as np\n",
    "import matplotlib.pyplot as plt\n",
    "from scipy import optimize\n",
    "from sklearn.metrics import log_loss\n",
    "import scipy.stats as sps\n",
    "import seaborn as sns"
   ]
  },
  {
   "cell_type": "markdown",
   "metadata": {},
   "source": [
    "Рассмотрим следующую игрушечную задачу бинарной классификации (одномерной логистической регрессии):\n",
    "$$\n",
    "y \\sim \\mathrm{Be}(p) \\\\ \n",
    "x \\sim \\mathcal{N}(0, 1) \\\\\n",
    "$$\n",
    "$\\mathrm{P}(y=±1) = \\sigma(±1 \\cdot x \\cdot w) $ $-$сигмоида"
   ]
  },
  {
   "cell_type": "code",
   "execution_count": 161,
   "metadata": {},
   "outputs": [],
   "source": [
    "n = 100\n",
    "p = 0.6\n",
    "\n",
    "x = np.random.rand(n)\n",
    "y = np.random.binomial(1, p, size=n)"
   ]
  },
  {
   "cell_type": "code",
   "execution_count": 162,
   "metadata": {},
   "outputs": [],
   "source": [
    "def sigmoid(x):\n",
    "    return 1 / (1 + np.exp(-x))"
   ]
  },
  {
   "cell_type": "markdown",
   "metadata": {},
   "source": [
    "Априорное распределение: $p(w) \\sim \\mathcal{N} (\\mu, \\sigma^2)$  \n",
    "Вариационное распределение: $q(w) \\sim \\mathcal{N} (\\mu_q, \\sigma_q^2)$"
   ]
  },
  {
   "cell_type": "code",
   "execution_count": 164,
   "metadata": {},
   "outputs": [],
   "source": [
    "mu, mu_q = 0, 1/2\n",
    "sigma, sigma_q = 1, 1\n",
    "\n",
    "w = np.random.rand(n)"
   ]
  },
  {
   "cell_type": "code",
   "execution_count": 165,
   "metadata": {},
   "outputs": [],
   "source": [
    "def KL_divergence(mu, mu_q, sigma, sigma_q):\n",
    "    return 0.5 * (sigma_q / sigma + (mu - mu_q)**2 / sigma - n + np.log(abs(sigma / sigma_q)))"
   ]
  },
  {
   "cell_type": "markdown",
   "metadata": {},
   "source": [
    "Вариационная оценка (согласно слайду 16 из https://github.com/bahleg/tex_slides/raw/master/oct_19/slides1_elbo.pdf):\n",
    "$$\n",
    "\\mathrm{D}_{\\text{KL}} (q(w) || p(w)) - \\sum\\limits_{i=1}^n \\log p(y_i | x_i, \\hat{w}) \\to \\min\\limits_{\\mu_q}\n",
    "$$"
   ]
  },
  {
   "cell_type": "code",
   "execution_count": 169,
   "metadata": {},
   "outputs": [],
   "source": [
    "target_f = lambda t: KL_divergence(mu, t, sigma, sigma_q) - log_loss(y, sigmoid(y * x * t), normalize=False)"
   ]
  },
  {
   "cell_type": "markdown",
   "metadata": {},
   "source": [
    "Численная минимизация"
   ]
  },
  {
   "cell_type": "code",
   "execution_count": 170,
   "metadata": {},
   "outputs": [
    {
     "data": {
      "text/plain": [
       "     fun: -509.16753680637817\n",
       "    nfev: 17\n",
       "     nit: 10\n",
       " success: True\n",
       "       x: -29.2396917383283"
      ]
     },
     "execution_count": 170,
     "metadata": {},
     "output_type": "execute_result"
    }
   ],
   "source": [
    "opt_res = optimize.minimize_scalar(target_f)\n",
    "opt_res"
   ]
  },
  {
   "cell_type": "code",
   "execution_count": 182,
   "metadata": {},
   "outputs": [
    {
     "data": {
      "image/png": "[encoded data removed]",
      "text/plain": [
       "<Figure size 432x288 with 1 Axes>"
      ]
     },
     "metadata": {},
     "output_type": "display_data"
    }
   ],
   "source": [
    "grid = np.linspace(-60, 40, 1000)\n",
    "plt.plot(grid, [target_f(k) for k in grid])\n",
    "plt.scatter(opt_res.x, target_f(opt_res.x), s=50, c='r');"
   ]
  },
  {
   "cell_type": "markdown",
   "metadata": {},
   "source": [
    "По графику видно, что оптимум найден корректно."
   ]
  },
  {
   "cell_type": "markdown",
   "metadata": {},
   "source": [
    "К сожалению как-то нормально оценить качество аппроксимации апостериорного распределения в данном случае я не могу. Поэтому я решил проделать это для случая, когда posterior вычислим аналитически."
   ]
  },
  {
   "cell_type": "markdown",
   "metadata": {},
   "source": [
    "Второй игрушечный пример.\n",
    "$$\n",
    "y \\sim \\mathcal{N}(\\mu, \\sigma^2), \\sigma - \\text{ известно} \\\\\n",
    "\\mu \\sim \\mathcal{N}(\\mu_0, \\sigma_0^2) - \\text{ prior}\n",
    "$$\n",
    "Тогда posterior: ${\\mu \\sim \\mathcal {N}}(\\mu_{0}',{\\sigma _{0}^{2}}'), \\ (\\mu_{0}',{\\sigma _{0}^{2}}') = \\left({\\displaystyle {\\frac {1}{{\\frac {1}{\\sigma _{0}^{2}}}+{\\frac {n}{\\sigma ^{2}}}}}\\left({\\frac {\\mu _{0}}{\\sigma _{0}^{2}}}+{\\frac {\\sum _{i=1}^{n}y_{i}}{\\sigma ^{2}}}\\right),\\left({\\frac {1}{\\sigma _{0}^{2}}}+{\\frac {n}{\\sigma ^{2}}}\\right)^{-1}} \\right)$\n",
    "\n"
   ]
  },
  {
   "cell_type": "code",
   "execution_count": 208,
   "metadata": {},
   "outputs": [],
   "source": [
    "mu_prior = 0; sigma_prior = 100\n",
    "sigma = 4\n",
    "mu = -3 # Parameter\n",
    "n = 100"
   ]
  },
  {
   "cell_type": "code",
   "execution_count": 209,
   "metadata": {},
   "outputs": [],
   "source": [
    "y = mu + sigma**(1/2) * np.random.randn(n)"
   ]
  },
  {
   "cell_type": "code",
   "execution_count": 212,
   "metadata": {},
   "outputs": [],
   "source": [
    "mu_posterior = (mu_prior / sigma_prior + y.sum() / sigma) / (1/sigma_prior + n/sigma)\n",
    "sigma_posterior = 1 / (1/sigma_prior + n/sigma)"
   ]
  },
  {
   "cell_type": "markdown",
   "metadata": {},
   "source": [
    "Для данного примера меняется только выражения для правдоподобия, остальное же остаётся неизменным."
   ]
  },
  {
   "cell_type": "code",
   "execution_count": 218,
   "metadata": {},
   "outputs": [],
   "source": [
    "def log_LL(t):\n",
    "    return sps.norm(t, sigma**(1/2)).logpdf(y).sum()"
   ]
  },
  {
   "cell_type": "code",
   "execution_count": 219,
   "metadata": {},
   "outputs": [],
   "source": [
    "target_f = lambda t: KL_divergence(mu_prior, t, sigma_prior, sigma_posterior) - log_LL(t)"
   ]
  },
  {
   "cell_type": "code",
   "execution_count": 220,
   "metadata": {},
   "outputs": [
    {
     "data": {
      "text/plain": [
       "     fun: 166.09324505242017\n",
       "    nfev: 10\n",
       "     nit: 4\n",
       " success: True\n",
       "       x: -2.871134723581238"
      ]
     },
     "execution_count": 220,
     "metadata": {},
     "output_type": "execute_result"
    }
   ],
   "source": [
    "opt_res = optimize.minimize_scalar(target_f)\n",
    "opt_res"
   ]
  },
  {
   "cell_type": "code",
   "execution_count": 221,
   "metadata": {},
   "outputs": [
    {
     "data": {
      "text/plain": [
       "-2.871134723581234"
      ]
     },
     "execution_count": 221,
     "metadata": {},
     "output_type": "execute_result"
    }
   ],
   "source": [
    "mu_posterior"
   ]
  },
  {
   "cell_type": "markdown",
   "metadata": {},
   "source": [
    "Найденное значение для параметра вариационного распределения совпадает с аналитически найденным."
   ]
  },
  {
   "cell_type": "code",
   "execution_count": 223,
   "metadata": {},
   "outputs": [
    {
     "data": {
      "image/png": "[encoded data removed]",
      "text/plain": [
       "<Figure size 432x288 with 1 Axes>"
      ]
     },
     "metadata": {},
     "output_type": "display_data"
    }
   ],
   "source": [
    "sns.distplot(sps.norm(mu_posterior, sigma_posterior**(1/2)).rvs(10**5), kde=True);\n",
    "sns.distplot(sps.norm(opt_res.x, sigma_posterior**(1/2)).rvs(10**5), kde=True, hist_kws={\"alpha\":0.3});"
   ]
  },
  {
   "cell_type": "markdown",
   "metadata": {},
   "source": [
    "По kde-plot'y также видно, что аппроксимация получилась."
   ]
  },
  {
   "cell_type": "code",
   "execution_count": null,
   "metadata": {},
   "outputs": [],
   "source": []
  }
 ],
 "metadata": {
  "kernelspec": {
   "display_name": "Python 3",
   "language": "python",
   "name": "python3"
  },
  "language_info": {
   "codemirror_mode": {
    "name": "ipython",
    "version": 3
   },
   "file_extension": ".py",
   "mimetype": "text/x-python",
   "name": "python",
   "nbconvert_exporter": "python",
   "pygments_lexer": "ipython3",
   "version": "3.6.8"
  }
 },
 "nbformat": 4,
 "nbformat_minor": 2
}
