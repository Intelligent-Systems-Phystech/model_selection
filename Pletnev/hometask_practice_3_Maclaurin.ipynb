{
 "cells": [
  {
   "cell_type": "code",
   "execution_count": 0,
   "metadata": {
    "colab": {},
    "colab_type": "code",
    "id": "WggytmVRvG3K"
   },
   "outputs": [],
   "source": [
    "from torch.utils.data import TensorDataset, DataLoader, Dataset\n",
    "import torch\n",
    "\n",
    "from tqdm import tqdm\n",
    "\n",
    "import math\n",
    "\n",
    "import numpy as np\n",
    "import matplotlib.pyplot as plt"
   ]
  },
  {
   "cell_type": "code",
   "execution_count": 0,
   "metadata": {
    "colab": {},
    "colab_type": "code",
    "id": "kiYIM2YKwt2k"
   },
   "outputs": [],
   "source": [
    "# Вспомогательные математические функции с https://github.com/mariogeiger/hessian\n",
    "\n",
    "def gradient(outputs, inputs, grad_outputs=None, retain_graph=None, create_graph=False):\n",
    "    '''\n",
    "    Compute the gradient of `outputs` with respect to `inputs`\n",
    "    gradient(x.sum(), x)\n",
    "    gradient((x * y).sum(), [x, y])\n",
    "    '''\n",
    "    if torch.is_tensor(inputs):\n",
    "        inputs = [inputs]\n",
    "    else:\n",
    "        inputs = list(inputs)\n",
    "    grads = torch.autograd.grad(outputs, inputs, grad_outputs,\n",
    "                                allow_unused=True,\n",
    "                                retain_graph=retain_graph,\n",
    "                                create_graph=create_graph)\n",
    "    grads = [x if x is not None else torch.zeros_like(y) for x, y in zip(grads, inputs)]\n",
    "    return torch.cat([x.contiguous().view(-1) for x in grads])\n",
    "\n",
    "\n",
    "def hessian(output, inputs, out=None, allow_unused=False, create_graph=False):\n",
    "    '''\n",
    "    Compute the Hessian of `output` with respect to `inputs`\n",
    "    hessian((x * y).sum(), [x, y])\n",
    "    '''\n",
    "    assert output.ndimension() == 0\n",
    "\n",
    "    if torch.is_tensor(inputs):\n",
    "        inputs = [inputs]\n",
    "    else:\n",
    "        inputs = list(inputs)\n",
    "\n",
    "    n = sum(p.numel() for p in inputs)\n",
    "    if out is None:\n",
    "        out = output.new_zeros(n, n)\n",
    "\n",
    "    ai = 0\n",
    "    for i, inp in enumerate(inputs):\n",
    "        [grad] = torch.autograd.grad(output, inp, create_graph=True, allow_unused=allow_unused)\n",
    "        grad = torch.zeros_like(inp) if grad is None else grad\n",
    "        grad = grad.contiguous().view(-1)\n",
    "\n",
    "        for j in range(inp.numel()):\n",
    "            if grad[j].requires_grad:\n",
    "                row = gradient(grad[j], inputs[i:], retain_graph=True, create_graph=create_graph)[j:]\n",
    "            else:\n",
    "                row = grad[j].new_zeros(sum(x.numel() for x in inputs[i:]) - j)\n",
    "\n",
    "            out[ai, ai:].add_(row.type_as(out))  # ai's row\n",
    "            if ai + 1 < n:\n",
    "                out[ai + 1:, ai].add_(row[1:].type_as(out))  # ai's column\n",
    "            del row\n",
    "            ai += 1\n",
    "        del grad\n",
    "\n",
    "    return out"
   ]
  },
  {
   "cell_type": "code",
   "execution_count": 0,
   "metadata": {
    "colab": {},
    "colab_type": "code",
    "id": "0yVhkCvvyMWK"
   },
   "outputs": [],
   "source": [
    "# Устанавливаем параметры для графиков\n",
    "\n",
    "parameters = {\n",
    "    'figure.figsize': (14.0, 8.0),\n",
    "    'font.size': 18,\n",
    "    'axes.titlesize': 24,\n",
    "    'axes.labelsize': 24,\n",
    "    'legend.fontsize': 24,\n",
    "    'xtick.labelsize': 24,\n",
    "    'ytick.labelsize': 24,\n",
    "    'lines.linewidth': 2,\n",
    "    'lines.markersize': 4\n",
    "}\n",
    "\n",
    "plt.rcParams.update(parameters)"
   ]
  },
  {
   "cell_type": "code",
   "execution_count": 4,
   "metadata": {
    "colab": {
     "base_uri": "https://localhost:8080/",
     "height": 34
    },
    "colab_type": "code",
    "id": "e2z8laRu0QHw",
    "outputId": "9f859e26-41d3-4837-8206-2e2fbd15c67f"
   },
   "outputs": [
    {
     "data": {
      "text/plain": [
       "device(type='cpu')"
      ]
     },
     "execution_count": 4,
     "metadata": {
      "tags": []
     },
     "output_type": "execute_result"
    }
   ],
   "source": [
    "# Создадим экземпляр вычислительной машины и посмотрим на него\n",
    "\n",
    "device = torch.device(\"cuda\" if torch.cuda.is_available() else \"cpu\")\n",
    "device"
   ]
  },
  {
   "cell_type": "markdown",
   "metadata": {
    "colab_type": "text",
    "id": "_l9vuVk71B_C"
   },
   "source": [
    "# **Эксперименты**"
   ]
  },
  {
   "cell_type": "markdown",
   "metadata": {
    "colab_type": "text",
    "id": "6nnU9JDy2A2i"
   },
   "source": [
    "Проведены на простой синтетической выборке: $$x\\sim \\mathcal{N}(0, I_n),\\ w\\sim \\mathcal{N}(0, I_n),\\ y\\sim \\mathcal{N}(w^Tx, \\sigma I).$$"
   ]
  },
  {
   "cell_type": "code",
   "execution_count": 0,
   "metadata": {
    "colab": {},
    "colab_type": "code",
    "id": "0a9GSZQx22Ac"
   },
   "outputs": [],
   "source": [
    "# Синтезируем данные\n",
    "m_samples = 512\n",
    "n = 30\n",
    "sigma = 0.001\n",
    "\n",
    "w = np.random.randn(n)\n",
    "\n",
    "X_train = np.random.randn(m_samples, n)\n",
    "Y_train = (X_train @ w + sigma * np.random.randn(m_samples)).reshape([-1, 1])\n",
    "\n",
    "X_test = np.random.randn(m_samples, n)\n",
    "Y_test = (X_test @ w + sigma * np.random.randn(m_samples)).reshape([-1, 1])"
   ]
  },
  {
   "cell_type": "code",
   "execution_count": 0,
   "metadata": {
    "colab": {},
    "colab_type": "code",
    "id": "vUTWL3FW7UAD"
   },
   "outputs": [],
   "source": [
    "# Загружаем данные на машину\n",
    "train_data = TensorDataset(torch.Tensor(X_train).to(device), torch.Tensor(Y_train).to(device))\n",
    "test_data = TensorDataset(torch.Tensor(X_test).to(device), torch.Tensor(Y_test).to(device))\n",
    "\n",
    "X_tr, Y_tr = train_data[:]\n",
    "X_ts, Y_ts = test_data[:]"
   ]
  },
  {
   "cell_type": "markdown",
   "metadata": {
    "colab_type": "text",
    "id": "By3X9FR67uFR"
   },
   "source": [
    "Модель --- MLP (полносвязная нейросеть) с одним скрытым слоем и разным количеством нейронов на нём."
   ]
  },
  {
   "cell_type": "code",
   "execution_count": 0,
   "metadata": {
    "colab": {},
    "colab_type": "code",
    "id": "6yvg-w_r7cjU"
   },
   "outputs": [],
   "source": [
    "class MLP1(torch.nn.Module):\n",
    "    def __init__(self, input_dim=30, hidden_dim=5, output_dim=1, device='cpu'):\n",
    "        super(MLP1, self).__init__()\n",
    "        self.input_dim = input_dim\n",
    "        self.hidden_dim = hidden_dim\n",
    "        self.output_dim = output_dim\n",
    "        self.device = device\n",
    "\n",
    "        self.body = torch.nn.Sequential(\n",
    "            torch.nn.Linear(self.input_dim, self.hidden_dim),\n",
    "            torch.nn.LeakyReLU(),\n",
    "        )\n",
    "        \n",
    "        self.head = torch.nn.Linear(self.hidden_dim, self.output_dim)\n",
    "        \n",
    "        list_w = []\n",
    "        for w in self.parameters():\n",
    "            list_w.append(w.data.view(-1))\n",
    "        self.D = len(torch.cat(list_w).view(-1))\n",
    "        self.S = torch.Tensor([0.5 * 1 * (1 + 2 * math.pi)]).mean().to(device)\n",
    "\n",
    "        self.to(device)\n",
    "\n",
    "    def predict(self, input):\n",
    "        return self.head(self.body(input))\n",
    "    \n",
    "    def log_prior_w(self, w):\n",
    "        sigma = 1.\n",
    "        w = w.view(-1)\n",
    "        return -0.5 * (sigma ** 2) * torch.dot(w, w) - 0.5 * len(w) * math.log(2 * math.pi)+len(w) * math.log(sigma)\n",
    "      \n",
    "    def log_prior_all(self):\n",
    "        temp = 0\n",
    "        for w in self.parameters():\n",
    "            temp += self.log_prior_w(w)\n",
    "        return temp\n",
    "     \n",
    "    def log_likelihood(self, batch_x, batch_y):\n",
    "        beta = 1.\n",
    "        batch_size = len(batch_y)\n",
    "        return -0.5 * beta * torch.sum((self.predict(batch_x) - batch_y)**2)- 0.5 * batch_size*math.log(2 * math.pi) + 0.5 * batch_size * math.log(beta)\n",
    "    \n",
    "    def margin_log_likelihood(self, batch_x, batch_y):\n",
    "        return (self.log_prior_all() + self.log_likelihood(batch_x, batch_y)) / len(batch_y)\n",
    "    \n",
    "    def batch_loss(self, batch_x, batch_y):\n",
    "        return torch.mean((self.predict(batch_x) - batch_y)**2)\n",
    "    "
   ]
  },
  {
   "cell_type": "markdown",
   "metadata": {
    "colab_type": "text",
    "id": "UxLAVR_W-elz"
   },
   "source": [
    "Построим графики зависимости обоснованности модели от номера эпохи для разных размерностей скрытого слоя."
   ]
  },
  {
   "cell_type": "markdown",
   "metadata": {
    "colab_type": "text",
    "id": "ocrbqj1O-34L"
   },
   "source": [
    "### Простая модель\n",
    "Один нейрон на скрытом слое, такая модель близка к линейной."
   ]
  },
  {
   "cell_type": "code",
   "execution_count": 8,
   "metadata": {
    "colab": {
     "base_uri": "https://localhost:8080/",
     "height": 517
    },
    "colab_type": "code",
    "id": "BvxvTUt6_GxR",
    "outputId": "f43a9396-07f6-449f-b0e6-4d66eee3c441"
   },
   "outputs": [
    {
     "name": "stderr",
     "output_type": "stream",
     "text": [
      "100%|██████████| 1000/1000 [02:40<00:00,  6.19it/s]\n"
     ]
    },
    {
     "data": {
      "image/png": "[encoded data removed]",
      "text/plain": [
       "<Figure size 1008x576 with 1 Axes>"
      ]
     },
     "metadata": {
      "tags": []
     },
     "output_type": "display_data"
    }
   ],
   "source": [
    "model = MLP1(input_dim=n, output_dim=1, hidden_dim=1)\n",
    "steps_list = []\n",
    "\n",
    "for epoch in tqdm(range(1000)):\n",
    "    generator = DataLoader(train_data, batch_size=64, shuffle=True)\n",
    "    for batch_x, batch_y in generator:\n",
    "        \n",
    "        model.zero_grad()\n",
    "        margin_log_likelihood = -model.margin_log_likelihood(batch_x, batch_y)\n",
    "\n",
    "        list_w = []\n",
    "        for w in model.parameters():\n",
    "            list_w.append(w)\n",
    "\n",
    "        lr=0.0001\n",
    "        model.S = (model.S + torch.log(torch.det(torch.eye(model.D, device=device) - lr * hessian(margin_log_likelihood, list_w)))).detach()\n",
    "    \n",
    "        model.zero_grad()\n",
    "        optimizer = torch.optim.SGD(model.parameters(), lr=lr)\n",
    "\n",
    "        batch_loss = model.batch_loss(batch_x, batch_y)\n",
    "        batch_loss.backward()\n",
    "\n",
    "        optimizer.step()\n",
    "\n",
    "    steps_list.append((model.S.item(), model.log_prior_all().item(), len(Y_tr), \n",
    "                       model.log_likelihood(X_tr, Y_tr).item(), len(Y_ts), model.log_likelihood(X_ts, Y_ts).item()))\n",
    "        \n",
    "        \n",
    "plt.plot([item[0]+(item[1]+item[3])/item[2] for item in steps_list], label = 'Train')\n",
    "plt.plot([item[0]+(item[1]+item[5])/item[4] for item in steps_list], label = 'Test')\n",
    "\n",
    "plt.grid()\n",
    "plt.legend(loc='best')\n",
    "plt.show()"
   ]
  },
  {
   "cell_type": "markdown",
   "metadata": {
    "colab_type": "text",
    "id": "FGFiGaJNDH16"
   },
   "source": [
    "Обоснованность начинает резко падать после 500 эпохи, а до этого её рост незначителен (линейная модель). Потому что энтропия убывает гораздо сильнее, чем растёт правдоподобие.\n"
   ]
  },
  {
   "cell_type": "markdown",
   "metadata": {
    "colab_type": "text",
    "id": "ptJYy2MVBjGU"
   },
   "source": [
    "### Менее простая модель\n",
    "\n",
    "Три нейрона на скрытом слое."
   ]
  },
  {
   "cell_type": "code",
   "execution_count": 9,
   "metadata": {
    "colab": {
     "base_uri": "https://localhost:8080/",
     "height": 517
    },
    "colab_type": "code",
    "id": "ODshKkF7BjgZ",
    "outputId": "c00ea77d-7359-4826-d3e2-87988064d9d0"
   },
   "outputs": [
    {
     "name": "stderr",
     "output_type": "stream",
     "text": [
      "100%|██████████| 1000/1000 [07:43<00:00,  2.19it/s]\n"
     ]
    },
    {
     "data": {
      "image/png": "[encoded data removed]",
      "text/plain": [
       "<Figure size 1008x576 with 1 Axes>"
      ]
     },
     "metadata": {
      "tags": []
     },
     "output_type": "display_data"
    }
   ],
   "source": [
    "model = MLP1(input_dim=n, output_dim=1, hidden_dim=3)\n",
    "steps_list = []\n",
    "\n",
    "for epoch in tqdm(range(1000)):\n",
    "    generator = DataLoader(train_data, batch_size=64, shuffle=True)\n",
    "    for batch_x, batch_y in generator:\n",
    "        \n",
    "        model.zero_grad()\n",
    "        margin_log_likelihood = -model.margin_log_likelihood(batch_x, batch_y)\n",
    "\n",
    "        list_w = []\n",
    "        for w in model.parameters():\n",
    "            list_w.append(w)\n",
    "\n",
    "        lr=0.0001\n",
    "        model.S = (model.S + torch.log(torch.det(torch.eye(model.D, device=device) - lr * hessian(margin_log_likelihood, list_w)))).detach()\n",
    "    \n",
    "        model.zero_grad()\n",
    "        optimizer = torch.optim.SGD(model.parameters(), lr=lr)\n",
    "\n",
    "        batch_loss = model.batch_loss(batch_x, batch_y)\n",
    "        batch_loss.backward()\n",
    "\n",
    "        optimizer.step()\n",
    "\n",
    "    steps_list.append((model.S.item(), model.log_prior_all().item(), len(Y_tr), \n",
    "                       model.log_likelihood(X_tr, Y_tr).item(), len(Y_ts), model.log_likelihood(X_ts, Y_ts).item()))\n",
    "        \n",
    "        \n",
    "plt.plot([item[0]+(item[1]+item[3])/item[2] for item in steps_list], label = 'Train')\n",
    "plt.plot([item[0]+(item[1]+item[5])/item[4] for item in steps_list], label = 'Test')\n",
    "\n",
    "plt.grid()\n",
    "plt.legend(loc='best')\n",
    "plt.show()"
   ]
  },
  {
   "cell_type": "markdown",
   "metadata": {
    "colab_type": "text",
    "id": "J8wyTmTdDJE4"
   },
   "source": [
    "Обоснованность начинает резко падать после примерно 350 эпохи. Потому что энтропия убывает гораздо сильнее, чем растёт правдоподобие."
   ]
  },
  {
   "cell_type": "markdown",
   "metadata": {
    "colab_type": "text",
    "id": "u6G-OQN7CE1N"
   },
   "source": [
    "### Средняя модель\n",
    "Шесть нейронов на скрытом слое."
   ]
  },
  {
   "cell_type": "code",
   "execution_count": 10,
   "metadata": {
    "colab": {
     "base_uri": "https://localhost:8080/",
     "height": 517
    },
    "colab_type": "code",
    "id": "e9S9FBadCcaC",
    "outputId": "40c05aa3-d511-41d3-cd9f-94049f310132"
   },
   "outputs": [
    {
     "name": "stderr",
     "output_type": "stream",
     "text": [
      "100%|██████████| 1000/1000 [14:44<00:00,  1.14it/s]\n"
     ]
    },
    {
     "data": {
      "image/png": "[encoded data removed]",
      "text/plain": [
       "<Figure size 1008x576 with 1 Axes>"
      ]
     },
     "metadata": {
      "tags": []
     },
     "output_type": "display_data"
    }
   ],
   "source": [
    "model = MLP1(input_dim=n, output_dim=1, hidden_dim=6)\n",
    "steps_list = []\n",
    "\n",
    "for epoch in tqdm(range(1000)):\n",
    "    generator = DataLoader(train_data, batch_size=64, shuffle=True)\n",
    "    for batch_x, batch_y in generator:\n",
    "        \n",
    "        model.zero_grad()\n",
    "        margin_log_likelihood = -model.margin_log_likelihood(batch_x, batch_y)\n",
    "\n",
    "        list_w = []\n",
    "        for w in model.parameters():\n",
    "            list_w.append(w)\n",
    "\n",
    "        lr=0.0001\n",
    "        model.S = (model.S + torch.log(torch.det(torch.eye(model.D, device=device) - lr * hessian(margin_log_likelihood, list_w)))).detach()\n",
    "    \n",
    "        model.zero_grad()\n",
    "        optimizer = torch.optim.SGD(model.parameters(), lr=lr)\n",
    "\n",
    "        batch_loss = model.batch_loss(batch_x, batch_y)\n",
    "        batch_loss.backward()\n",
    "\n",
    "        optimizer.step()\n",
    "\n",
    "    steps_list.append((model.S.item(), model.log_prior_all().item(), len(Y_tr), \n",
    "                       model.log_likelihood(X_tr, Y_tr).item(), len(Y_ts), model.log_likelihood(X_ts, Y_ts).item()))\n",
    "        \n",
    "        \n",
    "plt.plot([item[0]+(item[1]+item[3])/item[2] for item in steps_list], label = 'Train')\n",
    "plt.plot([item[0]+(item[1]+item[5])/item[4] for item in steps_list], label = 'Test')\n",
    "\n",
    "plt.grid()\n",
    "plt.legend(loc='best')\n",
    "plt.show()"
   ]
  },
  {
   "cell_type": "markdown",
   "metadata": {
    "colab_type": "text",
    "id": "grPM_nVTDKgC"
   },
   "source": [
    "Обоснованность начинает  падать после 300 эпохи. Потому что энтропия убывает гораздо сильнее, чем растёт правдоподобие."
   ]
  },
  {
   "cell_type": "markdown",
   "metadata": {
    "colab_type": "text",
    "id": "1Q5qiq2qCfys"
   },
   "source": [
    "### Сложная модель\n",
    "Пятнадцать нейронов на скрытом слое."
   ]
  },
  {
   "cell_type": "code",
   "execution_count": 12,
   "metadata": {
    "colab": {
     "base_uri": "https://localhost:8080/",
     "height": 1000
    },
    "colab_type": "code",
    "id": "-VsvxrbACxLs",
    "outputId": "e32318ff-a8fa-46a0-b0f0-ba0f1b7f6a64"
   },
   "outputs": [
    {
     "name": "stderr",
     "output_type": "stream",
     "text": [
      "\n",
      "  0%|          | 0/400 [00:00<?, ?it/s]\u001b[A\n",
      "  0%|          | 1/400 [00:02<14:25,  2.17s/it]\u001b[A\n",
      "  0%|          | 2/400 [00:04<14:22,  2.17s/it]\u001b[A\n",
      "  1%|          | 3/400 [00:06<14:26,  2.18s/it]\u001b[A\n",
      "  1%|          | 4/400 [00:08<14:30,  2.20s/it]\u001b[A\n",
      "  1%|▏         | 5/400 [00:10<14:29,  2.20s/it]\u001b[A\n",
      "  2%|▏         | 6/400 [00:13<14:29,  2.21s/it]\u001b[A\n",
      "  2%|▏         | 7/400 [00:15<14:27,  2.21s/it]\u001b[A\n",
      "  2%|▏         | 8/400 [00:17<14:23,  2.20s/it]\u001b[A\n",
      "  2%|▏         | 9/400 [00:19<14:19,  2.20s/it]\u001b[A\n",
      "  2%|▎         | 10/400 [00:22<14:17,  2.20s/it]\u001b[A\n",
      "  3%|▎         | 11/400 [00:24<14:14,  2.20s/it]\u001b[A\n",
      "  3%|▎         | 12/400 [00:26<14:11,  2.20s/it]\u001b[A\n",
      "  3%|▎         | 13/400 [00:28<14:13,  2.21s/it]\u001b[A\n",
      "  4%|▎         | 14/400 [00:30<14:11,  2.21s/it]\u001b[A\n",
      "  4%|▍         | 15/400 [00:33<14:06,  2.20s/it]\u001b[A\n",
      "  4%|▍         | 16/400 [00:35<14:02,  2.19s/it]\u001b[A\n",
      "  4%|▍         | 17/400 [00:37<14:00,  2.19s/it]\u001b[A\n",
      "  4%|▍         | 18/400 [00:39<14:01,  2.20s/it]\u001b[A\n",
      "  5%|▍         | 19/400 [00:41<13:54,  2.19s/it]\u001b[A\n",
      "  5%|▌         | 20/400 [00:43<13:53,  2.19s/it]\u001b[A\n",
      "  5%|▌         | 21/400 [00:46<14:00,  2.22s/it]\u001b[A\n",
      "  6%|▌         | 22/400 [00:48<14:43,  2.34s/it]\u001b[A\n",
      "  6%|▌         | 23/400 [00:51<15:14,  2.43s/it]\u001b[A\n",
      "  6%|▌         | 24/400 [00:53<14:45,  2.36s/it]\u001b[A\n",
      "  6%|▋         | 25/400 [00:55<14:28,  2.32s/it]\u001b[A\n",
      "  6%|▋         | 26/400 [00:58<14:09,  2.27s/it]\u001b[A\n",
      "  7%|▋         | 27/400 [01:00<14:01,  2.26s/it]\u001b[A\n",
      "  7%|▋         | 28/400 [01:02<13:55,  2.25s/it]\u001b[A\n",
      "  7%|▋         | 29/400 [01:04<13:46,  2.23s/it]\u001b[A\n",
      "  8%|▊         | 30/400 [01:06<13:38,  2.21s/it]\u001b[A\n",
      "  8%|▊         | 31/400 [01:09<13:34,  2.21s/it]\u001b[A\n",
      "  8%|▊         | 32/400 [01:11<13:33,  2.21s/it]\u001b[A\n",
      "  8%|▊         | 33/400 [01:13<13:32,  2.21s/it]\u001b[A\n",
      "  8%|▊         | 34/400 [01:15<13:29,  2.21s/it]\u001b[A\n",
      "  9%|▉         | 35/400 [01:17<13:24,  2.20s/it]\u001b[A\n",
      "  9%|▉         | 36/400 [01:20<13:24,  2.21s/it]\u001b[A\n",
      "  9%|▉         | 37/400 [01:22<13:24,  2.21s/it]\u001b[A\n",
      " 10%|▉         | 38/400 [01:24<13:20,  2.21s/it]\u001b[A\n",
      " 10%|▉         | 39/400 [01:26<13:17,  2.21s/it]\u001b[A\n",
      " 10%|█         | 40/400 [01:28<13:14,  2.21s/it]\u001b[A\n",
      " 10%|█         | 41/400 [01:31<13:13,  2.21s/it]\u001b[A\n",
      " 10%|█         | 42/400 [01:33<13:08,  2.20s/it]\u001b[A\n",
      " 11%|█         | 43/400 [01:35<13:05,  2.20s/it]\u001b[A\n",
      " 11%|█         | 44/400 [01:37<13:02,  2.20s/it]\u001b[A\n",
      " 11%|█▏        | 45/400 [01:39<12:58,  2.19s/it]\u001b[A\n",
      " 12%|█▏        | 46/400 [01:42<12:57,  2.20s/it]\u001b[A\n",
      " 12%|█▏        | 47/400 [01:44<12:56,  2.20s/it]\u001b[A\n",
      " 12%|█▏        | 48/400 [01:46<12:55,  2.20s/it]\u001b[A\n",
      " 12%|█▏        | 49/400 [01:48<12:53,  2.20s/it]\u001b[A\n",
      " 12%|█▎        | 50/400 [01:50<12:51,  2.21s/it]\u001b[A\n",
      " 13%|█▎        | 51/400 [01:53<12:47,  2.20s/it]\u001b[A\n",
      " 13%|█▎        | 52/400 [01:55<12:45,  2.20s/it]\u001b[A\n",
      " 13%|█▎        | 53/400 [01:57<12:43,  2.20s/it]\u001b[A\n",
      " 14%|█▎        | 54/400 [01:59<12:40,  2.20s/it]\u001b[A\n",
      " 14%|█▍        | 55/400 [02:02<12:43,  2.21s/it]\u001b[A\n",
      " 14%|█▍        | 56/400 [02:04<12:38,  2.20s/it]\u001b[A\n",
      " 14%|█▍        | 57/400 [02:06<12:33,  2.20s/it]\u001b[A\n",
      " 14%|█▍        | 58/400 [02:08<12:31,  2.20s/it]\u001b[A\n",
      " 15%|█▍        | 59/400 [02:10<12:29,  2.20s/it]\u001b[A\n",
      " 15%|█▌        | 60/400 [02:13<12:31,  2.21s/it]\u001b[A\n",
      " 15%|█▌        | 61/400 [02:15<12:40,  2.24s/it]\u001b[A\n",
      " 16%|█▌        | 62/400 [02:17<13:17,  2.36s/it]\u001b[A\n",
      " 16%|█▌        | 63/400 [02:20<13:40,  2.43s/it]\u001b[A\n",
      " 16%|█▌        | 64/400 [02:23<14:00,  2.50s/it]\u001b[A\n",
      " 16%|█▋        | 65/400 [02:25<13:51,  2.48s/it]\u001b[A\n",
      " 16%|█▋        | 66/400 [02:27<13:22,  2.40s/it]\u001b[A\n",
      " 17%|█▋        | 67/400 [02:30<13:00,  2.34s/it]\u001b[A\n",
      " 17%|█▋        | 68/400 [02:32<12:43,  2.30s/it]\u001b[A\n",
      " 17%|█▋        | 69/400 [02:34<12:30,  2.27s/it]\u001b[A\n",
      " 18%|█▊        | 70/400 [02:36<12:18,  2.24s/it]\u001b[A\n",
      " 18%|█▊        | 71/400 [02:38<12:11,  2.22s/it]\u001b[A\n",
      " 18%|█▊        | 72/400 [02:41<12:05,  2.21s/it]\u001b[A\n",
      " 18%|█▊        | 73/400 [02:43<12:01,  2.21s/it]\u001b[A\n",
      " 18%|█▊        | 74/400 [02:45<11:57,  2.20s/it]\u001b[A\n",
      " 19%|█▉        | 75/400 [02:47<11:53,  2.20s/it]\u001b[A\n",
      " 19%|█▉        | 76/400 [02:49<11:52,  2.20s/it]\u001b[A\n",
      " 19%|█▉        | 77/400 [02:51<11:49,  2.20s/it]\u001b[A\n",
      " 20%|█▉        | 78/400 [02:54<11:48,  2.20s/it]\u001b[A\n",
      " 20%|█▉        | 79/400 [02:56<11:45,  2.20s/it]\u001b[A\n",
      " 20%|██        | 80/400 [02:58<11:42,  2.20s/it]\u001b[A\n",
      " 20%|██        | 81/400 [03:00<11:38,  2.19s/it]\u001b[A\n",
      " 20%|██        | 82/400 [03:02<11:36,  2.19s/it]\u001b[A\n",
      " 21%|██        | 83/400 [03:05<11:38,  2.20s/it]\u001b[A\n",
      " 21%|██        | 84/400 [03:07<11:32,  2.19s/it]\u001b[A\n",
      " 21%|██▏       | 85/400 [03:09<11:28,  2.19s/it]\u001b[A\n",
      " 22%|██▏       | 86/400 [03:11<11:28,  2.19s/it]\u001b[A\n",
      " 22%|██▏       | 87/400 [03:13<11:25,  2.19s/it]\u001b[A\n",
      " 22%|██▏       | 88/400 [03:16<11:22,  2.19s/it]\u001b[A\n",
      " 22%|██▏       | 89/400 [03:18<11:17,  2.18s/it]\u001b[A\n",
      " 22%|██▎       | 90/400 [03:20<11:14,  2.18s/it]\u001b[A\n",
      " 23%|██▎       | 91/400 [03:22<11:12,  2.18s/it]\u001b[A\n",
      " 23%|██▎       | 92/400 [03:24<11:11,  2.18s/it]\u001b[A\n",
      " 23%|██▎       | 93/400 [03:26<11:11,  2.19s/it]\u001b[A\n",
      " 24%|██▎       | 94/400 [03:29<11:10,  2.19s/it]\u001b[A\n",
      " 24%|██▍       | 95/400 [03:31<11:06,  2.18s/it]\u001b[A\n",
      " 24%|██▍       | 96/400 [03:33<11:03,  2.18s/it]\u001b[A\n",
      " 24%|██▍       | 97/400 [03:35<11:01,  2.18s/it]\u001b[A\n",
      " 24%|██▍       | 98/400 [03:37<10:58,  2.18s/it]\u001b[A\n",
      " 25%|██▍       | 99/400 [03:40<10:55,  2.18s/it]\u001b[A\n",
      " 25%|██▌       | 100/400 [03:42<10:53,  2.18s/it]\u001b[A\n",
      " 25%|██▌       | 101/400 [03:44<10:53,  2.19s/it]\u001b[A\n",
      " 26%|██▌       | 102/400 [03:46<10:56,  2.20s/it]\u001b[A\n",
      " 26%|██▌       | 103/400 [03:48<10:54,  2.20s/it]\u001b[A\n",
      " 26%|██▌       | 104/400 [03:51<10:52,  2.20s/it]\u001b[A\n",
      " 26%|██▋       | 105/400 [03:53<10:46,  2.19s/it]\u001b[A\n",
      " 26%|██▋       | 106/400 [03:55<10:41,  2.18s/it]\u001b[A\n",
      " 27%|██▋       | 107/400 [03:57<10:37,  2.18s/it]\u001b[A\n",
      " 27%|██▋       | 108/400 [03:59<10:36,  2.18s/it]\u001b[A\n",
      " 27%|██▋       | 109/400 [04:01<10:35,  2.18s/it]\u001b[A\n",
      " 28%|██▊       | 110/400 [04:04<10:32,  2.18s/it]\u001b[A\n",
      " 28%|██▊       | 111/400 [04:06<10:28,  2.17s/it]\u001b[A\n",
      " 28%|██▊       | 112/400 [04:08<10:27,  2.18s/it]\u001b[A\n",
      " 28%|██▊       | 113/400 [04:10<10:24,  2.18s/it]\u001b[A\n",
      " 28%|██▊       | 114/400 [04:12<10:23,  2.18s/it]\u001b[A\n",
      " 29%|██▉       | 115/400 [04:15<10:20,  2.18s/it]\u001b[A\n",
      " 29%|██▉       | 116/400 [04:17<10:17,  2.18s/it]\u001b[A\n",
      " 29%|██▉       | 117/400 [04:19<10:14,  2.17s/it]\u001b[A\n",
      " 30%|██▉       | 118/400 [04:21<10:13,  2.18s/it]\u001b[A\n",
      " 30%|██▉       | 119/400 [04:23<10:11,  2.18s/it]\u001b[A\n",
      " 30%|███       | 120/400 [04:25<10:09,  2.18s/it]\u001b[A\n",
      " 30%|███       | 121/400 [04:28<10:08,  2.18s/it]\u001b[A\n",
      " 30%|███       | 122/400 [04:30<10:07,  2.19s/it]\u001b[A\n",
      " 31%|███       | 123/400 [04:32<10:04,  2.18s/it]\u001b[A\n",
      " 31%|███       | 124/400 [04:34<10:03,  2.19s/it]\u001b[A\n",
      " 31%|███▏      | 125/400 [04:36<10:00,  2.19s/it]\u001b[A\n",
      " 32%|███▏      | 126/400 [04:39<09:58,  2.19s/it]\u001b[A\n",
      " 32%|███▏      | 127/400 [04:41<09:55,  2.18s/it]\u001b[A\n",
      " 32%|███▏      | 128/400 [04:43<09:54,  2.19s/it]\u001b[A\n",
      " 32%|███▏      | 129/400 [04:45<09:52,  2.19s/it]\u001b[A\n",
      " 32%|███▎      | 130/400 [04:47<09:49,  2.19s/it]\u001b[A\n",
      " 33%|███▎      | 131/400 [04:49<09:49,  2.19s/it]\u001b[A\n",
      " 33%|███▎      | 132/400 [04:52<09:44,  2.18s/it]\u001b[A\n",
      " 33%|███▎      | 133/400 [04:54<09:43,  2.19s/it]\u001b[A\n",
      " 34%|███▎      | 134/400 [04:56<09:40,  2.18s/it]\u001b[A\n",
      " 34%|███▍      | 135/400 [04:58<09:40,  2.19s/it]\u001b[A\n",
      " 34%|███▍      | 136/400 [05:00<09:37,  2.19s/it]\u001b[A\n",
      " 34%|███▍      | 137/400 [05:03<09:36,  2.19s/it]\u001b[A\n",
      " 34%|███▍      | 138/400 [05:05<09:36,  2.20s/it]\u001b[A\n",
      " 35%|███▍      | 139/400 [05:07<09:35,  2.21s/it]\u001b[A\n",
      " 35%|███▌      | 140/400 [05:09<09:34,  2.21s/it]\u001b[A\n",
      " 35%|███▌      | 141/400 [05:11<09:34,  2.22s/it]\u001b[A\n",
      " 36%|███▌      | 142/400 [05:14<09:31,  2.21s/it]\u001b[A\n",
      " 36%|███▌      | 143/400 [05:16<09:30,  2.22s/it]\u001b[A\n",
      " 36%|███▌      | 144/400 [05:18<09:27,  2.22s/it]\u001b[A\n",
      " 36%|███▋      | 145/400 [05:20<09:23,  2.21s/it]\u001b[A\n",
      " 36%|███▋      | 146/400 [05:23<09:20,  2.21s/it]\u001b[A\n",
      " 37%|███▋      | 147/400 [05:25<09:18,  2.21s/it]\u001b[A\n",
      " 37%|███▋      | 148/400 [05:27<09:17,  2.21s/it]\u001b[A\n",
      " 37%|███▋      | 149/400 [05:29<09:16,  2.22s/it]\u001b[A\n",
      " 38%|███▊      | 150/400 [05:31<09:14,  2.22s/it]\u001b[A\n",
      " 38%|███▊      | 151/400 [05:34<09:11,  2.22s/it]\u001b[A\n",
      " 38%|███▊      | 152/400 [05:36<09:09,  2.22s/it]\u001b[A\n",
      " 38%|███▊      | 153/400 [05:38<09:03,  2.20s/it]\u001b[A\n",
      " 38%|███▊      | 154/400 [05:40<09:02,  2.21s/it]\u001b[A\n",
      " 39%|███▉      | 155/400 [05:42<08:59,  2.20s/it]\u001b[A\n",
      " 39%|███▉      | 156/400 [05:45<08:58,  2.21s/it]\u001b[A\n",
      " 39%|███▉      | 157/400 [05:47<08:54,  2.20s/it]\u001b[A\n",
      " 40%|███▉      | 158/400 [05:49<08:51,  2.20s/it]\u001b[A\n",
      " 40%|███▉      | 159/400 [05:51<08:52,  2.21s/it]\u001b[A\n",
      " 40%|████      | 160/400 [05:54<09:04,  2.27s/it]\u001b[A\n",
      " 40%|████      | 161/400 [05:56<09:30,  2.39s/it]\u001b[A\n",
      " 40%|████      | 162/400 [05:59<09:40,  2.44s/it]\u001b[A\n",
      " 41%|████      | 163/400 [06:01<09:22,  2.37s/it]\u001b[A\n",
      " 41%|████      | 164/400 [06:03<09:08,  2.33s/it]\u001b[A\n",
      " 41%|████▏     | 165/400 [06:05<08:56,  2.28s/it]\u001b[A\n",
      " 42%|████▏     | 166/400 [06:08<08:46,  2.25s/it]\u001b[A\n",
      " 42%|████▏     | 167/400 [06:10<08:40,  2.24s/it]\u001b[A\n",
      " 42%|████▏     | 168/400 [06:12<08:37,  2.23s/it]\u001b[A\n",
      " 42%|████▏     | 169/400 [06:14<08:33,  2.22s/it]\u001b[A\n",
      " 42%|████▎     | 170/400 [06:16<08:28,  2.21s/it]\u001b[A\n",
      " 43%|████▎     | 171/400 [06:19<08:25,  2.21s/it]\u001b[A\n",
      " 43%|████▎     | 172/400 [06:21<08:22,  2.20s/it]\u001b[A\n",
      " 43%|████▎     | 173/400 [06:23<08:22,  2.21s/it]\u001b[A\n",
      " 44%|████▎     | 174/400 [06:25<08:20,  2.21s/it]\u001b[A\n",
      " 44%|████▍     | 175/400 [06:28<08:18,  2.21s/it]\u001b[A\n",
      " 44%|████▍     | 176/400 [06:30<08:17,  2.22s/it]\u001b[A\n",
      " 44%|████▍     | 177/400 [06:32<08:16,  2.23s/it]\u001b[A\n",
      " 44%|████▍     | 178/400 [06:34<08:11,  2.21s/it]\u001b[A\n",
      " 45%|████▍     | 179/400 [06:36<08:07,  2.21s/it]\u001b[A\n",
      " 45%|████▌     | 180/400 [06:39<08:05,  2.21s/it]\u001b[A\n",
      " 45%|████▌     | 181/400 [06:41<08:02,  2.20s/it]\u001b[A\n",
      " 46%|████▌     | 182/400 [06:43<08:02,  2.21s/it]\u001b[A\n",
      " 46%|████▌     | 183/400 [06:45<07:59,  2.21s/it]\u001b[A\n",
      " 46%|████▌     | 184/400 [06:47<07:57,  2.21s/it]\u001b[A\n",
      " 46%|████▋     | 185/400 [06:50<07:55,  2.21s/it]\u001b[A\n",
      " 46%|████▋     | 186/400 [06:52<07:53,  2.21s/it]\u001b[A\n",
      " 47%|████▋     | 187/400 [06:54<07:51,  2.21s/it]\u001b[A\n",
      " 47%|████▋     | 188/400 [06:56<07:47,  2.21s/it]\u001b[A\n",
      " 47%|████▋     | 189/400 [06:58<07:45,  2.21s/it]\u001b[A\n",
      " 48%|████▊     | 190/400 [07:01<07:42,  2.20s/it]\u001b[A\n",
      " 48%|████▊     | 191/400 [07:03<07:40,  2.20s/it]\u001b[A\n",
      " 48%|████▊     | 192/400 [07:05<07:37,  2.20s/it]\u001b[A\n",
      " 48%|████▊     | 193/400 [07:07<07:35,  2.20s/it]\u001b[A\n",
      " 48%|████▊     | 194/400 [07:09<07:32,  2.20s/it]\u001b[A\n",
      " 49%|████▉     | 195/400 [07:12<07:31,  2.20s/it]\u001b[A\n",
      " 49%|████▉     | 196/400 [07:14<07:30,  2.21s/it]\u001b[A\n",
      " 49%|████▉     | 197/400 [07:16<07:25,  2.20s/it]\u001b[A\n",
      " 50%|████▉     | 198/400 [07:18<07:25,  2.20s/it]\u001b[A\n",
      " 50%|████▉     | 199/400 [07:20<07:21,  2.20s/it]\u001b[A\n",
      " 50%|█████     | 200/400 [07:23<07:18,  2.19s/it]\u001b[A\n",
      " 50%|█████     | 201/400 [07:25<07:17,  2.20s/it]\u001b[A\n",
      " 50%|█████     | 202/400 [07:27<07:29,  2.27s/it]\u001b[A\n",
      " 51%|█████     | 203/400 [07:30<07:43,  2.36s/it]\u001b[A\n",
      " 51%|█████     | 204/400 [07:32<07:55,  2.42s/it]\u001b[A\n",
      " 51%|█████▏    | 205/400 [07:35<08:02,  2.47s/it]\u001b[A\n",
      " 52%|█████▏    | 206/400 [07:37<07:45,  2.40s/it]\u001b[A\n",
      " 52%|█████▏    | 207/400 [07:39<07:30,  2.33s/it]\u001b[A\n",
      " 52%|█████▏    | 208/400 [07:42<07:19,  2.29s/it]\u001b[A\n",
      " 52%|█████▏    | 209/400 [07:44<07:11,  2.26s/it]\u001b[A\n",
      " 52%|█████▎    | 210/400 [07:46<07:05,  2.24s/it]\u001b[A\n",
      " 53%|█████▎    | 211/400 [07:48<07:02,  2.24s/it]\u001b[A\n",
      " 53%|█████▎    | 212/400 [07:50<07:00,  2.24s/it]\u001b[A\n",
      " 53%|█████▎    | 213/400 [07:53<06:56,  2.23s/it]\u001b[A\n",
      " 54%|█████▎    | 214/400 [07:55<06:52,  2.22s/it]\u001b[A\n",
      " 54%|█████▍    | 215/400 [07:57<06:48,  2.21s/it]\u001b[A\n",
      " 54%|█████▍    | 216/400 [07:59<06:45,  2.20s/it]\u001b[A\n",
      " 54%|█████▍    | 217/400 [08:01<06:42,  2.20s/it]\u001b[A\n",
      " 55%|█████▍    | 218/400 [08:04<06:40,  2.20s/it]\u001b[A\n",
      " 55%|█████▍    | 219/400 [08:06<06:40,  2.21s/it]\u001b[A\n",
      " 55%|█████▌    | 220/400 [08:08<06:37,  2.21s/it]\u001b[A\n",
      " 55%|█████▌    | 221/400 [08:10<06:34,  2.21s/it]\u001b[A\n",
      " 56%|█████▌    | 222/400 [08:12<06:32,  2.21s/it]\u001b[A\n",
      " 56%|█████▌    | 223/400 [08:15<06:29,  2.20s/it]\u001b[A\n",
      " 56%|█████▌    | 224/400 [08:17<06:27,  2.20s/it]\u001b[A\n",
      " 56%|█████▋    | 225/400 [08:19<06:26,  2.21s/it]\u001b[A\n",
      " 56%|█████▋    | 226/400 [08:21<06:25,  2.21s/it]\u001b[A\n",
      " 57%|█████▋    | 227/400 [08:23<06:21,  2.21s/it]\u001b[A\n",
      " 57%|█████▋    | 228/400 [08:26<06:18,  2.20s/it]\u001b[A\n",
      " 57%|█████▋    | 229/400 [08:28<06:17,  2.21s/it]\u001b[A\n",
      " 57%|█████▊    | 230/400 [08:30<06:15,  2.21s/it]\u001b[A\n",
      " 58%|█████▊    | 231/400 [08:32<06:12,  2.20s/it]\u001b[A\n",
      " 58%|█████▊    | 232/400 [08:35<06:10,  2.21s/it]\u001b[A\n",
      " 58%|█████▊    | 233/400 [08:37<06:07,  2.20s/it]\u001b[A\n",
      " 58%|█████▊    | 234/400 [08:39<06:04,  2.19s/it]\u001b[A\n",
      " 59%|█████▉    | 235/400 [08:41<06:02,  2.20s/it]\u001b[A\n",
      " 59%|█████▉    | 236/400 [08:43<06:00,  2.20s/it]\u001b[A\n",
      " 59%|█████▉    | 237/400 [08:45<05:57,  2.19s/it]\u001b[A\n",
      " 60%|█████▉    | 238/400 [08:48<05:56,  2.20s/it]\u001b[A\n",
      " 60%|█████▉    | 239/400 [08:50<05:54,  2.20s/it]\u001b[A\n",
      " 60%|██████    | 240/400 [08:52<05:52,  2.20s/it]\u001b[A\n",
      " 60%|██████    | 241/400 [08:54<05:49,  2.20s/it]\u001b[A\n",
      " 60%|██████    | 242/400 [08:56<05:46,  2.19s/it]\u001b[A\n",
      " 61%|██████    | 243/400 [08:59<05:46,  2.21s/it]\u001b[A\n",
      " 61%|██████    | 244/400 [09:01<05:44,  2.21s/it]\u001b[A\n",
      " 61%|██████▏   | 245/400 [09:03<05:41,  2.21s/it]\u001b[A\n",
      " 62%|██████▏   | 246/400 [09:05<05:39,  2.20s/it]\u001b[A\n",
      " 62%|██████▏   | 247/400 [09:08<05:38,  2.21s/it]\u001b[A\n",
      " 62%|██████▏   | 248/400 [09:10<05:35,  2.21s/it]\u001b[A\n",
      " 62%|██████▏   | 249/400 [09:12<05:34,  2.21s/it]\u001b[A\n",
      " 62%|██████▎   | 250/400 [09:14<05:33,  2.22s/it]\u001b[A\n",
      " 63%|██████▎   | 251/400 [09:16<05:29,  2.21s/it]\u001b[A\n",
      " 63%|██████▎   | 252/400 [09:19<05:27,  2.21s/it]\u001b[A\n",
      " 63%|██████▎   | 253/400 [09:21<05:24,  2.21s/it]\u001b[A\n",
      " 64%|██████▎   | 254/400 [09:23<05:21,  2.20s/it]\u001b[A\n",
      " 64%|██████▍   | 255/400 [09:25<05:18,  2.20s/it]\u001b[A\n",
      " 64%|██████▍   | 256/400 [09:27<05:15,  2.19s/it]\u001b[A\n",
      " 64%|██████▍   | 257/400 [09:30<05:15,  2.21s/it]\u001b[A\n",
      " 64%|██████▍   | 258/400 [09:32<05:12,  2.20s/it]\u001b[A\n",
      " 65%|██████▍   | 259/400 [09:34<05:10,  2.20s/it]\u001b[A\n",
      " 65%|██████▌   | 260/400 [09:36<05:07,  2.20s/it]\u001b[A\n",
      " 65%|██████▌   | 261/400 [09:38<05:05,  2.19s/it]\u001b[A\n",
      " 66%|██████▌   | 262/400 [09:41<05:03,  2.20s/it]\u001b[A\n",
      " 66%|██████▌   | 263/400 [09:43<05:01,  2.20s/it]\u001b[A\n",
      " 66%|██████▌   | 264/400 [09:45<04:58,  2.20s/it]\u001b[A\n",
      " 66%|██████▋   | 265/400 [09:47<04:55,  2.19s/it]\u001b[A\n",
      " 66%|██████▋   | 266/400 [09:49<04:55,  2.20s/it]\u001b[A\n",
      " 67%|██████▋   | 267/400 [09:52<04:52,  2.20s/it]\u001b[A\n",
      " 67%|██████▋   | 268/400 [09:54<04:50,  2.20s/it]\u001b[A\n",
      " 67%|██████▋   | 269/400 [09:56<04:49,  2.21s/it]\u001b[A\n",
      " 68%|██████▊   | 270/400 [09:58<04:48,  2.22s/it]\u001b[A\n",
      " 68%|██████▊   | 271/400 [10:00<04:45,  2.22s/it]\u001b[A\n",
      " 68%|██████▊   | 272/400 [10:03<04:42,  2.21s/it]\u001b[A\n",
      " 68%|██████▊   | 273/400 [10:05<04:40,  2.21s/it]\u001b[A\n",
      " 68%|██████▊   | 274/400 [10:07<04:37,  2.21s/it]\u001b[A\n",
      " 69%|██████▉   | 275/400 [10:09<04:35,  2.21s/it]\u001b[A\n",
      " 69%|██████▉   | 276/400 [10:12<04:34,  2.21s/it]\u001b[A\n",
      " 69%|██████▉   | 277/400 [10:14<04:32,  2.21s/it]\u001b[A\n",
      " 70%|██████▉   | 278/400 [10:16<04:29,  2.21s/it]\u001b[A\n",
      " 70%|██████▉   | 279/400 [10:18<04:26,  2.21s/it]\u001b[A\n",
      " 70%|███████   | 280/400 [10:20<04:22,  2.19s/it]\u001b[A\n",
      " 70%|███████   | 281/400 [10:22<04:20,  2.19s/it]\u001b[A\n",
      " 70%|███████   | 282/400 [10:25<04:18,  2.19s/it]\u001b[A\n",
      " 71%|███████   | 283/400 [10:27<04:16,  2.19s/it]\u001b[A\n",
      " 71%|███████   | 284/400 [10:29<04:14,  2.20s/it]\u001b[A\n",
      " 71%|███████▏  | 285/400 [10:31<04:14,  2.21s/it]\u001b[A\n",
      " 72%|███████▏  | 286/400 [10:33<04:10,  2.20s/it]\u001b[A\n",
      " 72%|███████▏  | 287/400 [10:36<04:08,  2.20s/it]\u001b[A\n",
      " 72%|███████▏  | 288/400 [10:38<04:05,  2.19s/it]\u001b[A\n",
      " 72%|███████▏  | 289/400 [10:40<04:02,  2.18s/it]\u001b[A\n",
      " 72%|███████▎  | 290/400 [10:42<04:02,  2.20s/it]\u001b[A\n",
      " 73%|███████▎  | 291/400 [10:44<04:00,  2.20s/it]\u001b[A\n",
      " 73%|███████▎  | 292/400 [10:47<03:57,  2.20s/it]\u001b[A\n",
      " 73%|███████▎  | 293/400 [10:49<03:55,  2.20s/it]\u001b[A\n",
      " 74%|███████▎  | 294/400 [10:51<03:54,  2.21s/it]\u001b[A\n",
      " 74%|███████▍  | 295/400 [10:53<03:51,  2.21s/it]\u001b[A\n",
      " 74%|███████▍  | 296/400 [10:55<03:48,  2.20s/it]\u001b[A\n",
      " 74%|███████▍  | 297/400 [10:58<03:46,  2.20s/it]\u001b[A\n",
      " 74%|███████▍  | 298/400 [11:00<03:45,  2.21s/it]\u001b[A\n",
      " 75%|███████▍  | 299/400 [11:03<03:56,  2.34s/it]\u001b[A\n",
      " 75%|███████▌  | 300/400 [11:05<04:01,  2.41s/it]\u001b[A\n",
      " 75%|███████▌  | 301/400 [11:07<03:52,  2.35s/it]\u001b[A\n",
      " 76%|███████▌  | 302/400 [11:09<03:45,  2.30s/it]\u001b[A\n",
      " 76%|███████▌  | 303/400 [11:12<03:39,  2.27s/it]\u001b[A\n",
      " 76%|███████▌  | 304/400 [11:14<03:36,  2.26s/it]\u001b[A\n",
      " 76%|███████▋  | 305/400 [11:16<03:32,  2.23s/it]\u001b[A\n",
      " 76%|███████▋  | 306/400 [11:18<03:28,  2.22s/it]\u001b[A\n",
      " 77%|███████▋  | 307/400 [11:20<03:24,  2.20s/it]\u001b[A\n",
      " 77%|███████▋  | 308/400 [11:23<03:22,  2.20s/it]\u001b[A\n",
      " 77%|███████▋  | 309/400 [11:25<03:19,  2.19s/it]\u001b[A\n",
      " 78%|███████▊  | 310/400 [11:27<03:17,  2.20s/it]\u001b[A\n",
      " 78%|███████▊  | 311/400 [11:29<03:15,  2.19s/it]\u001b[A\n",
      " 78%|███████▊  | 312/400 [11:31<03:13,  2.20s/it]\u001b[A\n",
      " 78%|███████▊  | 313/400 [11:34<03:10,  2.19s/it]\u001b[A\n",
      " 78%|███████▊  | 314/400 [11:36<03:08,  2.19s/it]\u001b[A\n",
      " 79%|███████▉  | 315/400 [11:38<03:05,  2.18s/it]\u001b[A\n",
      " 79%|███████▉  | 316/400 [11:40<03:03,  2.19s/it]\u001b[A\n",
      " 79%|███████▉  | 317/400 [11:42<03:01,  2.19s/it]\u001b[A\n",
      " 80%|███████▉  | 318/400 [11:45<02:59,  2.19s/it]\u001b[A\n",
      " 80%|███████▉  | 319/400 [11:47<02:57,  2.19s/it]\u001b[A\n",
      " 80%|████████  | 320/400 [11:49<02:55,  2.19s/it]\u001b[A\n",
      " 80%|████████  | 321/400 [11:51<02:53,  2.20s/it]\u001b[A\n",
      " 80%|████████  | 322/400 [11:53<02:51,  2.20s/it]\u001b[A\n",
      " 81%|████████  | 323/400 [11:56<02:49,  2.20s/it]\u001b[A\n",
      " 81%|████████  | 324/400 [11:58<02:46,  2.20s/it]\u001b[A\n",
      " 81%|████████▏ | 325/400 [12:00<02:44,  2.20s/it]\u001b[A\n",
      " 82%|████████▏ | 326/400 [12:02<02:42,  2.20s/it]\u001b[A\n",
      " 82%|████████▏ | 327/400 [12:04<02:40,  2.20s/it]\u001b[A\n",
      " 82%|████████▏ | 328/400 [12:07<02:38,  2.20s/it]\u001b[A\n",
      " 82%|████████▏ | 329/400 [12:09<02:35,  2.20s/it]\u001b[A\n",
      " 82%|████████▎ | 330/400 [12:11<02:33,  2.19s/it]\u001b[A\n",
      " 83%|████████▎ | 331/400 [12:13<02:31,  2.19s/it]\u001b[A\n",
      " 83%|████████▎ | 332/400 [12:15<02:28,  2.18s/it]\u001b[A\n",
      " 83%|████████▎ | 333/400 [12:17<02:26,  2.19s/it]\u001b[A\n",
      " 84%|████████▎ | 334/400 [12:20<02:24,  2.19s/it]\u001b[A\n",
      " 84%|████████▍ | 335/400 [12:22<02:22,  2.20s/it]\u001b[A\n",
      " 84%|████████▍ | 336/400 [12:24<02:20,  2.19s/it]\u001b[A\n",
      " 84%|████████▍ | 337/400 [12:26<02:18,  2.19s/it]\u001b[A\n",
      " 84%|████████▍ | 338/400 [12:28<02:15,  2.18s/it]\u001b[A\n",
      " 85%|████████▍ | 339/400 [12:31<02:13,  2.19s/it]\u001b[A\n",
      " 85%|████████▌ | 340/400 [12:33<02:11,  2.20s/it]\u001b[A\n",
      " 85%|████████▌ | 341/400 [12:35<02:09,  2.19s/it]\u001b[A\n",
      " 86%|████████▌ | 342/400 [12:37<02:08,  2.21s/it]\u001b[A\n",
      " 86%|████████▌ | 343/400 [12:40<02:12,  2.32s/it]\u001b[A\n",
      " 86%|████████▌ | 344/400 [12:42<02:13,  2.39s/it]\u001b[A\n",
      " 86%|████████▋ | 345/400 [12:45<02:14,  2.44s/it]\u001b[A\n",
      " 86%|████████▋ | 346/400 [12:47<02:12,  2.45s/it]\u001b[A\n",
      " 87%|████████▋ | 347/400 [12:50<02:05,  2.37s/it]\u001b[A\n",
      " 87%|████████▋ | 348/400 [12:52<02:00,  2.32s/it]\u001b[A\n",
      " 87%|████████▋ | 349/400 [12:54<01:55,  2.27s/it]\u001b[A\n",
      " 88%|████████▊ | 350/400 [12:56<01:52,  2.25s/it]\u001b[A\n",
      " 88%|████████▊ | 351/400 [12:58<01:49,  2.23s/it]\u001b[A\n",
      " 88%|████████▊ | 352/400 [13:01<01:46,  2.22s/it]\u001b[A\n",
      " 88%|████████▊ | 353/400 [13:03<01:43,  2.20s/it]\u001b[A\n",
      " 88%|████████▊ | 354/400 [13:05<01:41,  2.20s/it]\u001b[A\n",
      " 89%|████████▉ | 355/400 [13:07<01:38,  2.19s/it]\u001b[A\n",
      " 89%|████████▉ | 356/400 [13:09<01:36,  2.19s/it]\u001b[A\n",
      " 89%|████████▉ | 357/400 [13:11<01:34,  2.21s/it]\u001b[A\n",
      " 90%|████████▉ | 358/400 [13:14<01:32,  2.21s/it]\u001b[A\n",
      " 90%|████████▉ | 359/400 [13:16<01:30,  2.21s/it]\u001b[A\n",
      " 90%|█████████ | 360/400 [13:18<01:28,  2.21s/it]\u001b[A\n",
      " 90%|█████████ | 361/400 [13:20<01:25,  2.20s/it]\u001b[A\n",
      " 90%|█████████ | 362/400 [13:22<01:23,  2.19s/it]\u001b[A\n",
      " 91%|█████████ | 363/400 [13:25<01:20,  2.18s/it]\u001b[A\n",
      " 91%|█████████ | 364/400 [13:27<01:18,  2.18s/it]\u001b[A\n",
      " 91%|█████████▏| 365/400 [13:29<01:16,  2.19s/it]\u001b[A\n",
      " 92%|█████████▏| 366/400 [13:31<01:14,  2.19s/it]\u001b[A\n",
      " 92%|█████████▏| 367/400 [13:33<01:12,  2.19s/it]\u001b[A\n",
      " 92%|█████████▏| 368/400 [13:36<01:09,  2.18s/it]\u001b[A\n",
      " 92%|█████████▏| 369/400 [13:38<01:07,  2.18s/it]\u001b[A\n",
      " 92%|█████████▎| 370/400 [13:40<01:05,  2.19s/it]\u001b[A\n",
      " 93%|█████████▎| 371/400 [13:42<01:03,  2.18s/it]\u001b[A\n",
      " 93%|█████████▎| 372/400 [13:44<01:01,  2.19s/it]\u001b[A\n",
      " 93%|█████████▎| 373/400 [13:47<00:59,  2.19s/it]\u001b[A\n",
      " 94%|█████████▎| 374/400 [13:49<00:56,  2.19s/it]\u001b[A\n",
      " 94%|█████████▍| 375/400 [13:51<00:54,  2.19s/it]\u001b[A\n",
      " 94%|█████████▍| 376/400 [13:53<00:52,  2.19s/it]\u001b[A\n",
      " 94%|█████████▍| 377/400 [13:55<00:50,  2.19s/it]\u001b[A\n",
      " 94%|█████████▍| 378/400 [13:57<00:48,  2.19s/it]\u001b[A\n",
      " 95%|█████████▍| 379/400 [14:00<00:46,  2.20s/it]\u001b[A\n",
      " 95%|█████████▌| 380/400 [14:02<00:43,  2.20s/it]\u001b[A\n",
      " 95%|█████████▌| 381/400 [14:04<00:41,  2.20s/it]\u001b[A\n",
      " 96%|█████████▌| 382/400 [14:06<00:39,  2.20s/it]\u001b[A\n",
      " 96%|█████████▌| 383/400 [14:08<00:37,  2.19s/it]\u001b[A\n",
      " 96%|█████████▌| 384/400 [14:11<00:35,  2.20s/it]\u001b[A\n",
      " 96%|█████████▋| 385/400 [14:13<00:32,  2.20s/it]\u001b[A\n",
      " 96%|█████████▋| 386/400 [14:15<00:30,  2.20s/it]\u001b[A\n",
      " 97%|█████████▋| 387/400 [14:17<00:28,  2.19s/it]\u001b[A\n",
      " 97%|█████████▋| 388/400 [14:19<00:26,  2.18s/it]\u001b[A\n",
      " 97%|█████████▋| 389/400 [14:22<00:24,  2.20s/it]\u001b[A\n",
      " 98%|█████████▊| 390/400 [14:24<00:21,  2.19s/it]\u001b[A\n",
      " 98%|█████████▊| 391/400 [14:26<00:19,  2.19s/it]\u001b[A\n",
      " 98%|█████████▊| 392/400 [14:28<00:17,  2.20s/it]\u001b[A\n",
      " 98%|█████████▊| 393/400 [14:30<00:15,  2.21s/it]\u001b[A\n",
      " 98%|█████████▊| 394/400 [14:33<00:13,  2.22s/it]\u001b[A\n",
      " 99%|█████████▉| 395/400 [14:35<00:11,  2.21s/it]\u001b[A\n",
      " 99%|█████████▉| 396/400 [14:37<00:08,  2.21s/it]\u001b[A\n",
      " 99%|█████████▉| 397/400 [14:39<00:06,  2.20s/it]\u001b[A\n",
      "100%|█████████▉| 398/400 [14:42<00:04,  2.21s/it]\u001b[A\n",
      "100%|█████████▉| 399/400 [14:44<00:02,  2.20s/it]\u001b[A\n",
      "100%|██████████| 400/400 [14:46<00:00,  2.20s/it]\u001b[A\n",
      "\u001b[A"
     ]
    },
    {
     "data": {
      "image/png": "[encoded data removed]",
      "text/plain": [
       "<Figure size 1008x576 with 1 Axes>"
      ]
     },
     "metadata": {
      "tags": []
     },
     "output_type": "display_data"
    }
   ],
   "source": [
    "model = MLP1(input_dim=n, output_dim=1, hidden_dim=15)\n",
    "steps_list = []\n",
    "\n",
    "for epoch in tqdm(range(400)):\n",
    "    generator = DataLoader(train_data, batch_size=64, shuffle=True)\n",
    "    for batch_x, batch_y in generator:\n",
    "        \n",
    "        model.zero_grad()\n",
    "        margin_log_likelihood = -model.margin_log_likelihood(batch_x, batch_y)\n",
    "\n",
    "        list_w = []\n",
    "        for w in model.parameters():\n",
    "            list_w.append(w)\n",
    "\n",
    "        lr=0.0001\n",
    "        model.S = (model.S + torch.log(torch.det(torch.eye(model.D, device=device) - lr * hessian(margin_log_likelihood, list_w)))).detach()\n",
    "    \n",
    "        model.zero_grad()\n",
    "        optimizer = torch.optim.SGD(model.parameters(), lr=lr)\n",
    "\n",
    "        batch_loss = model.batch_loss(batch_x, batch_y)\n",
    "        batch_loss.backward()\n",
    "\n",
    "        optimizer.step()\n",
    "\n",
    "    steps_list.append((model.S.item(), model.log_prior_all().item(), len(Y_tr), \n",
    "                       model.log_likelihood(X_tr, Y_tr).item(), len(Y_ts), model.log_likelihood(X_ts, Y_ts).item()))\n",
    "        \n",
    "        \n",
    "plt.plot([item[0]+(item[1]+item[3])/item[2] for item in steps_list], label = 'Train')\n",
    "plt.plot([item[0]+(item[1]+item[5])/item[4] for item in steps_list], label = 'Test')\n",
    "\n",
    "plt.grid()\n",
    "plt.legend(loc='best')\n",
    "plt.show()\n",
    "\n",
    "# График ниже, почему-то в этот раз прогресс напечатался весь."
   ]
  },
  {
   "cell_type": "markdown",
   "metadata": {
    "colab_type": "text",
    "id": "sufKCk3-DMHm"
   },
   "source": [
    "Обоснованность начинает резко падать сразу, потом растёт и снова падает после 350 эпохи (на тестовой выборке --- после 300). Потому что энтропия убывает гораздо сильнее, чем растёт правдоподобие. Можно сказать, глядя на test, что модель сразу переобучена."
   ]
  },
  {
   "cell_type": "markdown",
   "metadata": {
    "colab_type": "text",
    "id": "QX8tL2DLC5uk"
   },
   "source": [
    "### Очень сложная модель\n",
    "\n",
    "Тридцать нейронов на скрытом слое."
   ]
  },
  {
   "cell_type": "code",
   "execution_count": 0,
   "metadata": {
    "colab": {},
    "colab_type": "code",
    "id": "jS6uczrQDB3E"
   },
   "outputs": [],
   "source": [
    "model = MLP1(input_dim=n, output_dim=1, hidden_dim=30)\n",
    "steps_list = []\n",
    "\n",
    "for epoch in tqdm(range(1000)):\n",
    "    generator = DataLoader(train_data, batch_size=64, shuffle=True)\n",
    "    for batch_x, batch_y in generator:\n",
    "        \n",
    "        model.zero_grad()\n",
    "        margin_log_likelihood = -model.margin_log_likelihood(batch_x, batch_y)\n",
    "\n",
    "        list_w = []\n",
    "        for w in model.parameters():\n",
    "            list_w.append(w)\n",
    "\n",
    "        lr=0.0001\n",
    "        model.S = (model.S + torch.log(torch.det(torch.eye(model.D, device=device) - lr * hessian(margin_log_likelihood, list_w)))).detach()\n",
    "    \n",
    "        model.zero_grad()\n",
    "        optimizer = torch.optim.SGD(model.parameters(), lr=lr)\n",
    "\n",
    "        batch_loss = model.batch_loss(batch_x, batch_y)\n",
    "        batch_loss.backward()\n",
    "\n",
    "        optimizer.step()\n",
    "\n",
    "    steps_list.append((model.S.item(), model.log_prior_all().item(), len(Y_tr), \n",
    "                       model.log_likelihood(X_tr, Y_tr).item(), len(Y_ts), model.log_likelihood(X_ts, Y_ts).item()))\n",
    "        \n",
    "        \n",
    "plt.plot([item[0]+(item[1]+item[3])/item[2] for item in steps_list], label = 'Train')\n",
    "plt.plot([item[0]+(item[1]+item[5])/item[4] for item in steps_list], label = 'Test')\n",
    "\n",
    "plt.grid()\n",
    "plt.legend(loc='best')\n",
    "plt.show()"
   ]
  },
  {
   "cell_type": "markdown",
   "metadata": {
    "colab_type": "text",
    "id": "LYZ0D0LqDNwN"
   },
   "source": [
    "К сожалению, времени до дедлайна не хватает, чтобы провести данный эксперимент. Результаты предыдущих опытов позволяют предположить, что переобучение наступит очень быстро."
   ]
  },
  {
   "cell_type": "markdown",
   "metadata": {
    "colab_type": "text",
    "id": "d02ZflcbDOA-"
   },
   "source": [
    "## Выводы\n",
    "\n",
    "Начиная с некоторой эпохи (её номер зависит от сложности модели) наступает переобучение, и обоснованность модели резко падает. Причиной этого является высокая скорость убывания энтропии в окрестностях моды распределения по сравнению со скоростью роста правдоподобия. Кроме этого, чем сложнее модель, тем раньше наступает переобучение."
   ]
  }
 ],
 "metadata": {
  "colab": {
   "collapsed_sections": [],
   "name": "Maclaurin.ipynb",
   "provenance": []
  },
  "kernelspec": {
   "display_name": "Python 3",
   "language": "python",
   "name": "python3"
  },
  "language_info": {
   "codemirror_mode": {
    "name": "ipython",
    "version": 3
   },
   "file_extension": ".py",
   "mimetype": "text/x-python",
   "name": "python",
   "nbconvert_exporter": "python",
   "pygments_lexer": "ipython3",
   "version": "3.7.3"
  }
 },
 "nbformat": 4,
 "nbformat_minor": 1
}
