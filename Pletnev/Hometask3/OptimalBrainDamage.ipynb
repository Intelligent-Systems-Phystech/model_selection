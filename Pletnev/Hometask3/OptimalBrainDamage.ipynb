{
 "cells": [
  {
   "cell_type": "markdown",
   "metadata": {
    "colab_type": "text",
    "id": "Tj-J3oczGM4P"
   },
   "source": [
    "### Загрузка модулей и данных"
   ]
  },
  {
   "cell_type": "code",
   "execution_count": 0,
   "metadata": {
    "colab": {},
    "colab_type": "code",
    "id": "lRw7tB2F_kvg"
   },
   "outputs": [],
   "source": [
    "import numpy as np\n",
    "import matplotlib.pyplot as plt\n",
    "import pickle"
   ]
  },
  {
   "cell_type": "code",
   "execution_count": 0,
   "metadata": {
    "colab": {},
    "colab_type": "code",
    "id": "u-xH14pMIWdr"
   },
   "outputs": [],
   "source": [
    "import torch\n",
    "import torch.nn.functional as torch_f\n",
    "from torch.optim import Optimizer\n",
    "from torch.utils.data import TensorDataset, DataLoader, Dataset\n",
    "from torchvision import datasets"
   ]
  },
  {
   "cell_type": "code",
   "execution_count": 0,
   "metadata": {
    "colab": {},
    "colab_type": "code",
    "id": "ezKBGTrTIWdy"
   },
   "outputs": [],
   "source": [
    "from tqdm import tqdm as tqdm"
   ]
  },
  {
   "cell_type": "code",
   "execution_count": 4,
   "metadata": {
    "colab": {
     "base_uri": "https://localhost:8080/",
     "height": 153
    },
    "colab_type": "code",
    "id": "eOVW8XKdIWd2",
    "outputId": "00dceb78-47b1-428f-a44e-3731fbabf5f2"
   },
   "outputs": [
    {
     "name": "stderr",
     "output_type": "stream",
     "text": [
      "/usr/local/lib/python3.6/dist-packages/torchvision/datasets/mnist.py:58: UserWarning: test_data has been renamed data\n",
      "  warnings.warn(\"test_data has been renamed data\")\n",
      "/usr/local/lib/python3.6/dist-packages/torchvision/datasets/mnist.py:48: UserWarning: test_labels has been renamed targets\n",
      "  warnings.warn(\"test_labels has been renamed targets\")\n",
      "/usr/local/lib/python3.6/dist-packages/torchvision/datasets/mnist.py:53: UserWarning: train_data has been renamed data\n",
      "  warnings.warn(\"train_data has been renamed data\")\n",
      "/usr/local/lib/python3.6/dist-packages/torchvision/datasets/mnist.py:43: UserWarning: train_labels has been renamed targets\n",
      "  warnings.warn(\"train_labels has been renamed targets\")\n"
     ]
    }
   ],
   "source": [
    "Xy_mnist = datasets.MNIST('./mnist', train=False, download=True, transform=None)\n",
    "X_test, y_test = Xy_mnist.test_data, Xy_mnist.test_labels\n",
    "\n",
    "Xy_mnist = datasets.MNIST('./mnist', train=True, download=True, transform=None)\n",
    "X_train, y_train = Xy_mnist.train_data, Xy_mnist.train_labels"
   ]
  },
  {
   "cell_type": "code",
   "execution_count": 0,
   "metadata": {
    "colab": {},
    "colab_type": "code",
    "id": "MECG-LbtIWd4"
   },
   "outputs": [],
   "source": [
    "X_train = X_train.reshape([X_train.shape[0], -1]).float()\n",
    "X_test = X_test.reshape([X_test.shape[0], -1]).float()"
   ]
  },
  {
   "cell_type": "code",
   "execution_count": 6,
   "metadata": {
    "colab": {
     "base_uri": "https://localhost:8080/",
     "height": 34
    },
    "colab_type": "code",
    "id": "CM1Tt6gsIWd7",
    "outputId": "5872164c-8c46-4c6b-943e-cf3d4858d7ab"
   },
   "outputs": [
    {
     "name": "stdout",
     "output_type": "stream",
     "text": [
      "torch.Size([60000, 784]) torch.Size([10000, 784])\n"
     ]
    }
   ],
   "source": [
    "print(X_train.shape, X_test.shape)"
   ]
  },
  {
   "cell_type": "markdown",
   "metadata": {
    "colab_type": "text",
    "id": "c50HSjxgIWd9"
   },
   "source": [
    "### Модель"
   ]
  },
  {
   "cell_type": "code",
   "execution_count": 0,
   "metadata": {
    "colab": {},
    "colab_type": "code",
    "id": "IELWT_-JnExw"
   },
   "outputs": [],
   "source": [
    "# Вспомогательные математические функции с https://github.com/mariogeiger/hessian\n",
    "\n",
    "def gradient(outputs, inputs, grad_outputs=None, retain_graph=None, create_graph=False):\n",
    "    '''\n",
    "    Compute the gradient of `outputs` with respect to `inputs`\n",
    "    gradient(x.sum(), x)\n",
    "    gradient((x * y).sum(), [x, y])\n",
    "    '''\n",
    "    if torch.is_tensor(inputs):\n",
    "        inputs = [inputs]\n",
    "    else:\n",
    "        inputs = list(inputs)\n",
    "    grads = torch.autograd.grad(outputs, inputs, grad_outputs,\n",
    "                                allow_unused=True,\n",
    "                                retain_graph=retain_graph,\n",
    "                                create_graph=create_graph)\n",
    "    grads = [x if x is not None else torch.zeros_like(y) for x, y in zip(grads, inputs)]\n",
    "    return torch.cat([x.contiguous().view(-1) for x in grads])\n",
    "\n",
    "def hessian(output, inputs, out=None, allow_unused=False, create_graph=False):\n",
    "    '''\n",
    "    Compute the Hessian of `output` with respect to `inputs`\n",
    "    hessian((x * y).sum(), [x, y])\n",
    "    '''\n",
    "    assert output.ndimension() == 0\n",
    "\n",
    "    if torch.is_tensor(inputs):\n",
    "        inputs = [inputs]\n",
    "    else:\n",
    "        inputs = list(inputs)\n",
    "\n",
    "    n = sum(p.numel() for p in inputs)\n",
    "    if out is None:\n",
    "        out = output.new_zeros(n, n)\n",
    "\n",
    "    ai = 0\n",
    "    for i, inp in enumerate(inputs):\n",
    "        [grad] = torch.autograd.grad(output, inp, create_graph=True, allow_unused=allow_unused)\n",
    "        grad = torch.zeros_like(inp) if grad is None else grad\n",
    "        grad = grad.contiguous().view(-1)\n",
    "\n",
    "        for j in range(inp.numel()):\n",
    "            if grad[j].requires_grad:\n",
    "                row = gradient(grad[j], inputs[i:], retain_graph=True, create_graph=create_graph)[j:]\n",
    "            else:\n",
    "                row = grad[j].new_zeros(sum(x.numel() for x in inputs[i:]) - j)\n",
    "\n",
    "            out[ai, ai:].add_(row.type_as(out))  # ai's row\n",
    "            if ai + 1 < n:\n",
    "                out[ai + 1:, ai].add_(row[1:].type_as(out))  # ai's column\n",
    "            del row\n",
    "            ai += 1\n",
    "        del grad\n",
    "\n",
    "    return out"
   ]
  },
  {
   "cell_type": "markdown",
   "metadata": {
    "colab_type": "text",
    "id": "vCGZ691t7ei-"
   },
   "source": [
    "#### Логистическая регресия"
   ]
  },
  {
   "cell_type": "code",
   "execution_count": 0,
   "metadata": {
    "colab": {},
    "colab_type": "code",
    "id": "3sU4N4hkIWd-"
   },
   "outputs": [],
   "source": [
    "class LogisticRegression(torch.nn.Module):\n",
    "    def __init__(self, input_dim=50, output_dim=10, device='cpu'):\n",
    "        super().__init__()\n",
    "        \n",
    "        self.input_dim = input_dim\n",
    "        self.output_dim = output_dim\n",
    "        \n",
    "        self.linear = torch.nn.Linear(input_dim, output_dim)        \n",
    "        self.to(device)\n",
    "        \n",
    "    def forward(self, input):\n",
    "        output = input\n",
    "        output = torch_f.relu(output)\n",
    "        return self.linear(output)"
   ]
  },
  {
   "cell_type": "markdown",
   "metadata": {
    "colab_type": "text",
    "id": "zuGYLdr67ejH"
   },
   "source": [
    "### Функции для обучения модели"
   ]
  },
  {
   "cell_type": "code",
   "execution_count": 0,
   "metadata": {
    "colab": {},
    "colab_type": "code",
    "id": "veyRL9LKIWd_"
   },
   "outputs": [],
   "source": [
    "def train_on_batch(model, batch_x, batch_y, optimizer, loss_function):\n",
    "    model.zero_grad()\n",
    "    output = model(batch_x)\n",
    "        \n",
    "    loss = loss_function(output, batch_y)\n",
    "    loss.backward()\n",
    "    optimizer.step()\n",
    "\n",
    "    \n",
    "def train_one_epoch(train_generator, model, loss_function, optimizer):\n",
    "    model.train()\n",
    "    for it, (batch_x, batch_y) in enumerate(train_generator):\n",
    "        train_on_batch(model, batch_x, batch_y, optimizer, loss_function)\n",
    "\n",
    "\n",
    "def trainer(epochs, batch_size, dataset, model, loss_function, optimizer, progress=None):\n",
    "    iterations = range(epochs)\n",
    "    if progress is not None:\n",
    "        iterations = progress(iterations)\n",
    "    for it in iterations:\n",
    "        batch_generator = DataLoader(dataset=dataset, batch_size=batch_size, shuffle=True)\n",
    "        train_one_epoch(batch_generator, model, loss_function, optimizer)"
   ]
  },
  {
   "cell_type": "markdown",
   "metadata": {
    "colab_type": "text",
    "id": "4xz4lN6q7ejO"
   },
   "source": [
    "#### Переопределенный оптимизатор: оптимизировать только те переменые, которые не были удалены"
   ]
  },
  {
   "cell_type": "code",
   "execution_count": 0,
   "metadata": {
    "colab": {},
    "colab_type": "code",
    "id": "7J43Um9tIWeA"
   },
   "outputs": [],
   "source": [
    "class OptimizerNonDeleted(Optimizer):\n",
    "    def __init__(self, params, lr=0.001, beta=(0.9, 0.999), eps=0.000001, weight_decay=0, amsgrad=False):\n",
    "        if lr < 0.0:\n",
    "            raise ValueError(\"Invalid learning rate: {}\".format(lr))\n",
    "        if eps < 0.0:\n",
    "            raise ValueError(\"Invalid epsilon value: {}\".format(eps))\n",
    "        if not 0.0 <= beta[0] < 1.0:\n",
    "            raise ValueError(\"Invalid beta[0] parameter: {}\".format(beta[0]))\n",
    "        if not 0.0 <= beta[1] < 1.0:\n",
    "            raise ValueError(\"Invalid beta[1] parameter: {}\".format(beta[1]))\n",
    "        defaults = {'lr': lr, 'beta': beta, 'eps': eps, 'weight_decay': weight_decay, 'amsgrad': amsgrad}\n",
    "        super().__init__(params, defaults)\n",
    "\n",
    "    def __setstate__(self, state):\n",
    "        super().__setstate__(state)\n",
    "        for group in self.param_groups:\n",
    "            group.setdefault('amsgrad', False)\n",
    "            \n",
    "    def get_masks_pruning(self):\n",
    "        list_of_mask = []\n",
    "        list_prune = []\n",
    "        mask_vector = None\n",
    "        for group in self.param_groups:\n",
    "            for p in group['params']:\n",
    "                param_state = self.state[p]\n",
    "                if 'prune' not in param_state:\n",
    "                    param_state['prune'] = torch.ones_like(p)\n",
    "                p_vector = p.view(-1)\n",
    "                prune_vector = param_state['prune'].view(-1)\n",
    "                list_prune.append(prune_vector)\n",
    "        mask_vector = torch.cat(list_prune)\n",
    "        return mask_vector\n",
    "\n",
    "    def prune(self, amount=0.05, method='random', **kwargs):\n",
    "        if method == 'random':\n",
    "            for group in self.param_groups:\n",
    "                 for p in group['params']:\n",
    "                    param_state = self.state[p]\n",
    "                    if 'prune' not in param_state:\n",
    "                        param_state['prune'] = torch.ones_like(p)\n",
    "\n",
    "                    p_vector = p.view(-1)\n",
    "                    prune_vector = param_state['prune'].view(-1)\n",
    "                    bound = int(amount * len(p_vector))\n",
    "                    if bound > 0:\n",
    "                        prune_vector[torch.randperm(p_vector.shape[0])[:bound]] = 0\n",
    "                        p_vector.data.mul_(prune_vector)\n",
    "\n",
    "        elif method == 'OBD':\n",
    "            if kwargs['hessian'] is not None:\n",
    "                for group in self.param_groups:\n",
    "                    for p, h in zip(group['params'], kwargs['hessian']):\n",
    "                        param_state = self.state[p]\n",
    "                        if 'prune' not in param_state:\n",
    "                            param_state['prune'] = torch.ones_like(p)\n",
    "\n",
    "                        p_vector = p.view(-1)\n",
    "                        score = (p*h).view(-1)\n",
    "                        prune_vector = param_state['prune'].view(-1)\n",
    "                        bound = int(amount * len(p_vector))\n",
    "                        if bound > 0:\n",
    "                            prune_vector[torch.sort(score)[1][:bound]] = 0\n",
    "                            p_vector.data.mul_(prune_vector)\n",
    "    \n",
    "    def deprune(self):\n",
    "        for group in self.param_groups:\n",
    "             for p in group['params']:\n",
    "                param_state = self.state[p]\n",
    "                param_state['prune'] = torch.ones_like(p)\n",
    "\n",
    "    def step(self, closure=None):\n",
    "        loss = None\n",
    "        if closure is not None:\n",
    "            loss = closure()\n",
    "\n",
    "        for group in self.param_groups:\n",
    "            for param in group['params']:\n",
    "                if param.grad is None:\n",
    "                    continue\n",
    "                    \n",
    "                d_param = param.grad.data.detach()\n",
    "                param_state = self.state[param]\n",
    "    \n",
    "                if 'prune' in param_state:\n",
    "                    prune = param_state['prune']\n",
    "                else:\n",
    "                    prune = torch.ones_like(param)\n",
    "                    param_state['prune'] = prune                 \n",
    "                    \n",
    "                grad = param.grad.data\n",
    "                if grad.is_sparse:\n",
    "                    raise RuntimeError('Does not support sparse gradients, please use SparseAdam')\n",
    "                amsgrad = group['amsgrad']\n",
    "\n",
    "                state = self.state[param]\n",
    "                if 'step' not in state:\n",
    "                    state['step'] = 0\n",
    "                if 'exp_avg' not in state:\n",
    "                    state['exp_avg'] = torch.zeros_like(param.data)\n",
    "                if 'exp_avg_sq' not in state:\n",
    "                    state['exp_avg_sq'] = torch.zeros_like(param.data)\n",
    "                if amsgrad:\n",
    "                    if 'max_exp_avg_sq' not in state:\n",
    "                        state['max_exp_avg_sq'] = torch.zeros_like(param.data)\n",
    "                \n",
    "                exp_avg, exp_avg_sq = state['exp_avg'], state['exp_avg_sq']\n",
    "                if amsgrad:\n",
    "                    max_exp_avg_sq = state['max_exp_avg_sq']\n",
    "                beta1, beta2 = group['beta']\n",
    "\n",
    "                state['step'] += 1\n",
    "\n",
    "                if group['weight_decay'] != 0:\n",
    "                    grad.add_(group['weight_decay'], param.data)\n",
    "\n",
    "                exp_avg.mul_(beta1).add_(1 - beta1, grad)\n",
    "                exp_avg_sq.mul_(beta2).addcmul_(1 - beta2, grad, grad)\n",
    "                if amsgrad:\n",
    "                    torch.max(max_exp_avg_sq, exp_avg_sq, out=max_exp_avg_sq)\n",
    "                    denom = max_exp_avg_sq.sqrt().add_(group['eps'])\n",
    "                else:\n",
    "                    denom = exp_avg_sq.sqrt().add_(group['eps'])\n",
    "\n",
    "                bias_correction1 = 1 - beta1 ** state['step']\n",
    "                bias_correction2 = 1 - beta2 ** state['step']\n",
    "                step_size = group['lr'] * (bias_correction2 ** (0.5)) / bias_correction1\n",
    "\n",
    "                param.data.addcdiv_(-step_size, prune * exp_avg, denom)\n",
    "        return loss"
   ]
  },
  {
   "cell_type": "markdown",
   "metadata": {
    "colab_type": "text",
    "id": "Z-de7oKsIWeB"
   },
   "source": [
    "#### Обучение моделей"
   ]
  },
  {
   "cell_type": "code",
   "execution_count": 11,
   "metadata": {
    "colab": {
     "base_uri": "https://localhost:8080/",
     "height": 34
    },
    "colab_type": "code",
    "id": "SpRX1OD_IWeC",
    "outputId": "01564981-d3c2-493a-bab8-db752ddaf5c1"
   },
   "outputs": [
    {
     "data": {
      "text/plain": [
       "device(type='cpu')"
      ]
     },
     "execution_count": 11,
     "metadata": {
      "tags": []
     },
     "output_type": "execute_result"
    }
   ],
   "source": [
    "device = torch.device(\"cuda\" if torch.cuda.is_available() else \"cpu\")\n",
    "device"
   ]
  },
  {
   "cell_type": "code",
   "execution_count": 0,
   "metadata": {
    "colab": {},
    "colab_type": "code",
    "id": "47AcefhNIWeE"
   },
   "outputs": [],
   "source": [
    "loss_function = torch.nn.CrossEntropyLoss()"
   ]
  },
  {
   "cell_type": "code",
   "execution_count": 0,
   "metadata": {
    "colab": {},
    "colab_type": "code",
    "id": "s2Pte2nfIWeF"
   },
   "outputs": [],
   "source": [
    "train = TensorDataset(X_train.to(device), y_train.to(device))\n",
    "test = TensorDataset(X_test.to(device), y_test.to(device))"
   ]
  },
  {
   "cell_type": "code",
   "execution_count": 0,
   "metadata": {
    "colab": {},
    "colab_type": "code",
    "id": "nAYSy-dZIWeG"
   },
   "outputs": [],
   "source": [
    "model = LogisticRegression(input_dim=X_train.shape[1], output_dim=10, device=device)"
   ]
  },
  {
   "cell_type": "code",
   "execution_count": 0,
   "metadata": {
    "colab": {},
    "colab_type": "code",
    "id": "jcykU8MDIWeG"
   },
   "outputs": [],
   "source": [
    "optimizer = OptimizerNonDeleted(model.parameters())"
   ]
  },
  {
   "cell_type": "code",
   "execution_count": 0,
   "metadata": {
    "colab": {},
    "colab_type": "code",
    "id": "An5G7SSRIWeJ"
   },
   "outputs": [],
   "source": [
    "output = model(train[:][0])\n",
    "loss = loss_function(output, train[:][1])"
   ]
  },
  {
   "cell_type": "code",
   "execution_count": 0,
   "metadata": {
    "colab": {},
    "colab_type": "code",
    "id": "Ng4dPeRmtEln"
   },
   "outputs": [],
   "source": [
    "def resize_hessian(model, hessian):\n",
    "    bias = 0\n",
    "    new_hessian = []\n",
    "    for param in model.parameters():\n",
    "        param_size = torch.tensor(param.size()).prod()\n",
    "        new_hess.append(hessian[bias : bias + param_size].view_as(param))\n",
    "        bias += param_size\n",
    "    return new_hessian"
   ]
  },
  {
   "cell_type": "code",
   "execution_count": 0,
   "metadata": {
    "colab": {},
    "colab_type": "code",
    "id": "5jcPYBa7_NlM"
   },
   "outputs": [],
   "source": [
    "with open('hessian.pkl', 'rb') as f:\n",
    "    hs = pickle.load(f)"
   ]
  },
  {
   "cell_type": "code",
   "execution_count": 19,
   "metadata": {
    "colab": {
     "base_uri": "https://localhost:8080/",
     "height": 51
    },
    "colab_type": "code",
    "id": "Tp0v1YVi_gqB",
    "outputId": "459f72b3-5a37-4ef7-df52-e8bbfa519385"
   },
   "outputs": [
    {
     "name": "stderr",
     "output_type": "stream",
     "text": [
      "100%|██████████| 20/20 [04:43<00:00, 13.31s/it]\n",
      "100%|██████████| 20/20 [00:58<00:00,  2.81s/it]\n"
     ]
    }
   ],
   "source": [
    "amounts = np.linspace(0, 1, 20)\n",
    "k_for_averaging = 5\n",
    "\n",
    "list_random_score = []\n",
    "for amount in tqdm(amounts):\n",
    "    list_score = []\n",
    "    for _ in range(k_for_averaging):\n",
    "        model.load_state_dict(torch.load('train_model.sv'))\n",
    "        optimizer = OptimizerNonDeleted(model.parameters())\n",
    "        optimizer.prune(amount=amount, method='random', hessian=hs)\n",
    "\n",
    "        trainer(epochs=2, batch_size=64, dataset=train, model=model, loss_function = loss_function, optimizer = optimizer)\n",
    "\n",
    "        output = model(test[:][0])\n",
    "        output.sum(dim = 1)\n",
    "        answ = torch.argmax(torch.softmax(output, dim=1), dim=1)\n",
    "\n",
    "        list_score.append(float((test[:][1] == answ).sum()) / test[:][1].shape[0])\n",
    "    list_random_score.append(list_score)\n",
    "  \n",
    "list_random_score = np.array(list_random_score)\n",
    "\n",
    "list_OBD_score = []\n",
    "for amount in tqdm(amounts):\n",
    "    model.load_state_dict(torch.load('train_model.sv'))\n",
    "    optimizer = OptimizerNonDeleted(model.parameters())\n",
    "    optimizer.prune(amount=amount, method='OBD', hessian=hs)\n",
    "\n",
    "    trainer(epochs=2, batch_size=64, dataset=train, model=model, loss_function=loss_function, optimizer=optimizer)\n",
    "\n",
    "    output = model(test[:][0])\n",
    "    output.sum(dim=1)\n",
    "    answ = torch.argmax(torch.softmax(output, dim=1), dim=1)\n",
    "\n",
    "    list_OBD_score.append(float((test[:][1] == answ).sum()) / test[:][1].shape[0])\n",
    "  \n",
    "list_OBD_score = np.array(list_OBD_score)"
   ]
  },
  {
   "cell_type": "code",
   "execution_count": 0,
   "metadata": {
    "colab": {},
    "colab_type": "code",
    "id": "bYU8pQfjBKrV"
   },
   "outputs": [],
   "source": [
    "random_mean = np.mean(list_random_score, axis = 1)\n",
    "random_std = np.std(list_random_score, axis = 1)"
   ]
  },
  {
   "cell_type": "code",
   "execution_count": 21,
   "metadata": {
    "colab": {
     "base_uri": "https://localhost:8080/",
     "height": 279
    },
    "colab_type": "code",
    "id": "oSJPNaJv9Z4o",
    "outputId": "d6c936de-8dfd-4289-fe20-d40bf9b7dcc7"
   },
   "outputs": [
    {
     "data": {
      "image/png": "[encoded data removed]",
      "text/plain": [
       "<Figure size 432x288 with 1 Axes>"
      ]
     },
     "metadata": {
      "tags": []
     },
     "output_type": "display_data"
    }
   ],
   "source": [
    "plt.plot(amounts, random_mean, label='random')\n",
    "plt.fill_between(amounts, random_mean-random_std, random_mean+random_std, alpha=0.3)\n",
    "\n",
    "plt.plot(amounts, list_OBD_score, label='OptimalBrainDamage')\n",
    "\n",
    "plt.legend(loc='best')\n",
    "plt.grid()\n",
    "\n",
    "plt.xlabel('DeletedRate')\n",
    "plt.ylabel('Accuracy')\n",
    "plt.show()"
   ]
  },
  {
   "cell_type": "markdown",
   "metadata": {
    "colab_type": "text",
    "id": "4CFLRkKq7ekV"
   },
   "source": [
    "## Вывод"
   ]
  },
  {
   "cell_type": "markdown",
   "metadata": {
    "colab_type": "text",
    "id": "HvTYwjJq7ekX"
   },
   "source": [
    "Оба метода --- случайное удаление и Optimal Brain Damage --- позволяют удалить достаточно много (около 70%) нейронов без заметной потери качества. Однако если при случайном удалении качество в среднем монотонно убывает, то Optimal Brain Damage может улучшать качество при дополнительном удалении; этот алгоритм в данном эксперименте сохранил качество, близкое к исходному, при удалении 80% нейронов, а при удалении 90% --- приемлемое и выше, чем у случайного удаления (примерно 0.85 против примерно 0.8). То есть, на экспериментальном уровне Optimal Brain Damage проявил себя лучше."
   ]
  }
 ],
 "metadata": {
  "colab": {
   "collapsed_sections": [],
   "name": "OptimalBrainDamage.ipynb",
   "provenance": []
  },
  "kernelspec": {
   "display_name": "Python 3",
   "language": "python",
   "name": "python3"
  },
  "language_info": {
   "codemirror_mode": {
    "name": "ipython",
    "version": 3
   },
   "file_extension": ".py",
   "mimetype": "text/x-python",
   "name": "python",
   "nbconvert_exporter": "python",
   "pygments_lexer": "ipython3",
   "version": "3.7.3"
  }
 },
 "nbformat": 4,
 "nbformat_minor": 1
}
