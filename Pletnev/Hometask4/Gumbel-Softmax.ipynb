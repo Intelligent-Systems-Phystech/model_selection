{
 "cells": [
  {
   "cell_type": "markdown",
   "metadata": {},
   "source": [
    "# Gumbel-Softmax"
   ]
  },
  {
   "cell_type": "code",
   "execution_count": 1,
   "metadata": {},
   "outputs": [],
   "source": [
    "import numpy as np\n",
    "import math\n",
    "\n",
    "import matplotlib.pyplot as plt\n",
    "import matplotlib.tri as tri\n",
    "\n",
    "from functools import reduce\n",
    "from operator import mul\n",
    "from scipy.special import softmax"
   ]
  },
  {
   "cell_type": "markdown",
   "metadata": {},
   "source": [
    "## Основные функции"
   ]
  },
  {
   "cell_type": "code",
   "execution_count": 2,
   "metadata": {},
   "outputs": [],
   "source": [
    "def draw_pdf_level_lines(dist, nlevels=10, subdiv=8, **kwargs):\n",
    "    uniform_refiner = tri.UniformTriRefiner(triangle)\n",
    "    points = uniform_refiner.refine_triangulation(subdiv=subdiv)\n",
    "    pvals = []\n",
    "    for xy in zip(points.x, points.y):\n",
    "        pvals.append(dist.pdf(cartesian2baricentric(xy)))\n",
    "    plt.tricontourf(points, pvals, nlevels, **kwargs)\n",
    "    plt.axis('equal')\n",
    "    plt.xlim(0, 1)\n",
    "    plt.ylim(0, 1)    \n",
    "    plt.axis('off')"
   ]
  },
  {
   "cell_type": "code",
   "execution_count": 3,
   "metadata": {},
   "outputs": [],
   "source": [
    "corner = np.array([[0, 0], [0, 1], [0.5 * np.sqrt(3), 0.5]])\n",
    "triangle = tri.Triangulation(corner[:, 0], corner[:, 1])"
   ]
  },
  {
   "cell_type": "code",
   "execution_count": 4,
   "metadata": {},
   "outputs": [],
   "source": [
    "median_ends = [(corner[1] + corner[2]) / 2.0,\n",
    "               (corner[2] + corner[0]) / 2.0,\n",
    "               (corner[0] + corner[1]) / 2.0]\n",
    "\n",
    "def cartesian2baricentric(xy, tol=0.001): \n",
    "    return np.clip([(corner[0] - median_ends[0]).dot(xy - median_ends[0]) * 4.0 / 3,\n",
    "                    (corner[1] - median_ends[1]).dot(xy - median_ends[1]) * 4.0 / 3,\n",
    "                    (corner[2] - median_ends[2]).dot(xy - median_ends[2]) * 4.0 / 3\n",
    "                   ], tol, 1.0 - tol)"
   ]
  },
  {
   "cell_type": "markdown",
   "metadata": {},
   "source": [
    "## Распределение Дирихле"
   ]
  },
  {
   "cell_type": "code",
   "execution_count": 5,
   "metadata": {},
   "outputs": [],
   "source": [
    "class Dirichlet:\n",
    "    def __init__(self, parameters):\n",
    "        self._alpha = np.array(parameters)\n",
    "        self._coef = math.gamma(np.sum(self._alpha)) / reduce(mul, [math.gamma(a) for a in self._alpha])\n",
    "    def pdf(self, x):\n",
    "        return self._coef * reduce(mul, [xx ** (aa - 1) for (xx, aa) in zip(x, self._alpha)])"
   ]
  },
  {
   "cell_type": "code",
   "execution_count": 6,
   "metadata": {},
   "outputs": [
    {
     "data": {
      "image/png": "[encoded data removed]",
      "text/plain": [
       "<Figure size 432x288 with 1 Axes>"
      ]
     },
     "metadata": {
      "needs_background": "light"
     },
     "output_type": "display_data"
    }
   ],
   "source": [
    "dist = Dirichlet([5, 5, 5])\n",
    "draw_pdf_level_lines(dist)"
   ]
  },
  {
   "cell_type": "markdown",
   "metadata": {},
   "source": [
    "# Gumbel-Softmax"
   ]
  },
  {
   "cell_type": "code",
   "execution_count": 7,
   "metadata": {},
   "outputs": [],
   "source": [
    "class GumbelSoftmax:\n",
    "    def __init__(self, s=1, tau=1):\n",
    "        \"\"\"\n",
    "        :param s: int, lenth for array --- probability of classes\n",
    "        :param tau: float > 0 --- temperature\n",
    "        :return: array with the shape s --- probability to each classes from gumbel softmax distribution\n",
    "        \"\"\"\n",
    "        self.probs = np.array(s)\n",
    "        self.tau = tau\n",
    "        self.num_classes = len(self.probs)\n",
    "        self.coef = math.gamma(self.num_classes) * (self.tau ** (self.num_classes - 1)) * (reduce(mul, self.probs))\n",
    "        \n",
    "    def pdf(self, x):\n",
    "        x = np.array(x)\n",
    "        return self.coef * (self.probs * (x ** (-self.tau))).sum() ** \\\n",
    "                        (-self.num_classes) * reduce(mul, x ** (-self.tau - 1))\n",
    "    \n",
    "    def __call__(self, size=None):\n",
    "        k = len(s)\n",
    "        if size is None:\n",
    "            return softmax(s + np.random.gumbel(size = k))\n",
    "        else:\n",
    "            return [softmax(s + np.random.gumbel(size = k)) for _ in range(size)]"
   ]
  },
  {
   "cell_type": "code",
   "execution_count": 8,
   "metadata": {},
   "outputs": [
    {
     "data": {
      "image/png": "[encoded data removed]",
      "text/plain": [
       "<Figure size 432x288 with 1 Axes>"
      ]
     },
     "metadata": {
      "needs_background": "light"
     },
     "output_type": "display_data"
    }
   ],
   "source": [
    "dist = GumbelSoftmax([15, 15, 15], 2)\n",
    "draw_pdf_level_lines(dist, nlevels=50, subdiv=6)"
   ]
  },
  {
   "cell_type": "code",
   "execution_count": 9,
   "metadata": {},
   "outputs": [
    {
     "data": {
      "image/png": "[encoded data removed]",
      "text/plain": [
       "<Figure size 432x288 with 1 Axes>"
      ]
     },
     "metadata": {
      "needs_background": "light"
     },
     "output_type": "display_data"
    }
   ],
   "source": [
    "dist = GumbelSoftmax([15, 15, 15], 5)\n",
    "draw_pdf_level_lines(dist, nlevels=50, subdiv=6)"
   ]
  },
  {
   "cell_type": "code",
   "execution_count": 10,
   "metadata": {},
   "outputs": [
    {
     "data": {
      "image/png": "[encoded data removed]",
      "text/plain": [
       "<Figure size 432x288 with 1 Axes>"
      ]
     },
     "metadata": {
      "needs_background": "light"
     },
     "output_type": "display_data"
    }
   ],
   "source": [
    "dist = GumbelSoftmax([15, 15, 15], 1.5)\n",
    "draw_pdf_level_lines(dist, nlevels=50, subdiv=6)"
   ]
  },
  {
   "cell_type": "code",
   "execution_count": 11,
   "metadata": {},
   "outputs": [
    {
     "data": {
      "image/png": "[encoded data removed]",
      "text/plain": [
       "<Figure size 432x288 with 1 Axes>"
      ]
     },
     "metadata": {
      "needs_background": "light"
     },
     "output_type": "display_data"
    }
   ],
   "source": [
    "dist = GumbelSoftmax([15, 15, 1], 2)\n",
    "draw_pdf_level_lines(dist, nlevels=50, subdiv=6)"
   ]
  },
  {
   "cell_type": "code",
   "execution_count": 12,
   "metadata": {},
   "outputs": [
    {
     "data": {
      "image/png": "[encoded data removed]",
      "text/plain": [
       "<Figure size 432x288 with 1 Axes>"
      ]
     },
     "metadata": {
      "needs_background": "light"
     },
     "output_type": "display_data"
    }
   ],
   "source": [
    "dist = GumbelSoftmax([15, 15, 1], 5)\n",
    "draw_pdf_level_lines(dist, nlevels=50, subdiv=6)"
   ]
  },
  {
   "cell_type": "code",
   "execution_count": 14,
   "metadata": {},
   "outputs": [
    {
     "data": {
      "image/png": "[encoded data removed]",
      "text/plain": [
       "<Figure size 432x288 with 1 Axes>"
      ]
     },
     "metadata": {
      "needs_background": "light"
     },
     "output_type": "display_data"
    }
   ],
   "source": [
    "dist = GumbelSoftmax([15, 15, 15], 10)\n",
    "draw_pdf_level_lines(dist, nlevels=50, subdiv=6)"
   ]
  },
  {
   "cell_type": "code",
   "execution_count": null,
   "metadata": {},
   "outputs": [],
   "source": []
  }
 ],
 "metadata": {
  "kernelspec": {
   "display_name": "Python 3",
   "language": "python",
   "name": "python3"
  },
  "language_info": {
   "codemirror_mode": {
    "name": "ipython",
    "version": 3
   },
   "file_extension": ".py",
   "mimetype": "text/x-python",
   "name": "python",
   "nbconvert_exporter": "python",
   "pygments_lexer": "ipython3",
   "version": "3.7.3"
  }
 },
 "nbformat": 4,
 "nbformat_minor": 2
}
