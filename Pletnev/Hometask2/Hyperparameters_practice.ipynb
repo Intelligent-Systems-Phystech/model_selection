{
 "cells": [
  {
   "cell_type": "markdown",
   "metadata": {},
   "source": [
    "## Исследование методов оптимизации гиперпараметров"
   ]
  },
  {
   "cell_type": "code",
   "execution_count": 0,
   "metadata": {
    "colab": {},
    "colab_type": "code",
    "id": "1KO4aykzf8Iu"
   },
   "outputs": [],
   "source": [
    "from torch.utils.data import TensorDataset, DataLoader, Dataset\n",
    "import torch\n",
    "\n",
    "from tqdm import tqdm\n",
    "\n",
    "import math\n",
    "\n",
    "import numpy as np\n",
    "import matplotlib.pyplot as plt"
   ]
  },
  {
   "cell_type": "code",
   "execution_count": 0,
   "metadata": {
    "colab": {},
    "colab_type": "code",
    "id": "3CqhBConr4aP"
   },
   "outputs": [],
   "source": [
    "# Вспомогательные математические функции с https://github.com/mariogeiger/hessian\n",
    "\n",
    "def gradient(outputs, inputs, grad_outputs=None, retain_graph=None, create_graph=False):\n",
    "    '''\n",
    "    Compute the gradient of `outputs` with respect to `inputs`\n",
    "    gradient(x.sum(), x)\n",
    "    gradient((x * y).sum(), [x, y])\n",
    "    '''\n",
    "    if torch.is_tensor(inputs):\n",
    "        inputs = [inputs]\n",
    "    else:\n",
    "        inputs = list(inputs)\n",
    "    grads = torch.autograd.grad(outputs, inputs, grad_outputs,\n",
    "                                allow_unused=True,\n",
    "                                retain_graph=retain_graph,\n",
    "                                create_graph=create_graph)\n",
    "    grads = [x if x is not None else torch.zeros_like(y) for x, y in zip(grads, inputs)]\n",
    "    return torch.cat([x.contiguous().view(-1) for x in grads])\n",
    "\n",
    "\n",
    "def hessian(output, inputs, out=None, allow_unused=False, create_graph=False):\n",
    "    '''\n",
    "    Compute the Hessian of `output` with respect to `inputs`\n",
    "    hessian((x * y).sum(), [x, y])\n",
    "    '''\n",
    "    assert output.ndimension() == 0\n",
    "\n",
    "    if torch.is_tensor(inputs):\n",
    "        inputs = [inputs]\n",
    "    else:\n",
    "        inputs = list(inputs)\n",
    "\n",
    "    n = sum(p.numel() for p in inputs)\n",
    "    if out is None:\n",
    "        out = output.new_zeros(n, n)\n",
    "\n",
    "    ai = 0\n",
    "    for i, inp in enumerate(inputs):\n",
    "        [grad] = torch.autograd.grad(output, inp, create_graph=True, allow_unused=allow_unused)\n",
    "        grad = torch.zeros_like(inp) if grad is None else grad\n",
    "        grad = grad.contiguous().view(-1)\n",
    "\n",
    "        for j in range(inp.numel()):\n",
    "            if grad[j].requires_grad:\n",
    "                row = gradient(grad[j], inputs[i:], retain_graph=True, create_graph=create_graph)[j:]\n",
    "            else:\n",
    "                row = grad[j].new_zeros(sum(x.numel() for x in inputs[i:]) - j)\n",
    "\n",
    "            out[ai, ai:].add_(row.type_as(out))  # ai's row\n",
    "            if ai + 1 < n:\n",
    "                out[ai + 1:, ai].add_(row[1:].type_as(out))  # ai's column\n",
    "            del row\n",
    "            ai += 1\n",
    "        del grad\n",
    "\n",
    "    return out"
   ]
  },
  {
   "cell_type": "code",
   "execution_count": 0,
   "metadata": {
    "colab": {},
    "colab_type": "code",
    "id": "EFmPRwItr6L3"
   },
   "outputs": [],
   "source": [
    "# Устанавливаем параметры для графиков\n",
    "\n",
    "parameters = {\n",
    "    'figure.figsize': (14.0, 8.0),\n",
    "    'font.size': 18,\n",
    "    'axes.titlesize': 24,\n",
    "    'axes.labelsize': 24,\n",
    "    'legend.fontsize': 24,\n",
    "    'xtick.labelsize': 24,\n",
    "    'ytick.labelsize': 24,\n",
    "    'lines.linewidth': 2,\n",
    "    'lines.markersize': 4\n",
    "}\n",
    "\n",
    "plt.rcParams.update(parameters)"
   ]
  },
  {
   "cell_type": "code",
   "execution_count": 4,
   "metadata": {
    "colab": {
     "base_uri": "https://localhost:8080/",
     "height": 34
    },
    "colab_type": "code",
    "id": "5OqSHlpisC47",
    "outputId": "3be5b9c6-23c6-4766-be40-521933ebe0c9"
   },
   "outputs": [
    {
     "data": {
      "text/plain": [
       "device(type='cpu')"
      ]
     },
     "execution_count": 4,
     "metadata": {
      "tags": []
     },
     "output_type": "execute_result"
    }
   ],
   "source": [
    "# Создадим экземпляр вычислительной машины и посмотрим на него\n",
    "\n",
    "device = torch.device(\"cuda\" if torch.cuda.is_available() else \"cpu\")\n",
    "device"
   ]
  },
  {
   "cell_type": "markdown",
   "metadata": {
    "colab_type": "text",
    "id": "_l9vuVk71B_C"
   },
   "source": [
    "# **Эксперименты**"
   ]
  },
  {
   "cell_type": "markdown",
   "metadata": {
    "colab_type": "text",
    "id": "6nnU9JDy2A2i"
   },
   "source": [
    "Проведены на простой синтетической выборке: $$x\\sim \\mathcal{N}(0, I_n),\\ w\\sim \\mathcal{N}(0, I_n),\\ y\\sim \\mathcal{N}(w^Tx, \\sigma I).$$"
   ]
  },
  {
   "cell_type": "code",
   "execution_count": 0,
   "metadata": {
    "colab": {},
    "colab_type": "code",
    "id": "0a9GSZQx22Ac"
   },
   "outputs": [],
   "source": [
    "# Синтезируем данные\n",
    "m_samples = 256\n",
    "n = 30\n",
    "sigma = 0.001\n",
    "\n",
    "w = np.random.randn(n)\n",
    "\n",
    "X_train = np.random.randn(m_samples, n)\n",
    "Y_train = (X_train @ w + sigma * np.random.randn(m_samples)).reshape([-1, 1])\n",
    "\n",
    "X_test = np.random.randn(m_samples, n)\n",
    "Y_test = (X_test @ w + sigma * np.random.randn(m_samples)).reshape([-1, 1])\n",
    "\n",
    "X_eval = np.random.randn(m_samples, n)\n",
    "Y_eval = (X_eval @ w + sigma * np.random.randn(m_samples)).reshape([-1, 1])"
   ]
  },
  {
   "cell_type": "code",
   "execution_count": 0,
   "metadata": {
    "colab": {},
    "colab_type": "code",
    "id": "QvNQ24pCuHwX"
   },
   "outputs": [],
   "source": [
    "# Загружаем данные на машину\n",
    "train_data = TensorDataset(torch.Tensor(X_train).to(device), torch.Tensor(Y_train).to(device))\n",
    "test_data = TensorDataset(torch.Tensor(X_test).to(device), torch.Tensor(Y_test).to(device))\n",
    "eval_data = TensorDataset(torch.Tensor(X_eval).to(device), torch.Tensor(Y_eval).to(device))\n",
    "\n",
    "X_tr, Y_tr = train_data[:]\n",
    "X_ts, Y_ts = test_data[:]\n",
    "X_vl, Y_vl = test_data[:]"
   ]
  },
  {
   "cell_type": "markdown",
   "metadata": {
    "colab_type": "text",
    "id": "iHjmr3QVupD1"
   },
   "source": [
    "Модель --- MLP (полносвязная нейросеть) с одним скрытым слоем и разным количеством нейронов на нём."
   ]
  },
  {
   "cell_type": "code",
   "execution_count": 0,
   "metadata": {
    "colab": {},
    "colab_type": "code",
    "id": "QZsPwRKmuq3M"
   },
   "outputs": [],
   "source": [
    "class MLP1(torch.nn.Module):\n",
    "    def __init__(self, input_dim=30, hidden_dim=5, output_dim=1, device='сpu'):\n",
    "        super(MLP1, self).__init__()\n",
    "        self.input_dim = input_dim\n",
    "        self.hidden_dim = hidden_dim\n",
    "        self.output_dim = output_dim\n",
    "        self.device = device\n",
    "\n",
    "        self.body = torch.nn.Sequential(\n",
    "            torch.nn.Linear(self.input_dim, self.hidden_dim),\n",
    "            torch.nn.LeakyReLU(),\n",
    "        )\n",
    "        \n",
    "        self.head = torch.nn.Linear(self.hidden_dim, self.output_dim)\n",
    "        \n",
    "        list_w = []\n",
    "        for w in self.parameters():\n",
    "            list_w.append(w.data.view(-1))\n",
    "        self.parameters_num = len(torch.cat(list_w).view(-1))\n",
    "\n",
    "        list_hyperparameters = []\n",
    "        for w in self.parameters():\n",
    "            list_hyperparameters.append(torch.ones_like(w.data, requires_grad=True))\n",
    "        self.hyperparameters = list_hyperparameters\n",
    "\n",
    "        self.to(device)\n",
    "\n",
    "    def predict(self, input):\n",
    "        return self.head(self.body(input))\n",
    "    \n",
    "    def log_prior_w(self, w, h):\n",
    "        sigma = 1.\n",
    "        w = w.view(-1)\n",
    "        h = h.view(-1)\n",
    "        return -0.5 * torch.dot(w * (h * h), w)\n",
    "      \n",
    "    def log_prior_all(self):\n",
    "        temp = 0\n",
    "        for w, h in zip(self.parameters(), self.hyperparameters):\n",
    "            temp += self.log_prior_w(w, h)\n",
    "        return temp\n",
    "     \n",
    "    def log_likelihood(self, batch_x, batch_y):\n",
    "        beta = 1.\n",
    "        batch_size = len(batch_y)\n",
    "        return -0.5 * beta * torch.mean((self.predict(batch_x) - batch_y)**2)\n",
    "    \n",
    "    def margin_log_likelihood(self, batch_x, batch_y):\n",
    "        return self.log_prior_all() + self.log_likelihood(batch_x, batch_y)\n",
    "    \n",
    "    def batch_loss(self, batch_x, batch_y):\n",
    "        return torch.mean((self.predict(batch_x) - batch_y)**2)\n",
    "    \n",
    "    def random_h_init(self):\n",
    "        for h in self.hyperparameters:\n",
    "            h.data = torch.rand_like(h.data)\n",
    "\n",
    "    def h_zero_grad(self):\n",
    "        for h in self.hyperparameters:\n",
    "            h.grad.zero_()\n",
    "\n",
    "    def h_set_grad(self, grad):\n",
    "        bias = 0\n",
    "        for h in self.hyperparameters:\n",
    "            h_size = torch.tensor(h.size()).prod()\n",
    "            h.grad = grad[bias:bias+h_size].view_as(h)\n",
    "            bias+=h_size\n",
    "            \n",
    "    def h_set_data(self, data):\n",
    "        bias = 0\n",
    "        for h in self.hyperparameters:\n",
    "            h_size = torch.tensor(h.size()).prod()\n",
    "            h.data = data[bias:bias+h_size].view_as(h)\n",
    "            if h.grad is not None:\n",
    "                h.grad.zero_()\n",
    "            bias+=h_size"
   ]
  },
  {
   "cell_type": "markdown",
   "metadata": {
    "colab_type": "text",
    "id": "jBN9-mHFzbL8"
   },
   "source": [
    "### Случайный поиск"
   ]
  },
  {
   "cell_type": "code",
   "execution_count": 0,
   "metadata": {
    "colab": {},
    "colab_type": "code",
    "id": "3_PZsmnXzgNg"
   },
   "outputs": [],
   "source": [
    "def get_hyperparameters(model):\n",
    "    list_hyperparameters = []\n",
    "    for h in model.hyperparameters:\n",
    "        list_hyperparameters.append(h.data.cpu().numpy().reshape(-1))\n",
    "\n",
    "    return np.hstack(list_hyperparameters)\n",
    "\n",
    "def get_Q_theta_star_hyp(model, hyperparameters, epochs_num=200):\n",
    "    model.__init__(model.input_dim, model.hidden_dim, model.output_dim, model.device)\n",
    "    model.h_set_data(hyperparameters)\n",
    "    \n",
    "    optimizer = torch.optim.Adam(model.parameters(), lr=0.01)\n",
    "\n",
    "    for epoch in range(epochs_num):\n",
    "        generator = DataLoader(train_data, batch_size=64, shuffle=True)\n",
    "        for batch_x, batch_y in generator:\n",
    "            model.zero_grad()\n",
    "            loss = -model.margin_log_likelihood(batch_x, batch_y)\n",
    "            loss.backward()\n",
    "            optimizer.step()\n",
    "            \n",
    "    return get_hyperparameters(model), model.batch_loss(X_vl, Y_vl).item()"
   ]
  },
  {
   "cell_type": "code",
   "execution_count": 0,
   "metadata": {
    "colab": {},
    "colab_type": "code",
    "id": "OVX1KFfG1aHO"
   },
   "outputs": [],
   "source": [
    "def random_search(model, search_iterations=100, progress=list):\n",
    "    hyperparam_list = []\n",
    "    loss_list = []\n",
    "\n",
    "    for iteration in progress(range(search_iterations)):\n",
    "        h = torch.rand(model.parameters_num)\n",
    "        h, Q_loss = get_Q_theta_star_hyp(model, h)\n",
    "\n",
    "        hyperparam_list.append(h)\n",
    "        loss_list.append(Q_loss)\n",
    "\n",
    "    return np.array(hyperparam_list), np.array(loss_list)"
   ]
  },
  {
   "cell_type": "code",
   "execution_count": 0,
   "metadata": {
    "colab": {},
    "colab_type": "code",
    "id": "wbaso8EX3fN5"
   },
   "outputs": [],
   "source": [
    "model = MLP1(input_dim=n, output_dim=1, hidden_dim=3, device='cpu')"
   ]
  },
  {
   "cell_type": "code",
   "execution_count": 73,
   "metadata": {
    "colab": {
     "base_uri": "https://localhost:8080/",
     "height": 68
    },
    "colab_type": "code",
    "id": "rvpU36gY_NL5",
    "outputId": "53e4f93c-777d-429f-ef61-65d63a241787"
   },
   "outputs": [
    {
     "name": "stderr",
     "output_type": "stream",
     "text": [
      "100%|██████████| 100/100 [02:50<00:00,  1.70s/it]"
     ]
    },
    {
     "name": "stdout",
     "output_type": "stream",
     "text": [
      "CPU times: user 2min 43s, sys: 4.09 s, total: 2min 47s\n",
      "Wall time: 2min 50s\n"
     ]
    },
    {
     "name": "stderr",
     "output_type": "stream",
     "text": [
      "\n"
     ]
    }
   ],
   "source": [
    "%%time\n",
    "hyperparam_random_list, loss_random_list = random_search(model, 100, progress=tqdm)"
   ]
  },
  {
   "cell_type": "code",
   "execution_count": 74,
   "metadata": {
    "colab": {
     "base_uri": "https://localhost:8080/",
     "height": 497
    },
    "colab_type": "code",
    "id": "Zl-YFC3r4Bx7",
    "outputId": "81a77efd-3e1c-451b-b4a7-7b7dff1d7366"
   },
   "outputs": [
    {
     "data": {
      "image/png": "[encoded data removed]",
      "text/plain": [
       "<Figure size 1008x576 with 1 Axes>"
      ]
     },
     "metadata": {
      "tags": []
     },
     "output_type": "display_data"
    }
   ],
   "source": [
    "plot_random = plt.plot([np.min(loss_random_list[:i]) for i in range(1, len(loss_random_list))])"
   ]
  },
  {
   "cell_type": "code",
   "execution_count": 75,
   "metadata": {
    "colab": {
     "base_uri": "https://localhost:8080/",
     "height": 323
    },
    "colab_type": "code",
    "id": "p5F1LH9s4bYN",
    "outputId": "9500afb1-7fca-4deb-c9a7-df83175cd6a4"
   },
   "outputs": [
    {
     "name": "stdout",
     "output_type": "stream",
     "text": [
      "Best hyperparameters:  [0.8223529  0.13897443 0.5172385  0.7246452  0.39426118 0.89286244\n",
      " 0.01819992 0.25721592 0.27777874 0.05506861 0.3791024  0.42255908\n",
      " 0.0999794  0.48997074 0.3517642  0.9700216  0.6178677  0.21881199\n",
      " 0.44191122 0.65396786 0.8275141  0.54021794 0.85979927 0.40254724\n",
      " 0.2767822  0.8732708  0.7685277  0.60523707 0.797754   0.3647371\n",
      " 0.29484642 0.7884257  0.892275   0.8367755  0.07836759 0.42893165\n",
      " 0.6952153  0.7285997  0.00335538 0.92840403 0.69815576 0.92623484\n",
      " 0.9636277  0.6684118  0.38887572 0.71943694 0.04856282 0.6031436\n",
      " 0.5894586  0.3311621  0.6107484  0.05840105 0.81082255 0.08060503\n",
      " 0.7555133  0.20389217 0.12280691 0.6780635  0.37815368 0.27011532\n",
      " 0.8402166  0.6381624  0.10013801 0.19790173 0.7237755  0.08716601\n",
      " 0.5590276  0.67895055 0.05127114 0.18638551 0.9457666  0.7531027\n",
      " 0.74579453 0.6336791  0.83143103 0.7284878  0.5439864  0.7565152\n",
      " 0.45474476 0.28763342 0.9696786  0.8740537  0.4543907  0.9282493\n",
      " 0.76369804 0.03422958 0.23210508 0.56258273 0.84834635 0.00657988\n",
      " 0.1357972  0.64390373 0.13874859 0.21216553 0.95756084 0.19833124\n",
      " 0.16781622] \n",
      "Best loss:  0.03876136243343353\n"
     ]
    }
   ],
   "source": [
    "best_hyperparam_index = np.argmin(loss_random_list)\n",
    "best_hyperparam_random = hyperparam_random_list[best_hyperparam_index]\n",
    "best_loss_random = loss_random_list[best_hyperparam_index]\n",
    "print(\"Best hyperparameters: \", best_hyperparam_random, '\\nBest loss: ', best_loss_random)"
   ]
  },
  {
   "cell_type": "markdown",
   "metadata": {
    "colab_type": "text",
    "id": "DG0PBRQ45iT5"
   },
   "source": [
    "### Гауссовский процесс"
   ]
  },
  {
   "cell_type": "code",
   "execution_count": 14,
   "metadata": {
    "colab": {
     "base_uri": "https://localhost:8080/",
     "height": 255
    },
    "colab_type": "code",
    "id": "Zv7PpSx_B449",
    "outputId": "2dedc6e9-c0e5-4acb-c3cc-60cf8355bbe0"
   },
   "outputs": [
    {
     "name": "stdout",
     "output_type": "stream",
     "text": [
      "Requirement already satisfied: pyGPGO in /usr/local/lib/python3.6/dist-packages (0.4.0.dev1)\n",
      "Requirement already satisfied: pyMC3 in /usr/local/lib/python3.6/dist-packages (from pyGPGO) (3.7)\n",
      "Requirement already satisfied: numpy in /usr/local/lib/python3.6/dist-packages (from pyGPGO) (1.17.3)\n",
      "Requirement already satisfied: scipy in /usr/local/lib/python3.6/dist-packages (from pyGPGO) (1.3.1)\n",
      "Requirement already satisfied: theano in /usr/local/lib/python3.6/dist-packages (from pyGPGO) (1.0.4)\n",
      "Requirement already satisfied: scikit-learn in /usr/local/lib/python3.6/dist-packages (from pyGPGO) (0.21.3)\n",
      "Requirement already satisfied: joblib in /usr/local/lib/python3.6/dist-packages (from pyGPGO) (0.14.0)\n",
      "Requirement already satisfied: patsy>=0.4.0 in /usr/local/lib/python3.6/dist-packages (from pyMC3->pyGPGO) (0.5.1)\n",
      "Requirement already satisfied: tqdm>=4.8.4 in /usr/local/lib/python3.6/dist-packages (from pyMC3->pyGPGO) (4.28.1)\n",
      "Requirement already satisfied: pandas>=0.18.0 in /usr/local/lib/python3.6/dist-packages (from pyMC3->pyGPGO) (0.25.2)\n",
      "Requirement already satisfied: h5py>=2.7.0 in /usr/local/lib/python3.6/dist-packages (from pyMC3->pyGPGO) (2.8.0)\n",
      "Requirement already satisfied: six>=1.9.0 in /usr/local/lib/python3.6/dist-packages (from theano->pyGPGO) (1.12.0)\n",
      "Requirement already satisfied: python-dateutil>=2.6.1 in /usr/local/lib/python3.6/dist-packages (from pandas>=0.18.0->pyMC3->pyGPGO) (2.6.1)\n",
      "Requirement already satisfied: pytz>=2017.2 in /usr/local/lib/python3.6/dist-packages (from pandas>=0.18.0->pyMC3->pyGPGO) (2018.9)\n"
     ]
    }
   ],
   "source": [
    "!pip install pyGPGO"
   ]
  },
  {
   "cell_type": "code",
   "execution_count": 0,
   "metadata": {
    "colab": {},
    "colab_type": "code",
    "id": "5XqZ_c0z5rse"
   },
   "outputs": [],
   "source": [
    "from pyGPGO.covfunc import squaredExponential\n",
    "from pyGPGO.acquisition import Acquisition\n",
    "from pyGPGO.surrogates.GaussianProcess import GaussianProcess\n",
    "from pyGPGO.GPGO import GPGO\n",
    "from pyGPGO.covfunc import matern32"
   ]
  },
  {
   "cell_type": "code",
   "execution_count": 17,
   "metadata": {
    "colab": {
     "base_uri": "https://localhost:8080/",
     "height": 34
    },
    "colab_type": "code",
    "id": "WAQPFl7k6EAH",
    "outputId": "d27ed674-9da2-44d9-f460-063d14bd2770"
   },
   "outputs": [
    {
     "name": "stdout",
     "output_type": "stream",
     "text": [
      "97  continuous parameters in range 0..1\n"
     ]
    }
   ],
   "source": [
    "model = MLP1(input_dim=n, output_dim=1, hidden_dim=3, device='cpu')\n",
    "parameters_num = model.parameters_num\n",
    "\n",
    "parameters_dict = {}\n",
    "for i in range(parameters_num):\n",
    "    parameters_dict['h'+str(i)] = ('cont', [0, 1])\n",
    "print(parameters_num, \" continuous parameters in range 0..1\")"
   ]
  },
  {
   "cell_type": "code",
   "execution_count": 0,
   "metadata": {
    "colab": {},
    "colab_type": "code",
    "id": "UjbB7sYj7wbi"
   },
   "outputs": [],
   "source": [
    "def f(**argv):\n",
    "    x = []\n",
    "    for par in argv:\n",
    "        x.append(argv[par])\n",
    "    if not torch.is_tensor(x):\n",
    "        x = torch.tensor(x)\n",
    "    return -get_Q_theta_star_hyp(model, x)[1]  # знак минус, потому что в библиотеке максимизация"
   ]
  },
  {
   "cell_type": "code",
   "execution_count": 19,
   "metadata": {
    "colab": {
     "base_uri": "https://localhost:8080/",
     "height": 1000
    },
    "colab_type": "code",
    "id": "fx70QXk7CIMZ",
    "outputId": "c2675997-4c01-49ae-d1b1-5c43912157c9"
   },
   "outputs": [
    {
     "name": "stdout",
     "output_type": "stream",
     "text": [
      "Evaluation \t Proposed point \t  Current eval. \t Best eval.\n",
      "init   \t [0.37454012 0.95071431 0.73199394 0.59865848 0.15601864 0.15599452\n",
      " 0.05808361 0.86617615 0.60111501 0.70807258 0.02058449 0.96990985\n",
      " 0.83244264 0.21233911 0.18182497 0.18340451 0.30424224 0.52475643\n",
      " 0.43194502 0.29122914 0.61185289 0.13949386 0.29214465 0.36636184\n",
      " 0.45606998 0.78517596 0.19967378 0.51423444 0.59241457 0.04645041\n",
      " 0.60754485 0.17052412 0.06505159 0.94888554 0.96563203 0.80839735\n",
      " 0.30461377 0.09767211 0.68423303 0.44015249 0.12203823 0.49517691\n",
      " 0.03438852 0.9093204  0.25877998 0.66252228 0.31171108 0.52006802\n",
      " 0.54671028 0.18485446 0.96958463 0.77513282 0.93949894 0.89482735\n",
      " 0.59789998 0.92187424 0.0884925  0.19598286 0.04522729 0.32533033\n",
      " 0.38867729 0.27134903 0.82873751 0.35675333 0.28093451 0.54269608\n",
      " 0.14092422 0.80219698 0.07455064 0.98688694 0.77224477 0.19871568\n",
      " 0.00552212 0.81546143 0.70685734 0.72900717 0.77127035 0.07404465\n",
      " 0.35846573 0.11586906 0.86310343 0.62329813 0.33089802 0.06355835\n",
      " 0.31098232 0.32518332 0.72960618 0.63755747 0.88721274 0.47221493\n",
      " 0.11959425 0.71324479 0.76078505 0.5612772  0.77096718 0.4937956\n",
      " 0.52273283]. \t  -1.193924903869629 \t -0.564658522605896\n",
      "init   \t [0.42754102 0.02541913 0.10789143 0.03142919 0.63641041 0.31435598\n",
      " 0.50857069 0.90756647 0.24929223 0.41038292 0.75555114 0.22879817\n",
      " 0.07697991 0.28975145 0.16122129 0.92969765 0.80812038 0.63340376\n",
      " 0.87146059 0.80367208 0.18657006 0.892559   0.53934224 0.80744016\n",
      " 0.8960913  0.31800347 0.11005192 0.22793516 0.42710779 0.81801477\n",
      " 0.86073058 0.00695213 0.5107473  0.417411   0.22210781 0.11986537\n",
      " 0.33761517 0.9429097  0.32320293 0.51879062 0.70301896 0.3636296\n",
      " 0.97178208 0.96244729 0.2517823  0.49724851 0.30087831 0.28484049\n",
      " 0.03688695 0.60956433 0.50267902 0.05147875 0.27864646 0.90826589\n",
      " 0.23956189 0.14489487 0.48945276 0.98565045 0.24205527 0.67213555\n",
      " 0.76161962 0.23763754 0.72821635 0.36778313 0.63230583 0.63352971\n",
      " 0.53577468 0.09028977 0.8353025  0.32078006 0.18651851 0.04077514\n",
      " 0.59089294 0.67756436 0.01658783 0.51209306 0.22649578 0.64517279\n",
      " 0.17436643 0.69093774 0.38673535 0.93672999 0.13752094 0.34106635\n",
      " 0.11347352 0.92469362 0.87733935 0.25794163 0.65998405 0.8172222\n",
      " 0.55520081 0.52965058 0.24185229 0.09310277 0.89721576 0.90041806\n",
      " 0.63310146]. \t  -1.0256704092025757 \t -0.564658522605896\n",
      "init   \t [0.33902979 0.34920957 0.72595568 0.89711026 0.88708642 0.77987555\n",
      " 0.64203165 0.08413996 0.16162871 0.89855419 0.60642906 0.00919705\n",
      " 0.10147154 0.66350177 0.00506158 0.16080805 0.54873379 0.6918952\n",
      " 0.65196126 0.22426931 0.71217922 0.23724909 0.3253997  0.74649141\n",
      " 0.6496329  0.84922341 0.65761289 0.5683086  0.09367477 0.3677158\n",
      " 0.26520237 0.24398964 0.97301055 0.39309772 0.89204656 0.63113863\n",
      " 0.7948113  0.50263709 0.57690388 0.49251769 0.19524299 0.72245212\n",
      " 0.28077236 0.02431597 0.6454723  0.17711068 0.94045858 0.95392858\n",
      " 0.91486439 0.3701587  0.01545662 0.92831856 0.42818415 0.96665482\n",
      " 0.96361998 0.85300946 0.29444889 0.38509773 0.85113667 0.31692201\n",
      " 0.16949275 0.55680126 0.93615477 0.6960298  0.57006117 0.09717649\n",
      " 0.61500723 0.99005385 0.14008402 0.51832965 0.87737307 0.74076862\n",
      " 0.69701574 0.70248408 0.35949115 0.29359184 0.80936116 0.81011339\n",
      " 0.86707232 0.91324055 0.5113424  0.50151629 0.79829518 0.64996393\n",
      " 0.70196688 0.79579267 0.89000534 0.33799516 0.37558295 0.09398194\n",
      " 0.57828014 0.03594227 0.46559802 0.54264463 0.28654125 0.59083326\n",
      " 0.03050025]. \t  -0.564658522605896 \t -0.564658522605896\n",
      "1      \t [0. 1. 1. 0. 1. 1. 1. 0. 1. 1. 1. 1. 0. 1. 1. 0. 0. 0. 1. 0. 1. 1. 1. 0.\n",
      " 1. 0. 1. 1. 1. 1. 0. 1. 0. 1. 0. 0. 1. 1. 0. 0. 1. 0. 1. 0. 1. 1. 0. 0.\n",
      " 0. 1. 1. 1. 0. 0. 0. 0. 1. 1. 1. 0. 1. 1. 1. 1. 0. 0. 1. 0. 0. 0. 0. 1.\n",
      " 0. 0. 1. 1. 1. 1. 1. 1. 0. 0. 1. 1. 1. 0. 0. 1. 0. 1. 0. 0. 0. 1. 0. 0.\n",
      " 1.]. \t  -5.038639545440674 \t -0.564658522605896\n",
      "2      \t [ 1.00000000e+00  1.00000000e+00  0.00000000e+00  0.00000000e+00\n",
      "  0.00000000e+00  1.00000000e+00  0.00000000e+00  0.00000000e+00\n",
      "  0.00000000e+00  0.00000000e+00  0.00000000e+00  0.00000000e+00\n",
      "  1.00000000e+00  1.00000000e+00  1.00000000e+00  1.00000000e+00\n",
      "  1.00000000e+00  0.00000000e+00  1.00000000e+00  1.00000000e+00\n",
      "  0.00000000e+00  0.00000000e+00  0.00000000e+00  1.00000000e+00\n",
      "  0.00000000e+00  1.00000000e+00  1.00000000e+00  0.00000000e+00\n",
      "  1.00000000e+00  1.00000000e+00  0.00000000e+00  1.00000000e+00\n",
      "  1.00000000e+00 -3.46944695e-18  1.00000000e+00  1.00000000e+00\n",
      "  1.00000000e+00  1.00000000e+00  1.00000000e+00  1.00000000e+00\n",
      "  1.00000000e+00  0.00000000e+00  0.00000000e+00  0.00000000e+00\n",
      "  1.00000000e+00  1.00000000e+00  0.00000000e+00  0.00000000e+00\n",
      "  0.00000000e+00  0.00000000e+00  1.00000000e+00  0.00000000e+00\n",
      "  1.00000000e+00  0.00000000e+00  0.00000000e+00  1.00000000e+00\n",
      "  1.00000000e+00  0.00000000e+00  1.00000000e+00  1.00000000e+00\n",
      "  0.00000000e+00  0.00000000e+00  0.00000000e+00  0.00000000e+00\n",
      "  1.00000000e+00  1.00000000e+00  0.00000000e+00  1.00000000e+00\n",
      "  1.00000000e+00  0.00000000e+00  1.00000000e+00  1.00000000e+00\n",
      "  1.00000000e+00  0.00000000e+00  1.00000000e+00  0.00000000e+00\n",
      "  0.00000000e+00  1.00000000e+00  0.00000000e+00  1.00000000e+00\n",
      "  0.00000000e+00  0.00000000e+00  1.00000000e+00  0.00000000e+00\n",
      "  1.00000000e+00  0.00000000e+00  1.00000000e+00  0.00000000e+00\n",
      "  0.00000000e+00  0.00000000e+00  1.00000000e+00  1.00000000e+00\n",
      "  1.00000000e+00  1.00000000e+00  0.00000000e+00  0.00000000e+00\n",
      "  1.00000000e+00]. \t  -0.645918071269989 \t -0.564658522605896\n",
      "3      \t [1. 0. 1. 1. 1. 0. 1. 0. 0. 0. 0. 0. 1. 1. 1. 1. 0. 1. 0. 1. 0. 1. 0. 0.\n",
      " 0. 1. 0. 1. 0. 1. 1. 1. 0. 0. 0. 1. 1. 0. 1. 0. 1. 0. 0. 0. 1. 1. 1. 1.\n",
      " 0. 0. 0. 0. 1. 0. 1. 0. 1. 0. 1. 0. 1. 1. 0. 1. 0. 0. 1. 1. 1. 0. 0. 1.\n",
      " 1. 1. 1. 0. 0. 0. 1. 0. 1. 0. 0. 0. 1. 1. 0. 1. 0. 1. 1. 1. 1. 1. 1. 0.\n",
      " 0.]. \t  -1.2341482639312744 \t -0.564658522605896\n",
      "4      \t [1. 1. 0. 1. 1. 1. 0. 1. 1. 0. 0. 1. 0. 0. 1. 1. 1. 1. 0. 0. 1. 0. 1. 0.\n",
      " 0. 0. 1. 1. 0. 0. 1. 1. 1. 0. 0. 1. 0. 0. 0. 1. 1. 1. 1. 1. 0. 1. 0. 1.\n",
      " 1. 1. 0. 1. 1. 0. 1. 0. 1. 0. 0. 1. 0. 0. 0. 1. 0. 1. 1. 1. 1. 0. 0. 0.\n",
      " 0. 0. 0. 1. 0. 1. 0. 0. 1. 0. 1. 1. 0. 0. 0. 0. 0. 0. 1. 0. 1. 0. 0. 0.\n",
      " 0.]. \t  -1.0302951335906982 \t -0.564658522605896\n",
      "5      \t [1. 0. 1. 1. 1. 1. 0. 1. 1. 0. 1. 0. 1. 1. 1. 0. 1. 0. 1. 1. 1. 1. 1. 1.\n",
      " 0. 0. 0. 1. 1. 1. 1. 1. 1. 0. 0. 0. 0. 0. 1. 0. 0. 1. 0. 1. 1. 1. 1. 1.\n",
      " 0. 1. 0. 0. 0. 0. 1. 1. 0. 0. 1. 1. 0. 0. 0. 0. 1. 1. 0. 0. 1. 0. 0. 1.\n",
      " 1. 0. 1. 1. 0. 0. 1. 0. 0. 1. 1. 1. 1. 1. 1. 1. 1. 1. 1. 1. 0. 1. 0. 1.\n",
      " 0.]. \t  -1.1043601036071777 \t -0.564658522605896\n",
      "6      \t [ 1.0000000e+00  1.0000000e+00  1.0000000e+00  0.0000000e+00\n",
      "  0.0000000e+00  0.0000000e+00  1.0000000e+00  0.0000000e+00\n",
      "  0.0000000e+00  0.0000000e+00  1.0000000e+00  1.0000000e+00\n",
      "  1.0000000e+00  0.0000000e+00  1.0000000e+00  1.0000000e+00\n",
      "  0.0000000e+00  1.0000000e+00  0.0000000e+00  1.0000000e+00\n",
      "  1.0000000e+00  0.0000000e+00  0.0000000e+00  1.0000000e+00\n",
      "  0.0000000e+00  0.0000000e+00  1.0000000e+00  0.0000000e+00\n",
      "  0.0000000e+00  0.0000000e+00  0.0000000e+00  1.0000000e+00\n",
      "  1.0000000e+00  0.0000000e+00  0.0000000e+00  0.0000000e+00\n",
      "  0.0000000e+00  1.0000000e+00  0.0000000e+00  1.0000000e+00\n",
      "  0.0000000e+00  1.0000000e+00  1.0000000e+00  1.0000000e+00\n",
      "  1.0000000e+00  0.0000000e+00  1.0000000e+00  1.0000000e+00\n",
      "  1.0000000e+00  1.0000000e+00  0.0000000e+00  0.0000000e+00\n",
      "  0.0000000e+00  0.0000000e+00  1.0000000e+00  1.0000000e+00\n",
      "  0.0000000e+00  0.0000000e+00  1.0000000e+00  0.0000000e+00\n",
      "  1.0000000e+00  0.0000000e+00  0.0000000e+00  0.0000000e+00\n",
      "  1.0000000e+00  0.0000000e+00  0.0000000e+00  0.0000000e+00\n",
      "  0.0000000e+00  0.0000000e+00  0.0000000e+00  0.0000000e+00\n",
      "  1.0000000e+00  1.0000000e+00  1.0000000e+00  0.0000000e+00\n",
      "  0.0000000e+00  1.0000000e+00  0.0000000e+00  1.0000000e+00\n",
      "  1.0000000e+00 -6.9388939e-18  0.0000000e+00  1.0000000e+00\n",
      "  1.0000000e+00  0.0000000e+00  0.0000000e+00  1.0000000e+00\n",
      "  0.0000000e+00  0.0000000e+00  1.0000000e+00  1.0000000e+00\n",
      "  0.0000000e+00  0.0000000e+00  1.0000000e+00  0.0000000e+00\n",
      "  0.0000000e+00]. \t  -0.7867944240570068 \t -0.564658522605896\n",
      "7      \t [ 0.00000000e+00  0.00000000e+00  0.00000000e+00  1.00000000e+00\n",
      "  0.00000000e+00  0.00000000e+00  0.00000000e+00  0.00000000e+00\n",
      "  1.00000000e+00  0.00000000e+00  1.00000000e+00  1.00000000e+00\n",
      "  0.00000000e+00  1.00000000e+00  1.00000000e+00  1.00000000e+00\n",
      " -8.67361738e-19  1.00000000e+00  0.00000000e+00  1.00000000e+00\n",
      "  1.00000000e+00  1.00000000e+00  0.00000000e+00  1.00000000e+00\n",
      "  1.00000000e+00  1.00000000e+00  0.00000000e+00  0.00000000e+00\n",
      "  1.00000000e+00  1.00000000e+00  0.00000000e+00  1.00000000e+00\n",
      "  0.00000000e+00  0.00000000e+00  0.00000000e+00  0.00000000e+00\n",
      "  1.00000000e+00  0.00000000e+00  1.00000000e+00  1.00000000e+00\n",
      "  0.00000000e+00  1.00000000e+00  1.00000000e+00  0.00000000e+00\n",
      "  1.00000000e+00  0.00000000e+00  1.00000000e+00  1.00000000e+00\n",
      "  1.00000000e+00  0.00000000e+00  0.00000000e+00  0.00000000e+00\n",
      "  0.00000000e+00  1.00000000e+00  1.00000000e+00  0.00000000e+00\n",
      "  1.00000000e+00  0.00000000e+00  1.00000000e+00  1.00000000e+00\n",
      "  0.00000000e+00  1.00000000e+00  0.00000000e+00  1.00000000e+00\n",
      "  1.00000000e+00  1.00000000e+00  0.00000000e+00  1.00000000e+00\n",
      "  1.00000000e+00  1.00000000e+00  1.00000000e+00  1.00000000e+00\n",
      "  0.00000000e+00  0.00000000e+00  1.00000000e+00  0.00000000e+00\n",
      "  1.00000000e+00  0.00000000e+00  0.00000000e+00  1.00000000e+00\n",
      "  0.00000000e+00  0.00000000e+00  0.00000000e+00  1.00000000e+00\n",
      "  0.00000000e+00  0.00000000e+00  1.00000000e+00  0.00000000e+00\n",
      "  1.00000000e+00  0.00000000e+00  0.00000000e+00  1.00000000e+00\n",
      "  0.00000000e+00  0.00000000e+00  1.00000000e+00  0.00000000e+00\n",
      "  1.00000000e+00]. \t  \u001b[92m-0.17877760529518127\u001b[0m \t -0.17877760529518127\n",
      "8      \t [1. 0. 1. 0. 1. 1. 0. 0. 1. 0. 1. 0. 1. 1. 1. 1. 1. 0. 0. 0. 0. 0. 1. 0.\n",
      " 0. 1. 1. 0. 0. 0. 0. 1. 1. 1. 1. 1. 1. 0. 0. 1. 1. 1. 1. 0. 0. 1. 1. 0.\n",
      " 0. 0. 0. 0. 0. 0. 0. 0. 1. 1. 0. 0. 0. 0. 0. 0. 0. 1. 1. 1. 1. 1. 1. 1.\n",
      " 1. 1. 0. 0. 0. 0. 1. 1. 1. 0. 1. 1. 0. 1. 0. 0. 1. 1. 0. 1. 1. 0. 1. 1.\n",
      " 1.]. \t  -1.3094319105148315 \t -0.17877760529518127\n",
      "9      \t [ 0.00000000e+00  0.00000000e+00  0.00000000e+00  1.00000000e+00\n",
      "  0.00000000e+00  0.00000000e+00  1.00000000e+00  1.00000000e+00\n",
      "  1.00000000e+00  0.00000000e+00  1.00000000e+00  0.00000000e+00\n",
      "  0.00000000e+00  0.00000000e+00  1.00000000e+00  1.00000000e+00\n",
      "  0.00000000e+00  1.00000000e+00  0.00000000e+00  0.00000000e+00\n",
      "  0.00000000e+00  1.00000000e+00  1.00000000e+00  0.00000000e+00\n",
      "  0.00000000e+00  0.00000000e+00  1.00000000e+00  1.00000000e+00\n",
      "  0.00000000e+00  0.00000000e+00  0.00000000e+00  1.00000000e+00\n",
      "  0.00000000e+00  1.00000000e+00  0.00000000e+00  1.00000000e+00\n",
      "  0.00000000e+00  1.00000000e+00  1.00000000e+00  0.00000000e+00\n",
      "  0.00000000e+00  0.00000000e+00  1.00000000e+00  0.00000000e+00\n",
      "  0.00000000e+00  1.00000000e+00  1.00000000e+00  1.00000000e+00\n",
      "  1.00000000e+00  0.00000000e+00  1.00000000e+00  1.00000000e+00\n",
      "  1.00000000e+00  0.00000000e+00  1.00000000e+00  1.00000000e+00\n",
      "  0.00000000e+00  0.00000000e+00  1.00000000e+00  0.00000000e+00\n",
      "  0.00000000e+00  1.00000000e+00  0.00000000e+00  1.00000000e+00\n",
      "  1.00000000e+00  1.00000000e+00  0.00000000e+00  0.00000000e+00\n",
      "  1.00000000e+00  1.00000000e+00  0.00000000e+00  0.00000000e+00\n",
      "  1.00000000e+00 -3.46944695e-18  0.00000000e+00  0.00000000e+00\n",
      "  1.00000000e+00  1.00000000e+00  2.77555756e-17  1.00000000e+00\n",
      "  0.00000000e+00  1.00000000e+00  0.00000000e+00  0.00000000e+00\n",
      "  1.00000000e+00  0.00000000e+00  0.00000000e+00  0.00000000e+00\n",
      "  1.00000000e+00  1.00000000e+00  1.00000000e+00  1.00000000e+00\n",
      "  1.00000000e+00  1.00000000e+00  0.00000000e+00  0.00000000e+00\n",
      "  0.00000000e+00]. \t  -2.055760622024536 \t -0.17877760529518127\n",
      "10     \t [ 0.0000000e+00  1.0000000e+00  1.0000000e+00  0.0000000e+00\n",
      "  1.0000000e+00  0.0000000e+00  1.0000000e+00 -6.9388939e-18\n",
      "  1.0000000e+00  0.0000000e+00  0.0000000e+00  0.0000000e+00\n",
      "  1.0000000e+00  0.0000000e+00  0.0000000e+00  1.0000000e+00\n",
      "  1.0000000e+00  0.0000000e+00  1.0000000e+00  1.0000000e+00\n",
      "  0.0000000e+00  0.0000000e+00  1.0000000e+00  1.0000000e+00\n",
      "  0.0000000e+00  0.0000000e+00  1.0000000e+00  0.0000000e+00\n",
      "  1.0000000e+00  0.0000000e+00  1.0000000e+00  1.0000000e+00\n",
      "  1.0000000e+00  0.0000000e+00  1.0000000e+00  0.0000000e+00\n",
      "  0.0000000e+00  0.0000000e+00  1.0000000e+00  1.0000000e+00\n",
      "  0.0000000e+00  1.0000000e+00  0.0000000e+00  1.0000000e+00\n",
      "  1.0000000e+00  0.0000000e+00  0.0000000e+00  0.0000000e+00\n",
      "  1.0000000e+00  1.0000000e+00  0.0000000e+00  1.0000000e+00\n",
      "  0.0000000e+00  0.0000000e+00  1.0000000e+00  0.0000000e+00\n",
      "  1.0000000e+00  1.0000000e+00  0.0000000e+00  1.0000000e+00\n",
      "  0.0000000e+00  1.0000000e+00  0.0000000e+00  0.0000000e+00\n",
      "  1.0000000e+00  1.0000000e+00  1.0000000e+00  0.0000000e+00\n",
      "  1.0000000e+00  0.0000000e+00  1.0000000e+00  1.0000000e+00\n",
      "  0.0000000e+00  1.0000000e+00  0.0000000e+00  1.0000000e+00\n",
      "  0.0000000e+00  0.0000000e+00  1.0000000e+00  1.0000000e+00\n",
      "  0.0000000e+00  0.0000000e+00  0.0000000e+00  1.0000000e+00\n",
      "  1.0000000e+00  0.0000000e+00  0.0000000e+00  1.0000000e+00\n",
      "  1.0000000e+00  0.0000000e+00  0.0000000e+00  0.0000000e+00\n",
      "  0.0000000e+00  1.0000000e+00  0.0000000e+00  0.0000000e+00\n",
      "  0.0000000e+00]. \t  -0.438329815864563 \t -0.17877760529518127\n",
      "CPU times: user 1h 12min 22s, sys: 2.66 s, total: 1h 12min 25s\n",
      "Wall time: 1h 12min 27s\n"
     ]
    }
   ],
   "source": [
    "%%time\n",
    "sexp = matern32()\n",
    "gauss_process = GaussianProcess(sexp, optimize=True, usegrads=True)\n",
    "acquis = Acquisition(mode='ExpectedImprovement')\n",
    "\n",
    "np.random.seed(42)\n",
    "gpgo = GPGO(gauss_process, acquis, f, parameters_dict)\n",
    "gpgo.run(max_iter=10)"
   ]
  },
  {
   "cell_type": "code",
   "execution_count": 0,
   "metadata": {
    "colab": {},
    "colab_type": "code",
    "id": "W0vsp6BL8hkH"
   },
   "outputs": [],
   "source": [
    "loss_gauss_list = -np.array(gpgo.history)"
   ]
  },
  {
   "cell_type": "code",
   "execution_count": 21,
   "metadata": {
    "colab": {
     "base_uri": "https://localhost:8080/",
     "height": 497
    },
    "colab_type": "code",
    "id": "aHBgTmRt8t3w",
    "outputId": "abe9c4e0-e8c5-4514-ab6c-32758f6a763f"
   },
   "outputs": [
    {
     "data": {
      "image/png": "[encoded data removed]",
      "text/plain": [
       "<Figure size 1008x576 with 1 Axes>"
      ]
     },
     "metadata": {
      "tags": []
     },
     "output_type": "display_data"
    }
   ],
   "source": [
    "plot_gauss = plt.plot([np.min(loss_gauss_list[:i]) for i in range(1, len(loss_gauss_list))])"
   ]
  },
  {
   "cell_type": "code",
   "execution_count": 22,
   "metadata": {
    "colab": {
     "base_uri": "https://localhost:8080/",
     "height": 459
    },
    "colab_type": "code",
    "id": "qCOrixt99JmP",
    "outputId": "4a671b96-a843-4a1f-9d21-14a8df53ac24"
   },
   "outputs": [
    {
     "name": "stdout",
     "output_type": "stream",
     "text": [
      "Best hyperparameters:  [ 0.00000000e+00  0.00000000e+00  0.00000000e+00  1.00000000e+00\n",
      "  0.00000000e+00  0.00000000e+00  0.00000000e+00  0.00000000e+00\n",
      "  1.00000000e+00  0.00000000e+00  1.00000000e+00  1.00000000e+00\n",
      "  0.00000000e+00  1.00000000e+00  1.00000000e+00  1.00000000e+00\n",
      " -8.67361738e-19  1.00000000e+00  0.00000000e+00  1.00000000e+00\n",
      "  1.00000000e+00  1.00000000e+00  0.00000000e+00  1.00000000e+00\n",
      "  1.00000000e+00  1.00000000e+00  0.00000000e+00  0.00000000e+00\n",
      "  1.00000000e+00  1.00000000e+00  0.00000000e+00  1.00000000e+00\n",
      "  0.00000000e+00  0.00000000e+00  0.00000000e+00  0.00000000e+00\n",
      "  1.00000000e+00  0.00000000e+00  1.00000000e+00  1.00000000e+00\n",
      "  0.00000000e+00  1.00000000e+00  1.00000000e+00  0.00000000e+00\n",
      "  1.00000000e+00  0.00000000e+00  1.00000000e+00  1.00000000e+00\n",
      "  1.00000000e+00  0.00000000e+00  0.00000000e+00  0.00000000e+00\n",
      "  0.00000000e+00  1.00000000e+00  1.00000000e+00  0.00000000e+00\n",
      "  1.00000000e+00  0.00000000e+00  1.00000000e+00  1.00000000e+00\n",
      "  0.00000000e+00  1.00000000e+00  0.00000000e+00  1.00000000e+00\n",
      "  1.00000000e+00  1.00000000e+00  0.00000000e+00  1.00000000e+00\n",
      "  1.00000000e+00  1.00000000e+00  1.00000000e+00  1.00000000e+00\n",
      "  0.00000000e+00  0.00000000e+00  1.00000000e+00  0.00000000e+00\n",
      "  1.00000000e+00  0.00000000e+00  0.00000000e+00  1.00000000e+00\n",
      "  0.00000000e+00  0.00000000e+00  0.00000000e+00  1.00000000e+00\n",
      "  0.00000000e+00  0.00000000e+00  1.00000000e+00  0.00000000e+00\n",
      "  1.00000000e+00  0.00000000e+00  0.00000000e+00  1.00000000e+00\n",
      "  0.00000000e+00  0.00000000e+00  1.00000000e+00  0.00000000e+00\n",
      "  1.00000000e+00] \n",
      "Best loss:  0.17877760529518127\n"
     ]
    }
   ],
   "source": [
    "best_hyperparam_gauss, best_loss_gauss = gpgo.getResult()[0], -gpgo.getResult()[1]\n",
    "hyperparameters_list = []\n",
    "for key in best_hyperparam_gauss:\n",
    "    hyperparameters_list.append(best_hyperparam_gauss[key])\n",
    "    \n",
    "best_hyperparam_gauss = np.array(hyperparameters_list)\n",
    "print(\"Best hyperparameters: \", best_hyperparam_gauss, '\\nBest loss: ', best_loss_gauss)"
   ]
  },
  {
   "cell_type": "markdown",
   "metadata": {
    "colab_type": "text",
    "id": "cn_edxFjBQny"
   },
   "source": [
    "### Жадная оптимизация"
   ]
  },
  {
   "cell_type": "code",
   "execution_count": 0,
   "metadata": {
    "colab": {},
    "colab_type": "code",
    "id": "4-bcE4zZBWJo"
   },
   "outputs": [],
   "source": [
    "def greedy_optimization(model, epochs=100, progress=list):\n",
    "    hyperparam_list = []\n",
    "    loss_list = []\n",
    "\n",
    "    optimizer = torch.optim.Adam(model.parameters(), lr=0.01)\n",
    "    optimizer_h = torch.optim.Adam(model.hyperparameters, lr=0.01)\n",
    "\n",
    "    for epoch in progress(range(epochs)):\n",
    "        model.zero_grad()\n",
    "        model.h_zero_grad()\n",
    "        loss = -model.margin_log_likelihood(X_tr, Y_tr)\n",
    "        loss.backward()\n",
    "        optimizer.step()\n",
    "\n",
    "        model.zero_grad()\n",
    "        model.h_zero_grad()\n",
    "        loss = model.margin_log_likelihood(X_tr, Y_tr)\n",
    "        loss.backward()\n",
    "        optimizer_h.step()\n",
    "\n",
    "        hyperparam_list.append(get_hyperparameters(model))\n",
    "        loss_list.append(model.batch_loss(X_vl, Y_vl).item())\n",
    "\n",
    "    return np.array(hyperparam_list), np.array(loss_list)"
   ]
  },
  {
   "cell_type": "code",
   "execution_count": 70,
   "metadata": {
    "colab": {
     "base_uri": "https://localhost:8080/",
     "height": 68
    },
    "colab_type": "code",
    "id": "WLyCWR8UhBWz",
    "outputId": "c2cfdee7-756e-42e7-b52d-1201a35d60cb"
   },
   "outputs": [
    {
     "name": "stderr",
     "output_type": "stream",
     "text": [
      "100%|██████████| 100000/100000 [06:04<00:00, 274.49it/s]"
     ]
    },
    {
     "name": "stdout",
     "output_type": "stream",
     "text": [
      "CPU times: user 5min 40s, sys: 9.41 s, total: 5min 49s\n",
      "Wall time: 6min 4s\n"
     ]
    },
    {
     "name": "stderr",
     "output_type": "stream",
     "text": [
      "\n"
     ]
    }
   ],
   "source": [
    "%%time\n",
    "hyperparam_greedy_list, loss_greedy_list = greedy_optimization(model, 100000, progress=tqdm)"
   ]
  },
  {
   "cell_type": "code",
   "execution_count": 71,
   "metadata": {
    "colab": {
     "base_uri": "https://localhost:8080/",
     "height": 497
    },
    "colab_type": "code",
    "id": "eIMbbZ3YjyuC",
    "outputId": "83e65f61-67e8-4257-da71-69051bc4e979"
   },
   "outputs": [
    {
     "data": {
      "image/png": "[encoded data removed]",
      "text/plain": [
       "<Figure size 1008x576 with 1 Axes>"
      ]
     },
     "metadata": {
      "tags": []
     },
     "output_type": "display_data"
    }
   ],
   "source": [
    "plot_greedy = plt.plot([np.min(loss_greedy_list[:i]) for i in range(1000, len(loss_greedy_list))])"
   ]
  },
  {
   "cell_type": "code",
   "execution_count": 72,
   "metadata": {
    "colab": {
     "base_uri": "https://localhost:8080/",
     "height": 323
    },
    "colab_type": "code",
    "id": "4cqLJ70Hi3yZ",
    "outputId": "e2c1bb70-c7c1-4516-cfff-209cda299ce3"
   },
   "outputs": [
    {
     "name": "stdout",
     "output_type": "stream",
     "text": [
      "Best hyperparameters:  [   0.       432.05847  448.40985    0.       464.03735    0.\n",
      "  421.12088 -438.33868  421.9369     0.         0.         0.\n",
      "  443.6036     0.         0.       438.74945  438.05142    0.\n",
      "  442.28348  475.745      0.         0.       429.57706  425.47177\n",
      "    0.         0.       448.1123     0.       436.97122    0.\n",
      "  681.00653  746.4511   686.0788     0.       873.423      0.\n",
      "    0.         0.       788.53217  666.2002     0.       710.2868\n",
      "    0.       758.3721   808.25806    0.         0.         0.\n",
      "  737.27747  933.7243     0.       681.0155     0.         0.\n",
      "  830.96985    0.       678.7943   789.7889     0.       704.5522\n",
      "    0.       732.39276    0.         0.       829.4032   693.5756\n",
      "  727.56104    0.       764.3873     0.       684.5017   703.1458\n",
      "    0.       720.6841     0.       743.489      0.         0.\n",
      "  748.7508   854.7857     0.         0.         0.       789.0863\n",
      "  768.2443     0.         0.       757.3633   697.32654    0.\n",
      "    0.         0.         0.      1526.2445     0.         0.\n",
      "    0.     ] \n",
      "Best loss:  2.8281402587890625\n"
     ]
    }
   ],
   "source": [
    "best_hyperparam_index = np.argmin(loss_greedy_list)\n",
    "best_hyperparam_greedy = hyperparam_greedy_list[best_hyperparam_index]\n",
    "best_loss_greedy = loss_greedy_list[best_hyperparam_index]\n",
    "print(\"Best hyperparameters: \", best_hyperparam_greedy, '\\nBest loss: ', best_loss_greedy)"
   ]
  },
  {
   "cell_type": "markdown",
   "metadata": {
    "colab_type": "text",
    "id": "BzE84xkaqgKr"
   },
   "source": [
    "### Выводы\n",
    "\n",
    "В качестве гиперпараметров использованы коэффициенты $L_2$-регуляризации (свой регуляризатор для каждого параметра модели).\n",
    "\n",
    "Гауссовский процесс работает очень долго и практически сразу начинает перебирать угловые точки заданного гиперкуба ограничений. Хотя, как видно из графиков, после равного количества итераций --- 10 --- его результаты наилучшие. \n",
    "\n",
    "Случайный поиск работает намного быстрее и поэтому обгоняет гауссовский процесс по качеству, выполняя значительно большее число итераций за меньшее время. При этом значения гиперпараметров в наилучшем случае не имеют тенденции к уходу на границы.\n",
    "\n",
    "Жадная оптимизация показывает наихудшие результаты даже при большом количестве итераций и является неустойчивой. Также можно увидеть, что часть гиперпараметров оказалась равной нулю, а часть принимает очень большие значения. Это может свидетельствовать о переобучении.\n",
    "\n",
    "С другой стороны, результаты обучения с помощью гауссовских процессов и путём жадной оптимизации позволяют заметить, что для одних параметров регуляризация <<выключается>>, а для других --- наоборот, максимальна, что должно привести к обнулению соответствующего параметра.\n",
    "\n",
    "Если бы <<выключались>> одни и те же параметры для обоих методов, можно было бы утверждать, что при данной реализации случайных выборок эти параметры незначимы, но выключение больше похоже на случайное: большого количества совпадений не обнаружено.\n",
    "\n",
    "#### Заключение\n",
    "\n",
    "Наилучшие результаты показал случайный поиск, однако результаты работы гауссовского процесса и жадной оптимизации поддаются интерпретации. Проигрыш гауссовского процесса связан с большими затратами времени.\n",
    "\n"
   ]
  }
 ],
 "metadata": {
  "colab": {
   "name": "Hyperparameters.ipynb",
   "provenance": []
  },
  "kernelspec": {
   "display_name": "Python 3",
   "language": "python",
   "name": "python3"
  },
  "language_info": {
   "codemirror_mode": {
    "name": "ipython",
    "version": 3
   },
   "file_extension": ".py",
   "mimetype": "text/x-python",
   "name": "python",
   "nbconvert_exporter": "python",
   "pygments_lexer": "ipython3",
   "version": "3.7.3"
  }
 },
 "nbformat": 4,
 "nbformat_minor": 1
}
