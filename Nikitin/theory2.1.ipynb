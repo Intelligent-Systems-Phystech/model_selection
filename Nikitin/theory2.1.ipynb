{
 "cells": [
  {
   "cell_type": "markdown",
   "metadata": {},
   "source": [
    "#### Утверждение\n",
    "Пусть:\n",
    "$$ \\mathcal{L} \\in \\mathcal{C}_1$$\n",
    "\n",
    "$$ \\nabla \\mathcal{L} = 0 \\; \\to \\; \\mathcal{L} \\to \\min $$\n",
    "\n",
    "$$  \\nabla \\mathcal{L} = 0 \\to \\exists H^{-1} $$\n",
    "Тогда:\n",
    "$$\\nabla_hQ(T(\\theta_0, h),h)=\\nabla_hQ(\\theta^{\\eta}, h) - \\nabla_h\\nabla_\\theta \\mathcal{L}(\\theta^\\eta,h)^\\top H^{-1}\\nabla_\\theta Q(\\theta^\\eta, h)$$"
   ]
  },
  {
   "cell_type": "markdown",
   "metadata": {},
   "source": [
    "### Доказательство\n",
    "\n",
    "Распишем условие стационарности:\n",
    "\n",
    "$$\n",
    "\\nabla_\\theta \\mathcal{L}(T(\\theta_0, h)) = 0\n",
    "$$\n",
    "\n",
    "Продиффиренцируем:\n",
    "\n",
    "$$\n",
    "\\nabla_h\\left(\\nabla_\\theta \\mathcal{L}(T(\\theta_0, h))\\right) = \\nabla_{\\theta,h}L(\\theta^\\eta, h) + \\nabla^2_\\theta \\mathcal{L}(\\theta^\\eta, h)\\theta'_h = 0\n",
    "$$\n",
    "\n",
    "Имеем:\n",
    "$$\\theta'_h = (\\nabla^2_\\theta \\mathcal{L}(\\theta^\\eta, h))^{-1}\\nabla_{\\theta,h}\\mathcal{L}(\\theta^\\eta, h)$$"
   ]
  },
  {
   "cell_type": "markdown",
   "metadata": {},
   "source": [
    "По определению запишем исходную производную:\n",
    "\n",
    "$$\n",
    "\\nabla_hQ(T(\\theta_0, h), h) = \\nabla_hQ(\\theta^{\\eta}, h) + \\nabla_\\theta Q(\\theta^\\eta, h)^\\top\\theta'_h\n",
    "$$\n",
    "\n",
    "Подставим в неё ранее полученный результат:\n",
    "\n",
    "$$\n",
    "\\nabla_hQ(T(\\theta_0, h), h) = \\nabla_hQ(\\theta^{\\eta}, h) + \\nabla_\\theta Q(\\theta^\\eta, h)^\\top(\\nabla^2_\\theta \\mathcal{L}(\\theta^\\eta, h))^{-1}\\nabla^2_{\\theta,h}\\mathcal{L}(\\theta^\\eta, h) \n",
    "$$\n",
    "\n",
    "Очевидным образом данный результат преобразуется к виду ответа."
   ]
  },
  {
   "cell_type": "code",
   "execution_count": null,
   "metadata": {},
   "outputs": [],
   "source": []
  }
 ],
 "metadata": {
  "kernelspec": {
   "display_name": "Chemistry",
   "language": "python",
   "name": "chem"
  },
  "language_info": {
   "codemirror_mode": {
    "name": "ipython",
    "version": 3
   },
   "file_extension": ".py",
   "mimetype": "text/x-python",
   "name": "python",
   "nbconvert_exporter": "python",
   "pygments_lexer": "ipython3",
   "version": "3.6.6"
  }
 },
 "nbformat": 4,
 "nbformat_minor": 2
}
