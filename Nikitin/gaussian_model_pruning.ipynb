{
 "cells": [
  {
   "cell_type": "code",
   "execution_count": 2,
   "metadata": {},
   "outputs": [],
   "source": [
    "import torch\n",
    "import torchvision\n",
    "import torch.nn as nn\n",
    "import torch.nn.functional as F\n",
    "import torch.optim as optim\n",
    "\n",
    "from torch.utils.data import DataLoader, TensorDataset\n",
    "from torch.autograd import Variable\n",
    "from torchvision import datasets, transforms\n",
    "\n",
    "from matplotlib import pyplot as plt\n",
    "from zlib import crc32\n",
    "from copy import deepcopy\n",
    "from tqdm import tqdm\n",
    "\n",
    "from code.baesan_neural_network import BayesanNeuralNetwork\n",
    "\n"
   ]
  },
  {
   "cell_type": "code",
   "execution_count": 4,
   "metadata": {},
   "outputs": [
    {
     "name": "stdout",
     "output_type": "stream",
     "text": [
      "5 2\n"
     ]
    }
   ],
   "source": [
    "theory = crc32('Никитин'.lower().encode('utf-8'))%5+1\n",
    "practice = crc32('Nikitin'.lower().encode('utf-8'))%3+1\n",
    "print(theory, practice)"
   ]
  },
  {
   "cell_type": "markdown",
   "metadata": {},
   "source": [
    "Воспользуемся кодом, реализованным в прошлой домашней работе для баесовского вывода нейросеток. Остаётся реализовать логистическую регрессию. "
   ]
  },
  {
   "cell_type": "code",
   "execution_count": 5,
   "metadata": {},
   "outputs": [],
   "source": [
    "batch_size = 32"
   ]
  },
  {
   "cell_type": "code",
   "execution_count": 6,
   "metadata": {},
   "outputs": [],
   "source": [
    "transform = transforms.Compose([transforms.ToTensor(),\n",
    "                                transforms.Normalize((0.5,), (0.5,)),\n",
    "                              ])\n",
    "trainset = datasets.MNIST('./data/', download=True, train=True, transform=transform)\n",
    "train_loader = torch.utils.data.DataLoader(trainset, batch_size=batch_size, shuffle=True)\n",
    "\n",
    "testset = datasets.MNIST('./data/', download=True, train=False, transform=transform)\n",
    "test_loader = torch.utils.data.DataLoader(testset, batch_size=batch_size, shuffle=True)"
   ]
  },
  {
   "cell_type": "code",
   "execution_count": 7,
   "metadata": {},
   "outputs": [],
   "source": [
    "class LogisticClassifier(nn.Module):\n",
    "    def __init__(self, n_classes=10):\n",
    "        super(LogisticClassifier, self).__init__()\n",
    "        self.linear = nn.Linear(28*28, n_classes)\n",
    "        self.nonlinearity = nn.LogSoftmax(dim=-1)\n",
    "        self.loss = nn.NLLLoss()\n",
    "        \n",
    "    def forward(self, x):\n",
    "        x = x.view(-1, 28*28)\n",
    "        return self.nonlinearity(self.linear(x))"
   ]
  },
  {
   "cell_type": "code",
   "execution_count": 15,
   "metadata": {},
   "outputs": [],
   "source": [
    "def prune_params(params, lam):\n",
    "    var_pruned_params = deepcopy(params)\n",
    "    rand_pruned_params = deepcopy(params)\n",
    "    w_mean = params['linear_weight_mean']\n",
    "    w_std = (1 + params['linear_weight_rho'].exp()).log()\n",
    "    b_mean = params['linear_bias_mean']\n",
    "    b_std = (1 + params['linear_bias_rho'].exp()).log()\n",
    "    w_mask = torch.abs(w_mean/w_std) < lam\n",
    "    b_mask = torch.abs(b_mean/b_std) < lam\n",
    "    var_pruned_params['linear_weight_mean'][w_mask] = 0.\n",
    "    var_pruned_params['linear_bias_mean'][b_mask] = 0.\n",
    "    idx = torch.randperm(w_mask.nelement())\n",
    "    w_mask = w_mask.view(-1)[idx].view(w_mask.size())\n",
    "    idx = torch.randperm(b_mask.nelement())\n",
    "    b_mask = b_mask.view(-1)[idx].view(b_mask.size()) \n",
    "    rand_pruned_params['linear_weight_mean'][w_mask] = 0.\n",
    "    rand_pruned_params['linear_bias_mean'][b_mask] = 0.\n",
    "    deleted = float(b_mask.sum() + w_mask.sum())/(len(b_mask) + w_mask.shape[0]*w_mask.shape[1])\n",
    "    return var_pruned_params, rand_pruned_params, deleted"
   ]
  },
  {
   "cell_type": "code",
   "execution_count": 51,
   "metadata": {},
   "outputs": [],
   "source": [
    "device = 'cuda:0'\n",
    "nlll_loss = nn.NLLLoss()\n",
    "var_logistic = BayesanNeuralNetwork(LogisticClassifier())"
   ]
  },
  {
   "cell_type": "code",
   "execution_count": 52,
   "metadata": {},
   "outputs": [],
   "source": [
    "optimizer = optim.Adam(var_logistic.parameters(), lr=0.001)\n",
    "var_logistic.train()\n",
    "for batch_idx, (data, target) in enumerate(train_loader):\n",
    "    data, target = Variable(data), Variable(target)\n",
    "    optimizer.zero_grad()\n",
    "    loss_error = nlll_loss(var_logistic(data), target)\n",
    "    loss_prior = var_logistic.prior_loss() \n",
    "    loss = loss_error + loss_prior*1e-2\n",
    "    loss.backward()\n",
    "    optimizer.step()"
   ]
  },
  {
   "cell_type": "code",
   "execution_count": 53,
   "metadata": {},
   "outputs": [],
   "source": [
    "source_params = deepcopy(var_logistic.state_dict())"
   ]
  },
  {
   "cell_type": "code",
   "execution_count": 54,
   "metadata": {
    "scrolled": true
   },
   "outputs": [
    {
     "name": "stderr",
     "output_type": "stream",
     "text": [
      "100%|██████████| 31/31 [01:00<00:00,  2.00s/it]\n"
     ]
    }
   ],
   "source": [
    "sparsity = []\n",
    "var_performance = []\n",
    "rand_performance = []\n",
    "for lam in tqdm((np.exp(np.linspace(0, 10, 31)) - 1)/1e4):\n",
    "    pruned_params, rand_parms,  deleted = prune_params(source_params, lam)\n",
    "    sparsity.append(deleted)\n",
    "    \n",
    "    var_logistic.load_state_dict(pruned_params)\n",
    "    var_logistic.eval()\n",
    "    n_correct = 0\n",
    "    n_total = 0\n",
    "    for batch_idx, (data, target) in enumerate(test_loader):\n",
    "        \n",
    "        output = torch.argmax(var_logistic(data), dim=-1)\n",
    "        n_correct += (output == target).float().sum()\n",
    "        n_total += len(output)\n",
    "    var_performance.append(n_correct/n_total)\n",
    "    \n",
    "    var_logistic.load_state_dict(rand_parms)\n",
    "    var_logistic.eval()\n",
    "    n_correct = 0\n",
    "    n_total = 0\n",
    "    for batch_idx, (data, target) in enumerate(test_loader):\n",
    "        if batch_idx > 100: break\n",
    "        output = torch.argmax(var_logistic(data), dim=-1)\n",
    "        n_correct += (output == target).float().sum()\n",
    "        n_total += len(output)\n",
    "    rand_performance.append(n_correct/n_total)"
   ]
  },
  {
   "cell_type": "code",
   "execution_count": 56,
   "metadata": {},
   "outputs": [
    {
     "data": {
      "image/png": "[encoded data removed]",
      "text/plain": [
       "<Figure size 720x504 with 1 Axes>"
      ]
     },
     "metadata": {
      "needs_background": "light"
     },
     "output_type": "display_data"
    }
   ],
   "source": [
    "plt.figure(figsize=(10, 7))\n",
    "plt.title('Variational pruning performance without additional training')\n",
    "plt.grid()\n",
    "plt.plot(sparsity, var_performance, '.-', label='Variational pruning')\n",
    "plt.plot(sparsity, rand_performance, '.-', label='Random pruning')\n",
    "plt.legend()\n",
    "plt.show()"
   ]
  },
  {
   "cell_type": "markdown",
   "metadata": {},
   "source": [
    "### Выводы:\n",
    "\n",
    "Имеется некоторая проблема, свзанная с реализацией алгоритма, которая приводит к падению качества при степени разреживания около $.6$. \n",
    "\n",
    "Однако, даже проведенный эксперимент показывает, что баесовское удаление параметров работает луче, чем случайное и позволят эффктивно решать задачу при разреженности близкой к 1. "
   ]
  }
 ],
 "metadata": {
  "kernelspec": {
   "display_name": "Python 3",
   "language": "python",
   "name": "python3"
  },
  "language_info": {
   "codemirror_mode": {
    "name": "ipython",
    "version": 3
   },
   "file_extension": ".py",
   "mimetype": "text/x-python",
   "name": "python",
   "nbconvert_exporter": "python",
   "pygments_lexer": "ipython3",
   "version": "3.6.6"
  }
 },
 "nbformat": 4,
 "nbformat_minor": 2
}
