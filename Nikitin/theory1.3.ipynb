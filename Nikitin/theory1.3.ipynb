{
 "cells": [
  {
   "cell_type": "markdown",
   "metadata": {},
   "source": [
    "### Утверждение\n",
    "Пусть $L$ - липшицева функция, оператор оптимизации — биекция. Тогда разность энтропии на различных шагах оптимизации вычисляется как:\n",
    "$$S(q'(w')) - S(q(w)) \\simeq \\frac{1}{r}\\sum\\limits_{g=1}^{r}{(-\\beta Tr[H(w'^g)] - \\beta^2Tr[H(w'^g)H(w'^g)])}$$"
   ]
  },
  {
   "cell_type": "markdown",
   "metadata": {},
   "source": [
    "### Доказательство\n",
    "Пусть $w' = T(w)$\n",
    "\n",
    "Оператор оптимизации - биекция, следовательно справедливо:\n",
    "$$S(q'(w')) = S(q(w)) + \\int q(w)\\log{|J(T(w))|}$$\n",
    "Перепишем через матожидание:\n",
    "$$S(q'(w')) - S(q(w)) = \\mathbb{E}_{q(w)}[\\log{|J(T(w))|}] = \\frac{1}{r}\\sum\\limits_{g=1}^{r}{\\log{|J(T(w^g))|}} = \\frac{1}{r}\\sum\\limits_{g=1}^{r}{\\log{|I - \\beta H(w^g)|}} = \\frac{1}{r}\\sum\\limits_{g=1}^{r} \\sum\\limits_{i=1}^{d}{\\log{(1 - \\beta \\lambda_{i}(w^g))}}$$\n",
    "Используем разложение по Тейлору:\n",
    "$$\\sum\\limits_{i=1}^{d}{\\log{(1 - \\beta \\lambda_{i}(w^g))}} \\approx \\sum\\limits_{i = 1}^{d}{(-\\beta\\lambda_{i}(w^g) - (\\beta\\lambda_i(w^g))^2)} = - \\beta Tr[H(w^g)] - \\beta^2 Tr[H(w^g)H(w^g)]$$\n",
    "Тогда для двух различных шагов оптимизации $w'$ и $w$ имеем:\n",
    "$$S(q'(w')) - S(q(w)) \\approx \\frac{1}{r}\\sum\\limits_{g=1}^{r}{(- \\beta Tr[H(w^g)] - \\beta^2Tr[H(w^g)H(w^g)]})$$"
   ]
  },
  {
   "cell_type": "code",
   "execution_count": null,
   "metadata": {},
   "outputs": [],
   "source": []
  }
 ],
 "metadata": {
  "kernelspec": {
   "display_name": "Chemistry",
   "language": "python",
   "name": "chem"
  },
  "language_info": {
   "codemirror_mode": {
    "name": "ipython",
    "version": 3
   },
   "file_extension": ".py",
   "mimetype": "text/x-python",
   "name": "python",
   "nbconvert_exporter": "python",
   "pygments_lexer": "ipython3",
   "version": "3.6.6"
  }
 },
 "nbformat": 4,
 "nbformat_minor": 2
}
