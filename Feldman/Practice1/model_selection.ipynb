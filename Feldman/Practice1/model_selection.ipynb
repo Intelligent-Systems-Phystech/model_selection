{
 "cells": [
  {
   "cell_type": "code",
   "execution_count": 68,
   "metadata": {},
   "outputs": [],
   "source": [
    "import torch\n",
    "import torch.nn as nn\n",
    "import torch.nn.functional as F\n",
    "import torch.optim as optim\n",
    "import torch.distributions as tdist\n",
    "from torch.autograd import Variable\n",
    "from torch.utils.data import DataLoader, TensorDataset\n",
    "from torch.nn.parameter import Parameter\n",
    "\n",
    "from collections import namedtuple, OrderedDict\n",
    "\n",
    "import numpy as np\n",
    "from tqdm import tqdm\n",
    "from matplotlib import pyplot as plt"
   ]
  },
  {
   "cell_type": "code",
   "execution_count": 33,
   "metadata": {},
   "outputs": [
    {
     "data": {
      "text/plain": [
       "(1, 2)"
      ]
     },
     "execution_count": 33,
     "metadata": {},
     "output_type": "execute_result"
    }
   ],
   "source": [
    "from zlib import crc32\n",
    "\n",
    "theory = crc32('Фельдман'.lower().encode('utf-8'))%3+1\n",
    "practice = crc32('Feldman'.lower().encode('utf-8'))%3+1\n",
    "theory, practice"
   ]
  },
  {
   "cell_type": "markdown",
   "metadata": {},
   "source": [
    "## 1. Реализуем выбор модели с вариационным нормальным распределением"
   ]
  },
  {
   "cell_type": "code",
   "execution_count": 151,
   "metadata": {
    "collapsed": true
   },
   "outputs": [],
   "source": [
    "def prior_std(p):\n",
    "    stdv = 1\n",
    "    if p.dim() > 1:\n",
    "        for i in range(p.dim() - 1):\n",
    "            stdv = stdv * p.size()[i + 1]\n",
    "        stdv = 1 / np.sqrt(stdv)\n",
    "    else:\n",
    "        stdv = 1e-2\n",
    "    return stdv"
   ]
  },
  {
   "cell_type": "code",
   "execution_count": 73,
   "metadata": {},
   "outputs": [],
   "source": [
    "VariationalParameter = namedtuple('VariationalParameter', ['mean', 'rho', 'eps'])\n",
    "def evaluate_prior_params(variational_parameter):\n",
    "    return variational_parameter.mean + \\\n",
    "        (1 + variational_parameter.rho.exp()).log() * variational_parameter.eps\n",
    "\n",
    "def KL_div(parametrs_dict):\n",
    "    loss = 0\n",
    "    for p in parametrs_dict.values():\n",
    "        if isinstance(p, VariationalParameter):\n",
    "            mean = p.mean\n",
    "            std = (1 + p.rho.exp()).log()\n",
    "            std_prior = prior_std(mean)\n",
    "            loss += (-(std / std_prior).log() +\n",
    "                     (std.pow(2) + mean.pow(2)) /\n",
    "                     (2 * std_prior ** 2) - 1 / 2).sum()\n",
    "        else:\n",
    "            loss += KL_div(p)\n",
    "    return loss\n",
    "\n",
    "def build_params(parameters_dict, module, epsilon_setting):\n",
    "    for name, p in parameters_dict.items():\n",
    "        if isinstance(p, VariationalParameter):\n",
    "            if p.eps is None:\n",
    "                parameters_dict[name] = p._replace(eps=Variable(p.mean.data.clone()))\n",
    "            epsilon_setting(name, parameters_dict[name])\n",
    "            setattr(module, name, evaluate_prior_params(parameters_dict[name]))\n",
    "        elif p is None:\n",
    "            setattr(module, name, None)\n",
    "        else:\n",
    "            build_params(p, getattr(module, name), epsilon_setting)"
   ]
  },
  {
   "cell_type": "code",
   "execution_count": 74,
   "metadata": {
    "collapsed": true
   },
   "outputs": [],
   "source": [
    "class BayessianNeuralNet(nn.Module):\n",
    "    def __init__(self, model, zero_mean=True, learn_mean=True, learn_rho=True):\n",
    "        super(BayesanNeuralNetwork, self).__init__()\n",
    "\n",
    "        self.model = model\n",
    "        self.diction = OrderedDict()\n",
    "        self.variationalize(self.diction, self.model, '', zero_mean,\n",
    "                            learn_mean, learn_rho)\n",
    "        self.prior_loss = lambda: KL_div(self.diction)\n",
    "\n",
    "    def variationalize(self, diction, module, prefix, zero_mean,\n",
    "                       learn_mean, learn_rho):\n",
    "        to_erase = []\n",
    "        paras = module._parameters.items()\n",
    "        for name, p in paras:\n",
    "\n",
    "            if p is None:\n",
    "                diction[name] = None\n",
    "            else:\n",
    "                stdv = prior_std(p)\n",
    "                init_rho = np.log(np.exp(stdv) - 1)\n",
    "\n",
    "                init_mean = p.data.clone()\n",
    "                if zero_mean:\n",
    "                    init_mean.fill_(0)\n",
    "\n",
    "                diction[name] = VariationalParameter(\n",
    "                    Parameter(init_mean),\n",
    "                    Parameter(p.data.clone().fill_(init_rho)),\n",
    "                    None)\n",
    "                if learn_mean:\n",
    "                    self.register_parameter(prefix + '_' + name + '_mean', diction[name].mean)\n",
    "                if learn_rho:\n",
    "                    self.register_parameter(prefix + '_' + name + '_rho', diction[name].rho)\n",
    "            to_erase.append(name)\n",
    "\n",
    "        for name in to_erase:\n",
    "            delattr(module, name)\n",
    "\n",
    "        for mname, sub_module in module.named_children():\n",
    "            sub_diction = OrderedDict()\n",
    "            self.variationalize(sub_diction, sub_module,\n",
    "                                prefix + ('_' if prefix else '') +\n",
    "                                mname, zero_mean,\n",
    "                                learn_mean, learn_rho)\n",
    "            diction[mname] = sub_diction\n",
    "\n",
    "    def forward(self, inputs):\n",
    "        def get_epsilon_setting(name, p):\n",
    "            if self.training:\n",
    "                return p.eps.data.normal_()\n",
    "            return p.eps.data.zero_()\n",
    "\n",
    "        build_params(self.diction, self.model, get_epsilon_setting)\n",
    "        return self.model(inputs)"
   ]
  },
  {
   "cell_type": "markdown",
   "metadata": {},
   "source": [
    "## 2. Реализуем стандартную сеть"
   ]
  },
  {
   "cell_type": "code",
   "execution_count": 170,
   "metadata": {
    "collapsed": true
   },
   "outputs": [],
   "source": [
    "class NeuralNet(nn.Module):\n",
    "        \n",
    "    def __init__(self, in_feat=10):\n",
    "        super(NeuralNet, self).__init__()\n",
    "        \n",
    "        layers = []\n",
    "        layers.append(nn.Linear(in_feat, 25))\n",
    "        layers.append(nn.ReLU())\n",
    "        layers.append(nn.Linear(25, 25))\n",
    "        layers.append(nn.ReLU())\n",
    "        layers.append(nn.Linear(25, 25))\n",
    "        layers.append(nn.ReLU())\n",
    "        layers.append(nn.Linear(25, 1))\n",
    "        layers.append(nn.LogSigmoid())\n",
    "        \n",
    "        self.model  = nn.Sequential(*layers)\n",
    "        \n",
    "    def forward(self, x):\n",
    "        return self.model(x)"
   ]
  },
  {
   "cell_type": "markdown",
   "metadata": {},
   "source": [
    "## 3. Сгенерируем данные\n",
    "\n",
    "Будем рассматривать два класса, в которых данные получены из разных нормальных распределений. Пусть дисперсии в обоих распределениях 1, а матожидания разные: -1 и 1"
   ]
  },
  {
   "cell_type": "code",
   "execution_count": 171,
   "metadata": {
    "collapsed": true
   },
   "outputs": [],
   "source": [
    "means = [-2., 2.]\n",
    "vars = [1., 1.]"
   ]
  },
  {
   "cell_type": "code",
   "execution_count": 172,
   "metadata": {},
   "outputs": [],
   "source": [
    "class1_train = np.random.normal(means[0], vars[0], 2000)\n",
    "class2_train = np.random.normal(means[1], vars[1], 2000)\n",
    "data = (np.r_[class1_train, class2_train]).reshape(2*200, 10)\n",
    "target = [0]*200 + [1]*200\n",
    "train_dataset = TensorDataset(torch.Tensor(data), torch.Tensor(target))\n",
    "train_loader = DataLoader(train_dataset, batch_size=10, shuffle=True)\n",
    "\n",
    "class1_test = np.random.normal(means[0], vars[0], 1000)\n",
    "class2_test = np.random.normal(means[1], vars[1], 1000)\n",
    "data = (np.r_[class1_test, class2_test]).reshape(2*100, 10)\n",
    "target = [0]*100 + [1]*100\n",
    "test_dataset = TensorDataset(torch.Tensor(data), torch.Tensor(target))\n",
    "test_loader = DataLoader(test_dataset, batch_size=10, shuffle=True)"
   ]
  },
  {
   "cell_type": "markdown",
   "metadata": {},
   "source": [
    "## 4. Инициализируем две модели и проведем эксперименты"
   ]
  },
  {
   "cell_type": "code",
   "execution_count": 193,
   "metadata": {},
   "outputs": [],
   "source": [
    "reg_model = NeuralNet()\n",
    "var_model = BayessianNeuralNet(NeuralNet())"
   ]
  },
  {
   "cell_type": "code",
   "execution_count": 194,
   "metadata": {},
   "outputs": [],
   "source": [
    "def get_acc(test_loader):\n",
    "    correct = 0\n",
    "    total = 0\n",
    "    \n",
    "    for batch, (data, target) in enumerate(test_loader):\n",
    "        target = target.float()\n",
    "        output = (torch.exp(reg_model(data))[:, 0] > .5).float()\n",
    "        optimizer.zero_grad()\n",
    "\n",
    "        correct += (output == target).float().sum()\n",
    "        total += len(output)\n",
    "\n",
    "    return correct/total"
   ]
  },
  {
   "cell_type": "code",
   "execution_count": 195,
   "metadata": {},
   "outputs": [
    {
     "name": "stderr",
     "output_type": "stream",
     "text": [
      "40it [00:00, 129.47it/s]\n"
     ]
    }
   ],
   "source": [
    "optimizer = optim.Adam(reg_model.parameters(), lr=0.01)\n",
    "\n",
    "reg_losses = []\n",
    "reg_acc = []\n",
    "\n",
    "reg_model.train()\n",
    "\n",
    "for batch, (data, target) in tqdm(enumerate(train_loader)):\n",
    "    \n",
    "    target = target.float()\n",
    "    output = reg_model(data)\n",
    "    optimizer.zero_grad()\n",
    "    \n",
    "    loss = F.binary_cross_entropy_with_logits(output[:, 0], target)\n",
    "    loss.backward()\n",
    "    \n",
    "    optimizer.step()\n",
    "    reg_losses.append(float(loss))\n",
    "    \n",
    "    with torch.no_grad():\n",
    "        reg_acc.append(get_acc(test_loader))"
   ]
  },
  {
   "cell_type": "code",
   "execution_count": 196,
   "metadata": {},
   "outputs": [
    {
     "name": "stderr",
     "output_type": "stream",
     "text": [
      "40it [00:00, 100.27it/s]\n"
     ]
    }
   ],
   "source": [
    "optimizer = optim.Adam(var_model.parameters(), lr=0.01)\n",
    "\n",
    "var_losses = []\n",
    "var_acc = []\n",
    "\n",
    "var_model.train()\n",
    "\n",
    "for batch, (data, target) in tqdm(enumerate(train_loader)):\n",
    "    data, target = Variable(data), Variable(target).float()\n",
    "    output = var_model(data)\n",
    "    \n",
    "    optimizer.zero_grad()\n",
    "    \n",
    "    loss = F.binary_cross_entropy_with_logits(output[:, 0], target) + var_model.prior_loss()\n",
    "    loss.backward()\n",
    "    \n",
    "    optimizer.step()\n",
    "    var_losses.append(float(loss))\n",
    "    \n",
    "    with torch.no_grad():\n",
    "        var_acc.append(get_acc(test_loader))"
   ]
  },
  {
   "cell_type": "markdown",
   "metadata": {},
   "source": [
    "## 5. Построим графики loss и accuracy"
   ]
  },
  {
   "cell_type": "code",
   "execution_count": 197,
   "metadata": {},
   "outputs": [
    {
     "data": {
      "image/png": "[encoded data removed]",
      "text/plain": [
       "<Figure size 936x432 with 1 Axes>"
      ]
     },
     "metadata": {},
     "output_type": "display_data"
    }
   ],
   "source": [
    "plt.figure(figsize=(13, 6))\n",
    "plt.plot(reg_losses, label='Regular')\n",
    "plt.plot(var_losses, label='Variational')\n",
    "plt.legend()\n",
    "plt.show()"
   ]
  },
  {
   "cell_type": "code",
   "execution_count": 198,
   "metadata": {},
   "outputs": [
    {
     "data": {
      "image/png": "[encoded data removed]",
      "text/plain": [
       "<Figure size 936x432 with 1 Axes>"
      ]
     },
     "metadata": {},
     "output_type": "display_data"
    }
   ],
   "source": [
    "plt.figure(figsize=(13, 6))\n",
    "plt.plot(reg_acc, label='Regular')\n",
    "plt.plot(var_acc, label='Variational')\n",
    "plt.legend(loc='best')\n",
    "plt.show()"
   ]
  },
  {
   "cell_type": "markdown",
   "metadata": {},
   "source": [
    "Сразу видно, что при выборе модели с вариационным нормальным расрпдеелением высокая точность достигается буквально за несколько итераций, существенно быстрее, чем для обычной модели"
   ]
  },
  {
   "cell_type": "code",
   "execution_count": null,
   "metadata": {
    "collapsed": true
   },
   "outputs": [],
   "source": []
  },
  {
   "cell_type": "code",
   "execution_count": null,
   "metadata": {
    "collapsed": true
   },
   "outputs": [],
   "source": []
  }
 ],
 "metadata": {
  "kernelspec": {
   "display_name": "Python 3",
   "language": "python",
   "name": "python3"
  },
  "language_info": {
   "codemirror_mode": {
    "name": "ipython",
    "version": 3
   },
   "file_extension": ".py",
   "mimetype": "text/x-python",
   "name": "python",
   "nbconvert_exporter": "python",
   "pygments_lexer": "ipython3",
   "version": "3.6.2"
  }
 },
 "nbformat": 4,
 "nbformat_minor": 2
}
