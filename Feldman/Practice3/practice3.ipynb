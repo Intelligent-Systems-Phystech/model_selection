{
 "cells": [
  {
   "cell_type": "code",
   "execution_count": 7,
   "metadata": {
    "collapsed": true
   },
   "outputs": [],
   "source": [
    "import torch\n",
    "import torchvision\n",
    "import torch.nn as nn\n",
    "import torch.nn.functional as F\n",
    "import torch.optim as optim\n",
    "\n",
    "from torch.utils.data import DataLoader, TensorDataset\n",
    "from torch.autograd import Variable\n",
    "from torchvision import datasets, transforms\n",
    "\n",
    "from matplotlib import pyplot as plt\n",
    "from zlib import crc32\n",
    "from copy import deepcopy\n",
    "\n",
    "from tqdm import tqdm"
   ]
  },
  {
   "cell_type": "code",
   "execution_count": 2,
   "metadata": {},
   "outputs": [
    {
     "data": {
      "text/plain": [
       "(1, 2)"
      ]
     },
     "execution_count": 2,
     "metadata": {},
     "output_type": "execute_result"
    }
   ],
   "source": [
    "from zlib import crc32\n",
    "\n",
    "theory = crc32('Фельдман'.lower().encode('utf-8'))%5+1\n",
    "practice = crc32('Feldman'.lower().encode('utf-8'))%3+1\n",
    "theory, practice"
   ]
  },
  {
   "cell_type": "code",
   "execution_count": 3,
   "metadata": {
    "collapsed": true
   },
   "outputs": [],
   "source": [
    "batch_size = 32\n",
    "\n",
    "transform = transforms.Compose([transforms.ToTensor(), transforms.Normalize((0.5,), (0.5,)),])\n",
    "trainset = datasets.MNIST('./data/', download=True, train=True, transform=transform)\n",
    "train_loader = torch.utils.data.DataLoader(trainset, batch_size=batch_size, shuffle=True)\n",
    "\n",
    "testset = datasets.MNIST('./data/', download=True, train=False, transform=transform)\n",
    "test_loader = torch.utils.data.DataLoader(testset, batch_size=batch_size, shuffle=True)"
   ]
  },
  {
   "cell_type": "code",
   "execution_count": 24,
   "metadata": {
    "collapsed": true
   },
   "outputs": [],
   "source": [
    "class LogReg(nn.Module):\n",
    "    \n",
    "    def __init__(self, features = 784, classes=10):\n",
    "        super(LogReg, self).__init__()\n",
    "        \n",
    "        self.features = features\n",
    "        self.classes = classes\n",
    "        \n",
    "        self.loc = nn.Parameter(torch.randn(features * classes))\n",
    "        self.disp = nn.Parameter(torch.abs(torch.randn(features * classes)))\n",
    "        self.dist = torch.distributions.MultivariateNormal(torch.zeros(self.features*self.classes), precision_matrix=torch.eye(self.features*self.classes))\n",
    "        \n",
    "    def forward(self, x):\n",
    "        x = x.view(-1, self.features)       \n",
    "        z = self.dist.sample().to(device)\n",
    "        w = self.loc + self.disp * z\n",
    "        res = torch.mm(x, w.view(self.features, self.classes))\n",
    "        return res\n",
    "    \n",
    "    def loc_value(self, x):\n",
    "        x = x.view(-1, self.features)\n",
    "        res = torch.mm(x, self.loc.view(self.features, self.classes))\n",
    "        return res"
   ]
  },
  {
   "cell_type": "code",
   "execution_count": 11,
   "metadata": {},
   "outputs": [],
   "source": [
    "device = 'cpu'\n",
    "model = LogReg().to(device)"
   ]
  },
  {
   "cell_type": "code",
   "execution_count": 46,
   "metadata": {
    "collapsed": true
   },
   "outputs": [],
   "source": [
    "crossentropy = nn.CrossEntropyLoss(reduction='sum')"
   ]
  },
  {
   "cell_type": "code",
   "execution_count": 12,
   "metadata": {
    "scrolled": true
   },
   "outputs": [
    {
     "name": "stderr",
     "output_type": "stream",
     "text": [
      "100%|██████████| 1875/1875 [01:00<00:00, 31.00it/s]\n"
     ]
    }
   ],
   "source": [
    "optimizer = optim.Adam(model.parameters(), lr=0.001)\n",
    "model.train()\n",
    "\n",
    "for data, target in tqdm(train_loader):\n",
    "    data, target = data.to(device), target.to(device)\n",
    "    \n",
    "    optimizer.zero_grad()\n",
    "    cross = crossentropy(model(data), target)\n",
    "    kl_div = 0.5 * (torch.sum(model.disp) + torch.sum(model.loc * model.loc) - torch.sum(torch.log(model.disp)))\n",
    "    loss = cross + kl_div\n",
    "    \n",
    "    loss.backward()\n",
    "    optimizer.step()"
   ]
  },
  {
   "cell_type": "code",
   "execution_count": 20,
   "metadata": {},
   "outputs": [
    {
     "name": "stdout",
     "output_type": "stream",
     "text": [
      "tensor(6333.6719, grad_fn=<AddBackward0>)\n"
     ]
    }
   ],
   "source": [
    "print(loss)"
   ]
  },
  {
   "cell_type": "code",
   "execution_count": 14,
   "metadata": {
    "collapsed": true
   },
   "outputs": [],
   "source": [
    "def prune_params(params, lam):\n",
    "    var_params = deepcopy(params)\n",
    "    rand_params = deepcopy(params)\n",
    "    \n",
    "    lambdas = torch.abs(params['loc']/params['disp'])\n",
    "    mask = (lambdas < lam)\n",
    "    var_params['loc'][mask] = 0\n",
    "    \n",
    "    pruned = mask.sum().float()/mask.shape[0]\n",
    "    \n",
    "    mask = mask.view(-1)[torch.randperm(mask.nelement())].view(mask.size())\n",
    "    rand_params['loc'][mask] = 0\n",
    "    \n",
    "    return var_params, rand_params, pruned"
   ]
  },
  {
   "cell_type": "code",
   "execution_count": 15,
   "metadata": {
    "collapsed": true
   },
   "outputs": [],
   "source": [
    "source_params = deepcopy(model.state_dict())"
   ]
  },
  {
   "cell_type": "code",
   "execution_count": 16,
   "metadata": {
    "collapsed": true
   },
   "outputs": [],
   "source": [
    "import numpy as np"
   ]
  },
  {
   "cell_type": "code",
   "execution_count": 26,
   "metadata": {
    "collapsed": true
   },
   "outputs": [],
   "source": [
    "def accuracy(loader, model):\n",
    "    correct = 0\n",
    "    total = 0\n",
    "    \n",
    "    for data, target in test_loader:\n",
    "        data, target = data.to(device), target.to(device)\n",
    "        output = torch.argmax(model.loc_value(data), dim=-1)\n",
    "        correct += (output == target).float().sum()\n",
    "        total += len(output)\n",
    "        \n",
    "    return correct/total"
   ]
  },
  {
   "cell_type": "code",
   "execution_count": 44,
   "metadata": {
    "scrolled": true
   },
   "outputs": [
    {
     "name": "stderr",
     "output_type": "stream",
     "text": [
      "100%|██████████| 14/14 [00:39<00:00,  2.80s/it]\n"
     ]
    }
   ],
   "source": [
    "x = (np.exp(np.linspace(0, 15, 14)) - 1)/1e4\n",
    "var_accs = []\n",
    "rand_accs = []\n",
    "pruned = []\n",
    "for lam in tqdm(x):\n",
    "    pruned_params, rand_parms,  deleted = prune_params(source_params, lam)\n",
    "    pruned.append(deleted)\n",
    "    \n",
    "    model.load_state_dict(pruned_params)\n",
    "    model.eval()\n",
    "    var_accs.append(accuracy(test_loader, model))\n",
    "    \n",
    "    model.load_state_dict(rand_parms)\n",
    "    model.eval()\n",
    "    rand_accs.append(accuracy(test_loader, model))"
   ]
  },
  {
   "cell_type": "code",
   "execution_count": 45,
   "metadata": {},
   "outputs": [
    {
     "data": {
      "image/png": "[encoded data removed]",
      "text/plain": [
       "<Figure size 864x432 with 1 Axes>"
      ]
     },
     "metadata": {},
     "output_type": "display_data"
    }
   ],
   "source": [
    "plt.figure(figsize = (12,6))\n",
    "plt.plot(pruned, var_accs, label='Variational')\n",
    "plt.plot(pruned, rand_accs, label='Random')\n",
    "plt.legend()\n",
    "plt.show()"
   ]
  },
  {
   "cell_type": "markdown",
   "metadata": {},
   "source": [
    "### Выводы:\n",
    "\n",
    "В результате эксперимента мы убедились, что баессовский подход при удалении неинформативных параметров работает лучше, чем случайное. При разреженности около 0.7 баессовский подход дает почти такую же точность, что и неразреженная модель, чего нельзя сказать о модели со случайным удалением параметров, точность которой падает практически линейно."
   ]
  },
  {
   "cell_type": "code",
   "execution_count": null,
   "metadata": {
    "collapsed": true
   },
   "outputs": [],
   "source": []
  }
 ],
 "metadata": {
  "kernelspec": {
   "display_name": "Python 3",
   "language": "python",
   "name": "python3"
  },
  "language_info": {
   "codemirror_mode": {
    "name": "ipython",
    "version": 3
   },
   "file_extension": ".py",
   "mimetype": "text/x-python",
   "name": "python",
   "nbconvert_exporter": "python",
   "pygments_lexer": "ipython3",
   "version": "3.6.2"
  }
 },
 "nbformat": 4,
 "nbformat_minor": 2
}
