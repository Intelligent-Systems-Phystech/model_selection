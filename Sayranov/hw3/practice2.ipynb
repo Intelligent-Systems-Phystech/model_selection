{
 "cells": [
  {
   "cell_type": "code",
   "execution_count": 2,
   "metadata": {},
   "outputs": [
    {
     "name": "stdout",
     "output_type": "stream",
     "text": [
      "2 2\n"
     ]
    }
   ],
   "source": [
    "from zlib import crc32\n",
    "theory = crc32('Сайранов'.lower().encode('utf-8'))%5+1\n",
    "practice = crc32('Sayranov'.lower().encode('utf-8'))%3+1\n",
    "print(theory, practice)"
   ]
  },
  {
   "cell_type": "markdown",
   "metadata": {},
   "source": [
    "<hr>"
   ]
  },
  {
   "cell_type": "code",
   "execution_count": 10,
   "metadata": {},
   "outputs": [],
   "source": [
    "import torch\n",
    "import torchvision\n",
    "import torch.nn as nn\n",
    "import torch.nn.functional as F\n",
    "import torch.optim as optim\n",
    "\n",
    "from torch.utils.data import DataLoader, TensorDataset\n",
    "from torch.autograd import Variable\n",
    "from torchvision import datasets, transforms\n",
    "\n",
    "import matplotlib.pyplot as plt\n",
    "import numpy as np\n",
    "\n",
    "from copy import deepcopy\n",
    "\n",
    "from tqdm import tqdm\n",
    "\n",
    "#only cpu available\n",
    "device = 'cpu'"
   ]
  },
  {
   "cell_type": "markdown",
   "metadata": {},
   "source": [
    "Создадим модель логистической регрессии:"
   ]
  },
  {
   "cell_type": "code",
   "execution_count": 9,
   "metadata": {},
   "outputs": [],
   "source": [
    "class LogisticRegression(nn.Module):\n",
    "    \n",
    "    def __init__(self, features, classes, samples):\n",
    "        super(LogisticRegression, self).__init__()\n",
    "        \n",
    "        self.features = features\n",
    "        self.classes = classes\n",
    "        self.samples = samples\n",
    "        \n",
    "        self.mean = nn.Parameter(torch.randn(features * classes))\n",
    "        self.sigma = nn.Parameter(torch.abs(torch.randn(features * classes)))\n",
    "        \n",
    "        self.distribution = torch.distributions.MultivariateNormal(torch.zeros(features*classes),\n",
    "                                                                   precision_matrix=torch.eye(features*classes))\n",
    "        \n",
    "    def forward(self, x):\n",
    "        x = x.view(-1, self.features)\n",
    "        w = torch.zeros(self.features, self.classes)\n",
    "        for sample in range(self.samples):\n",
    "            dist_sample = self.distribution.sample().to(device)\n",
    "            w += (self.mean + torch.mv(torch.diag(self.sigma), dist_sample)).view(self.features, self.classes)\n",
    "        output = torch.mm(x, w)\n",
    "        return output\n",
    "    \n",
    "    def m_value(self, x):\n",
    "        return torch.mm(x.view(-1, self.features), self.mean.view(self.features, self.classes))\n",
    "    \n",
    "\n",
    "def accuracy(loader, model):\n",
    "    correct = 0\n",
    "    total = 0\n",
    "    \n",
    "    for x, y in loader:\n",
    "        x = x.to(device)\n",
    "        y = y.to(device)\n",
    "        pred = torch.argmax(model.m_value(x), dim=-1)\n",
    "        correct += (pred == y).float().sum()\n",
    "        total += len(pred)\n",
    "        \n",
    "    return correct/total"
   ]
  },
  {
   "cell_type": "code",
   "execution_count": 5,
   "metadata": {},
   "outputs": [],
   "source": [
    "model = LogisticRegression(784, 10, 1).to(device)"
   ]
  },
  {
   "cell_type": "markdown",
   "metadata": {},
   "source": [
    "Подготовим данные:"
   ]
  },
  {
   "cell_type": "code",
   "execution_count": 6,
   "metadata": {},
   "outputs": [],
   "source": [
    "batch_size = 16\n",
    "\n",
    "transform = transforms.Compose([transforms.ToTensor(),\n",
    "                                transforms.Normalize((0.5,), (0.5,)),\n",
    "                              ])\n",
    "trainset = datasets.MNIST('./data/', download=True, train=True, transform=transform)\n",
    "train_loader = torch.utils.data.DataLoader(trainset, batch_size=batch_size, shuffle=True)\n",
    "\n",
    "testset = datasets.MNIST('./data/', download=True, train=False, transform=transform)\n",
    "test_loader = torch.utils.data.DataLoader(testset, batch_size=batch_size, shuffle=True)"
   ]
  },
  {
   "cell_type": "code",
   "execution_count": 8,
   "metadata": {},
   "outputs": [
    {
     "name": "stderr",
     "output_type": "stream",
     "text": [
      "100%|██████████| 3750/3750 [12:46<00:00,  4.67it/s]\n"
     ]
    },
    {
     "data": {
      "text/plain": [
       "tensor(4898.8970, grad_fn=<AddBackward0>)"
      ]
     },
     "execution_count": 8,
     "metadata": {},
     "output_type": "execute_result"
    }
   ],
   "source": [
    "optimizer = optim.Adam(model.parameters(), lr=0.001)\n",
    "model.train()\n",
    "\n",
    "CE = nn.CrossEntropyLoss(reduction='sum')\n",
    "\n",
    "for x, y in tqdm(train_loader):\n",
    "    x = x.to(device)\n",
    "    y = y.to(device)\n",
    "    optimizer.zero_grad()\n",
    "    cross_entropy = CE(model(x), y)\n",
    "    KL = (torch.sum(model.sigma) + \\\n",
    "          torch.sum(model.mean * model.mean) - \\\n",
    "          torch.sum(torch.log(model.sigma)))/2\n",
    "    loss = cross_entropy + KL\n",
    "    loss.backward()\n",
    "    optimizer.step()\n",
    "\n",
    "loss"
   ]
  },
  {
   "cell_type": "markdown",
   "metadata": {},
   "source": [
    "Прунинг:"
   ]
  },
  {
   "cell_type": "code",
   "execution_count": 11,
   "metadata": {},
   "outputs": [],
   "source": [
    "def prune(params, lam):\n",
    "    v_params = deepcopy(params)\n",
    "    r_params = deepcopy(params)\n",
    "    \n",
    "    l = torch.abs(params['mean']/params['sigma'])\n",
    "    \n",
    "    mask = (l < lam)\n",
    "    v_params['mean'][mask] = 0\n",
    "    \n",
    "    mask = mask.view(-1)[torch.randperm(mask.nelement())].view(mask.size())\n",
    "    r_params['mean'][mask] = 0\n",
    "    \n",
    "    pruned = mask.sum().float()/mask.shape[0]\n",
    "    \n",
    "    return v_params, r_params, pruned"
   ]
  },
  {
   "cell_type": "markdown",
   "metadata": {},
   "source": [
    "<hr>"
   ]
  },
  {
   "cell_type": "code",
   "execution_count": 12,
   "metadata": {},
   "outputs": [],
   "source": [
    "init_params = deepcopy(model.state_dict())"
   ]
  },
  {
   "cell_type": "code",
   "execution_count": 14,
   "metadata": {},
   "outputs": [
    {
     "name": "stderr",
     "output_type": "stream",
     "text": [
      "100%|██████████| 14/14 [00:43<00:00,  3.15s/it]\n"
     ]
    }
   ],
   "source": [
    "x = (np.exp(np.linspace(0, 15, 14)) - 1)/1e4\n",
    "v_accs = []\n",
    "r_accs = []\n",
    "\n",
    "pruned_list = []\n",
    "\n",
    "for lam in tqdm(x):\n",
    "    v_params, r_params, pruned = prune(init_params, lam)\n",
    "    pruned_list.append(pruned)\n",
    "    \n",
    "    model.load_state_dict(v_params)\n",
    "    v_accs.append(accuracy(test_loader, model))\n",
    "    \n",
    "    model.load_state_dict(r_params)\n",
    "    r_accs.append(accuracy(test_loader, model))"
   ]
  },
  {
   "cell_type": "code",
   "execution_count": 15,
   "metadata": {},
   "outputs": [
    {
     "data": {
      "image/png": "[encoded data removed]",
      "text/plain": [
       "<Figure size 864x432 with 1 Axes>"
      ]
     },
     "metadata": {
      "needs_background": "light"
     },
     "output_type": "display_data"
    }
   ],
   "source": [
    "plt.figure(figsize = (12,6))\n",
    "plt.plot(pruned_list, v_accs, label='Variational pruning')\n",
    "plt.plot(pruned_list, r_accs, label='Random pruning')\n",
    "plt.legend()\n",
    "plt.show()"
   ]
  },
  {
   "cell_type": "markdown",
   "metadata": {},
   "source": [
    "Как можно заметить, байесовское удаление параметров работает лучше, чем случайное."
   ]
  }
 ],
 "metadata": {
  "kernelspec": {
   "display_name": "Python 3",
   "language": "python",
   "name": "python3"
  },
  "language_info": {
   "codemirror_mode": {
    "name": "ipython",
    "version": 3
   },
   "file_extension": ".py",
   "mimetype": "text/x-python",
   "name": "python",
   "nbconvert_exporter": "python",
   "pygments_lexer": "ipython3",
   "version": "3.7.3"
  }
 },
 "nbformat": 4,
 "nbformat_minor": 4
}
