{
 "cells": [
  {
   "cell_type": "code",
   "execution_count": 1,
   "metadata": {},
   "outputs": [
    {
     "data": {
      "text/plain": [
       "(1, 2)"
      ]
     },
     "execution_count": 1,
     "metadata": {},
     "output_type": "execute_result"
    }
   ],
   "source": [
    "from zlib import crc32\n",
    "\n",
    "theory = crc32('Сайранов'.lower().encode('utf-8'))%3+1\n",
    "practice = crc32('Sayranov'.lower().encode('utf-8'))%3+1\n",
    "theory, practice"
   ]
  },
  {
   "cell_type": "code",
   "execution_count": 2,
   "metadata": {},
   "outputs": [],
   "source": [
    "import numpy as np\n",
    "import matplotlib.pyplot as plt\n",
    "\n",
    "import torch\n",
    "import torch.nn as nn\n",
    "import torch.nn.functional as F\n",
    "import torch.optim as optim\n",
    "from torch.utils.data import DataLoader, TensorDataset\n",
    "from torch.autograd import Variable\n",
    "from torch.nn.parameter import Parameter\n",
    "\n",
    "from tqdm import tqdm\n",
    "from collections import namedtuple, OrderedDict"
   ]
  },
  {
   "cell_type": "markdown",
   "metadata": {},
   "source": [
    "# Данные\n",
    "В качестве данных возьмем датасет Two Moons"
   ]
  },
  {
   "cell_type": "code",
   "execution_count": 13,
   "metadata": {},
   "outputs": [],
   "source": [
    "from sklearn import datasets\n",
    "from sklearn.model_selection import train_test_split\n",
    "\n",
    "moons = datasets.make_moons(n_samples=1000, noise=0.3, random_state=0)\n",
    "x_train, x_test, y_train, y_test = train_test_split(moons[0], moons[1])"
   ]
  },
  {
   "cell_type": "code",
   "execution_count": 14,
   "metadata": {},
   "outputs": [
    {
     "data": {
      "image/png": "[encoded data removed]",
      "text/plain": [
       "<Figure size 720x720 with 1 Axes>"
      ]
     },
     "metadata": {
      "needs_background": "light"
     },
     "output_type": "display_data"
    }
   ],
   "source": [
    "colors = ['r', 'b']\n",
    "\n",
    "plt.figure(figsize=(10, 10))\n",
    "for i in range(x_train.shape[0]):\n",
    "    plt.scatter(x_train[i, 0], x_train[i, 1], color=colors[y_train[i]])"
   ]
  },
  {
   "cell_type": "code",
   "execution_count": 15,
   "metadata": {},
   "outputs": [],
   "source": [
    "import torch\n",
    "from torch.utils.data import DataLoader, TensorDataset\n",
    "\n",
    "train_dataset = TensorDataset(torch.Tensor(x_train), torch.Tensor(y_train))\n",
    "train_loader = DataLoader(train_dataset, batch_size=10, shuffle=True)\n",
    "\n",
    "test_dataset = TensorDataset(torch.Tensor(x_test), torch.Tensor(y_test))\n",
    "test_loader = DataLoader(test_dataset, batch_size=10, shuffle=True)"
   ]
  },
  {
   "cell_type": "markdown",
   "metadata": {},
   "source": [
    "# Построим простую модель "
   ]
  },
  {
   "cell_type": "code",
   "execution_count": 16,
   "metadata": {},
   "outputs": [],
   "source": [
    "class SimpleNetwork(nn.Module):\n",
    "        \n",
    "    def __init__(self, in_feat=2):\n",
    "        super(SimpleNetwork, self).__init__()\n",
    "        \n",
    "        layers = []\n",
    "        layers.append(nn.Linear(in_feat, 20))\n",
    "        layers.append(nn.ReLU())\n",
    "        layers.append(nn.Linear(20, 10))\n",
    "        layers.append(nn.ReLU())\n",
    "        layers.append(nn.Linear(10, 1))\n",
    "        layers.append(nn.LogSigmoid())\n",
    "        \n",
    "        self.model  = nn.Sequential(*layers)\n",
    "        \n",
    "    def forward(self, x):\n",
    "        return self.model(x)"
   ]
  },
  {
   "cell_type": "code",
   "execution_count": 17,
   "metadata": {},
   "outputs": [],
   "source": [
    "def get_acc(test_loader, model):\n",
    "    correct = 0\n",
    "    total = 0\n",
    "    \n",
    "    for batch, (x, y) in enumerate(test_loader):\n",
    "        y = y.float()\n",
    "        preds = (torch.exp(model(x))[:, 0] > .5).float()\n",
    "        optimizer.zero_grad()\n",
    "\n",
    "        correct += (preds == y).float().sum()\n",
    "        total += len(preds)\n",
    "\n",
    "    return correct/total\n",
    "\n",
    "def train(model, train_loader, optimizer, variational=False):\n",
    "    losses = []\n",
    "    accs = []\n",
    "\n",
    "    model.train()\n",
    "\n",
    "    for batch, (x, y) in tqdm(enumerate(train_loader)):\n",
    "        if variational:\n",
    "            x, y = Variable(x), Variable(y)\n",
    "            \n",
    "        y = y.float()\n",
    "        preds = model(x)\n",
    "        optimizer.zero_grad()\n",
    "         \n",
    "        if variational:\n",
    "            loss = F.binary_cross_entropy_with_logits(preds[:, 0], y) + model.prior_loss()\n",
    "        else:\n",
    "            loss = F.binary_cross_entropy_with_logits(preds[:, 0], y)\n",
    "        loss.backward()\n",
    "    \n",
    "        optimizer.step()\n",
    "        losses.append(float(loss))\n",
    "    \n",
    "        with torch.no_grad():\n",
    "            accs.append(get_acc(test_loader, model))\n",
    "            \n",
    "    return losses, accs"
   ]
  },
  {
   "cell_type": "code",
   "execution_count": 18,
   "metadata": {},
   "outputs": [
    {
     "name": "stderr",
     "output_type": "stream",
     "text": [
      "75it [00:00, 110.29it/s]\n"
     ]
    }
   ],
   "source": [
    "model = SimpleNetwork()\n",
    "optimizer = optim.Adam(model.parameters(), lr=0.01)\n",
    "non_var_losses, non_var_accs = train(model, train_loader, optimizer)"
   ]
  },
  {
   "cell_type": "markdown",
   "metadata": {},
   "source": [
    "# Модель с вариационным нормальным распределением"
   ]
  },
  {
   "cell_type": "code",
   "execution_count": 19,
   "metadata": {},
   "outputs": [],
   "source": [
    "VariationalParameter = namedtuple('VariationalParameter', ['mean', 'rho', 'eps'])\n",
    "\n",
    "def prior_std(p):\n",
    "    stdv = 1\n",
    "    p_dim = p.dim()\n",
    "    if p_dim > 1:\n",
    "        for i in range(p_dim - 1):\n",
    "            stdv *= p.size()[i + 1]\n",
    "        stdv = 1 / np.sqrt(stdv)\n",
    "    else:\n",
    "        stdv = 1e-2\n",
    "    return stdv\n",
    "    \n",
    "def DKL(parametrs_dict):\n",
    "    loss = 0\n",
    "    for p in parametrs_dict.values():\n",
    "        if isinstance(p, VariationalParameter):\n",
    "            mean = p.mean\n",
    "            std = (1 + p.rho.exp()).log()\n",
    "            std_prior = prior_std(mean)\n",
    "            loss += ((std.pow(2) + mean.pow(2)) / (2 * std_prior ** 2) - (std / std_prior).log() - 1 / 2).sum()\n",
    "        else:\n",
    "            loss += DKL(p)\n",
    "    return loss\n",
    "\n",
    "def build_params(parameters_dict, module, epsilon_setting):\n",
    "    for name, p in parameters_dict.items():\n",
    "        if isinstance(p, VariationalParameter):\n",
    "            if p.eps is None:\n",
    "                parameters_dict[name] = p._replace(eps=Variable(p.mean.data.clone()))\n",
    "            epsilon_setting(name, parameters_dict[name])\n",
    "            setattr(module, name, evaluate_prior_params(parameters_dict[name]))\n",
    "        elif p is None:\n",
    "            setattr(module, name, None)\n",
    "        else:\n",
    "            build_params(p, getattr(module, name), epsilon_setting)\n",
    "\n",
    "def evaluate_prior_params(variational_parameter):\n",
    "    return variational_parameter.mean + (1 + variational_parameter.rho.exp()).log() * variational_parameter.eps\n",
    "\n",
    "class BayesianNeuralNet(nn.Module):\n",
    "    def __init__(self, model, zero_mean=True, learn_mean=True, learn_rho=True):\n",
    "        super(BayesianNeuralNet, self).__init__()\n",
    "\n",
    "        self.model = model\n",
    "        self.diction = OrderedDict()\n",
    "        self.variationalize(self.diction, self.model, '', zero_mean,\n",
    "                            learn_mean, learn_rho)\n",
    "        self.prior_loss = lambda: DKL(self.diction)\n",
    "\n",
    "    def variationalize(self, diction, module, prefix, zero_mean,\n",
    "                       learn_mean, learn_rho):\n",
    "        to_erase = []\n",
    "        paras = module._parameters.items()\n",
    "        for name, p in paras:\n",
    "\n",
    "            if p is None:\n",
    "                diction[name] = None\n",
    "            else:\n",
    "                stdv = prior_std(p)\n",
    "                init_rho = np.log(np.exp(stdv) - 1)\n",
    "\n",
    "                init_mean = p.data.clone()\n",
    "                if zero_mean:\n",
    "                    init_mean.fill_(0)\n",
    "\n",
    "                diction[name] = VariationalParameter(\n",
    "                    Parameter(init_mean),\n",
    "                    Parameter(p.data.clone().fill_(init_rho)),\n",
    "                    None)\n",
    "                if learn_mean:\n",
    "                    self.register_parameter(prefix + '_' + name + '_mean', diction[name].mean)\n",
    "                if learn_rho:\n",
    "                    self.register_parameter(prefix + '_' + name + '_rho', diction[name].rho)\n",
    "            to_erase.append(name)\n",
    "\n",
    "        for name in to_erase:\n",
    "            delattr(module, name)\n",
    "\n",
    "        for mname, sub_module in module.named_children():\n",
    "            sub_diction = OrderedDict()\n",
    "            self.variationalize(sub_diction, sub_module,\n",
    "                                prefix + ('_' if prefix else '') +\n",
    "                                mname, zero_mean,\n",
    "                                learn_mean, learn_rho)\n",
    "            diction[mname] = sub_diction\n",
    "\n",
    "    def forward(self, inputs):\n",
    "        def get_epsilon_setting(name, p):\n",
    "            if self.training:\n",
    "                return p.eps.data.normal_()\n",
    "            return p.eps.data.zero_()\n",
    "\n",
    "        build_params(self.diction, self.model, get_epsilon_setting)\n",
    "        return self.model(inputs)"
   ]
  },
  {
   "cell_type": "code",
   "execution_count": 20,
   "metadata": {},
   "outputs": [
    {
     "name": "stderr",
     "output_type": "stream",
     "text": [
      "75it [00:01, 53.26it/s]\n"
     ]
    }
   ],
   "source": [
    "model = BayesianNeuralNet(SimpleNetwork())\n",
    "optimizer = optim.Adam(model.parameters(), lr=0.01)\n",
    "var_losses, var_accs = train(model, train_loader, optimizer, variational=True)"
   ]
  },
  {
   "cell_type": "code",
   "execution_count": 25,
   "metadata": {},
   "outputs": [
    {
     "data": {
      "image/png": "[encoded data removed]",
      "text/plain": [
       "<Figure size 936x432 with 1 Axes>"
      ]
     },
     "metadata": {
      "needs_background": "light"
     },
     "output_type": "display_data"
    }
   ],
   "source": [
    "plt.figure(figsize=(13, 6))\n",
    "plt.plot(non_var_losses, label='SimpleNetwork')\n",
    "plt.plot(var_losses, label='Variational_SimpleNetwork')\n",
    "plt.legend()\n",
    "plt.show()"
   ]
  }
 ],
 "metadata": {
  "kernelspec": {
   "display_name": "Python 3",
   "language": "python",
   "name": "python3"
  },
  "language_info": {
   "codemirror_mode": {
    "name": "ipython",
    "version": 3
   },
   "file_extension": ".py",
   "mimetype": "text/x-python",
   "name": "python",
   "nbconvert_exporter": "python",
   "pygments_lexer": "ipython3",
   "version": "3.7.3"
  }
 },
 "nbformat": 4,
 "nbformat_minor": 4
}
