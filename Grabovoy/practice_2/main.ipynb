{
 "cells": [
  {
   "cell_type": "code",
   "execution_count": 1,
   "metadata": {
    "colab": {},
    "colab_type": "code",
    "id": "eEEBmcuNZC2j"
   },
   "outputs": [],
   "source": [
    "from torch.utils.data import TensorDataset, DataLoader, Dataset\n",
    "import torch\n",
    "from torch import nn\n",
    "from torch import optim\n",
    "\n",
    "import math\n",
    "\n",
    "import numpy as np\n",
    "import matplotlib.pyplot as plt\n",
    "\n",
    "from tqdm import tqdm as tqdm"
   ]
  },
  {
   "cell_type": "code",
   "execution_count": 2,
   "metadata": {
    "colab": {},
    "colab_type": "code",
    "id": "m4S-IwM3TECL"
   },
   "outputs": [],
   "source": [
    "from multiprocessing import Pool"
   ]
  },
  {
   "cell_type": "code",
   "execution_count": 3,
   "metadata": {
    "colab": {
     "base_uri": "https://localhost:8080/",
     "height": 221
    },
    "colab_type": "code",
    "id": "zZ8T0XUcxIQq",
    "outputId": "ed09e2ea-4335-43af-faea-1a9f132eef76"
   },
   "outputs": [],
   "source": [
    "# Для Colaboratory\n",
    "# !rm utils.py\n",
    "# !wget https://raw.githubusercontent.com/Intelligent-Systems-Phystech/model_selection/master/Grabovoy/practice/utils.py"
   ]
  },
  {
   "cell_type": "code",
   "execution_count": 4,
   "metadata": {
    "colab": {},
    "colab_type": "code",
    "id": "HwsSksRqfr5d"
   },
   "outputs": [],
   "source": [
    "##########################################\n",
    "# https://github.com/mariogeiger/hessian #\n",
    "##########################################\n",
    "#                                        #\n",
    "# Данные функции были взяты из интернета #\n",
    "#                                        #\n",
    "##########################################\n",
    "\n",
    "from utils import gradient, jacobian, hessian"
   ]
  },
  {
   "cell_type": "code",
   "execution_count": 5,
   "metadata": {
    "colab": {
     "base_uri": "https://localhost:8080/",
     "height": 34
    },
    "colab_type": "code",
    "id": "_MrQdFwZZC24",
    "outputId": "07d1a479-bbe9-46f3-cf63-dd7b174071da"
   },
   "outputs": [
    {
     "data": {
      "text/plain": [
       "device(type='cpu')"
      ]
     },
     "execution_count": 5,
     "metadata": {},
     "output_type": "execute_result"
    }
   ],
   "source": [
    "device = torch.device(\"cuda\" if torch.cuda.is_available() else \"cpu\")\n",
    "device"
   ]
  },
  {
   "cell_type": "markdown",
   "metadata": {
    "colab_type": "text",
    "id": "vVGwnQdhw9ni"
   },
   "source": [
    "# Настройки Matplotlib"
   ]
  },
  {
   "cell_type": "code",
   "execution_count": 6,
   "metadata": {
    "colab": {},
    "colab_type": "code",
    "id": "Ga3jbRzFw9nj"
   },
   "outputs": [],
   "source": [
    "plt.rcParams['lines.linewidth'] = 3\n",
    "plt.rcParams['lines.markersize'] = 6\n",
    "plt.rcParams['xtick.labelsize'] = 36\n",
    "plt.rcParams['ytick.labelsize'] = 36\n",
    "plt.rcParams['legend.fontsize'] = 36\n",
    "plt.rcParams['axes.titlesize']=36\n",
    "plt.rcParams['axes.labelsize']=36\n",
    "plt.rcParams['figure.figsize'] = (16.0, 8.0)\n",
    "plt.rcParams['font.size'] = 24"
   ]
  },
  {
   "cell_type": "markdown",
   "metadata": {
    "colab_type": "text",
    "id": "NBemPLRaw9nl"
   },
   "source": [
    "# Эксперимент"
   ]
  },
  {
   "cell_type": "markdown",
   "metadata": {
    "colab_type": "text",
    "id": "TE_3nmd4IyAg"
   },
   "source": [
    "В эксперименте была рассмотрена простая синтетическая выборка.\n",
    "$$\\mathbf{x} \\sim \\mathcal{N}\\left(\\textbf{0}, \\mathbf{I}\\right), \\textbf{w} \\sim \\mathcal{N}\\left(\\textbf{0}, \\mathbf{I}\\right), y \\sim \\mathcal{N}\\left(\\textbf{w}^{\\mathsf{T}}\\textbf{x}, \\beta\\mathbf{I}\\right)$$"
   ]
  },
  {
   "cell_type": "code",
   "execution_count": 81,
   "metadata": {
    "colab": {},
    "colab_type": "code",
    "id": "OHH_pS5SZC2_"
   },
   "outputs": [],
   "source": [
    "m = 128\n",
    "n = 20\n",
    "\n",
    "w = np.random.randn(n)\n",
    "\n",
    "X_train = np.random.randn(m, n)\n",
    "Y_train = (X_train@w + 0.001*np.random.randn(m)).reshape([-1, 1])\n",
    "\n",
    "X_test = np.random.randn(m, n)\n",
    "Y_test = (X_test@w+ 0.001*np.random.randn(m)).reshape([-1, 1])\n",
    "\n",
    "X_valid = np.random.randn(m, n)\n",
    "Y_valid = (X_test@w+ 0.001*np.random.randn(m)).reshape([-1, 1])"
   ]
  },
  {
   "cell_type": "code",
   "execution_count": 82,
   "metadata": {
    "colab": {},
    "colab_type": "code",
    "id": "dYqO-hrcZC3D"
   },
   "outputs": [],
   "source": [
    "train_data = TensorDataset(torch.Tensor(X_train).to(device), torch.Tensor(Y_train).to(device))\n",
    "valid_data = TensorDataset(torch.Tensor(X_test).to(device), torch.Tensor(Y_test).to(device))\n",
    "test_data = TensorDataset(torch.Tensor(X_test).to(device), torch.Tensor(Y_test).to(device))"
   ]
  },
  {
   "cell_type": "code",
   "execution_count": 83,
   "metadata": {
    "colab": {},
    "colab_type": "code",
    "id": "C-AFKkq2ZC3L"
   },
   "outputs": [],
   "source": [
    "X_ts, Y_ts = test_data[:]\n",
    "\n",
    "X_tr, Y_tr = train_data[:]\n",
    "\n",
    "X_valid, Y_valid = valid_data[:]"
   ]
  },
  {
   "cell_type": "markdown",
   "metadata": {
    "colab_type": "text",
    "id": "sw9je-yPIyAn"
   },
   "source": [
    "В качестве модели рассматривалась полносвязная нейросеть с разным количеством нейронов на скрытом слое."
   ]
  },
  {
   "cell_type": "code",
   "execution_count": 84,
   "metadata": {
    "colab": {},
    "colab_type": "code",
    "id": "non2f-LKZC3O"
   },
   "outputs": [],
   "source": [
    "class Neural(nn.Module):\n",
    "    def __init__(self, input_dim=10, hidden_dim=3, output_dim=1, device='cpu'):\n",
    "        \"\"\"\n",
    "        \"\"\"\n",
    "        super(Neural, self).__init__()\n",
    "        self.input_dim = input_dim\n",
    "        self.hidden_dim = hidden_dim\n",
    "        self.output_dim = output_dim\n",
    "        self.device = device\n",
    "\n",
    "        self.body = nn.Sequential(\n",
    "            nn.Linear(self.input_dim, self.hidden_dim),\n",
    "            nn.LeakyReLU(),\n",
    "        )\n",
    "        \n",
    "        self.head = nn.Linear(self.hidden_dim, self.output_dim)\n",
    "        \n",
    "        list_of_w = []\n",
    "        for w in self.parameters():\n",
    "            list_of_w.append(w.data.view(-1))\n",
    "        self.D = len(torch.cat(list_of_w).view(-1))\n",
    "\n",
    "        list_of_h = []\n",
    "        for w in self.parameters():\n",
    "            list_of_h.append(torch.ones_like(w.data, requires_grad=True))\n",
    "        \n",
    "        self.list_of_h = list_of_h\n",
    "        \n",
    "        self.to(device)\n",
    "\n",
    "        \n",
    "    def predict(self, input):\n",
    "        \"\"\"\n",
    "        Args:\n",
    "            input: Tensor(batch_size x input_dim) --- the matrix of input data\n",
    "            \n",
    "        Returns:\n",
    "            Tensor(batch_size x output_dim) --- the matrix of output data\n",
    "        \n",
    "        \"\"\"\n",
    "        out = input\n",
    "        out = self.body(out)\n",
    "        return self.head(out)\n",
    "    \n",
    "    def log_prior_w(self, w, h):\n",
    "        \"\"\"\n",
    "        \"\"\"\n",
    "        w = w.view(-1)\n",
    "        h = h.view(-1)\n",
    "        return -0.5*torch.dot(w*(h**2), w)\n",
    "      \n",
    "    def log_priot_all(self):\n",
    "        temp = 0\n",
    "        i_temp = 0\n",
    "        for w, h in zip(self.parameters(), self.list_of_h):\n",
    "            temp += self.log_prior_w(w, h)\n",
    "        return temp\n",
    "     \n",
    "    def loglikelihood(self, batch_x, batch_y):\n",
    "        \"\"\"\n",
    "        \"\"\"\n",
    "        beta = 1\n",
    "        return -0.5*beta*torch.mean((self.predict(batch_x) - batch_y)**2)\n",
    "    \n",
    "    def margin_log_likelihood(self, batch_x, batch_y):\n",
    "        \"\"\"\n",
    "        \"\"\"\n",
    "        temp = self.log_priot_all() + self.loglikelihood(batch_x, batch_y)\n",
    "        return temp\n",
    "    \n",
    "    def loss(self, batch_x, batch_y):\n",
    "        out = self.predict(batch_x)\n",
    "        return torch.mean((out - batch_y)**2)\n",
    "    \n",
    "    def random_h_init(self):\n",
    "        for h in self.list_of_h:\n",
    "            h.data = torch.rand_like(h.data)\n",
    "\n",
    "    def h_zero_grad(self):\n",
    "        for h in self.list_of_h:\n",
    "            h.grad.zero_()\n",
    "\n",
    "    def h_set_grad(self, grad):\n",
    "        bias = 0\n",
    "        for h in self.list_of_h:\n",
    "            h_size = torch.tensor(h.size()).prod()\n",
    "            h.grad = grad[bias:bias+h_size].view_as(h)\n",
    "            bias+=h_size\n",
    "            \n",
    "    def h_set_data(self, data):\n",
    "        bias = 0\n",
    "        for h in self.list_of_h:\n",
    "            h_size = torch.tensor(h.size()).prod()\n",
    "            h.data = data[bias:bias+h_size].view_as(h)\n",
    "            if h.grad is not None:\n",
    "                h.grad.zero_()\n",
    "            bias+=h_size"
   ]
  },
  {
   "cell_type": "markdown",
   "metadata": {
    "colab_type": "text",
    "id": "_DZf_A_eVvuX"
   },
   "source": [
    "# Random Search"
   ]
  },
  {
   "cell_type": "code",
   "execution_count": 104,
   "metadata": {},
   "outputs": [],
   "source": [
    "def h_to_numpy(model):\n",
    "    List_of_h = []\n",
    "    for h in model.list_of_h:\n",
    "        List_of_h.append(h.data.cpu().numpy().reshape(-1))\n",
    "\n",
    "    return np.hstack(List_of_h)\n",
    "\n",
    "def get_Q_theta_star_h(model, h):\n",
    "    \"\"\"\n",
    "    Args:\n",
    "        h, tensor --- model HyperParameters\n",
    "    \"\"\"\n",
    "    model.__init__(model.input_dim, model.hidden_dim, model.output_dim, model.device)\n",
    "    model.h_set_data(h)\n",
    "    \n",
    "    optimazer = optim.Adam(model.parameters(), lr=0.01)\n",
    "\n",
    "    List_of_step = []\n",
    "\n",
    "    for ep in range(200):\n",
    "        generator = DataLoader(train_data, batch_size=64, shuffle=True)\n",
    "        for batch_x, batch_y in generator:\n",
    "            model.zero_grad()\n",
    "            loss = -model.margin_log_likelihood(batch_x, batch_y)\n",
    "            loss.backward()\n",
    "            optimazer.step()\n",
    "            \n",
    "    return h_to_numpy(model), model.loss(X_valid, Y_valid).item()\n",
    "    "
   ]
  },
  {
   "cell_type": "code",
   "execution_count": 92,
   "metadata": {
    "colab": {},
    "colab_type": "code",
    "id": "I1px3D96QAEt"
   },
   "outputs": [],
   "source": [
    "def random_search(number_of_search = 10, model = Neural(), progress = list):\n",
    "    List_of_h = []\n",
    "    List_of_loss = []\n",
    "\n",
    "    for _ in progress(range(number_of_search)):\n",
    "        h = torch.rand(model.D)\n",
    "        h, Q_loss = get_Q_theta_star_h(model, h)\n",
    "\n",
    "        List_of_h.append(h)\n",
    "        List_of_loss.append(Q_loss)\n",
    "\n",
    "    return np.array(List_of_h), np.array(List_of_loss)"
   ]
  },
  {
   "cell_type": "code",
   "execution_count": 93,
   "metadata": {},
   "outputs": [],
   "source": [
    "model = Neural(input_dim=n, output_dim=1, hidden_dim=1)"
   ]
  },
  {
   "cell_type": "code",
   "execution_count": 94,
   "metadata": {
    "colab": {
     "base_uri": "https://localhost:8080/",
     "height": 68
    },
    "colab_type": "code",
    "id": "zcaltzFsVMIe",
    "outputId": "a8635ab4-3aa8-4fd5-ea1e-a4088c8691d0"
   },
   "outputs": [
    {
     "name": "stderr",
     "output_type": "stream",
     "text": [
      "100%|██████████| 100/100 [01:14<00:00,  1.47it/s]"
     ]
    },
    {
     "name": "stdout",
     "output_type": "stream",
     "text": [
      "CPU times: user 1min 11s, sys: 974 ms, total: 1min 12s\n",
      "Wall time: 1min 14s\n"
     ]
    },
    {
     "name": "stderr",
     "output_type": "stream",
     "text": [
      "\n"
     ]
    }
   ],
   "source": [
    "%%time\n",
    "List_of_h_random, List_of_loss_random = random_search(100, model, progress=tqdm)"
   ]
  },
  {
   "cell_type": "code",
   "execution_count": 99,
   "metadata": {
    "colab": {
     "base_uri": "https://localhost:8080/",
     "height": 524
    },
    "colab_type": "code",
    "id": "BqL7VUHXQyW5",
    "outputId": "9c033041-d936-4542-e67f-aa1941a9a3cb"
   },
   "outputs": [
    {
     "data": {
      "image/png": "[encoded data removed]",
      "text/plain": [
       "<Figure size 1152x576 with 1 Axes>"
      ]
     },
     "metadata": {},
     "output_type": "display_data"
    }
   ],
   "source": [
    "_ = plt.plot([np.min(List_of_loss_random[:i]) for i in range(1, len(List_of_loss_random))])"
   ]
  },
  {
   "cell_type": "code",
   "execution_count": 96,
   "metadata": {},
   "outputs": [
    {
     "data": {
      "text/plain": [
       "array([0.42681253, 0.41607547, 0.86045116, 0.6213664 , 0.6790934 ,\n",
       "       0.17669857, 0.2595083 , 0.44574124, 0.01503664, 0.74890447,\n",
       "       0.96852416, 0.813098  , 0.22771543, 0.31492287, 0.29373688,\n",
       "       0.01012194, 0.26180547, 0.41208   , 0.15358824, 0.57926315,\n",
       "       0.2458548 , 0.24704957, 0.05383855], dtype=float32)"
      ]
     },
     "execution_count": 96,
     "metadata": {},
     "output_type": "execute_result"
    }
   ],
   "source": [
    "idx = np.argmin(List_of_loss_random)\n",
    "best_h_random = List_of_h_random[idx]\n",
    "best_h_random"
   ]
  },
  {
   "cell_type": "code",
   "execution_count": 97,
   "metadata": {},
   "outputs": [
    {
     "data": {
      "text/plain": [
       "0.4663117229938507"
      ]
     },
     "execution_count": 97,
     "metadata": {},
     "output_type": "execute_result"
    }
   ],
   "source": [
    "best_loss_random = List_of_loss_random[idx]\n",
    "best_loss_random"
   ]
  },
  {
   "cell_type": "markdown",
   "metadata": {
    "colab_type": "text",
    "id": "SjEDJ8RnY0m7"
   },
   "source": [
    "# Гаусовский процесс"
   ]
  },
  {
   "cell_type": "code",
   "execution_count": 105,
   "metadata": {
    "colab": {},
    "colab_type": "code",
    "id": "yPDXT8x1Ujqn"
   },
   "outputs": [],
   "source": [
    "import numpy as np\n",
    "from pyGPGO.covfunc import squaredExponential\n",
    "from pyGPGO.acquisition import Acquisition\n",
    "from pyGPGO.surrogates.GaussianProcess import GaussianProcess\n",
    "from pyGPGO.GPGO import GPGO\n",
    "from pyGPGO.covfunc import matern32"
   ]
  },
  {
   "cell_type": "code",
   "execution_count": 110,
   "metadata": {
    "colab": {},
    "colab_type": "code",
    "id": "7B--ixw9Y7O8"
   },
   "outputs": [],
   "source": [
    "model = Neural(input_dim=n, output_dim=1, hidden_dim=1)\n",
    "D = model.D\n",
    "\n",
    "param_dict = dict()\n",
    "\n",
    "for i in range(D):\n",
    "    param_dict['h'+str(i)] = ('cont', [0, 1])"
   ]
  },
  {
   "cell_type": "code",
   "execution_count": 111,
   "metadata": {},
   "outputs": [
    {
     "data": {
      "text/plain": [
       "{'h0': ('cont', [0, 1]),\n",
       " 'h1': ('cont', [0, 1]),\n",
       " 'h2': ('cont', [0, 1]),\n",
       " 'h3': ('cont', [0, 1]),\n",
       " 'h4': ('cont', [0, 1]),\n",
       " 'h5': ('cont', [0, 1]),\n",
       " 'h6': ('cont', [0, 1]),\n",
       " 'h7': ('cont', [0, 1]),\n",
       " 'h8': ('cont', [0, 1]),\n",
       " 'h9': ('cont', [0, 1]),\n",
       " 'h10': ('cont', [0, 1]),\n",
       " 'h11': ('cont', [0, 1]),\n",
       " 'h12': ('cont', [0, 1]),\n",
       " 'h13': ('cont', [0, 1]),\n",
       " 'h14': ('cont', [0, 1]),\n",
       " 'h15': ('cont', [0, 1]),\n",
       " 'h16': ('cont', [0, 1]),\n",
       " 'h17': ('cont', [0, 1]),\n",
       " 'h18': ('cont', [0, 1]),\n",
       " 'h19': ('cont', [0, 1]),\n",
       " 'h20': ('cont', [0, 1]),\n",
       " 'h21': ('cont', [0, 1]),\n",
       " 'h22': ('cont', [0, 1])}"
      ]
     },
     "execution_count": 111,
     "metadata": {},
     "output_type": "execute_result"
    }
   ],
   "source": [
    "param_dict"
   ]
  },
  {
   "cell_type": "code",
   "execution_count": 112,
   "metadata": {
    "scrolled": true
   },
   "outputs": [
    {
     "name": "stdout",
     "output_type": "stream",
     "text": [
      "Evaluation \t Proposed point \t  Current eval. \t Best eval.\n",
      "init   \t [0.51729788 0.9469626  0.76545976 0.28239584 0.22104536 0.68622209\n",
      " 0.1671392  0.39244247 0.61805235 0.41193009 0.00246488 0.88403218\n",
      " 0.88494754 0.30040969 0.58958187 0.97842692 0.84509382 0.06507544\n",
      " 0.29474446 0.28793444 0.82246634 0.62618304 0.11047771]. \t  -2.6982526779174805 \t -1.7299144268035889\n",
      "init   \t [5.28811169e-04 9.42166233e-01 1.41500758e-01 4.21596526e-01\n",
      " 3.46489440e-01 8.69785084e-01 4.28601812e-01 8.28751484e-01\n",
      " 7.17851838e-01 1.19226694e-01 5.96384173e-01 1.29756298e-01\n",
      " 7.75340917e-02 8.31205256e-01 4.64385615e-01 1.62012479e-01\n",
      " 5.47975292e-01 5.88485822e-01 7.73613169e-01 6.55845458e-01\n",
      " 5.57706759e-01 1.78247267e-01 2.40583531e-01]. \t  -1.7299144268035889 \t -1.7299144268035889\n",
      "init   \t [0.50605463 0.3967457  0.48305519 0.95573984 0.90160219 0.50575932\n",
      " 0.82070149 0.82771593 0.23183335 0.07905549 0.46576293 0.87897581\n",
      " 0.14750306 0.23125131 0.91794581 0.12906353 0.91640772 0.23479755\n",
      " 0.61598677 0.95158776 0.25513082 0.45025515 0.97251778]. \t  -3.4382550716400146 \t -1.7299144268035889\n",
      "1      \t [1. 0. 0. 0. 1. 0. 1. 0. 1. 1. 1. 0. 1. 0. 0. 1. 0. 1. 1. 0. 0. 0. 0.]. \t  \u001b[92m-1.2171025276184082\u001b[0m \t -1.2171025276184082\n",
      "2      \t [ 0.00000000e+00  0.00000000e+00  1.00000000e+00  1.00000000e+00\n",
      "  0.00000000e+00 -1.38777878e-17  0.00000000e+00  1.00000000e+00\n",
      "  0.00000000e+00  1.00000000e+00  1.00000000e+00  0.00000000e+00\n",
      "  1.00000000e+00  1.00000000e+00  0.00000000e+00  0.00000000e+00\n",
      "  0.00000000e+00  1.00000000e+00  0.00000000e+00  0.00000000e+00\n",
      "  0.00000000e+00  1.00000000e+00  0.00000000e+00]. \t  -2.5617823600769043 \t -1.2171025276184082\n",
      "3      \t [1. 0. 0. 0. 1. 1. 0. 0. 0. 0. 1. 0. 1. 1. 0. 1. 0. 1. 1. 0. 1. 1. 1.]. \t  -7.9971089363098145 \t -1.2171025276184082\n",
      "4      \t [1. 1. 0. 0. 0. 0. 1. 1. 1. 1. 1. 1. 0. 0. 1. 0. 0. 1. 0. 1. 1. 0. 0.]. \t  -1.8276901245117188 \t -1.2171025276184082\n",
      "5      \t [0. 0. 1. 0. 0. 1. 1. 0. 1. 1. 0. 0. 0. 0. 1. 1. 1. 1. 0. 0. 0. 0. 1.]. \t  -4.761137008666992 \t -1.2171025276184082\n",
      "6      \t [1. 1. 0. 1. 0. 0. 1. 0. 0. 1. 0. 0. 1. 0. 0. 0. 0. 0. 1. 1. 0. 1. 0.]. \t  -2.6418304443359375 \t -1.2171025276184082\n",
      "7      \t [0. 1. 1. 0. 1. 0. 1. 0. 1. 1. 0. 1. 0. 1. 0. 0. 0. 0. 0. 1. 1. 0. 0.]. \t  -3.8147711753845215 \t -1.2171025276184082\n",
      "8      \t [1. 1. 1. 1. 0. 0. 0. 1. 1. 1. 1. 1. 1. 0. 1. 0. 0. 1. 1. 0. 0. 0. 1.]. \t  -3.1299164295196533 \t -1.2171025276184082\n",
      "9      \t [0. 0. 0. 0. 1. 0. 1. 1. 1. 1. 0. 0. 1. 1. 1. 1. 1. 0. 1. 1. 0. 1. 0.]. \t  -3.1631524562835693 \t -1.2171025276184082\n",
      "10     \t [0. 1. 1. 1. 0. 1. 0. 0. 0. 1. 1. 1. 0. 1. 1. 1. 1. 1. 0. 1. 1. 1. 0.]. \t  -4.036799907684326 \t -1.2171025276184082\n",
      "11     \t [1. 0. 1. 0. 0. 1. 0. 1. 1. 0. 0. 0. 0. 0. 0. 0. 0. 0. 0. 1. 0. 1. 1.]. \t  -6.119606971740723 \t -1.2171025276184082\n",
      "12     \t [1. 1. 0. 1. 1. 0. 1. 1. 0. 0. 0. 0. 0. 1. 0. 0. 1. 1. 0. 0. 1. 0. 0.]. \t  -2.887096643447876 \t -1.2171025276184082\n",
      "13     \t [0. 0. 0. 1. 1. 0. 0. 1. 1. 0. 1. 1. 0. 0. 0. 1. 1. 0. 1. 0. 1. 0. 1.]. \t  -5.199090003967285 \t -1.2171025276184082\n",
      "14     \t [0. 1. 1. 0. 1. 0. 1. 0. 0. 0. 1. 1. 1. 1. 1. 0. 1. 1. 1. 0. 0. 1. 0.]. \t  -3.652632713317871 \t -1.2171025276184082\n",
      "15     \t [1. 0. 0. 0. 0. 1. 1. 1. 0. 1. 1. 1. 1. 1. 1. 0. 0. 0. 1. 1. 1. 0. 0.]. \t  -1.6704096794128418 \t -1.2171025276184082\n",
      "16     \t [0. 1. 0. 1. 1. 1. 1. 0. 1. 1. 0. 0. 1. 0. 1. 0. 0. 0. 0. 0. 1. 1. 1.]. \t  -6.641821384429932 \t -1.2171025276184082\n",
      "17     \t [0. 0. 0. 1. 0. 0. 0. 0. 1. 0. 0. 1. 1. 1. 0. 1. 1. 1. 1. 1. 0. 0. 0.]. \t  \u001b[92m-0.7175102233886719\u001b[0m \t -0.7175102233886719\n",
      "18     \t [0. 1. 1. 0. 0. 1. 1. 0. 0. 0. 1. 1. 0. 0. 0. 1. 0. 1. 1. 1. 0. 0. 0.]. \t  -2.1599955558776855 \t -0.7175102233886719\n",
      "19     \t [ 1.00000000e+00  1.00000000e+00  1.00000000e+00  1.00000000e+00\n",
      "  1.00000000e+00  0.00000000e+00  0.00000000e+00 -5.55111512e-17\n",
      "  0.00000000e+00  1.00000000e+00  1.00000000e+00  0.00000000e+00\n",
      "  1.00000000e+00  1.00000000e+00  1.00000000e+00  0.00000000e+00\n",
      "  1.00000000e+00  0.00000000e+00  0.00000000e+00  1.00000000e+00\n",
      "  0.00000000e+00  0.00000000e+00  1.00000000e+00]. \t  -4.698626518249512 \t -0.7175102233886719\n",
      "20     \t [1. 0. 0. 1. 0. 0. 1. 0. 0. 1. 0. 1. 0. 1. 0. 1. 1. 1. 1. 1. 0. 0. 1.]. \t  -5.2632246017456055 \t -0.7175102233886719\n",
      "21     \t [0. 1. 0. 0. 0. 0. 0. 1. 0. 0. 1. 1. 0. 0. 1. 1. 0. 0. 0. 0. 0. 1. 0.]. \t  -3.3028905391693115 \t -0.7175102233886719\n",
      "22     \t [1. 1. 1. 0. 1. 1. 1. 1. 1. 1. 1. 0. 0. 0. 0. 1. 1. 1. 1. 1. 1. 1. 0.]. \t  -4.5930962562561035 \t -0.7175102233886719\n",
      "23     \t [0. 0. 1. 0. 0. 1. 1. 1. 1. 0. 1. 1. 1. 1. 1. 1. 0. 1. 0. 0. 1. 0. 0.]. \t  -2.445199728012085 \t -0.7175102233886719\n",
      "24     \t [0. 0. 1. 0. 0. 1. 0. 1. 0. 0. 0. 0. 1. 0. 1. 0. 0. 1. 1. 0. 1. 0. 0.]. \t  -2.3780407905578613 \t -0.7175102233886719\n",
      "25     \t [ 0.00000000e+00  1.00000000e+00  0.00000000e+00  1.00000000e+00\n",
      "  0.00000000e+00  1.00000000e+00  0.00000000e+00  1.00000000e+00\n",
      "  1.00000000e+00  0.00000000e+00  0.00000000e+00  0.00000000e+00\n",
      "  0.00000000e+00  1.00000000e+00  1.00000000e+00 -5.55111512e-17\n",
      "  1.00000000e+00  1.00000000e+00  1.00000000e+00  1.00000000e+00\n",
      "  0.00000000e+00  0.00000000e+00  1.00000000e+00]. \t  -3.008435010910034 \t -0.7175102233886719\n",
      "26     \t [1. 1. 0. 1. 0. 1. 1. 0. 1. 0. 0. 1. 1. 1. 1. 0. 1. 0. 1. 0. 0. 0. 0.]. \t  -0.7752509713172913 \t -0.7175102233886719\n",
      "27     \t [1. 0. 1. 1. 1. 1. 0. 0. 0. 0. 0. 1. 1. 1. 1. 1. 0. 0. 0. 1. 0. 0. 0.]. \t  -0.8403684496879578 \t -0.7175102233886719\n",
      "28     \t [0. 0. 0. 0. 1. 1. 0. 1. 0. 0. 1. 1. 1. 0. 0. 0. 1. 1. 0. 1. 0. 0. 0.]. \t  -0.8153712749481201 \t -0.7175102233886719\n",
      "29     \t [1. 0. 1. 0. 1. 1. 0. 0. 0. 1. 0. 1. 0. 1. 0. 0. 0. 0. 1. 0. 0. 0. 0.]. \t  -3.0163393020629883 \t -0.7175102233886719\n",
      "30     \t [1. 0. 0. 1. 0. 1. 0. 0. 1. 0. 1. 1. 1. 1. 0. 1. 1. 0. 0. 0. 0. 1. 0.]. \t  -3.0468528270721436 \t -0.7175102233886719\n",
      "31     \t [0. 1. 1. 1. 0. 0. 1. 1. 0. 0. 1. 0. 1. 0. 0. 1. 1. 0. 1. 1. 1. 1. 0.]. \t  -3.623032331466675 \t -0.7175102233886719\n",
      "32     \t [1. 1. 0. 0. 1. 0. 0. 0. 1. 0. 0. 1. 1. 0. 0. 0. 1. 1. 0. 1. 0. 1. 0.]. \t  -2.8257808685302734 \t -0.7175102233886719\n",
      "33     \t [1. 0. 0. 0. 0. 1. 0. 1. 1. 1. 0. 1. 0. 1. 1. 0. 1. 0. 1. 0. 1. 1. 0.]. \t  -4.963513374328613 \t -0.7175102233886719\n",
      "34     \t [0. 0. 0. 1. 1. 0. 1. 1. 0. 0. 1. 0. 0. 1. 1. 1. 0. 1. 0. 1. 1. 0. 0.]. \t  -2.643146276473999 \t -0.7175102233886719\n",
      "35     \t [0. 1. 0. 1. 1. 1. 0. 1. 1. 1. 0. 0. 1. 0. 0. 1. 0. 1. 0. 1. 0. 0. 0.]. \t  -0.8040275573730469 \t -0.7175102233886719\n",
      "36     \t [1. 1. 1. 0. 0. 0. 0. 0. 1. 0. 0. 1. 1. 0. 1. 1. 0. 0. 0. 1. 1. 0. 1.]. \t  -3.7277991771698 \t -0.7175102233886719\n",
      "37     \t [1. 1. 1. 1. 1. 1. 1. 1. 0. 0. 0. 1. 1. 1. 1. 1. 0. 1. 0. 0. 0. 0. 1.]. \t  -4.7853169441223145 \t -0.7175102233886719\n",
      "38     \t [0. 1. 0. 0. 0. 1. 0. 1. 0. 1. 1. 1. 1. 0. 0. 0. 1. 0. 1. 1. 0. 0. 0.]. \t  -2.295093297958374 \t -0.7175102233886719\n",
      "39     \t [0. 1. 0. 0. 0. 0. 1. 1. 0. 1. 1. 0. 0. 1. 0. 0. 0. 0. 0. 0. 1. 0. 1.]. \t  -3.5700368881225586 \t -0.7175102233886719\n",
      "40     \t [0. 0. 1. 1. 1. 0. 0. 0. 0. 1. 0. 1. 0. 0. 1. 1. 0. 0. 1. 1. 1. 1. 0.]. \t  -5.192046642303467 \t -0.7175102233886719\n",
      "41     \t [0. 0. 1. 1. 0. 0. 1. 0. 1. 0. 0. 1. 1. 1. 0. 0. 1. 1. 0. 0. 1. 0. 0.]. \t  -3.2079789638519287 \t -0.7175102233886719\n",
      "42     \t [-1.38777878e-17  1.00000000e+00  0.00000000e+00  1.00000000e+00\n",
      "  1.00000000e+00  1.00000000e+00  0.00000000e+00  1.00000000e+00\n",
      "  1.00000000e+00  1.00000000e+00  1.00000000e+00  0.00000000e+00\n",
      "  0.00000000e+00  1.00000000e+00  0.00000000e+00  1.00000000e+00\n",
      "  0.00000000e+00  0.00000000e+00  1.00000000e+00  1.00000000e+00\n",
      "  0.00000000e+00  0.00000000e+00  0.00000000e+00]. \t  -1.8000967502593994 \t -0.7175102233886719\n",
      "43     \t [0. 1. 1. 1. 1. 1. 0. 0. 1. 0. 1. 0. 0. 1. 0. 0. 0. 1. 1. 0. 1. 0. 0.]. \t  -1.2134836912155151 \t -0.7175102233886719\n",
      "44     \t [0. 0. 0. 0. 0. 0. 0. 1. 0. 1. 0. 0. 1. 0. 0. 1. 0. 1. 0. 1. 1. 0. 0.]. \t  -3.3571367263793945 \t -0.7175102233886719\n",
      "45     \t [0. 1. 0. 0. 0. 1. 1. 0. 1. 0. 1. 0. 1. 0. 0. 0. 0. 0. 1. 0. 0. 0. 0.]. \t  -2.0049967765808105 \t -0.7175102233886719\n",
      "46     \t [1. 1. 0. 1. 1. 1. 0. 1. 1. 0. 1. 0. 0. 0. 1. 0. 1. 1. 1. 0. 0. 0. 0.]. \t  -1.8185415267944336 \t -0.7175102233886719\n",
      "47     \t [0. 0. 0. 1. 1. 1. 1. 0. 1. 0. 0. 0. 0. 0. 0. 0. 0. 1. 1. 1. 0. 0. 0.]. \t  -0.9780394434928894 \t -0.7175102233886719\n"
     ]
    },
    {
     "name": "stdout",
     "output_type": "stream",
     "text": [
      "48     \t [1. 1. 1. 0. 0. 0. 1. 0. 1. 0. 1. 0. 0. 1. 1. 0. 1. 1. 1. 0. 1. 1. 1.]. \t  -6.553631782531738 \t -0.7175102233886719\n",
      "49     \t [ 0.00000000e+00  1.00000000e+00  0.00000000e+00  1.00000000e+00\n",
      "  1.00000000e+00  1.00000000e+00  0.00000000e+00  1.00000000e+00\n",
      "  0.00000000e+00  1.00000000e+00  0.00000000e+00  1.00000000e+00\n",
      "  1.00000000e+00  0.00000000e+00  0.00000000e+00  0.00000000e+00\n",
      "  1.00000000e+00  1.00000000e+00  0.00000000e+00  1.00000000e+00\n",
      " -1.38777878e-17  0.00000000e+00  0.00000000e+00]. \t  -1.0730704069137573 \t -0.7175102233886719\n",
      "50     \t [1. 0. 0. 1. 1. 1. 1. 1. 1. 0. 1. 1. 1. 0. 1. 1. 0. 1. 1. 1. 0. 1. 0.]. \t  -2.5914762020111084 \t -0.7175102233886719\n",
      "CPU times: user 31min 54s, sys: 1min 59s, total: 33min 54s\n",
      "Wall time: 21min 10s\n"
     ]
    }
   ],
   "source": [
    "%%time\n",
    "\n",
    "def f(**argv):\n",
    "    x = []\n",
    "    for par in argv:\n",
    "        x.append(argv[par])\n",
    "    if not torch.is_tensor(x):\n",
    "        x = torch.tensor(x)\n",
    "# так как максимизирует библиотека возьмем ошибку со знаком минус\n",
    "    return -get_Q_theta_star_h(model, x)[1]\n",
    "\n",
    "\n",
    "sexp = matern32()\n",
    "gp = GaussianProcess(sexp, optimize=True, usegrads=True)\n",
    "acq = Acquisition(mode='ExpectedImprovement')\n",
    "\n",
    "np.random.seed(23)\n",
    "gpgo = GPGO(gp, acq, f, param_dict)\n",
    "gpgo.run(max_iter=50)"
   ]
  },
  {
   "cell_type": "code",
   "execution_count": 113,
   "metadata": {},
   "outputs": [],
   "source": [
    "List_of_loss_gaus = -1*np.array(gpgo.history)"
   ]
  },
  {
   "cell_type": "code",
   "execution_count": 114,
   "metadata": {},
   "outputs": [
    {
     "data": {
      "image/png": "[encoded data removed]",
      "text/plain": [
       "<Figure size 1152x576 with 1 Axes>"
      ]
     },
     "metadata": {},
     "output_type": "display_data"
    }
   ],
   "source": [
    "_ = plt.plot(List_of_loss_gaus)"
   ]
  },
  {
   "cell_type": "code",
   "execution_count": 115,
   "metadata": {},
   "outputs": [
    {
     "data": {
      "text/plain": [
       "array([0., 0., 0., 1., 0., 0., 0., 0., 1., 0., 0., 1., 1., 1., 0., 1., 1.,\n",
       "       1., 1., 1., 0., 0., 0.])"
      ]
     },
     "execution_count": 115,
     "metadata": {},
     "output_type": "execute_result"
    }
   ],
   "source": [
    "best_h_gaus, best_loss_gaus = gpgo.getResult()[0], -gpgo.getResult()[1]\n",
    "List_of_h = []\n",
    "for key in best_h_gaus:\n",
    "    List_of_h.append(best_h_gaus[key])\n",
    "    \n",
    "best_h_gaus = np.array(List_of_h)\n",
    "best_h_gaus"
   ]
  },
  {
   "cell_type": "code",
   "execution_count": 116,
   "metadata": {},
   "outputs": [
    {
     "data": {
      "text/plain": [
       "0.7175102233886719"
      ]
     },
     "execution_count": 116,
     "metadata": {},
     "output_type": "execute_result"
    }
   ],
   "source": [
    "best_loss_gaus"
   ]
  },
  {
   "cell_type": "markdown",
   "metadata": {},
   "source": [
    "Почему-то гаусовский процесс ищет решение на границе множества"
   ]
  },
  {
   "cell_type": "markdown",
   "metadata": {
    "colab_type": "text",
    "id": "Cys04QLwY7b-"
   },
   "source": [
    "# HOAG"
   ]
  },
  {
   "cell_type": "code",
   "execution_count": 183,
   "metadata": {
    "colab": {
     "base_uri": "https://localhost:8080/",
     "height": 34
    },
    "colab_type": "code",
    "id": "M0b5GpfEY9zp",
    "outputId": "f83afc0c-f999-4c07-d0c6-2bc1b333364a"
   },
   "outputs": [
    {
     "name": "stderr",
     "output_type": "stream",
     "text": [
      "100%|██████████| 200/200 [05:19<00:00,  1.53s/it]\n"
     ]
    }
   ],
   "source": [
    "model = Neural(input_dim=n, output_dim=1, hidden_dim=1)\n",
    "model.random_h_init()\n",
    "\n",
    "optimazer_theta = optim.Adam(model.parameters(), lr=0.01)\n",
    "optimazer_h = optim.SGD(model.list_of_h, lr=0.01)\n",
    "\n",
    "List_of_h = []\n",
    "List_of_loss = []\n",
    "\n",
    "for epoch in tqdm(range(200)):\n",
    "    for ep in range(200):\n",
    "        generator = DataLoader(train_data, batch_size=64, shuffle=True)\n",
    "        for batch_x, batch_y in generator:\n",
    "            model.zero_grad()\n",
    "            loss = -model.margin_log_likelihood(batch_x, batch_y)\n",
    "            loss.backward()\n",
    "            optimazer_theta.step()\n",
    "    \n",
    "    model.zero_grad()\n",
    "    model.h_zero_grad()\n",
    "    hess = hessian(-model.margin_log_likelihood(X_valid, Y_valid), model.parameters())\n",
    "    model.h_zero_grad()\n",
    "    model.zero_grad()\n",
    "    grad = gradient(model.loss(X_valid, Y_valid), model.parameters())\n",
    "\n",
    "    lambd = torch.inverse(hess)@grad\n",
    "\n",
    "    model.h_zero_grad()\n",
    "    model.zero_grad()\n",
    "    grad = gradient(-model.margin_log_likelihood(X_valid, Y_valid), model.parameters(), create_graph=True)\n",
    "\n",
    "    mat = torch.cat([gradient(gr, model.list_of_h, retain_graph=True).view([-1, 1]) for gr in grad], dim = 1)\n",
    "\n",
    "    full_grad = -mat.transpose(0,1)@lambd\n",
    "\n",
    "    model.zero_grad()\n",
    "    model.h_zero_grad()\n",
    "    model.h_set_grad(full_grad)\n",
    "\n",
    "    optimazer_h.step()\n",
    "    List_of_h.append(h_to_numpy(model))\n",
    "    List_of_loss.append(model.loss(X_valid, Y_valid).item())\n",
    "\n",
    "    \n",
    "\n",
    "List_of_h = np.array(List_of_h)\n",
    "List_of_loss = np.array(List_of_loss)"
   ]
  },
  {
   "cell_type": "code",
   "execution_count": 184,
   "metadata": {
    "colab": {
     "base_uri": "https://localhost:8080/",
     "height": 507
    },
    "colab_type": "code",
    "id": "_ITY62tGaKvT",
    "outputId": "1aa7bf3c-12de-45b4-f3bd-d8ee16cfb5d8"
   },
   "outputs": [
    {
     "data": {
      "image/png": "[encoded data removed]",
      "text/plain": [
       "<Figure size 1152x576 with 1 Axes>"
      ]
     },
     "metadata": {
      "tags": []
     },
     "output_type": "display_data"
    }
   ],
   "source": [
    "_ = plt.plot(List_of_h**2)"
   ]
  },
  {
   "cell_type": "code",
   "execution_count": 185,
   "metadata": {
    "colab": {
     "base_uri": "https://localhost:8080/",
     "height": 514
    },
    "colab_type": "code",
    "id": "o9E0qJRikmUx",
    "outputId": "4c4ca589-855d-421f-c7a9-152e362f225a"
   },
   "outputs": [
    {
     "data": {
      "image/png": "[encoded data removed]",
      "text/plain": [
       "<Figure size 1152x576 with 1 Axes>"
      ]
     },
     "metadata": {
      "tags": []
     },
     "output_type": "display_data"
    }
   ],
   "source": [
    "_ = plt.plot(List_of_loss)"
   ]
  },
  {
   "cell_type": "code",
   "execution_count": 0,
   "metadata": {
    "colab": {},
    "colab_type": "code",
    "id": "S_1BoOJgn6-U"
   },
   "outputs": [],
   "source": []
  }
 ],
 "metadata": {
  "colab": {
   "collapsed_sections": [],
   "name": "main.ipynb",
   "provenance": []
  },
  "kernelspec": {
   "display_name": "Python 3",
   "language": "python",
   "name": "python3"
  },
  "language_info": {
   "codemirror_mode": {
    "name": "ipython",
    "version": 3
   },
   "file_extension": ".py",
   "mimetype": "text/x-python",
   "name": "python",
   "nbconvert_exporter": "python",
   "pygments_lexer": "ipython3",
   "version": "3.6.2"
  }
 },
 "nbformat": 4,
 "nbformat_minor": 1
}
