{
  "nbformat": 4,
  "nbformat_minor": 0,
  "metadata": {
    "kernelspec": {
      "display_name": "Python 3",
      "language": "python",
      "name": "python3"
    },
    "language_info": {
      "codemirror_mode": {
        "name": "ipython",
        "version": 3
      },
      "file_extension": ".py",
      "mimetype": "text/x-python",
      "name": "python",
      "nbconvert_exporter": "python",
      "pygments_lexer": "ipython3",
      "version": "3.6.2"
    },
    "colab": {
      "name": "main.ipynb",
      "provenance": [],
      "collapsed_sections": []
    }
  },
  "cells": [
    {
      "cell_type": "code",
      "metadata": {
        "id": "sDUVA7WCIWde",
        "colab_type": "code",
        "colab": {}
      },
      "source": [
        "from zlib import crc32"
      ],
      "execution_count": 0,
      "outputs": []
    },
    {
      "cell_type": "code",
      "metadata": {
        "id": "_ecEqR2qIWdl",
        "colab_type": "code",
        "outputId": "adafe6ab-aac0-422c-8176-5f4ce4936d75",
        "colab": {
          "base_uri": "https://localhost:8080/",
          "height": 34
        }
      },
      "source": [
        "crc32('грабовой'.lower().encode('utf-8'))%5+1, crc32('grabovoy'.lower().encode('utf-8'))%3+1"
      ],
      "execution_count": 2,
      "outputs": [
        {
          "output_type": "execute_result",
          "data": {
            "text/plain": [
              "(2, 3)"
            ]
          },
          "metadata": {
            "tags": []
          },
          "execution_count": 2
        }
      ]
    },
    {
      "cell_type": "code",
      "metadata": {
        "id": "lRw7tB2F_kvg",
        "colab_type": "code",
        "colab": {}
      },
      "source": [
        "import numpy as np"
      ],
      "execution_count": 0,
      "outputs": []
    },
    {
      "cell_type": "code",
      "metadata": {
        "id": "E5mJHz-6BGj2",
        "colab_type": "code",
        "colab": {}
      },
      "source": [
        "import matplotlib.pyplot as plt"
      ],
      "execution_count": 0,
      "outputs": []
    },
    {
      "cell_type": "code",
      "metadata": {
        "id": "u-xH14pMIWdr",
        "colab_type": "code",
        "colab": {}
      },
      "source": [
        "import torch\n",
        "import torch.nn as nn\n",
        "import torch.nn.functional as F\n",
        "from torch.optim import Optimizer\n",
        "\n",
        "from torch.utils.data import TensorDataset, DataLoader, Dataset\n",
        "\n",
        "from torchvision import datasets"
      ],
      "execution_count": 0,
      "outputs": []
    },
    {
      "cell_type": "code",
      "metadata": {
        "id": "vYh-uWuv-xsj",
        "colab_type": "code",
        "colab": {}
      },
      "source": [
        "import pickle\n",
        "from google.colab import files"
      ],
      "execution_count": 0,
      "outputs": []
    },
    {
      "cell_type": "code",
      "metadata": {
        "id": "ezKBGTrTIWdy",
        "colab_type": "code",
        "colab": {}
      },
      "source": [
        "from tqdm import tqdm as tqdm"
      ],
      "execution_count": 0,
      "outputs": []
    },
    {
      "cell_type": "code",
      "metadata": {
        "id": "eOVW8XKdIWd2",
        "colab_type": "code",
        "outputId": "72a25541-26db-4000-8817-359f6e5dbd2a",
        "colab": {
          "base_uri": "https://localhost:8080/",
          "height": 153
        }
      },
      "source": [
        "MNIST = datasets.MNIST('./mnist', train=False, download=True, transform=None)\n",
        "X_test, Y_test = MNIST.test_data, MNIST.test_labels\n",
        "\n",
        "MNIST = datasets.MNIST('./mnist', train=True, download=True, transform=None)\n",
        "X_train, Y_train = MNIST.train_data, MNIST.train_labels"
      ],
      "execution_count": 8,
      "outputs": [
        {
          "output_type": "stream",
          "text": [
            "/usr/local/lib/python3.6/dist-packages/torchvision/datasets/mnist.py:58: UserWarning: test_data has been renamed data\n",
            "  warnings.warn(\"test_data has been renamed data\")\n",
            "/usr/local/lib/python3.6/dist-packages/torchvision/datasets/mnist.py:48: UserWarning: test_labels has been renamed targets\n",
            "  warnings.warn(\"test_labels has been renamed targets\")\n",
            "/usr/local/lib/python3.6/dist-packages/torchvision/datasets/mnist.py:53: UserWarning: train_data has been renamed data\n",
            "  warnings.warn(\"train_data has been renamed data\")\n",
            "/usr/local/lib/python3.6/dist-packages/torchvision/datasets/mnist.py:43: UserWarning: train_labels has been renamed targets\n",
            "  warnings.warn(\"train_labels has been renamed targets\")\n"
          ],
          "name": "stderr"
        }
      ]
    },
    {
      "cell_type": "code",
      "metadata": {
        "id": "MECG-LbtIWd4",
        "colab_type": "code",
        "colab": {}
      },
      "source": [
        "X_train = X_train.reshape([X_train.shape[0], -1]).float()\n",
        "X_test = X_test.reshape([X_test.shape[0], -1]).float()"
      ],
      "execution_count": 0,
      "outputs": []
    },
    {
      "cell_type": "code",
      "metadata": {
        "id": "CM1Tt6gsIWd7",
        "colab_type": "code",
        "outputId": "0bf794f6-077e-441b-beef-948fddcfccb8",
        "colab": {
          "base_uri": "https://localhost:8080/",
          "height": 34
        }
      },
      "source": [
        "X_train.shape, X_test.shape"
      ],
      "execution_count": 10,
      "outputs": [
        {
          "output_type": "execute_result",
          "data": {
            "text/plain": [
              "(torch.Size([60000, 784]), torch.Size([10000, 784]))"
            ]
          },
          "metadata": {
            "tags": []
          },
          "execution_count": 10
        }
      ]
    },
    {
      "cell_type": "markdown",
      "metadata": {
        "id": "c50HSjxgIWd9",
        "colab_type": "text"
      },
      "source": [
        "# Model"
      ]
    },
    {
      "cell_type": "code",
      "metadata": {
        "id": "IELWT_-JnExw",
        "colab_type": "code",
        "colab": {}
      },
      "source": [
        "def gradient(outputs, inputs, grad_outputs=None, retain_graph=None, create_graph=False):\n",
        "    '''\n",
        "    Compute the gradient of `outputs` with respect to `inputs`\n",
        "    gradient(x.sum(), x)\n",
        "    gradient((x * y).sum(), [x, y])\n",
        "    '''\n",
        "    if torch.is_tensor(inputs):\n",
        "        inputs = [inputs]\n",
        "    else:\n",
        "        inputs = list(inputs)\n",
        "    grads = torch.autograd.grad(outputs, inputs, grad_outputs,\n",
        "                                allow_unused=True,\n",
        "                                retain_graph=retain_graph,\n",
        "                                create_graph=create_graph)\n",
        "    grads = [x if x is not None else torch.zeros_like(y) for x, y in zip(grads, inputs)]\n",
        "    return torch.cat([x.contiguous().view(-1) for x in grads])\n",
        "\n",
        "def hessian(output, inputs, out=None, allow_unused=False, create_graph=False):\n",
        "    '''\n",
        "    Compute the Hessian of `output` with respect to `inputs`\n",
        "    hessian((x * y).sum(), [x, y])\n",
        "    '''\n",
        "    assert output.ndimension() == 0\n",
        "\n",
        "    if torch.is_tensor(inputs):\n",
        "        inputs = [inputs]\n",
        "    else:\n",
        "        inputs = list(inputs)\n",
        "\n",
        "    n = sum(p.numel() for p in inputs)\n",
        "    if out is None:\n",
        "        out = output.new_zeros(n, n)\n",
        "\n",
        "    ai = 0\n",
        "    for i, inp in enumerate(inputs):\n",
        "        [grad] = torch.autograd.grad(output, inp, create_graph=True, allow_unused=allow_unused)\n",
        "        grad = torch.zeros_like(inp) if grad is None else grad\n",
        "        grad = grad.contiguous().view(-1)\n",
        "\n",
        "        for j in range(inp.numel()):\n",
        "            if grad[j].requires_grad:\n",
        "                row = gradient(grad[j], inputs[i:], retain_graph=True, create_graph=create_graph)[j:]\n",
        "            else:\n",
        "                row = grad[j].new_zeros(sum(x.numel() for x in inputs[i:]) - j)\n",
        "\n",
        "            out[ai, ai:].add_(row.type_as(out))  # ai's row\n",
        "            if ai + 1 < n:\n",
        "                out[ai + 1:, ai].add_(row[1:].type_as(out))  # ai's column\n",
        "            del row\n",
        "            ai += 1\n",
        "        del grad\n",
        "\n",
        "    return out"
      ],
      "execution_count": 0,
      "outputs": []
    },
    {
      "cell_type": "code",
      "metadata": {
        "id": "3sU4N4hkIWd-",
        "colab_type": "code",
        "colab": {}
      },
      "source": [
        "class LogReg(nn.Module):\n",
        "    def __init__(self, input_dim = 20, output_dim = 10, device = 'cpu'):\n",
        "        super(LogReg, self).__init__()\n",
        "        \n",
        "        self.input_dim = input_dim\n",
        "        self.output_dim = output_dim\n",
        "        \n",
        "        self.linear = nn.Linear(input_dim, output_dim)\n",
        "        \n",
        "        self.to(device)\n",
        "        \n",
        "    def forward(self, input):\n",
        "        out = input\n",
        "        out = F.relu(out)\n",
        "        return self.linear(out)"
      ],
      "execution_count": 0,
      "outputs": []
    },
    {
      "cell_type": "markdown",
      "metadata": {
        "id": "tL9H_7P_IWd_",
        "colab_type": "text"
      },
      "source": [
        "# Training function"
      ]
    },
    {
      "cell_type": "code",
      "metadata": {
        "id": "veyRL9LKIWd_",
        "colab_type": "code",
        "colab": {}
      },
      "source": [
        "def train_on_batch(model, batch_of_x, batch_of_y, optimizer, loss_function):\n",
        "        model.zero_grad()\n",
        "        \n",
        "        output = model(batch_of_x)\n",
        "        \n",
        "        loss = loss_function(output, batch_of_y)\n",
        "        loss.backward()\n",
        "        optimizer.step()\n",
        "     \n",
        "        return\n",
        "    \n",
        "def train_epoch(train_generator, model, loss_function, optimizer):\n",
        "    model.train()\n",
        "    for it, (batch_of_x, batch_of_y) in enumerate(train_generator):\n",
        "        train_on_batch(model, batch_of_x, batch_of_y, optimizer, loss_function)\n",
        "\n",
        "    return\n",
        "\n",
        "def trainer(count_of_epoch, \n",
        "            batch_size, \n",
        "            dataset,\n",
        "            model, \n",
        "            loss_function,\n",
        "            optimizer,\n",
        "            progress = None\n",
        "           ):\n",
        "    iterations = range(count_of_epoch)\n",
        "    if progress is not None:\n",
        "        iterations = progress(iterations)\n",
        "\n",
        "    for it in iterations:\n",
        "        optima = optimizer\n",
        "\n",
        "        batch_generator = DataLoader(dataset = dataset, batch_size = batch_size, shuffle=True)\n",
        "        \n",
        "        train_epoch(train_generator = batch_generator, model = model, loss_function = loss_function, optimizer = optima)\n",
        "    \n",
        "    return"
      ],
      "execution_count": 0,
      "outputs": []
    },
    {
      "cell_type": "markdown",
      "metadata": {
        "id": "dYhvcbLmIWeA",
        "colab_type": "text"
      },
      "source": [
        "# Переопределеный оптимизатор"
      ]
    },
    {
      "cell_type": "code",
      "metadata": {
        "id": "7J43Um9tIWeA",
        "colab_type": "code",
        "colab": {}
      },
      "source": [
        "class Adam(Optimizer):\n",
        "    def __init__(self, params, lr=0.001, betas=(0.9, 0.999), eps=1e-8, weight_decay=0, amsgrad=False):\n",
        "        if not 0.0 <= lr:\n",
        "            raise ValueError(\"Invalid learning rate: {}\".format(lr))\n",
        "        if not 0.0 <= eps:\n",
        "            raise ValueError(\"Invalid epsilon value: {}\".format(eps))\n",
        "        if not 0.0 <= betas[0] < 1.0:\n",
        "            raise ValueError(\"Invalid beta parameter at index 0: {}\".format(betas[0]))\n",
        "        if not 0.0 <= betas[1] < 1.0:\n",
        "            raise ValueError(\"Invalid beta parameter at index 1: {}\".format(betas[1]))\n",
        "        defaults = dict(lr=lr, betas=betas, eps=eps, weight_decay=weight_decay, amsgrad=amsgrad)\n",
        "        super(Adam, self).__init__(params, defaults)\n",
        "\n",
        "    def __setstate__(self, state):\n",
        "        super(Adam, self).__setstate__(state)\n",
        "        for group in self.param_groups:\n",
        "            group.setdefault('amsgrad', False)\n",
        "            \n",
        "# ==================================================\n",
        "# Additition function\n",
        "    def get_masks(self, kind = 'prune'):\n",
        "        list_of_mask = []\n",
        "        LIST_prune = []\n",
        "        mask_vector = None\n",
        "        if kind == 'prune':\n",
        "            for group in self.param_groups:\n",
        "                 for p in group['params']:\n",
        "                    param_state = self.state[p]\n",
        "                    if 'prune' not in param_state:\n",
        "                        param_state['prune'] = torch.ones_like(p)\n",
        "\n",
        "                    p_vector = p.view(-1)\n",
        "                    prune_vector = param_state['prune'].view(-1)\n",
        "                    LIST_prune.append(prune_vector)\n",
        "        mask_vector = torch.cat(LIST_prune)\n",
        "        return mask_vector\n",
        "\n",
        "    def prune(self, amount = 0.1, method='random', **argv):\n",
        "        if method == 'random':\n",
        "            for group in self.param_groups:\n",
        "                 for p in group['params']:\n",
        "                    param_state = self.state[p]\n",
        "                    if 'prune' not in param_state:\n",
        "                        param_state['prune'] = torch.ones_like(p)\n",
        "\n",
        "                    p_vector = p.view(-1)\n",
        "                    prune_vector = param_state['prune'].view(-1)\n",
        "                    if int(amount*len(p_vector)) > 0:\n",
        "                        prune_vector[torch.randperm(p_vector.shape[0])[:int(amount*len(p_vector))]] = 0\n",
        "                        p_vector.data.mul_(prune_vector)\n",
        "\n",
        "        elif method == 'OBD':\n",
        "            if argv['hessian'] is None:\n",
        "                pass\n",
        "            else:\n",
        "                for group in self.param_groups:\n",
        "                    for p, h in zip(group['params'], argv['hessian']):\n",
        "                        param_state = self.state[p]\n",
        "                        if 'prune' not in param_state:\n",
        "                            param_state['prune'] = torch.ones_like(p)\n",
        "\n",
        "                        p_vector = p.view(-1)\n",
        "                        score = (p*h).view(-1)\n",
        "                        prune_vector = param_state['prune'].view(-1)\n",
        "                        if int(amount*len(p_vector)) > 0:\n",
        "                            prune_vector[torch.sort(score)[1][:int(amount*len(p_vector))]] = 0\n",
        "                            p_vector.data.mul_(prune_vector)\n",
        "\n",
        "            pass\n",
        "    \n",
        "    def deprune(self):\n",
        "        for group in self.param_groups:\n",
        "             for p in group['params']:\n",
        "                param_state = self.state[p]\n",
        "                param_state['prune'] = torch.ones_like(p)\n",
        "# ==================================================\n",
        "\n",
        "    def step(self, closure=None):\n",
        "        loss = None\n",
        "        if closure is not None:\n",
        "            loss = closure()\n",
        "\n",
        "        for group in self.param_groups:\n",
        "            for p in group['params']:\n",
        "                if p.grad is None:\n",
        "                    continue\n",
        "                    \n",
        "# ==================================================\n",
        "# Addition in each step\n",
        "                d_p = p.grad.data.detach()\n",
        "                param_state = self.state[p]\n",
        "    \n",
        "                if 'prune' in param_state:\n",
        "                    prune = param_state['prune']\n",
        "                else:\n",
        "                    prune = torch.ones_like(p)\n",
        "                    param_state['prune'] = prune\n",
        "# ==================================================                   \n",
        "                    \n",
        "                grad = p.grad.data\n",
        "                if grad.is_sparse:\n",
        "                    raise RuntimeError('Adam does not support sparse gradients, please consider SparseAdam instead')\n",
        "                amsgrad = group['amsgrad']\n",
        "\n",
        "                state = self.state[p]\n",
        "\n",
        "                # State initialization\n",
        "                if 'step' not in state:\n",
        "                    state['step'] = 0\n",
        "                # Exponential moving average of gradient values\n",
        "                if 'exp_avg' not in state:\n",
        "                    state['exp_avg'] = torch.zeros_like(p.data)\n",
        "                # Exponential moving average of squared gradient values\n",
        "                if 'exp_avg_sq' not in state:\n",
        "                    state['exp_avg_sq'] = torch.zeros_like(p.data)\n",
        "                if amsgrad:\n",
        "                    # Maintains max of all exp. moving avg. of sq. grad. values\n",
        "                    if 'max_exp_avg_sq' not in state:\n",
        "                        state['max_exp_avg_sq'] = torch.zeros_like(p.data)\n",
        "                \n",
        "                exp_avg, exp_avg_sq = state['exp_avg'], state['exp_avg_sq']\n",
        "                if amsgrad:\n",
        "                    max_exp_avg_sq = state['max_exp_avg_sq']\n",
        "                beta1, beta2 = group['betas']\n",
        "\n",
        "                state['step'] += 1\n",
        "\n",
        "                if group['weight_decay'] != 0:\n",
        "                    grad.add_(group['weight_decay'], p.data)\n",
        "\n",
        "                # Decay the first and second moment running average coefficient\n",
        "                exp_avg.mul_(beta1).add_(1 - beta1, grad)\n",
        "                exp_avg_sq.mul_(beta2).addcmul_(1 - beta2, grad, grad)\n",
        "                if amsgrad:\n",
        "                    # Maintains the maximum of all 2nd moment running avg. till now\n",
        "                    torch.max(max_exp_avg_sq, exp_avg_sq, out=max_exp_avg_sq)\n",
        "                    # Use the max. for normalizing running avg. of gradient\n",
        "                    denom = max_exp_avg_sq.sqrt().add_(group['eps'])\n",
        "                else:\n",
        "                    denom = exp_avg_sq.sqrt().add_(group['eps'])\n",
        "\n",
        "                    \n",
        "                bias_correction1 = 1 - beta1 ** state['step']\n",
        "                bias_correction2 = 1 - beta2 ** state['step']\n",
        "                step_size = group['lr'] * (bias_correction2**(0.5)) / bias_correction1\n",
        "\n",
        "                p.data.addcdiv_(-step_size, prune*exp_avg, denom)\n",
        "\n",
        "        return loss"
      ],
      "execution_count": 0,
      "outputs": []
    },
    {
      "cell_type": "markdown",
      "metadata": {
        "id": "Z-de7oKsIWeB",
        "colab_type": "text"
      },
      "source": [
        "# Training"
      ]
    },
    {
      "cell_type": "code",
      "metadata": {
        "id": "SpRX1OD_IWeC",
        "colab_type": "code",
        "outputId": "9b7c81cd-09a0-4bf1-ca1c-d2fe12ae0b12",
        "colab": {
          "base_uri": "https://localhost:8080/",
          "height": 34
        }
      },
      "source": [
        "device = torch.device(\"cuda\" if torch.cuda.is_available() else \"cpu\")\n",
        "device"
      ],
      "execution_count": 15,
      "outputs": [
        {
          "output_type": "execute_result",
          "data": {
            "text/plain": [
              "device(type='cpu')"
            ]
          },
          "metadata": {
            "tags": []
          },
          "execution_count": 15
        }
      ]
    },
    {
      "cell_type": "code",
      "metadata": {
        "id": "47AcefhNIWeE",
        "colab_type": "code",
        "colab": {}
      },
      "source": [
        "loss_function = torch.nn.CrossEntropyLoss()"
      ],
      "execution_count": 0,
      "outputs": []
    },
    {
      "cell_type": "code",
      "metadata": {
        "id": "s2Pte2nfIWeF",
        "colab_type": "code",
        "colab": {}
      },
      "source": [
        "TRAIN = TensorDataset(X_train.to(device), Y_train.to(device))\n",
        "TEST = TensorDataset(X_test.to(device), Y_test.to(device))"
      ],
      "execution_count": 0,
      "outputs": []
    },
    {
      "cell_type": "code",
      "metadata": {
        "id": "nAYSy-dZIWeG",
        "colab_type": "code",
        "colab": {}
      },
      "source": [
        "model = LogReg(input_dim=X_train.shape[1], output_dim = 10, device=device)"
      ],
      "execution_count": 0,
      "outputs": []
    },
    {
      "cell_type": "code",
      "metadata": {
        "id": "jcykU8MDIWeG",
        "colab_type": "code",
        "colab": {}
      },
      "source": [
        "optimizer = Adam(model.parameters())"
      ],
      "execution_count": 0,
      "outputs": []
    },
    {
      "cell_type": "code",
      "metadata": {
        "id": "VXz5GEQ9IWeI",
        "colab_type": "code",
        "outputId": "558bc9c6-5e10-457e-d17a-dadd6bfb5894",
        "colab": {
          "base_uri": "https://localhost:8080/",
          "height": 34
        }
      },
      "source": [
        "trainer(count_of_epoch = 100,\n",
        "        batch_size = 64,\n",
        "        dataset = TRAIN,\n",
        "        model = model,\n",
        "        loss_function = loss_function,\n",
        "        optimizer = optimizer,\n",
        "        progress = tqdm\n",
        "       )"
      ],
      "execution_count": 0,
      "outputs": [
        {
          "output_type": "stream",
          "text": [
            " 41%|████      | 41/100 [00:58<01:26,  1.47s/it]"
          ],
          "name": "stderr"
        }
      ]
    },
    {
      "cell_type": "code",
      "metadata": {
        "id": "3n2QdIc7-FnH",
        "colab_type": "code",
        "colab": {}
      },
      "source": [
        "torch.save(model.state_dict(), 'train_model.sv')"
      ],
      "execution_count": 0,
      "outputs": []
    },
    {
      "cell_type": "code",
      "metadata": {
        "id": "An5G7SSRIWeJ",
        "colab_type": "code",
        "colab": {}
      },
      "source": [
        "output = model(TRAIN[:][0])\n",
        "\n",
        "loss = loss_function(output, TRAIN[:][1])"
      ],
      "execution_count": 0,
      "outputs": []
    },
    {
      "cell_type": "code",
      "metadata": {
        "id": "Ng4dPeRmtEln",
        "colab_type": "code",
        "colab": {}
      },
      "source": [
        "def resize_hess(model, hess):\n",
        "    bias = 0\n",
        "    new_hess = []\n",
        "    for p in model.parameters():\n",
        "        p_size = torch.tensor(p.size()).prod()\n",
        "        new_hess.append(hess[bias:bias+p_size].view_as(p))\n",
        "        bias+=p_size\n",
        "    return new_hess"
      ],
      "execution_count": 0,
      "outputs": []
    },
    {
      "cell_type": "code",
      "metadata": {
        "id": "sYNkYmHpnLAB",
        "colab_type": "code",
        "colab": {
          "base_uri": "https://localhost:8080/",
          "height": 51
        },
        "outputId": "a1a1dd4d-a3d8-44aa-d405-6ee0a1b0a3cc"
      },
      "source": [
        "%%time\n",
        "hess = hessian(loss, model.parameters())\n",
        "\n",
        "hhs = torch.diag(hess)\n",
        "hs = resize_hess(model, hhs)"
      ],
      "execution_count": 21,
      "outputs": [
        {
          "output_type": "stream",
          "text": [
            "CPU times: user 24min 2s, sys: 4.63 s, total: 24min 7s\n",
            "Wall time: 24min 8s\n"
          ],
          "name": "stdout"
        }
      ]
    },
    {
      "cell_type": "code",
      "metadata": {
        "id": "5jcPYBa7_NlM",
        "colab_type": "code",
        "colab": {}
      },
      "source": [
        "with open('hess.pkl', 'wb') as f:\n",
        "    pickle.dump(hs, f)\n",
        "\n",
        "# with open('hess.pkl', 'rb') as f:\n",
        "#     hs = pickle.load(f)"
      ],
      "execution_count": 0,
      "outputs": []
    },
    {
      "cell_type": "code",
      "metadata": {
        "id": "xobJxrVP_H6p",
        "colab_type": "code",
        "colab": {}
      },
      "source": [
        "files.download('train_model.sv')\n",
        "files.download('hess.pkl')"
      ],
      "execution_count": 0,
      "outputs": []
    },
    {
      "cell_type": "code",
      "metadata": {
        "id": "Tp0v1YVi_gqB",
        "colab_type": "code",
        "colab": {
          "base_uri": "https://localhost:8080/",
          "height": 493
        },
        "outputId": "7473626a-7d04-407c-ef9e-295132ebe64d"
      },
      "source": [
        "amounts = np.linspace(0, 1, 10)\n",
        "k_for_averaging = 5\n",
        "\n",
        "List_of_random_score = []\n",
        "for amount in tqdm(amounts):\n",
        "    List_of_score = []\n",
        "    for _ in range(k_for_averaging):\n",
        "        model.load_state_dict(torch.load('train_model.sv'))\n",
        "        optimizer = Adam(model.parameters())\n",
        "        optimizer.prune(amount=amount, method='random', hessian=hs)\n",
        "\n",
        "        trainer(count_of_epoch = 2,\n",
        "            batch_size = 64,\n",
        "            dataset = TRAIN,\n",
        "            model = model,\n",
        "            loss_function = loss_function,\n",
        "            optimizer = optimizer\n",
        "        )\n",
        "\n",
        "        output = model(TEST[:][0])\n",
        "\n",
        "        List_of_score.append(loss_function(output, TEST[:][1]).item())\n",
        "    List_of_random_score.append(List_of_score)\n",
        "  \n",
        "List_of_random_score = np.array(List_of_random_score)\n",
        "\n",
        "\n",
        "List_of_OBD_score = []\n",
        "for amount in tqdm(amounts):\n",
        "    model.load_state_dict(torch.load('train_model.sv'))\n",
        "    optimizer = Adam(model.parameters())\n",
        "    optimizer.prune(amount=amount, method='OBD', hessian=hs)\n",
        "\n",
        "    trainer(count_of_epoch = 2,\n",
        "        batch_size = 64,\n",
        "        dataset = TRAIN,\n",
        "        model = model,\n",
        "        loss_function = loss_function,\n",
        "        optimizer = optimizer\n",
        "    )\n",
        "\n",
        "    output = model(TEST[:][0])\n",
        "\n",
        "    List_of_OBD_score.append(loss_function(output, TEST[:][1]).item())\n",
        "  \n",
        "List_of_OBD_score = np.array(List_of_OBD_score)"
      ],
      "execution_count": 123,
      "outputs": [
        {
          "output_type": "stream",
          "text": [
            "\n",
            "\n",
            "  0%|          | 0/5 [00:00<?, ?it/s]\u001b[A\u001b[A\n",
            "\n",
            " 20%|██        | 1/5 [00:14<00:57, 14.45s/it]\u001b[A\u001b[A\n",
            "\n",
            " 40%|████      | 2/5 [00:28<00:43, 14.47s/it]\u001b[A\u001b[A\n",
            "\n",
            " 60%|██████    | 3/5 [00:43<00:29, 14.54s/it]\u001b[A\u001b[A\n",
            "\n",
            " 80%|████████  | 4/5 [00:56<00:14, 14.14s/it]\u001b[A\u001b[A\n",
            "\n",
            "100%|██████████| 5/5 [01:09<00:00, 13.62s/it]\u001b[A\u001b[A\n",
            "\n",
            "\u001b[A\u001b[A\n",
            "\n",
            "  0%|          | 0/5 [00:00<?, ?it/s]\u001b[A\u001b[A\n",
            "\n",
            " 20%|██        | 1/5 [00:03<00:12,  3.04s/it]\u001b[A\u001b[A\n",
            "\n",
            " 40%|████      | 2/5 [00:06<00:09,  3.07s/it]\u001b[A\u001b[A\n",
            "\n",
            " 60%|██████    | 3/5 [00:09<00:06,  3.05s/it]\u001b[A\u001b[A\n",
            "\n",
            " 80%|████████  | 4/5 [00:12<00:03,  3.02s/it]\u001b[A\u001b[A\n",
            "\n",
            "100%|██████████| 5/5 [00:14<00:00,  2.86s/it]\u001b[A\u001b[A\n",
            "\n",
            "\u001b[A\u001b[A"
          ],
          "name": "stderr"
        }
      ]
    },
    {
      "cell_type": "code",
      "metadata": {
        "id": "bYU8pQfjBKrV",
        "colab_type": "code",
        "colab": {}
      },
      "source": [
        "random_mean = np.mean(List_of_random_score, axis = 0)\n",
        "random_std = np.std(List_of_random_score, axis = 0)"
      ],
      "execution_count": 0,
      "outputs": []
    },
    {
      "cell_type": "code",
      "metadata": {
        "id": "oSJPNaJv9Z4o",
        "colab_type": "code",
        "colab": {
          "base_uri": "https://localhost:8080/",
          "height": 285
        },
        "outputId": "19f929de-65a0-40bd-99e1-08f41433e495"
      },
      "source": [
        "plt.plot(amounts, random_mean)\n",
        "plt.fill_between(amounts, random_mean-random_std, random_mean+random_std, alpha=0.3)\n",
        "\n",
        "plt.plot(amounts, List_of_OBD_score)"
      ],
      "execution_count": 129,
      "outputs": [
        {
          "output_type": "execute_result",
          "data": {
            "text/plain": [
              "[<matplotlib.lines.Line2D at 0x7f6e90080358>]"
            ]
          },
          "metadata": {
            "tags": []
          },
          "execution_count": 129
        },
        {
          "output_type": "display_data",
          "data": {
            "image/png": "[encoded data removed]",
            "text/plain": [
              "<Figure size 432x288 with 1 Axes>"
            ]
          },
          "metadata": {
            "tags": []
          }
        }
      ]
    },
    {
      "cell_type": "code",
      "metadata": {
        "id": "alT6D8JADOhW",
        "colab_type": "code",
        "colab": {}
      },
      "source": [
        ""
      ],
      "execution_count": 0,
      "outputs": []
    }
  ]
}