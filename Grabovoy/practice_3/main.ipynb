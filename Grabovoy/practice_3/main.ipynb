{
 "cells": [
  {
   "cell_type": "code",
   "execution_count": 1,
   "metadata": {
    "colab": {},
    "colab_type": "code",
    "id": "sDUVA7WCIWde"
   },
   "outputs": [],
   "source": [
    "from zlib import crc32"
   ]
  },
  {
   "cell_type": "code",
   "execution_count": 2,
   "metadata": {
    "colab": {
     "base_uri": "https://localhost:8080/",
     "height": 34
    },
    "colab_type": "code",
    "id": "_ecEqR2qIWdl",
    "outputId": "adafe6ab-aac0-422c-8176-5f4ce4936d75"
   },
   "outputs": [
    {
     "data": {
      "text/plain": [
       "(2, 3)"
      ]
     },
     "execution_count": 2,
     "metadata": {},
     "output_type": "execute_result"
    }
   ],
   "source": [
    "crc32('грабовой'.lower().encode('utf-8'))%5+1, crc32('grabovoy'.lower().encode('utf-8'))%3+1"
   ]
  },
  {
   "cell_type": "code",
   "execution_count": 3,
   "metadata": {
    "colab": {},
    "colab_type": "code",
    "id": "lRw7tB2F_kvg"
   },
   "outputs": [],
   "source": [
    "import numpy as np"
   ]
  },
  {
   "cell_type": "code",
   "execution_count": 4,
   "metadata": {
    "colab": {},
    "colab_type": "code",
    "id": "E5mJHz-6BGj2"
   },
   "outputs": [],
   "source": [
    "import matplotlib.pyplot as plt"
   ]
  },
  {
   "cell_type": "code",
   "execution_count": 5,
   "metadata": {
    "colab": {},
    "colab_type": "code",
    "id": "u-xH14pMIWdr"
   },
   "outputs": [],
   "source": [
    "import torch\n",
    "import torch.nn as nn\n",
    "import torch.nn.functional as F\n",
    "from torch.optim import Optimizer\n",
    "\n",
    "from torch.utils.data import TensorDataset, DataLoader, Dataset\n",
    "\n",
    "from torchvision import datasets"
   ]
  },
  {
   "cell_type": "code",
   "execution_count": 6,
   "metadata": {
    "colab": {},
    "colab_type": "code",
    "id": "vYh-uWuv-xsj"
   },
   "outputs": [],
   "source": [
    "import pickle\n",
    "# from google.colab import files"
   ]
  },
  {
   "cell_type": "code",
   "execution_count": 7,
   "metadata": {
    "colab": {},
    "colab_type": "code",
    "id": "ezKBGTrTIWdy"
   },
   "outputs": [],
   "source": [
    "from tqdm import tqdm as tqdm"
   ]
  },
  {
   "cell_type": "code",
   "execution_count": 8,
   "metadata": {
    "colab": {
     "base_uri": "https://localhost:8080/",
     "height": 153
    },
    "colab_type": "code",
    "id": "eOVW8XKdIWd2",
    "outputId": "72a25541-26db-4000-8817-359f6e5dbd2a"
   },
   "outputs": [],
   "source": [
    "MNIST = datasets.MNIST('./mnist', train=False, download=True, transform=None)\n",
    "X_test, Y_test = MNIST.test_data, MNIST.test_labels\n",
    "\n",
    "MNIST = datasets.MNIST('./mnist', train=True, download=True, transform=None)\n",
    "X_train, Y_train = MNIST.train_data, MNIST.train_labels"
   ]
  },
  {
   "cell_type": "code",
   "execution_count": 9,
   "metadata": {
    "colab": {},
    "colab_type": "code",
    "id": "MECG-LbtIWd4"
   },
   "outputs": [],
   "source": [
    "X_train = X_train.reshape([X_train.shape[0], -1]).float()\n",
    "X_test = X_test.reshape([X_test.shape[0], -1]).float()"
   ]
  },
  {
   "cell_type": "code",
   "execution_count": 10,
   "metadata": {
    "colab": {
     "base_uri": "https://localhost:8080/",
     "height": 34
    },
    "colab_type": "code",
    "id": "CM1Tt6gsIWd7",
    "outputId": "0bf794f6-077e-441b-beef-948fddcfccb8"
   },
   "outputs": [
    {
     "data": {
      "text/plain": [
       "(torch.Size([60000, 784]), torch.Size([10000, 784]))"
      ]
     },
     "execution_count": 10,
     "metadata": {},
     "output_type": "execute_result"
    }
   ],
   "source": [
    "X_train.shape, X_test.shape"
   ]
  },
  {
   "cell_type": "markdown",
   "metadata": {
    "colab_type": "text",
    "id": "c50HSjxgIWd9"
   },
   "source": [
    "# Model"
   ]
  },
  {
   "cell_type": "code",
   "execution_count": 11,
   "metadata": {
    "colab": {},
    "colab_type": "code",
    "id": "IELWT_-JnExw"
   },
   "outputs": [],
   "source": [
    "##########################################\n",
    "# https://github.com/mariogeiger/hessian #\n",
    "##########################################\n",
    "#                                        #\n",
    "# Данные функции были взяты из интернета #\n",
    "#                                        #\n",
    "##########################################\n",
    "\n",
    "def gradient(outputs, inputs, grad_outputs=None, retain_graph=None, create_graph=False):\n",
    "    '''\n",
    "    Compute the gradient of `outputs` with respect to `inputs`\n",
    "    gradient(x.sum(), x)\n",
    "    gradient((x * y).sum(), [x, y])\n",
    "    '''\n",
    "    if torch.is_tensor(inputs):\n",
    "        inputs = [inputs]\n",
    "    else:\n",
    "        inputs = list(inputs)\n",
    "    grads = torch.autograd.grad(outputs, inputs, grad_outputs,\n",
    "                                allow_unused=True,\n",
    "                                retain_graph=retain_graph,\n",
    "                                create_graph=create_graph)\n",
    "    grads = [x if x is not None else torch.zeros_like(y) for x, y in zip(grads, inputs)]\n",
    "    return torch.cat([x.contiguous().view(-1) for x in grads])\n",
    "\n",
    "def hessian(output, inputs, out=None, allow_unused=False, create_graph=False):\n",
    "    '''\n",
    "    Compute the Hessian of `output` with respect to `inputs`\n",
    "    hessian((x * y).sum(), [x, y])\n",
    "    '''\n",
    "    assert output.ndimension() == 0\n",
    "\n",
    "    if torch.is_tensor(inputs):\n",
    "        inputs = [inputs]\n",
    "    else:\n",
    "        inputs = list(inputs)\n",
    "\n",
    "    n = sum(p.numel() for p in inputs)\n",
    "    if out is None:\n",
    "        out = output.new_zeros(n, n)\n",
    "\n",
    "    ai = 0\n",
    "    for i, inp in enumerate(inputs):\n",
    "        [grad] = torch.autograd.grad(output, inp, create_graph=True, allow_unused=allow_unused)\n",
    "        grad = torch.zeros_like(inp) if grad is None else grad\n",
    "        grad = grad.contiguous().view(-1)\n",
    "\n",
    "        for j in range(inp.numel()):\n",
    "            if grad[j].requires_grad:\n",
    "                row = gradient(grad[j], inputs[i:], retain_graph=True, create_graph=create_graph)[j:]\n",
    "            else:\n",
    "                row = grad[j].new_zeros(sum(x.numel() for x in inputs[i:]) - j)\n",
    "\n",
    "            out[ai, ai:].add_(row.type_as(out))  # ai's row\n",
    "            if ai + 1 < n:\n",
    "                out[ai + 1:, ai].add_(row[1:].type_as(out))  # ai's column\n",
    "            del row\n",
    "            ai += 1\n",
    "        del grad\n",
    "\n",
    "    return out"
   ]
  },
  {
   "cell_type": "markdown",
   "metadata": {},
   "source": [
    "### Определим модель логистической регресии"
   ]
  },
  {
   "cell_type": "code",
   "execution_count": 12,
   "metadata": {
    "colab": {},
    "colab_type": "code",
    "id": "3sU4N4hkIWd-"
   },
   "outputs": [],
   "source": [
    "class LogReg(nn.Module):\n",
    "    def __init__(self, input_dim = 20, output_dim = 10, device = 'cpu'):\n",
    "        super(LogReg, self).__init__()\n",
    "        \n",
    "        self.input_dim = input_dim\n",
    "        self.output_dim = output_dim\n",
    "        \n",
    "        self.linear = nn.Linear(input_dim, output_dim)\n",
    "        \n",
    "        self.to(device)\n",
    "        \n",
    "    def forward(self, input):\n",
    "        out = input\n",
    "        out = F.relu(out)\n",
    "        return self.linear(out)"
   ]
  },
  {
   "cell_type": "markdown",
   "metadata": {
    "colab_type": "text",
    "id": "tL9H_7P_IWd_"
   },
   "source": [
    "# Training function"
   ]
  },
  {
   "cell_type": "markdown",
   "metadata": {},
   "source": [
    "### Определим все функции для обучения модели"
   ]
  },
  {
   "cell_type": "code",
   "execution_count": 13,
   "metadata": {
    "colab": {},
    "colab_type": "code",
    "id": "veyRL9LKIWd_"
   },
   "outputs": [],
   "source": [
    "def train_on_batch(model, batch_of_x, batch_of_y, optimizer, loss_function):\n",
    "        model.zero_grad()\n",
    "        \n",
    "        output = model(batch_of_x)\n",
    "        \n",
    "        loss = loss_function(output, batch_of_y)\n",
    "        loss.backward()\n",
    "        optimizer.step()\n",
    "     \n",
    "        return\n",
    "    \n",
    "def train_epoch(train_generator, model, loss_function, optimizer):\n",
    "    model.train()\n",
    "    for it, (batch_of_x, batch_of_y) in enumerate(train_generator):\n",
    "        train_on_batch(model, batch_of_x, batch_of_y, optimizer, loss_function)\n",
    "\n",
    "    return\n",
    "\n",
    "def trainer(count_of_epoch, \n",
    "            batch_size, \n",
    "            dataset,\n",
    "            model, \n",
    "            loss_function,\n",
    "            optimizer,\n",
    "            progress = None\n",
    "           ):\n",
    "    iterations = range(count_of_epoch)\n",
    "    if progress is not None:\n",
    "        iterations = progress(iterations)\n",
    "\n",
    "    for it in iterations:\n",
    "        optima = optimizer\n",
    "\n",
    "        batch_generator = DataLoader(dataset = dataset, batch_size = batch_size, shuffle=True)\n",
    "        \n",
    "        train_epoch(train_generator = batch_generator, model = model, loss_function = loss_function, optimizer = optima)\n",
    "    \n",
    "    return"
   ]
  },
  {
   "cell_type": "markdown",
   "metadata": {
    "colab_type": "text",
    "id": "dYhvcbLmIWeA"
   },
   "source": [
    "# Переопределеный оптимизатор"
   ]
  },
  {
   "cell_type": "markdown",
   "metadata": {},
   "source": [
    "Переопределим оптимизатор, чтобы оптимизировать только те переменые, которые не были удалены из модели"
   ]
  },
  {
   "cell_type": "code",
   "execution_count": 14,
   "metadata": {
    "colab": {},
    "colab_type": "code",
    "id": "7J43Um9tIWeA"
   },
   "outputs": [],
   "source": [
    "class Adam(Optimizer):\n",
    "    def __init__(self, params, lr=0.001, betas=(0.9, 0.999), eps=1e-8, weight_decay=0, amsgrad=False):\n",
    "        if not 0.0 <= lr:\n",
    "            raise ValueError(\"Invalid learning rate: {}\".format(lr))\n",
    "        if not 0.0 <= eps:\n",
    "            raise ValueError(\"Invalid epsilon value: {}\".format(eps))\n",
    "        if not 0.0 <= betas[0] < 1.0:\n",
    "            raise ValueError(\"Invalid beta parameter at index 0: {}\".format(betas[0]))\n",
    "        if not 0.0 <= betas[1] < 1.0:\n",
    "            raise ValueError(\"Invalid beta parameter at index 1: {}\".format(betas[1]))\n",
    "        defaults = dict(lr=lr, betas=betas, eps=eps, weight_decay=weight_decay, amsgrad=amsgrad)\n",
    "        super(Adam, self).__init__(params, defaults)\n",
    "\n",
    "    def __setstate__(self, state):\n",
    "        super(Adam, self).__setstate__(state)\n",
    "        for group in self.param_groups:\n",
    "            group.setdefault('amsgrad', False)\n",
    "            \n",
    "# ==================================================\n",
    "# Additition function\n",
    "    def get_masks(self, kind = 'prune'):\n",
    "        list_of_mask = []\n",
    "        LIST_prune = []\n",
    "        mask_vector = None\n",
    "        if kind == 'prune':\n",
    "            for group in self.param_groups:\n",
    "                 for p in group['params']:\n",
    "                    param_state = self.state[p]\n",
    "                    if 'prune' not in param_state:\n",
    "                        param_state['prune'] = torch.ones_like(p)\n",
    "\n",
    "                    p_vector = p.view(-1)\n",
    "                    prune_vector = param_state['prune'].view(-1)\n",
    "                    LIST_prune.append(prune_vector)\n",
    "        mask_vector = torch.cat(LIST_prune)\n",
    "        return mask_vector\n",
    "\n",
    "    def prune(self, amount = 0.1, method='random', **argv):\n",
    "        if method == 'random':\n",
    "            for group in self.param_groups:\n",
    "                 for p in group['params']:\n",
    "                    param_state = self.state[p]\n",
    "                    if 'prune' not in param_state:\n",
    "                        param_state['prune'] = torch.ones_like(p)\n",
    "\n",
    "                    p_vector = p.view(-1)\n",
    "                    prune_vector = param_state['prune'].view(-1)\n",
    "                    if int(amount*len(p_vector)) > 0:\n",
    "                        prune_vector[torch.randperm(p_vector.shape[0])[:int(amount*len(p_vector))]] = 0\n",
    "                        p_vector.data.mul_(prune_vector)\n",
    "\n",
    "        elif method == 'OBD':\n",
    "            if argv['hessian'] is None:\n",
    "                pass\n",
    "            else:\n",
    "                for group in self.param_groups:\n",
    "                    for p, h in zip(group['params'], argv['hessian']):\n",
    "                        param_state = self.state[p]\n",
    "                        if 'prune' not in param_state:\n",
    "                            param_state['prune'] = torch.ones_like(p)\n",
    "\n",
    "                        p_vector = p.view(-1)\n",
    "                        score = (p*h).view(-1)\n",
    "                        prune_vector = param_state['prune'].view(-1)\n",
    "                        if int(amount*len(p_vector)) > 0:\n",
    "                            prune_vector[torch.sort(score)[1][:int(amount*len(p_vector))]] = 0\n",
    "                            p_vector.data.mul_(prune_vector)\n",
    "\n",
    "            pass\n",
    "    \n",
    "    def deprune(self):\n",
    "        for group in self.param_groups:\n",
    "             for p in group['params']:\n",
    "                param_state = self.state[p]\n",
    "                param_state['prune'] = torch.ones_like(p)\n",
    "# ==================================================\n",
    "\n",
    "    def step(self, closure=None):\n",
    "        loss = None\n",
    "        if closure is not None:\n",
    "            loss = closure()\n",
    "\n",
    "        for group in self.param_groups:\n",
    "            for p in group['params']:\n",
    "                if p.grad is None:\n",
    "                    continue\n",
    "                    \n",
    "# ==================================================\n",
    "# Addition in each step\n",
    "                d_p = p.grad.data.detach()\n",
    "                param_state = self.state[p]\n",
    "    \n",
    "                if 'prune' in param_state:\n",
    "                    prune = param_state['prune']\n",
    "                else:\n",
    "                    prune = torch.ones_like(p)\n",
    "                    param_state['prune'] = prune\n",
    "# ==================================================                   \n",
    "                    \n",
    "                grad = p.grad.data\n",
    "                if grad.is_sparse:\n",
    "                    raise RuntimeError('Adam does not support sparse gradients, please consider SparseAdam instead')\n",
    "                amsgrad = group['amsgrad']\n",
    "\n",
    "                state = self.state[p]\n",
    "\n",
    "                # State initialization\n",
    "                if 'step' not in state:\n",
    "                    state['step'] = 0\n",
    "                # Exponential moving average of gradient values\n",
    "                if 'exp_avg' not in state:\n",
    "                    state['exp_avg'] = torch.zeros_like(p.data)\n",
    "                # Exponential moving average of squared gradient values\n",
    "                if 'exp_avg_sq' not in state:\n",
    "                    state['exp_avg_sq'] = torch.zeros_like(p.data)\n",
    "                if amsgrad:\n",
    "                    # Maintains max of all exp. moving avg. of sq. grad. values\n",
    "                    if 'max_exp_avg_sq' not in state:\n",
    "                        state['max_exp_avg_sq'] = torch.zeros_like(p.data)\n",
    "                \n",
    "                exp_avg, exp_avg_sq = state['exp_avg'], state['exp_avg_sq']\n",
    "                if amsgrad:\n",
    "                    max_exp_avg_sq = state['max_exp_avg_sq']\n",
    "                beta1, beta2 = group['betas']\n",
    "\n",
    "                state['step'] += 1\n",
    "\n",
    "                if group['weight_decay'] != 0:\n",
    "                    grad.add_(group['weight_decay'], p.data)\n",
    "\n",
    "                # Decay the first and second moment running average coefficient\n",
    "                exp_avg.mul_(beta1).add_(1 - beta1, grad)\n",
    "                exp_avg_sq.mul_(beta2).addcmul_(1 - beta2, grad, grad)\n",
    "                if amsgrad:\n",
    "                    # Maintains the maximum of all 2nd moment running avg. till now\n",
    "                    torch.max(max_exp_avg_sq, exp_avg_sq, out=max_exp_avg_sq)\n",
    "                    # Use the max. for normalizing running avg. of gradient\n",
    "                    denom = max_exp_avg_sq.sqrt().add_(group['eps'])\n",
    "                else:\n",
    "                    denom = exp_avg_sq.sqrt().add_(group['eps'])\n",
    "\n",
    "                    \n",
    "                bias_correction1 = 1 - beta1 ** state['step']\n",
    "                bias_correction2 = 1 - beta2 ** state['step']\n",
    "                step_size = group['lr'] * (bias_correction2**(0.5)) / bias_correction1\n",
    "\n",
    "                p.data.addcdiv_(-step_size, prune*exp_avg, denom)\n",
    "\n",
    "        return loss"
   ]
  },
  {
   "cell_type": "markdown",
   "metadata": {
    "colab_type": "text",
    "id": "Z-de7oKsIWeB"
   },
   "source": [
    "# Training"
   ]
  },
  {
   "cell_type": "code",
   "execution_count": 15,
   "metadata": {
    "colab": {
     "base_uri": "https://localhost:8080/",
     "height": 34
    },
    "colab_type": "code",
    "id": "SpRX1OD_IWeC",
    "outputId": "9b7c81cd-09a0-4bf1-ca1c-d2fe12ae0b12"
   },
   "outputs": [
    {
     "data": {
      "text/plain": [
       "device(type='cpu')"
      ]
     },
     "execution_count": 15,
     "metadata": {},
     "output_type": "execute_result"
    }
   ],
   "source": [
    "device = torch.device(\"cuda\" if torch.cuda.is_available() else \"cpu\")\n",
    "device"
   ]
  },
  {
   "cell_type": "code",
   "execution_count": 16,
   "metadata": {
    "colab": {},
    "colab_type": "code",
    "id": "47AcefhNIWeE"
   },
   "outputs": [],
   "source": [
    "loss_function = torch.nn.CrossEntropyLoss()"
   ]
  },
  {
   "cell_type": "code",
   "execution_count": 17,
   "metadata": {
    "colab": {},
    "colab_type": "code",
    "id": "s2Pte2nfIWeF"
   },
   "outputs": [],
   "source": [
    "TRAIN = TensorDataset(X_train.to(device), Y_train.to(device))\n",
    "TEST = TensorDataset(X_test.to(device), Y_test.to(device))"
   ]
  },
  {
   "cell_type": "code",
   "execution_count": 18,
   "metadata": {
    "colab": {},
    "colab_type": "code",
    "id": "nAYSy-dZIWeG"
   },
   "outputs": [],
   "source": [
    "model = LogReg(input_dim=X_train.shape[1], output_dim = 10, device=device)"
   ]
  },
  {
   "cell_type": "code",
   "execution_count": 19,
   "metadata": {
    "colab": {},
    "colab_type": "code",
    "id": "jcykU8MDIWeG"
   },
   "outputs": [],
   "source": [
    "optimizer = Adam(model.parameters())"
   ]
  },
  {
   "cell_type": "code",
   "execution_count": 20,
   "metadata": {
    "colab": {
     "base_uri": "https://localhost:8080/",
     "height": 34
    },
    "colab_type": "code",
    "id": "VXz5GEQ9IWeI",
    "outputId": "558bc9c6-5e10-457e-d17a-dadd6bfb5894"
   },
   "outputs": [],
   "source": [
    "# trainer(count_of_epoch = 100,\n",
    "#         batch_size = 64,\n",
    "#         dataset = TRAIN,\n",
    "#         model = model,\n",
    "#         loss_function = loss_function,\n",
    "#         optimizer = optimizer,\n",
    "#         progress = tqdm\n",
    "#        )"
   ]
  },
  {
   "cell_type": "code",
   "execution_count": 21,
   "metadata": {
    "colab": {},
    "colab_type": "code",
    "id": "3n2QdIc7-FnH"
   },
   "outputs": [],
   "source": [
    "# torch.save(model.state_dict(), 'train_model.sv')"
   ]
  },
  {
   "cell_type": "code",
   "execution_count": 22,
   "metadata": {
    "colab": {},
    "colab_type": "code",
    "id": "An5G7SSRIWeJ"
   },
   "outputs": [],
   "source": [
    "output = model(TRAIN[:][0])\n",
    "\n",
    "loss = loss_function(output, TRAIN[:][1])"
   ]
  },
  {
   "cell_type": "code",
   "execution_count": 23,
   "metadata": {
    "colab": {},
    "colab_type": "code",
    "id": "Ng4dPeRmtEln"
   },
   "outputs": [],
   "source": [
    "def resize_hess(model, hess):\n",
    "    bias = 0\n",
    "    new_hess = []\n",
    "    for p in model.parameters():\n",
    "        p_size = torch.tensor(p.size()).prod()\n",
    "        new_hess.append(hess[bias:bias+p_size].view_as(p))\n",
    "        bias+=p_size\n",
    "    return new_hess"
   ]
  },
  {
   "cell_type": "code",
   "execution_count": 24,
   "metadata": {
    "colab": {
     "base_uri": "https://localhost:8080/",
     "height": 51
    },
    "colab_type": "code",
    "id": "sYNkYmHpnLAB",
    "outputId": "a1a1dd4d-a3d8-44aa-d405-6ee0a1b0a3cc"
   },
   "outputs": [],
   "source": [
    "# %%time\n",
    "# hess = hessian(loss, model.parameters())\n",
    "\n",
    "# hhs = torch.diag(hess)\n",
    "# hs = resize_hess(model, hhs)"
   ]
  },
  {
   "cell_type": "code",
   "execution_count": 25,
   "metadata": {
    "colab": {},
    "colab_type": "code",
    "id": "5jcPYBa7_NlM"
   },
   "outputs": [],
   "source": [
    "# with open('hess.pkl', 'wb') as f:\n",
    "#     pickle.dump(hs, f)\n",
    "\n",
    "with open('dump/hess.pkl', 'rb') as f:\n",
    "    hs = pickle.load(f)"
   ]
  },
  {
   "cell_type": "code",
   "execution_count": 26,
   "metadata": {
    "colab": {},
    "colab_type": "code",
    "id": "xobJxrVP_H6p"
   },
   "outputs": [],
   "source": [
    "# files.download('train_model.sv')\n",
    "# files.download('hess.pkl')"
   ]
  },
  {
   "cell_type": "code",
   "execution_count": 27,
   "metadata": {
    "colab": {
     "base_uri": "https://localhost:8080/",
     "height": 493
    },
    "colab_type": "code",
    "id": "Tp0v1YVi_gqB",
    "outputId": "7473626a-7d04-407c-ef9e-295132ebe64d"
   },
   "outputs": [
    {
     "name": "stderr",
     "output_type": "stream",
     "text": [
      "100%|██████████| 10/10 [01:56<00:00, 11.68s/it]\n",
      "100%|██████████| 10/10 [00:23<00:00,  2.28s/it]\n"
     ]
    }
   ],
   "source": [
    "amounts = np.linspace(0, 1, 10)\n",
    "k_for_averaging = 5\n",
    "\n",
    "List_of_random_score = []\n",
    "for amount in tqdm(amounts):\n",
    "    List_of_score = []\n",
    "    for _ in range(k_for_averaging):\n",
    "        model.load_state_dict(torch.load('dump/train_model.sv'))\n",
    "        optimizer = Adam(model.parameters())\n",
    "        optimizer.prune(amount=amount, method='random', hessian=hs)\n",
    "\n",
    "        trainer(count_of_epoch = 2,\n",
    "            batch_size = 64,\n",
    "            dataset = TRAIN,\n",
    "            model = model,\n",
    "            loss_function = loss_function,\n",
    "            optimizer = optimizer\n",
    "        )\n",
    "\n",
    "        output = model(TEST[:][0])\n",
    "        output.sum(dim = 1)\n",
    "        answ = torch.argmax(torch.softmax(output, dim = 1), dim = 1)\n",
    "\n",
    "        List_of_score.append(float((TEST[:][1] == answ).sum())/TEST[:][1].shape[0])\n",
    "    List_of_random_score.append(List_of_score)\n",
    "  \n",
    "List_of_random_score = np.array(List_of_random_score)\n",
    "\n",
    "\n",
    "List_of_OBD_score = []\n",
    "for amount in tqdm(amounts):\n",
    "    model.load_state_dict(torch.load('dump/train_model.sv'))\n",
    "    optimizer = Adam(model.parameters())\n",
    "    optimizer.prune(amount=amount, method='OBD', hessian=hs)\n",
    "\n",
    "    trainer(count_of_epoch = 2,\n",
    "        batch_size = 64,\n",
    "        dataset = TRAIN,\n",
    "        model = model,\n",
    "        loss_function = loss_function,\n",
    "        optimizer = optimizer\n",
    "    )\n",
    "\n",
    "    output = model(TEST[:][0])\n",
    "    output.sum(dim = 1)\n",
    "    answ = torch.argmax(torch.softmax(output, dim = 1), dim = 1)\n",
    "\n",
    "    List_of_OBD_score.append(float((TEST[:][1] == answ).sum())/TEST[:][1].shape[0])\n",
    "  \n",
    "List_of_OBD_score = np.array(List_of_OBD_score)"
   ]
  },
  {
   "cell_type": "code",
   "execution_count": 28,
   "metadata": {
    "colab": {},
    "colab_type": "code",
    "id": "bYU8pQfjBKrV"
   },
   "outputs": [],
   "source": [
    "random_mean = np.mean(List_of_random_score, axis = 1)\n",
    "random_std = np.std(List_of_random_score, axis = 1)"
   ]
  },
  {
   "cell_type": "code",
   "execution_count": 32,
   "metadata": {
    "colab": {
     "base_uri": "https://localhost:8080/",
     "height": 285
    },
    "colab_type": "code",
    "id": "oSJPNaJv9Z4o",
    "outputId": "19f929de-65a0-40bd-99e1-08f41433e495"
   },
   "outputs": [
    {
     "data": {
      "image/png": "[encoded data removed]",
      "text/plain": [
       "<Figure size 432x288 with 1 Axes>"
      ]
     },
     "metadata": {},
     "output_type": "display_data"
    }
   ],
   "source": [
    "plt.plot(amounts, random_mean, label='random')\n",
    "plt.fill_between(amounts, random_mean-random_std, random_mean+random_std, alpha=0.3)\n",
    "\n",
    "plt.plot(amounts, List_of_OBD_score, label='OBD')\n",
    "\n",
    "plt.legend(loc='best')\n",
    "plt.grid()\n",
    "\n",
    "plt.xlabel('noise')\n",
    "plt.ylabel('Accuracy')\n",
    "plt.show()"
   ]
  },
  {
   "cell_type": "markdown",
   "metadata": {},
   "source": [
    "# Вывод"
   ]
  },
  {
   "cell_type": "markdown",
   "metadata": {},
   "source": [
    "Метод Optimal Brain Damage позволяет удалять больше параметров (около 80% против окола 70%) без значимой потери точности. Следовательно данный метод является намного лучше чем произвольное удаление параметров.\n",
    "\n",
    "Стоит заметить, что произвольное удаление параметров также позволяет удалять большое количество параметров из модели, это связано с тем, что большое количество точек в картиинках mnist это фон (значит данный признак нулевой). И все точки из границы изображения являются не нужными, что и позволяет убрать большое количество признаков."
   ]
  }
 ],
 "metadata": {
  "colab": {
   "collapsed_sections": [],
   "name": "main.ipynb",
   "provenance": []
  },
  "kernelspec": {
   "display_name": "Python 3",
   "language": "python",
   "name": "python3"
  },
  "language_info": {
   "codemirror_mode": {
    "name": "ipython",
    "version": 3
   },
   "file_extension": ".py",
   "mimetype": "text/x-python",
   "name": "python",
   "nbconvert_exporter": "python",
   "pygments_lexer": "ipython3",
   "version": "3.6.2"
  }
 },
 "nbformat": 4,
 "nbformat_minor": 1
}
