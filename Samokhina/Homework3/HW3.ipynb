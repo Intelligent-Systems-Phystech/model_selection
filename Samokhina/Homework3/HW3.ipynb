{
  "nbformat": 4,
  "nbformat_minor": 0,
  "metadata": {
    "kernelspec": {
      "display_name": "Python 3",
      "language": "python",
      "name": "python3"
    },
    "language_info": {
      "codemirror_mode": {
        "name": "ipython",
        "version": 3
      },
      "file_extension": ".py",
      "mimetype": "text/x-python",
      "name": "python",
      "nbconvert_exporter": "python",
      "pygments_lexer": "ipython3",
      "version": "3.7.4"
    },
    "colab": {
      "name": "HW3.ipynb",
      "provenance": []
    },
    "widgets": {
      "application/vnd.jupyter.widget-state+json": {
        "a885205d8b2c47dd915ebe3e6e6ea4df": {
          "model_module": "@jupyter-widgets/controls",
          "model_name": "HBoxModel",
          "state": {
            "_view_name": "HBoxView",
            "_dom_classes": [],
            "_model_name": "HBoxModel",
            "_view_module": "@jupyter-widgets/controls",
            "_model_module_version": "1.5.0",
            "_view_count": null,
            "_view_module_version": "1.5.0",
            "box_style": "",
            "layout": "IPY_MODEL_faa1012306a847dea18455465631bb2d",
            "_model_module": "@jupyter-widgets/controls",
            "children": [
              "IPY_MODEL_14cd859ff9c44916a16cace12e474f44",
              "IPY_MODEL_7f8a534a07e040a09aacb18a8471ca87"
            ]
          }
        },
        "faa1012306a847dea18455465631bb2d": {
          "model_module": "@jupyter-widgets/base",
          "model_name": "LayoutModel",
          "state": {
            "_view_name": "LayoutView",
            "grid_template_rows": null,
            "right": null,
            "justify_content": null,
            "_view_module": "@jupyter-widgets/base",
            "overflow": null,
            "_model_module_version": "1.2.0",
            "_view_count": null,
            "flex_flow": null,
            "width": null,
            "min_width": null,
            "border": null,
            "align_items": null,
            "bottom": null,
            "_model_module": "@jupyter-widgets/base",
            "top": null,
            "grid_column": null,
            "overflow_y": null,
            "overflow_x": null,
            "grid_auto_flow": null,
            "grid_area": null,
            "grid_template_columns": null,
            "flex": null,
            "_model_name": "LayoutModel",
            "justify_items": null,
            "grid_row": null,
            "max_height": null,
            "align_content": null,
            "visibility": null,
            "align_self": null,
            "height": null,
            "min_height": null,
            "padding": null,
            "grid_auto_rows": null,
            "grid_gap": null,
            "max_width": null,
            "order": null,
            "_view_module_version": "1.2.0",
            "grid_template_areas": null,
            "object_position": null,
            "object_fit": null,
            "grid_auto_columns": null,
            "margin": null,
            "display": null,
            "left": null
          }
        },
        "14cd859ff9c44916a16cace12e474f44": {
          "model_module": "@jupyter-widgets/controls",
          "model_name": "IntProgressModel",
          "state": {
            "_view_name": "ProgressView",
            "style": "IPY_MODEL_6ca3b996cd914523a0adb9eb15b2c44f",
            "_dom_classes": [],
            "description": "",
            "_model_name": "IntProgressModel",
            "bar_style": "success",
            "max": 100,
            "_view_module": "@jupyter-widgets/controls",
            "_model_module_version": "1.5.0",
            "value": 100,
            "_view_count": null,
            "_view_module_version": "1.5.0",
            "orientation": "horizontal",
            "min": 0,
            "description_tooltip": null,
            "_model_module": "@jupyter-widgets/controls",
            "layout": "IPY_MODEL_bdedc5ec7bb94cd7b66d0ac87585e781"
          }
        },
        "7f8a534a07e040a09aacb18a8471ca87": {
          "model_module": "@jupyter-widgets/controls",
          "model_name": "HTMLModel",
          "state": {
            "_view_name": "HTMLView",
            "style": "IPY_MODEL_d133b85e894049b790fa3e7909e4ee06",
            "_dom_classes": [],
            "description": "",
            "_model_name": "HTMLModel",
            "placeholder": "​",
            "_view_module": "@jupyter-widgets/controls",
            "_model_module_version": "1.5.0",
            "value": "100% 100/100 [02:32&lt;00:00,  1.53s/it]",
            "_view_count": null,
            "_view_module_version": "1.5.0",
            "description_tooltip": null,
            "_model_module": "@jupyter-widgets/controls",
            "layout": "IPY_MODEL_1e0d4dae35f04312a5c8b29c9c0cb91e"
          }
        },
        "6ca3b996cd914523a0adb9eb15b2c44f": {
          "model_module": "@jupyter-widgets/controls",
          "model_name": "ProgressStyleModel",
          "state": {
            "_view_name": "StyleView",
            "_model_name": "ProgressStyleModel",
            "description_width": "",
            "_view_module": "@jupyter-widgets/base",
            "_model_module_version": "1.5.0",
            "_view_count": null,
            "_view_module_version": "1.2.0",
            "bar_color": null,
            "_model_module": "@jupyter-widgets/controls"
          }
        },
        "bdedc5ec7bb94cd7b66d0ac87585e781": {
          "model_module": "@jupyter-widgets/base",
          "model_name": "LayoutModel",
          "state": {
            "_view_name": "LayoutView",
            "grid_template_rows": null,
            "right": null,
            "justify_content": null,
            "_view_module": "@jupyter-widgets/base",
            "overflow": null,
            "_model_module_version": "1.2.0",
            "_view_count": null,
            "flex_flow": null,
            "width": null,
            "min_width": null,
            "border": null,
            "align_items": null,
            "bottom": null,
            "_model_module": "@jupyter-widgets/base",
            "top": null,
            "grid_column": null,
            "overflow_y": null,
            "overflow_x": null,
            "grid_auto_flow": null,
            "grid_area": null,
            "grid_template_columns": null,
            "flex": null,
            "_model_name": "LayoutModel",
            "justify_items": null,
            "grid_row": null,
            "max_height": null,
            "align_content": null,
            "visibility": null,
            "align_self": null,
            "height": null,
            "min_height": null,
            "padding": null,
            "grid_auto_rows": null,
            "grid_gap": null,
            "max_width": null,
            "order": null,
            "_view_module_version": "1.2.0",
            "grid_template_areas": null,
            "object_position": null,
            "object_fit": null,
            "grid_auto_columns": null,
            "margin": null,
            "display": null,
            "left": null
          }
        },
        "d133b85e894049b790fa3e7909e4ee06": {
          "model_module": "@jupyter-widgets/controls",
          "model_name": "DescriptionStyleModel",
          "state": {
            "_view_name": "StyleView",
            "_model_name": "DescriptionStyleModel",
            "description_width": "",
            "_view_module": "@jupyter-widgets/base",
            "_model_module_version": "1.5.0",
            "_view_count": null,
            "_view_module_version": "1.2.0",
            "_model_module": "@jupyter-widgets/controls"
          }
        },
        "1e0d4dae35f04312a5c8b29c9c0cb91e": {
          "model_module": "@jupyter-widgets/base",
          "model_name": "LayoutModel",
          "state": {
            "_view_name": "LayoutView",
            "grid_template_rows": null,
            "right": null,
            "justify_content": null,
            "_view_module": "@jupyter-widgets/base",
            "overflow": null,
            "_model_module_version": "1.2.0",
            "_view_count": null,
            "flex_flow": null,
            "width": null,
            "min_width": null,
            "border": null,
            "align_items": null,
            "bottom": null,
            "_model_module": "@jupyter-widgets/base",
            "top": null,
            "grid_column": null,
            "overflow_y": null,
            "overflow_x": null,
            "grid_auto_flow": null,
            "grid_area": null,
            "grid_template_columns": null,
            "flex": null,
            "_model_name": "LayoutModel",
            "justify_items": null,
            "grid_row": null,
            "max_height": null,
            "align_content": null,
            "visibility": null,
            "align_self": null,
            "height": null,
            "min_height": null,
            "padding": null,
            "grid_auto_rows": null,
            "grid_gap": null,
            "max_width": null,
            "order": null,
            "_view_module_version": "1.2.0",
            "grid_template_areas": null,
            "object_position": null,
            "object_fit": null,
            "grid_auto_columns": null,
            "margin": null,
            "display": null,
            "left": null
          }
        },
        "1bc6dba9dd7c4ff99c42af277674a31b": {
          "model_module": "@jupyter-widgets/controls",
          "model_name": "HBoxModel",
          "state": {
            "_view_name": "HBoxView",
            "_dom_classes": [],
            "_model_name": "HBoxModel",
            "_view_module": "@jupyter-widgets/controls",
            "_model_module_version": "1.5.0",
            "_view_count": null,
            "_view_module_version": "1.5.0",
            "box_style": "",
            "layout": "IPY_MODEL_5008ff8f16714f2fb35ef6c3cbc309a1",
            "_model_module": "@jupyter-widgets/controls",
            "children": [
              "IPY_MODEL_7fbff8357ab4442e9fb577ee13f98510",
              "IPY_MODEL_697518c6b8d24cbf82f4a152887c60d5"
            ]
          }
        },
        "5008ff8f16714f2fb35ef6c3cbc309a1": {
          "model_module": "@jupyter-widgets/base",
          "model_name": "LayoutModel",
          "state": {
            "_view_name": "LayoutView",
            "grid_template_rows": null,
            "right": null,
            "justify_content": null,
            "_view_module": "@jupyter-widgets/base",
            "overflow": null,
            "_model_module_version": "1.2.0",
            "_view_count": null,
            "flex_flow": null,
            "width": null,
            "min_width": null,
            "border": null,
            "align_items": null,
            "bottom": null,
            "_model_module": "@jupyter-widgets/base",
            "top": null,
            "grid_column": null,
            "overflow_y": null,
            "overflow_x": null,
            "grid_auto_flow": null,
            "grid_area": null,
            "grid_template_columns": null,
            "flex": null,
            "_model_name": "LayoutModel",
            "justify_items": null,
            "grid_row": null,
            "max_height": null,
            "align_content": null,
            "visibility": null,
            "align_self": null,
            "height": null,
            "min_height": null,
            "padding": null,
            "grid_auto_rows": null,
            "grid_gap": null,
            "max_width": null,
            "order": null,
            "_view_module_version": "1.2.0",
            "grid_template_areas": null,
            "object_position": null,
            "object_fit": null,
            "grid_auto_columns": null,
            "margin": null,
            "display": null,
            "left": null
          }
        },
        "7fbff8357ab4442e9fb577ee13f98510": {
          "model_module": "@jupyter-widgets/controls",
          "model_name": "IntProgressModel",
          "state": {
            "_view_name": "ProgressView",
            "style": "IPY_MODEL_8345a2e753c2451db0268d65f459b6c2",
            "_dom_classes": [],
            "description": "",
            "_model_name": "IntProgressModel",
            "bar_style": "success",
            "max": 1,
            "_view_module": "@jupyter-widgets/controls",
            "_model_module_version": "1.5.0",
            "value": 1,
            "_view_count": null,
            "_view_module_version": "1.5.0",
            "orientation": "horizontal",
            "min": 0,
            "description_tooltip": null,
            "_model_module": "@jupyter-widgets/controls",
            "layout": "IPY_MODEL_209431c6a7ae438fae6340f61fcf73b5"
          }
        },
        "697518c6b8d24cbf82f4a152887c60d5": {
          "model_module": "@jupyter-widgets/controls",
          "model_name": "HTMLModel",
          "state": {
            "_view_name": "HTMLView",
            "style": "IPY_MODEL_6ba6c9c927434d13a9960f5a6132b3a9",
            "_dom_classes": [],
            "description": "",
            "_model_name": "HTMLModel",
            "placeholder": "​",
            "_view_module": "@jupyter-widgets/controls",
            "_model_module_version": "1.5.0",
            "value": "2it [00:00, 60.71it/s]",
            "_view_count": null,
            "_view_module_version": "1.5.0",
            "description_tooltip": null,
            "_model_module": "@jupyter-widgets/controls",
            "layout": "IPY_MODEL_8944a268cb384a9e8290d271bc6d193a"
          }
        },
        "8345a2e753c2451db0268d65f459b6c2": {
          "model_module": "@jupyter-widgets/controls",
          "model_name": "ProgressStyleModel",
          "state": {
            "_view_name": "StyleView",
            "_model_name": "ProgressStyleModel",
            "description_width": "",
            "_view_module": "@jupyter-widgets/base",
            "_model_module_version": "1.5.0",
            "_view_count": null,
            "_view_module_version": "1.2.0",
            "bar_color": null,
            "_model_module": "@jupyter-widgets/controls"
          }
        },
        "209431c6a7ae438fae6340f61fcf73b5": {
          "model_module": "@jupyter-widgets/base",
          "model_name": "LayoutModel",
          "state": {
            "_view_name": "LayoutView",
            "grid_template_rows": null,
            "right": null,
            "justify_content": null,
            "_view_module": "@jupyter-widgets/base",
            "overflow": null,
            "_model_module_version": "1.2.0",
            "_view_count": null,
            "flex_flow": null,
            "width": null,
            "min_width": null,
            "border": null,
            "align_items": null,
            "bottom": null,
            "_model_module": "@jupyter-widgets/base",
            "top": null,
            "grid_column": null,
            "overflow_y": null,
            "overflow_x": null,
            "grid_auto_flow": null,
            "grid_area": null,
            "grid_template_columns": null,
            "flex": null,
            "_model_name": "LayoutModel",
            "justify_items": null,
            "grid_row": null,
            "max_height": null,
            "align_content": null,
            "visibility": null,
            "align_self": null,
            "height": null,
            "min_height": null,
            "padding": null,
            "grid_auto_rows": null,
            "grid_gap": null,
            "max_width": null,
            "order": null,
            "_view_module_version": "1.2.0",
            "grid_template_areas": null,
            "object_position": null,
            "object_fit": null,
            "grid_auto_columns": null,
            "margin": null,
            "display": null,
            "left": null
          }
        },
        "6ba6c9c927434d13a9960f5a6132b3a9": {
          "model_module": "@jupyter-widgets/controls",
          "model_name": "DescriptionStyleModel",
          "state": {
            "_view_name": "StyleView",
            "_model_name": "DescriptionStyleModel",
            "description_width": "",
            "_view_module": "@jupyter-widgets/base",
            "_model_module_version": "1.5.0",
            "_view_count": null,
            "_view_module_version": "1.2.0",
            "_model_module": "@jupyter-widgets/controls"
          }
        },
        "8944a268cb384a9e8290d271bc6d193a": {
          "model_module": "@jupyter-widgets/base",
          "model_name": "LayoutModel",
          "state": {
            "_view_name": "LayoutView",
            "grid_template_rows": null,
            "right": null,
            "justify_content": null,
            "_view_module": "@jupyter-widgets/base",
            "overflow": null,
            "_model_module_version": "1.2.0",
            "_view_count": null,
            "flex_flow": null,
            "width": null,
            "min_width": null,
            "border": null,
            "align_items": null,
            "bottom": null,
            "_model_module": "@jupyter-widgets/base",
            "top": null,
            "grid_column": null,
            "overflow_y": null,
            "overflow_x": null,
            "grid_auto_flow": null,
            "grid_area": null,
            "grid_template_columns": null,
            "flex": null,
            "_model_name": "LayoutModel",
            "justify_items": null,
            "grid_row": null,
            "max_height": null,
            "align_content": null,
            "visibility": null,
            "align_self": null,
            "height": null,
            "min_height": null,
            "padding": null,
            "grid_auto_rows": null,
            "grid_gap": null,
            "max_width": null,
            "order": null,
            "_view_module_version": "1.2.0",
            "grid_template_areas": null,
            "object_position": null,
            "object_fit": null,
            "grid_auto_columns": null,
            "margin": null,
            "display": null,
            "left": null
          }
        },
        "1602ca3775cd4ba994c43a37d565a9cc": {
          "model_module": "@jupyter-widgets/controls",
          "model_name": "HBoxModel",
          "state": {
            "_view_name": "HBoxView",
            "_dom_classes": [],
            "_model_name": "HBoxModel",
            "_view_module": "@jupyter-widgets/controls",
            "_model_module_version": "1.5.0",
            "_view_count": null,
            "_view_module_version": "1.5.0",
            "box_style": "",
            "layout": "IPY_MODEL_25d7a863f4444649a0ac5a713f70d133",
            "_model_module": "@jupyter-widgets/controls",
            "children": [
              "IPY_MODEL_d473eb7e6d8549a0af9d6ba0b86797eb",
              "IPY_MODEL_0354bb736be04c408488e08480f49f95"
            ]
          }
        },
        "25d7a863f4444649a0ac5a713f70d133": {
          "model_module": "@jupyter-widgets/base",
          "model_name": "LayoutModel",
          "state": {
            "_view_name": "LayoutView",
            "grid_template_rows": null,
            "right": null,
            "justify_content": null,
            "_view_module": "@jupyter-widgets/base",
            "overflow": null,
            "_model_module_version": "1.2.0",
            "_view_count": null,
            "flex_flow": null,
            "width": null,
            "min_width": null,
            "border": null,
            "align_items": null,
            "bottom": null,
            "_model_module": "@jupyter-widgets/base",
            "top": null,
            "grid_column": null,
            "overflow_y": null,
            "overflow_x": null,
            "grid_auto_flow": null,
            "grid_area": null,
            "grid_template_columns": null,
            "flex": null,
            "_model_name": "LayoutModel",
            "justify_items": null,
            "grid_row": null,
            "max_height": null,
            "align_content": null,
            "visibility": null,
            "align_self": null,
            "height": null,
            "min_height": null,
            "padding": null,
            "grid_auto_rows": null,
            "grid_gap": null,
            "max_width": null,
            "order": null,
            "_view_module_version": "1.2.0",
            "grid_template_areas": null,
            "object_position": null,
            "object_fit": null,
            "grid_auto_columns": null,
            "margin": null,
            "display": null,
            "left": null
          }
        },
        "d473eb7e6d8549a0af9d6ba0b86797eb": {
          "model_module": "@jupyter-widgets/controls",
          "model_name": "IntProgressModel",
          "state": {
            "_view_name": "ProgressView",
            "style": "IPY_MODEL_8308437d208f41398dc027827d622ac2",
            "_dom_classes": [],
            "description": "",
            "_model_name": "IntProgressModel",
            "bar_style": "success",
            "max": 20,
            "_view_module": "@jupyter-widgets/controls",
            "_model_module_version": "1.5.0",
            "value": 20,
            "_view_count": null,
            "_view_module_version": "1.5.0",
            "orientation": "horizontal",
            "min": 0,
            "description_tooltip": null,
            "_model_module": "@jupyter-widgets/controls",
            "layout": "IPY_MODEL_1bd89adde5584f109a04d6fa3ae1222c"
          }
        },
        "0354bb736be04c408488e08480f49f95": {
          "model_module": "@jupyter-widgets/controls",
          "model_name": "HTMLModel",
          "state": {
            "_view_name": "HTMLView",
            "style": "IPY_MODEL_d5c942b1fee441baaabf2ffc59dd920a",
            "_dom_classes": [],
            "description": "",
            "_model_name": "HTMLModel",
            "placeholder": "​",
            "_view_module": "@jupyter-widgets/controls",
            "_model_module_version": "1.5.0",
            "value": "100% 20/20 [04:55&lt;00:00, 13.64s/it]",
            "_view_count": null,
            "_view_module_version": "1.5.0",
            "description_tooltip": null,
            "_model_module": "@jupyter-widgets/controls",
            "layout": "IPY_MODEL_02b7a35c0b874c60b1e36d86a8079fc2"
          }
        },
        "8308437d208f41398dc027827d622ac2": {
          "model_module": "@jupyter-widgets/controls",
          "model_name": "ProgressStyleModel",
          "state": {
            "_view_name": "StyleView",
            "_model_name": "ProgressStyleModel",
            "description_width": "",
            "_view_module": "@jupyter-widgets/base",
            "_model_module_version": "1.5.0",
            "_view_count": null,
            "_view_module_version": "1.2.0",
            "bar_color": null,
            "_model_module": "@jupyter-widgets/controls"
          }
        },
        "1bd89adde5584f109a04d6fa3ae1222c": {
          "model_module": "@jupyter-widgets/base",
          "model_name": "LayoutModel",
          "state": {
            "_view_name": "LayoutView",
            "grid_template_rows": null,
            "right": null,
            "justify_content": null,
            "_view_module": "@jupyter-widgets/base",
            "overflow": null,
            "_model_module_version": "1.2.0",
            "_view_count": null,
            "flex_flow": null,
            "width": null,
            "min_width": null,
            "border": null,
            "align_items": null,
            "bottom": null,
            "_model_module": "@jupyter-widgets/base",
            "top": null,
            "grid_column": null,
            "overflow_y": null,
            "overflow_x": null,
            "grid_auto_flow": null,
            "grid_area": null,
            "grid_template_columns": null,
            "flex": null,
            "_model_name": "LayoutModel",
            "justify_items": null,
            "grid_row": null,
            "max_height": null,
            "align_content": null,
            "visibility": null,
            "align_self": null,
            "height": null,
            "min_height": null,
            "padding": null,
            "grid_auto_rows": null,
            "grid_gap": null,
            "max_width": null,
            "order": null,
            "_view_module_version": "1.2.0",
            "grid_template_areas": null,
            "object_position": null,
            "object_fit": null,
            "grid_auto_columns": null,
            "margin": null,
            "display": null,
            "left": null
          }
        },
        "d5c942b1fee441baaabf2ffc59dd920a": {
          "model_module": "@jupyter-widgets/controls",
          "model_name": "DescriptionStyleModel",
          "state": {
            "_view_name": "StyleView",
            "_model_name": "DescriptionStyleModel",
            "description_width": "",
            "_view_module": "@jupyter-widgets/base",
            "_model_module_version": "1.5.0",
            "_view_count": null,
            "_view_module_version": "1.2.0",
            "_model_module": "@jupyter-widgets/controls"
          }
        },
        "02b7a35c0b874c60b1e36d86a8079fc2": {
          "model_module": "@jupyter-widgets/base",
          "model_name": "LayoutModel",
          "state": {
            "_view_name": "LayoutView",
            "grid_template_rows": null,
            "right": null,
            "justify_content": null,
            "_view_module": "@jupyter-widgets/base",
            "overflow": null,
            "_model_module_version": "1.2.0",
            "_view_count": null,
            "flex_flow": null,
            "width": null,
            "min_width": null,
            "border": null,
            "align_items": null,
            "bottom": null,
            "_model_module": "@jupyter-widgets/base",
            "top": null,
            "grid_column": null,
            "overflow_y": null,
            "overflow_x": null,
            "grid_auto_flow": null,
            "grid_area": null,
            "grid_template_columns": null,
            "flex": null,
            "_model_name": "LayoutModel",
            "justify_items": null,
            "grid_row": null,
            "max_height": null,
            "align_content": null,
            "visibility": null,
            "align_self": null,
            "height": null,
            "min_height": null,
            "padding": null,
            "grid_auto_rows": null,
            "grid_gap": null,
            "max_width": null,
            "order": null,
            "_view_module_version": "1.2.0",
            "grid_template_areas": null,
            "object_position": null,
            "object_fit": null,
            "grid_auto_columns": null,
            "margin": null,
            "display": null,
            "left": null
          }
        },
        "62acfc98db2a49459dea6eedfacb25e3": {
          "model_module": "@jupyter-widgets/controls",
          "model_name": "HBoxModel",
          "state": {
            "_view_name": "HBoxView",
            "_dom_classes": [],
            "_model_name": "HBoxModel",
            "_view_module": "@jupyter-widgets/controls",
            "_model_module_version": "1.5.0",
            "_view_count": null,
            "_view_module_version": "1.5.0",
            "box_style": "",
            "layout": "IPY_MODEL_c9dba14fab294ba2b2a2fc4a0ceeb453",
            "_model_module": "@jupyter-widgets/controls",
            "children": [
              "IPY_MODEL_123c3d63c0e7437395b9f90f3525c7d4",
              "IPY_MODEL_6d222213cb104eafb020c06a87fd1bfa"
            ]
          }
        },
        "c9dba14fab294ba2b2a2fc4a0ceeb453": {
          "model_module": "@jupyter-widgets/base",
          "model_name": "LayoutModel",
          "state": {
            "_view_name": "LayoutView",
            "grid_template_rows": null,
            "right": null,
            "justify_content": null,
            "_view_module": "@jupyter-widgets/base",
            "overflow": null,
            "_model_module_version": "1.2.0",
            "_view_count": null,
            "flex_flow": null,
            "width": null,
            "min_width": null,
            "border": null,
            "align_items": null,
            "bottom": null,
            "_model_module": "@jupyter-widgets/base",
            "top": null,
            "grid_column": null,
            "overflow_y": null,
            "overflow_x": null,
            "grid_auto_flow": null,
            "grid_area": null,
            "grid_template_columns": null,
            "flex": null,
            "_model_name": "LayoutModel",
            "justify_items": null,
            "grid_row": null,
            "max_height": null,
            "align_content": null,
            "visibility": null,
            "align_self": null,
            "height": null,
            "min_height": null,
            "padding": null,
            "grid_auto_rows": null,
            "grid_gap": null,
            "max_width": null,
            "order": null,
            "_view_module_version": "1.2.0",
            "grid_template_areas": null,
            "object_position": null,
            "object_fit": null,
            "grid_auto_columns": null,
            "margin": null,
            "display": null,
            "left": null
          }
        },
        "123c3d63c0e7437395b9f90f3525c7d4": {
          "model_module": "@jupyter-widgets/controls",
          "model_name": "IntProgressModel",
          "state": {
            "_view_name": "ProgressView",
            "style": "IPY_MODEL_fceb774b656b494fb0091b53e7234204",
            "_dom_classes": [],
            "description": "",
            "_model_name": "IntProgressModel",
            "bar_style": "success",
            "max": 20,
            "_view_module": "@jupyter-widgets/controls",
            "_model_module_version": "1.5.0",
            "value": 20,
            "_view_count": null,
            "_view_module_version": "1.5.0",
            "orientation": "horizontal",
            "min": 0,
            "description_tooltip": null,
            "_model_module": "@jupyter-widgets/controls",
            "layout": "IPY_MODEL_6835a45ea8874caa82b15650ae33525c"
          }
        },
        "6d222213cb104eafb020c06a87fd1bfa": {
          "model_module": "@jupyter-widgets/controls",
          "model_name": "HTMLModel",
          "state": {
            "_view_name": "HTMLView",
            "style": "IPY_MODEL_9b2e39dbed6f4c84986750d6584f29d5",
            "_dom_classes": [],
            "description": "",
            "_model_name": "HTMLModel",
            "placeholder": "​",
            "_view_module": "@jupyter-widgets/controls",
            "_model_module_version": "1.5.0",
            "value": "100% 20/20 [01:01&lt;00:00,  2.88s/it]",
            "_view_count": null,
            "_view_module_version": "1.5.0",
            "description_tooltip": null,
            "_model_module": "@jupyter-widgets/controls",
            "layout": "IPY_MODEL_4e7199d78bbe4d81883da870690d6238"
          }
        },
        "fceb774b656b494fb0091b53e7234204": {
          "model_module": "@jupyter-widgets/controls",
          "model_name": "ProgressStyleModel",
          "state": {
            "_view_name": "StyleView",
            "_model_name": "ProgressStyleModel",
            "description_width": "",
            "_view_module": "@jupyter-widgets/base",
            "_model_module_version": "1.5.0",
            "_view_count": null,
            "_view_module_version": "1.2.0",
            "bar_color": null,
            "_model_module": "@jupyter-widgets/controls"
          }
        },
        "6835a45ea8874caa82b15650ae33525c": {
          "model_module": "@jupyter-widgets/base",
          "model_name": "LayoutModel",
          "state": {
            "_view_name": "LayoutView",
            "grid_template_rows": null,
            "right": null,
            "justify_content": null,
            "_view_module": "@jupyter-widgets/base",
            "overflow": null,
            "_model_module_version": "1.2.0",
            "_view_count": null,
            "flex_flow": null,
            "width": null,
            "min_width": null,
            "border": null,
            "align_items": null,
            "bottom": null,
            "_model_module": "@jupyter-widgets/base",
            "top": null,
            "grid_column": null,
            "overflow_y": null,
            "overflow_x": null,
            "grid_auto_flow": null,
            "grid_area": null,
            "grid_template_columns": null,
            "flex": null,
            "_model_name": "LayoutModel",
            "justify_items": null,
            "grid_row": null,
            "max_height": null,
            "align_content": null,
            "visibility": null,
            "align_self": null,
            "height": null,
            "min_height": null,
            "padding": null,
            "grid_auto_rows": null,
            "grid_gap": null,
            "max_width": null,
            "order": null,
            "_view_module_version": "1.2.0",
            "grid_template_areas": null,
            "object_position": null,
            "object_fit": null,
            "grid_auto_columns": null,
            "margin": null,
            "display": null,
            "left": null
          }
        },
        "9b2e39dbed6f4c84986750d6584f29d5": {
          "model_module": "@jupyter-widgets/controls",
          "model_name": "DescriptionStyleModel",
          "state": {
            "_view_name": "StyleView",
            "_model_name": "DescriptionStyleModel",
            "description_width": "",
            "_view_module": "@jupyter-widgets/base",
            "_model_module_version": "1.5.0",
            "_view_count": null,
            "_view_module_version": "1.2.0",
            "_model_module": "@jupyter-widgets/controls"
          }
        },
        "4e7199d78bbe4d81883da870690d6238": {
          "model_module": "@jupyter-widgets/base",
          "model_name": "LayoutModel",
          "state": {
            "_view_name": "LayoutView",
            "grid_template_rows": null,
            "right": null,
            "justify_content": null,
            "_view_module": "@jupyter-widgets/base",
            "overflow": null,
            "_model_module_version": "1.2.0",
            "_view_count": null,
            "flex_flow": null,
            "width": null,
            "min_width": null,
            "border": null,
            "align_items": null,
            "bottom": null,
            "_model_module": "@jupyter-widgets/base",
            "top": null,
            "grid_column": null,
            "overflow_y": null,
            "overflow_x": null,
            "grid_auto_flow": null,
            "grid_area": null,
            "grid_template_columns": null,
            "flex": null,
            "_model_name": "LayoutModel",
            "justify_items": null,
            "grid_row": null,
            "max_height": null,
            "align_content": null,
            "visibility": null,
            "align_self": null,
            "height": null,
            "min_height": null,
            "padding": null,
            "grid_auto_rows": null,
            "grid_gap": null,
            "max_width": null,
            "order": null,
            "_view_module_version": "1.2.0",
            "grid_template_areas": null,
            "object_position": null,
            "object_fit": null,
            "grid_auto_columns": null,
            "margin": null,
            "display": null,
            "left": null
          }
        }
      }
    }
  },
  "cells": [
    {
      "cell_type": "markdown",
      "metadata": {
        "id": "PuwVPU1D5VM2",
        "colab_type": "text"
      },
      "source": [
        "## Homework 3"
      ]
    },
    {
      "cell_type": "code",
      "metadata": {
        "id": "U7KDsMtf5VM3",
        "colab_type": "code",
        "colab": {}
      },
      "source": [
        "from zlib import crc32\n",
        "theory = crc32('Самохина'.lower().encode('utf-8'))%5+1\n",
        "practice = crc32('Samokhina'.lower().encode('utf-8'))%3+1"
      ],
      "execution_count": 0,
      "outputs": []
    },
    {
      "cell_type": "code",
      "metadata": {
        "id": "l7s95nkU5VM5",
        "colab_type": "code",
        "colab": {
          "base_uri": "https://localhost:8080/",
          "height": 35
        },
        "outputId": "7ab5781b-9fc6-418c-d418-5d55d5684e24"
      },
      "source": [
        "theory, practice"
      ],
      "execution_count": 2,
      "outputs": [
        {
          "output_type": "execute_result",
          "data": {
            "text/plain": [
              "(3, 3)"
            ]
          },
          "metadata": {
            "tags": []
          },
          "execution_count": 2
        }
      ]
    },
    {
      "cell_type": "markdown",
      "metadata": {
        "id": "Ji5ewRQj5VM7",
        "colab_type": "text"
      },
      "source": [
        "### Practice. Ex.3"
      ]
    },
    {
      "cell_type": "markdown",
      "metadata": {
        "id": "Hxku-2tz5VM7",
        "colab_type": "text"
      },
      "source": [
        "Реализовать пример удаления параметров для логистической регрессии на MNIST и сравнить качество со случайным удалением параметров (ось X — процент удаленных параметров) с использованием Optimal Brain Damage.\n"
      ]
    },
    {
      "cell_type": "markdown",
      "metadata": {
        "id": "mygPosRR5VM8",
        "colab_type": "text"
      },
      "source": [
        "#### Подключение библиотек"
      ]
    },
    {
      "cell_type": "code",
      "metadata": {
        "id": "hIMts0Ww5VM9",
        "colab_type": "code",
        "colab": {}
      },
      "source": [
        "import numpy as np\n",
        "import math\n",
        "import matplotlib.pyplot as plt\n",
        "\n",
        "\n",
        "from torchvision import datasets\n",
        "from torch.utils.data import Dataset, TensorDataset, DataLoader\n",
        "\n",
        "import torch\n",
        "import torch.nn as nn\n",
        "import torch.nn.functional as F\n",
        "from torch.optim import Optimizer\n",
        "\n",
        "from tqdm import tqdm_notebook as tqdm\n",
        "\n",
        "import pickle"
      ],
      "execution_count": 0,
      "outputs": []
    },
    {
      "cell_type": "markdown",
      "metadata": {
        "id": "UDRUNRZp5VM-",
        "colab_type": "text"
      },
      "source": [
        "#### Загрузка данных "
      ]
    },
    {
      "cell_type": "code",
      "metadata": {
        "id": "Z7ociz4k9faN",
        "colab_type": "code",
        "colab": {}
      },
      "source": [
        "mnist = datasets.MNIST('./mnist', train=False, download=True, transform=None)\n",
        "X_test, y_test = mnist.data, mnist.targets\n",
        "\n",
        "mnist = datasets.MNIST('./mnist', train=True, download=True, transform=None)\n",
        "X_train, y_train = mnist.data, mnist.targets\n"
      ],
      "execution_count": 0,
      "outputs": []
    },
    {
      "cell_type": "code",
      "metadata": {
        "id": "yHyzd-yF9vnM",
        "colab_type": "code",
        "colab": {}
      },
      "source": [
        "X_train = X_train.reshape([X_train.shape[0], -1]).float()\n",
        "X_test = X_test.reshape([X_test.shape[0], -1]).float()"
      ],
      "execution_count": 0,
      "outputs": []
    },
    {
      "cell_type": "markdown",
      "metadata": {
        "id": "Wv2Bc6Cf5VM_",
        "colab_type": "text"
      },
      "source": [
        "#### Вспомогательные функции\n"
      ]
    },
    {
      "cell_type": "markdown",
      "metadata": {
        "id": "smnkK1IJ-WpA",
        "colab_type": "text"
      },
      "source": [
        "##### Градиент и гессиан\n",
        "Взято с https://github.com/mariogeiger/hessian"
      ]
    },
    {
      "cell_type": "code",
      "metadata": {
        "id": "v30aTumW5VM_",
        "colab_type": "code",
        "colab": {}
      },
      "source": [
        "def gradient(outputs, inputs, grad_outputs=None, retain_graph=None, create_graph=False):\n",
        "    '''\n",
        "    Compute the gradient of `outputs` with respect to `inputs`\n",
        "    gradient(x.sum(), x)\n",
        "    gradient((x * y).sum(), [x, y])\n",
        "    '''\n",
        "    if torch.is_tensor(inputs):\n",
        "        inputs = [inputs]\n",
        "    else:\n",
        "        inputs = list(inputs)\n",
        "    grads = torch.autograd.grad(outputs, inputs, grad_outputs,\n",
        "                                allow_unused=True,\n",
        "                                retain_graph=retain_graph,\n",
        "                                create_graph=create_graph)\n",
        "    grads = [x if x is not None else torch.zeros_like(y) for x, y in zip(grads, inputs)]\n",
        "    return torch.cat([x.contiguous().view(-1) for x in grads])\n",
        "\n",
        "def hessian(output, inputs, out=None, allow_unused=False, create_graph=False):\n",
        "    '''\n",
        "    Compute the Hessian of `output` with respect to `inputs`\n",
        "    hessian((x * y).sum(), [x, y])\n",
        "    '''\n",
        "    assert output.ndimension() == 0\n",
        "\n",
        "    if torch.is_tensor(inputs):\n",
        "        inputs = [inputs]\n",
        "    else:\n",
        "        inputs = list(inputs)\n",
        "\n",
        "    n = sum(p.numel() for p in inputs)\n",
        "    if out is None:\n",
        "        out = output.new_zeros(n, n)\n",
        "\n",
        "    ai = 0\n",
        "    for i, inp in enumerate(inputs):\n",
        "        [grad] = torch.autograd.grad(output, inp, create_graph=True, allow_unused=allow_unused)\n",
        "        grad = torch.zeros_like(inp) if grad is None else grad\n",
        "        grad = grad.contiguous().view(-1)\n",
        "\n",
        "        for j in range(inp.numel()):\n",
        "            if grad[j].requires_grad:\n",
        "                row = gradient(grad[j], inputs[i:], retain_graph=True, create_graph=create_graph)[j:]\n",
        "            else:\n",
        "                row = grad[j].new_zeros(sum(x.numel() for x in inputs[i:]) - j)\n",
        "\n",
        "            out[ai, ai:].add_(row.type_as(out))  # ai's row\n",
        "            if ai + 1 < n:\n",
        "                out[ai + 1:, ai].add_(row[1:].type_as(out))  # ai's column\n",
        "            del row\n",
        "            ai += 1\n",
        "        del grad\n",
        "\n",
        "    return out"
      ],
      "execution_count": 0,
      "outputs": []
    },
    {
      "cell_type": "code",
      "metadata": {
        "id": "bbC2Ly-NHaYv",
        "colab_type": "code",
        "colab": {}
      },
      "source": [
        "def resized_hess(model, hess):\n",
        "    bias = 0\n",
        "    resized = []\n",
        "    for p in tqdm(model.parameters()):\n",
        "        p_size = torch.tensor(p.size()).prod()\n",
        "        resized.append(hess[bias:bias+p_size].view_as(p))\n",
        "        bias+=p_size\n",
        "    return resized"
      ],
      "execution_count": 0,
      "outputs": []
    },
    {
      "cell_type": "markdown",
      "metadata": {
        "id": "ztvTujsP-cPa",
        "colab_type": "text"
      },
      "source": [
        "##### Обучение моделей"
      ]
    },
    {
      "cell_type": "code",
      "metadata": {
        "id": "tmmomZRT-sow",
        "colab_type": "code",
        "colab": {}
      },
      "source": [
        "def train_on_batch(model, batch_of_x, batch_of_y, optimizer, loss_function):\n",
        "        model.zero_grad()\n",
        "        \n",
        "        output = model(batch_of_x)\n",
        "        \n",
        "        loss = loss_function(output, batch_of_y)\n",
        "        loss.backward()\n",
        "        optimizer.step()\n",
        "     \n",
        "        return\n",
        "    \n",
        "def train_epoch(train_generator, model, loss_function, optimizer):\n",
        "    model.train()\n",
        "    for it, (batch_of_x, batch_of_y) in enumerate(train_generator):\n",
        "        train_on_batch(model, batch_of_x, batch_of_y, optimizer, loss_function)\n",
        "\n",
        "    return\n",
        "\n",
        "def train_model(epochs, batch_size, dataset, model, loss_function, optimizer, progress = None):\n",
        "    iterations = range(epochs)\n",
        "    if progress is not None:\n",
        "        iterations = progress(iterations)\n",
        "\n",
        "    for i in iterations:\n",
        "        batch_generator = DataLoader(dataset = dataset, batch_size = batch_size, shuffle=True)\n",
        "        train_epoch(train_generator = batch_generator, model = model, loss_function = loss_function, optimizer = optimizer)\n",
        "    \n",
        "    return"
      ],
      "execution_count": 0,
      "outputs": []
    },
    {
      "cell_type": "markdown",
      "metadata": {
        "id": "ZAloI0zr-5Dj",
        "colab_type": "text"
      },
      "source": [
        "##### Модель"
      ]
    },
    {
      "cell_type": "code",
      "metadata": {
        "id": "_rkurE1E-8sC",
        "colab_type": "code",
        "colab": {}
      },
      "source": [
        "class LogisticRegression(torch.nn.Module):\n",
        "    def __init__(self, input_dim=50, output_dim=10, device='cpu'):\n",
        "        super().__init__()\n",
        "        \n",
        "        self.input_dim = input_dim\n",
        "        self.output_dim = output_dim\n",
        "        \n",
        "        self.linear = torch.nn.Linear(input_dim, output_dim)        \n",
        "        self.to(device)\n",
        "        \n",
        "    def forward(self, input):\n",
        "        output = input\n",
        "        output = F.relu(output)\n",
        "        return self.linear(output)"
      ],
      "execution_count": 0,
      "outputs": []
    },
    {
      "cell_type": "markdown",
      "metadata": {
        "id": "DOyrGPYSBOby",
        "colab_type": "text"
      },
      "source": [
        "##### Оптимизатор\n",
        "\n",
        "Использован source code for torch.optim.Adam "
      ]
    },
    {
      "cell_type": "code",
      "metadata": {
        "id": "rjzZ6nNkBQrB",
        "colab_type": "code",
        "colab": {}
      },
      "source": [
        "class Adam(Optimizer):\n",
        "#Adam Source code    \n",
        "    def __init__(self, params, lr=1e-3, betas=(0.9, 0.999), eps=1e-8,\n",
        "                 weight_decay=0, amsgrad=False):\n",
        "        if not 0.0 <= lr:\n",
        "            raise ValueError(\"Invalid learning rate: {}\".format(lr))\n",
        "        if not 0.0 <= eps:\n",
        "            raise ValueError(\"Invalid epsilon value: {}\".format(eps))\n",
        "        if not 0.0 <= betas[0] < 1.0:\n",
        "            raise ValueError(\"Invalid beta parameter at index 0: {}\".format(betas[0]))\n",
        "        if not 0.0 <= betas[1] < 1.0:\n",
        "            raise ValueError(\"Invalid beta parameter at index 1: {}\".format(betas[1]))\n",
        "        defaults = dict(lr=lr, betas=betas, eps=eps,\n",
        "                        weight_decay=weight_decay, amsgrad=amsgrad)\n",
        "        super(Adam, self).__init__(params, defaults)\n",
        "\n",
        "    def __setstate__(self, state):\n",
        "        super(Adam, self).__setstate__(state)\n",
        "        for group in self.param_groups:\n",
        "            group.setdefault('amsgrad', False)\n",
        "\n",
        "    \n",
        "\n",
        "#Added functions\n",
        " \n",
        "    def pruning(self, percentage = 0.1, method = 'random', **argv):\n",
        "        if method == 'random':\n",
        "            for group in self.param_groups:\n",
        "                 for p in group['params']:\n",
        "                    param_state = self.state[p]\n",
        "                    if 'prune' not in param_state:\n",
        "                        param_state['prune'] = torch.ones_like(p)\n",
        "\n",
        "                    p_vector = p.view(-1)\n",
        "                    prune_vector = param_state['prune'].view(-1)\n",
        "                    if int(percentage*len(p_vector)) > 0:\n",
        "                        \n",
        "                        prune_vector[torch.randperm(p_vector.shape[0])[:int(percentage*len(p_vector))]] = 0\n",
        "                        p_vector.data.mul_(prune_vector)            \n",
        "\n",
        "        elif method == 'OBD':\n",
        "            if argv['hessian'] is None:\n",
        "                pass\n",
        "            else:\n",
        "                for group in self.param_groups:\n",
        "                    for p, h in zip(group['params'], argv['hessian']):\n",
        "                        param_state = self.state[p]\n",
        "                        if 'prune' not in param_state:\n",
        "                            param_state['prune'] = torch.ones_like(p)\n",
        "\n",
        "                        p_vector = p.view(-1)\n",
        "                        score = (p*h).view(-1)\n",
        "                        prune_vector = param_state['prune'].view(-1)\n",
        "                        if int(percentage*len(p_vector)) > 0:\n",
        "                            \n",
        "                            prune_vector[torch.sort(score)[1][:int(percentage*len(p_vector))]] = 0\n",
        "                            p_vector.data.mul_(prune_vector)\n",
        "            pass\n",
        "\n",
        "        else:\n",
        "            raise ValueError(\"Unsupported method: {}\".format(method))\n",
        "\n",
        "#Modified step function\n",
        "    def step(self, closure=None):\n",
        "        loss = None\n",
        "        if closure is not None:\n",
        "            loss = closure()\n",
        "\n",
        "        for group in self.param_groups:\n",
        "            for p in group['params']:\n",
        "                if p.grad is None:\n",
        "                    continue\n",
        "\n",
        "                #some modifications in step to use our pruning methods:\n",
        "                d_p = p.grad.data.detach()\n",
        "                param_state = self.state[p]\n",
        "    \n",
        "                if 'prune' in param_state:\n",
        "                    prune = param_state['prune']\n",
        "                else:\n",
        "                    prune = torch.ones_like(p)\n",
        "                    param_state['prune'] = prune\n",
        "                #end of mofifications                \n",
        "                \n",
        "                grad = p.grad.data\n",
        "                if grad.is_sparse:\n",
        "                    raise RuntimeError('Adam does not support sparse gradients, please consider SparseAdam instead')\n",
        "                amsgrad = group['amsgrad']\n",
        "\n",
        "                state = self.state[p]\n",
        "\n",
        "                \n",
        "                # State initialization\n",
        "                if 'step' not in state:\n",
        "                    state['step'] = 0\n",
        "                # Exponential moving average of gradient values\n",
        "                if 'exp_avg' not in state:\n",
        "                    state['exp_avg'] = torch.zeros_like(p.data)\n",
        "                # Exponential moving average of squared gradient values\n",
        "                if 'exp_avg_sq' not in state:\n",
        "                    state['exp_avg_sq'] = torch.zeros_like(p.data)\n",
        "                    if amsgrad:\n",
        "                        # Maintains max of all exp. moving avg. of sq. grad. values\n",
        "                        state['max_exp_avg_sq'] = torch.zeros_like(p.data)\n",
        "\n",
        "                exp_avg, exp_avg_sq = state['exp_avg'], state['exp_avg_sq']\n",
        "                if amsgrad:\n",
        "                    max_exp_avg_sq = state['max_exp_avg_sq']\n",
        "                beta1, beta2 = group['betas']\n",
        "\n",
        "                state['step'] += 1\n",
        "                bias_correction1 = 1 - beta1 ** state['step']\n",
        "                bias_correction2 = 1 - beta2 ** state['step']\n",
        "\n",
        "                if group['weight_decay'] != 0:\n",
        "                    grad.add_(group['weight_decay'], p.data)\n",
        "\n",
        "                # Decay the first and second moment running average coefficient\n",
        "                exp_avg.mul_(beta1).add_(1 - beta1, grad)\n",
        "                exp_avg_sq.mul_(beta2).addcmul_(1 - beta2, grad, grad)\n",
        "                if amsgrad:\n",
        "                    # Maintains the maximum of all 2nd moment running avg. till now\n",
        "                    torch.max(max_exp_avg_sq, exp_avg_sq, out=max_exp_avg_sq)\n",
        "                    # Use the max. for normalizing running avg. of gradient\n",
        "                    denom = (max_exp_avg_sq.sqrt() / math.sqrt(bias_correction2)).add_(group['eps'])\n",
        "                else:\n",
        "                    denom = (exp_avg_sq.sqrt() / math.sqrt(bias_correction2)).add_(group['eps'])\n",
        "\n",
        "                step_size = group['lr'] / bias_correction1\n",
        "\n",
        "                p.data.addcdiv_(-step_size, prune*exp_avg, denom)\n",
        "    \n",
        "        return loss\n"
      ],
      "execution_count": 0,
      "outputs": []
    },
    {
      "cell_type": "markdown",
      "metadata": {
        "id": "fIF72r76TaRr",
        "colab_type": "text"
      },
      "source": [
        "#### Обучение модели"
      ]
    },
    {
      "cell_type": "code",
      "metadata": {
        "id": "-mnFZWhpGaeK",
        "colab_type": "code",
        "colab": {}
      },
      "source": [
        "device = torch.device(\"cuda\" if torch.cuda.is_available() else \"cpu\")\n",
        "loss_function = nn.CrossEntropyLoss()"
      ],
      "execution_count": 0,
      "outputs": []
    },
    {
      "cell_type": "code",
      "metadata": {
        "id": "Fo1fSfTsGxyW",
        "colab_type": "code",
        "colab": {}
      },
      "source": [
        "train_device = TensorDataset(X_train.to(device), y_train.to(device))\n",
        "test_device = TensorDataset(X_test.to(device), y_test.to(device))"
      ],
      "execution_count": 0,
      "outputs": []
    },
    {
      "cell_type": "code",
      "metadata": {
        "id": "lUeQ_DCkG1Ta",
        "colab_type": "code",
        "colab": {}
      },
      "source": [
        "model = LogisticRegression(input_dim=X_train.shape[1], output_dim = 10, device=device)\n",
        "optimizer = Adam(model.parameters())"
      ],
      "execution_count": 0,
      "outputs": []
    },
    {
      "cell_type": "code",
      "metadata": {
        "id": "wiL4GEKzHHZq",
        "colab_type": "code",
        "colab": {
          "base_uri": "https://localhost:8080/",
          "height": 67,
          "referenced_widgets": [
            "a885205d8b2c47dd915ebe3e6e6ea4df",
            "faa1012306a847dea18455465631bb2d",
            "14cd859ff9c44916a16cace12e474f44",
            "7f8a534a07e040a09aacb18a8471ca87",
            "6ca3b996cd914523a0adb9eb15b2c44f",
            "bdedc5ec7bb94cd7b66d0ac87585e781",
            "d133b85e894049b790fa3e7909e4ee06",
            "1e0d4dae35f04312a5c8b29c9c0cb91e"
          ]
        },
        "outputId": "d76e1c4b-0a7c-4d6d-cdfc-6fb8f1576d02"
      },
      "source": [
        "train_model(epochs = 100,\n",
        "        batch_size = 64,\n",
        "        dataset = train_device,\n",
        "        model = model,\n",
        "        loss_function = loss_function,\n",
        "        optimizer = optimizer,\n",
        "        progress = tqdm\n",
        "       )"
      ],
      "execution_count": 14,
      "outputs": [
        {
          "output_type": "display_data",
          "data": {
            "application/vnd.jupyter.widget-view+json": {
              "model_id": "a885205d8b2c47dd915ebe3e6e6ea4df",
              "version_minor": 0,
              "version_major": 2
            },
            "text/plain": [
              "HBox(children=(IntProgress(value=0), HTML(value='')))"
            ]
          },
          "metadata": {
            "tags": []
          }
        },
        {
          "output_type": "stream",
          "text": [
            "\n"
          ],
          "name": "stdout"
        }
      ]
    },
    {
      "cell_type": "code",
      "metadata": {
        "id": "dD0lms-pHLNv",
        "colab_type": "code",
        "colab": {}
      },
      "source": [
        "output = model(train_device[:][0])\n",
        "loss = loss_function(output, train_device[:][1])"
      ],
      "execution_count": 0,
      "outputs": []
    },
    {
      "cell_type": "code",
      "metadata": {
        "id": "_sxzQQmJIB0w",
        "colab_type": "code",
        "colab": {
          "base_uri": "https://localhost:8080/",
          "height": 67,
          "referenced_widgets": [
            "1bc6dba9dd7c4ff99c42af277674a31b",
            "5008ff8f16714f2fb35ef6c3cbc309a1",
            "7fbff8357ab4442e9fb577ee13f98510",
            "697518c6b8d24cbf82f4a152887c60d5",
            "8345a2e753c2451db0268d65f459b6c2",
            "209431c6a7ae438fae6340f61fcf73b5",
            "6ba6c9c927434d13a9960f5a6132b3a9",
            "8944a268cb384a9e8290d271bc6d193a"
          ]
        },
        "outputId": "c22a8549-4f42-4a8f-82b4-4d46072580e6"
      },
      "source": [
        "hess = hessian(loss, model.parameters())\n",
        "hs = resized_hess(model, torch.diag(hess))"
      ],
      "execution_count": 16,
      "outputs": [
        {
          "output_type": "display_data",
          "data": {
            "application/vnd.jupyter.widget-view+json": {
              "model_id": "1bc6dba9dd7c4ff99c42af277674a31b",
              "version_minor": 0,
              "version_major": 2
            },
            "text/plain": [
              "HBox(children=(IntProgress(value=1, bar_style='info', max=1), HTML(value='')))"
            ]
          },
          "metadata": {
            "tags": []
          }
        },
        {
          "output_type": "stream",
          "text": [
            "\n"
          ],
          "name": "stdout"
        }
      ]
    },
    {
      "cell_type": "code",
      "metadata": {
        "id": "QlMPeEb3SxmG",
        "colab_type": "code",
        "colab": {}
      },
      "source": [
        "pcs = np.linspace(0, 1, 20)\n",
        "k_avg = 5"
      ],
      "execution_count": 0,
      "outputs": []
    },
    {
      "cell_type": "code",
      "metadata": {
        "id": "FBHNxBw_SEyU",
        "colab_type": "code",
        "colab": {
          "base_uri": "https://localhost:8080/",
          "height": 49,
          "referenced_widgets": [
            "1602ca3775cd4ba994c43a37d565a9cc",
            "25d7a863f4444649a0ac5a713f70d133",
            "d473eb7e6d8549a0af9d6ba0b86797eb",
            "0354bb736be04c408488e08480f49f95",
            "8308437d208f41398dc027827d622ac2",
            "1bd89adde5584f109a04d6fa3ae1222c",
            "d5c942b1fee441baaabf2ffc59dd920a",
            "02b7a35c0b874c60b1e36d86a8079fc2"
          ]
        },
        "outputId": "b8eadba7-966b-4cd8-8dfa-976da6f9bf3c"
      },
      "source": [
        "random_score = []\n",
        "for percentage in tqdm(pcs):\n",
        "    list_score = []\n",
        "    for _ in range(k_avg):\n",
        "        optimizer = Adam(model.parameters())\n",
        "        optimizer.pruning(percentage=percentage, method='random', hessian=hs)\n",
        "        train_model(epochs=2, batch_size=64, dataset=train_device, model=model, loss_function = loss_function, optimizer = optimizer)\n",
        "\n",
        "        output = model(test_device[:][0])\n",
        "        output.sum(dim = 1)\n",
        "        answ = torch.argmax(torch.softmax(output, dim=1), dim=1)\n",
        "\n",
        "        list_score.append(float((test_device[:][1] == answ).sum()) / test_device[:][1].shape[0])\n",
        "    random_score.append(list_score)\n",
        "  \n",
        "random_score = np.array(random_score)\n"
      ],
      "execution_count": 56,
      "outputs": [
        {
          "output_type": "display_data",
          "data": {
            "application/vnd.jupyter.widget-view+json": {
              "model_id": "1602ca3775cd4ba994c43a37d565a9cc",
              "version_minor": 0,
              "version_major": 2
            },
            "text/plain": [
              "HBox(children=(IntProgress(value=0, max=20), HTML(value='')))"
            ]
          },
          "metadata": {
            "tags": []
          }
        }
      ]
    },
    {
      "cell_type": "code",
      "metadata": {
        "id": "DMWh5p4yIOfu",
        "colab_type": "code",
        "colab": {
          "base_uri": "https://localhost:8080/",
          "height": 49,
          "referenced_widgets": [
            "62acfc98db2a49459dea6eedfacb25e3",
            "c9dba14fab294ba2b2a2fc4a0ceeb453",
            "123c3d63c0e7437395b9f90f3525c7d4",
            "6d222213cb104eafb020c06a87fd1bfa",
            "fceb774b656b494fb0091b53e7234204",
            "6835a45ea8874caa82b15650ae33525c",
            "9b2e39dbed6f4c84986750d6584f29d5",
            "4e7199d78bbe4d81883da870690d6238"
          ]
        },
        "outputId": "8e362d41-792b-4a02-be8d-60e5ee9019ff"
      },
      "source": [
        "OBD_score = []\n",
        "for percentage in tqdm(pcs):\n",
        "    optimizer = Adam(model.parameters())\n",
        "    optimizer.pruning(percentage=percentage, method='OBD', hessian=hs)\n",
        "\n",
        "    train_model(epochs=2, batch_size=64, dataset=train_device, model=model, loss_function=loss_function, optimizer=optimizer)\n",
        "\n",
        "    output = model(test_device[:][0])\n",
        "    output.sum(dim=1)\n",
        "    answ = torch.argmax(torch.softmax(output, dim=1), dim=1)\n",
        "\n",
        "    OBD_score.append(float((test_device[:][1] == answ).sum()) / test_device[:][1].shape[0])\n",
        "  \n",
        "OBD_score = np.array(OBD_score)"
      ],
      "execution_count": 57,
      "outputs": [
        {
          "output_type": "display_data",
          "data": {
            "application/vnd.jupyter.widget-view+json": {
              "model_id": "62acfc98db2a49459dea6eedfacb25e3",
              "version_minor": 0,
              "version_major": 2
            },
            "text/plain": [
              "HBox(children=(IntProgress(value=0, max=20), HTML(value='')))"
            ]
          },
          "metadata": {
            "tags": []
          }
        }
      ]
    },
    {
      "cell_type": "code",
      "metadata": {
        "id": "KoTfvg9ILK9q",
        "colab_type": "code",
        "colab": {}
      },
      "source": [
        "random_mean = np.mean(random_score, axis = 1)\n",
        "random_std = np.std(random_score, axis = 1)"
      ],
      "execution_count": 0,
      "outputs": []
    },
    {
      "cell_type": "markdown",
      "metadata": {
        "id": "l_BIInVunhii",
        "colab_type": "text"
      },
      "source": [
        "#### Сравнение методов удаления параметров"
      ]
    },
    {
      "cell_type": "code",
      "metadata": {
        "id": "4rVx_Oj8S7iN",
        "colab_type": "code",
        "colab": {
          "base_uri": "https://localhost:8080/",
          "height": 334
        },
        "outputId": "14a4d75d-67b5-42b9-d854-461f2cb729f0"
      },
      "source": [
        "plt.figure(figsize = (10, 5))\n",
        "plt.plot(pcs, random_mean, label='random')\n",
        "plt.fill_between(pcs, random_mean-random_std, random_mean+random_std, alpha=0.3)\n",
        "\n",
        "plt.plot(pcs, OBD_score, label='OBD')\n",
        "\n",
        "plt.legend(loc='lower left')\n",
        "plt.grid()\n",
        "\n",
        "plt.xlabel('Deleted percentage')\n",
        "plt.ylabel('Accuracy')\n",
        "plt.show()"
      ],
      "execution_count": 61,
      "outputs": [
        {
          "output_type": "display_data",
          "data": {
            "image/png": "[encoded data removed]",
            "text/plain": [
              "<Figure size 720x360 with 1 Axes>"
            ]
          },
          "metadata": {
            "tags": []
          }
        }
      ]
    },
    {
      "cell_type": "markdown",
      "metadata": {
        "id": "RVnQqT6inZrE",
        "colab_type": "text"
      },
      "source": [
        "Из графика видно, что оба метода дают хорошее качество (>80%) при удалении до 80% параметров. Однако метод optimal brain damage позволяет без снижения качества ниже 80% удалить до 90% параметров и, более того, показывает более высокое качество при удалении свыше 60% параметров по сравнению со случайным удалением "
      ]
    },
    {
      "cell_type": "code",
      "metadata": {
        "id": "cSN68tJwoXlW",
        "colab_type": "code",
        "colab": {}
      },
      "source": [
        ""
      ],
      "execution_count": 0,
      "outputs": []
    }
  ]
}