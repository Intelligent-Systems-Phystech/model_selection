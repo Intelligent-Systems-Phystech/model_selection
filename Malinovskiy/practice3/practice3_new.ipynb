{
 "cells": [
  {
   "cell_type": "markdown",
   "metadata": {},
   "source": [
    "# Практическое задание 3"
   ]
  },
  {
   "cell_type": "markdown",
   "metadata": {},
   "source": [
    "# Загрузка библиотек\n"
   ]
  },
  {
   "cell_type": "code",
   "execution_count": 1,
   "metadata": {
    "collapsed": true
   },
   "outputs": [],
   "source": [
    "import numpy as np\n",
    "import matplotlib.pyplot as plt\n",
    "import torch\n",
    "import torch.nn as nn\n",
    "import torch.nn.functional as F\n",
    "from torch.optim import Optimizer\n",
    "\n",
    "from torch.utils.data import TensorDataset, DataLoader, Dataset\n",
    "\n",
    "from torchvision import datasets\n",
    "import pickle\n",
    "# from google.colab import files\n",
    "from tqdm import tqdm_notebook as tqdm"
   ]
  },
  {
   "cell_type": "markdown",
   "metadata": {},
   "source": [
    "# Загрузка данных"
   ]
  },
  {
   "cell_type": "code",
   "execution_count": 2,
   "metadata": {
    "colab": {
     "base_uri": "https://localhost:8080/",
     "height": 153
    },
    "colab_type": "code",
    "id": "eOVW8XKdIWd2",
    "outputId": "72a25541-26db-4000-8817-359f6e5dbd2a"
   },
   "outputs": [],
   "source": [
    "MNIST = datasets.MNIST('./mnist', train=False, download=True, transform=None)\n",
    "X_test, Y_test = MNIST.test_data, MNIST.test_labels\n",
    "\n",
    "MNIST = datasets.MNIST('./mnist', train=True, download=True, transform=None)\n",
    "X_train, Y_train = MNIST.train_data, MNIST.train_labels"
   ]
  },
  {
   "cell_type": "code",
   "execution_count": 3,
   "metadata": {
    "colab": {},
    "colab_type": "code",
    "id": "MECG-LbtIWd4"
   },
   "outputs": [],
   "source": [
    "X_train = X_train.reshape([X_train.shape[0], -1]).float()\n",
    "X_test = X_test.reshape([X_test.shape[0], -1]).float()"
   ]
  },
  {
   "cell_type": "markdown",
   "metadata": {
    "colab_type": "text",
    "id": "c50HSjxgIWd9"
   },
   "source": [
    "# Функции модели"
   ]
  },
  {
   "cell_type": "markdown",
   "metadata": {},
   "source": [
    "Определим логистическую регрессию, как однослойную нейросеть. "
   ]
  },
  {
   "cell_type": "code",
   "execution_count": 4,
   "metadata": {
    "colab": {},
    "colab_type": "code",
    "collapsed": true,
    "id": "3sU4N4hkIWd-"
   },
   "outputs": [],
   "source": [
    "class LogisticRegression(nn.Module):\n",
    "    def __init__(self, input_dim = 20, output_dim = 10, device = 'cpu'):\n",
    "        super(LogisticRegression, self).__init__()\n",
    "        \n",
    "        self.input_dim = input_dim\n",
    "        self.output_dim = output_dim\n",
    "        \n",
    "        self.linear = nn.Linear(input_dim, output_dim)\n",
    "        \n",
    "        self.to(device)\n",
    "        \n",
    "    def forward(self, input):\n",
    "        x = input\n",
    "        return self.linear(x)"
   ]
  },
  {
   "cell_type": "markdown",
   "metadata": {},
   "source": [
    "### Определим все функции для обучения модели"
   ]
  },
  {
   "cell_type": "code",
   "execution_count": 5,
   "metadata": {
    "colab": {},
    "colab_type": "code",
    "collapsed": true,
    "id": "veyRL9LKIWd_"
   },
   "outputs": [],
   "source": [
    "def train_on_batch(model, batch_of_x, batch_of_y, optimizer, loss_function):\n",
    "        model.zero_grad()\n",
    "        \n",
    "        output = model(batch_of_x)\n",
    "        \n",
    "        loss = loss_function(output, batch_of_y)\n",
    "        loss.backward()\n",
    "        optimizer.step()\n",
    "     \n",
    "        return\n",
    "    \n",
    "def train_epoch(train_generator, model, loss_function, optimizer):\n",
    "    model.train()\n",
    "    for it, (batch_of_x, batch_of_y) in enumerate(train_generator):\n",
    "        train_on_batch(model, batch_of_x, batch_of_y, optimizer, loss_function)\n",
    "\n",
    "    return\n",
    "\n",
    "def full_train(num_of_epoch, batch_size, dataset, model, loss_function, optimizer, progress = None):\n",
    "    iterations = range(num_of_epoch)\n",
    "    if progress is not None:\n",
    "        iterations = progress(iterations)\n",
    "\n",
    "    for iteraration in iterations:\n",
    "\n",
    "        batch_generator = DataLoader(dataset = dataset, batch_size = batch_size, shuffle=True)\n",
    "        \n",
    "        train_epoch(train_generator = batch_generator, model = model, loss_function = loss_function, optimizer = optimizer)\n",
    "    \n",
    "    return"
   ]
  },
  {
   "cell_type": "markdown",
   "metadata": {},
   "source": [
    "## Функции из предыдущей статьи"
   ]
  },
  {
   "cell_type": "code",
   "execution_count": 6,
   "metadata": {
    "collapsed": true
   },
   "outputs": [],
   "source": [
    "def gradient(outputs, inputs, grad_outputs=None, retain_graph=None, create_graph=False):\n",
    "    '''\n",
    "    Compute the gradient of `outputs` with respect to `inputs`\n",
    "    gradient(x.sum(), x)\n",
    "    gradient((x * y).sum(), [x, y])\n",
    "    '''\n",
    "    if torch.is_tensor(inputs):\n",
    "        inputs = [inputs]\n",
    "    else:\n",
    "        inputs = list(inputs)\n",
    "    grads = torch.autograd.grad(outputs, inputs, grad_outputs,\n",
    "                                allow_unused=True,\n",
    "                                retain_graph=retain_graph,\n",
    "                                create_graph=create_graph)\n",
    "    grads = [x if x is not None else torch.zeros_like(y) for x, y in zip(grads, inputs)]\n",
    "    return torch.cat([x.contiguous().view(-1) for x in grads])\n",
    "\n",
    "def hessian(output, inputs, out=None, allow_unused=False, create_graph=False):\n",
    "    '''\n",
    "    Compute the Hessian of `output` with respect to `inputs`\n",
    "    hessian((x * y).sum(), [x, y])\n",
    "    '''\n",
    "    assert output.ndimension() == 0\n",
    "\n",
    "    if torch.is_tensor(inputs):\n",
    "        inputs = [inputs]\n",
    "    else:\n",
    "        inputs = list(inputs)\n",
    "\n",
    "    n = sum(p.numel() for p in inputs)\n",
    "    if out is None:\n",
    "        out = output.new_zeros(n, n)\n",
    "\n",
    "    ai = 0\n",
    "    for i, inp in enumerate(inputs):\n",
    "        [grad] = torch.autograd.grad(output, inp, create_graph=True, allow_unused=allow_unused)\n",
    "        grad = torch.zeros_like(inp) if grad is None else grad\n",
    "        grad = grad.contiguous().view(-1)\n",
    "\n",
    "        for j in range(inp.numel()):\n",
    "            if grad[j].requires_grad:\n",
    "                row = gradient(grad[j], inputs[i:], retain_graph=True, create_graph=create_graph)[j:]\n",
    "            else:\n",
    "                row = grad[j].new_zeros(sum(x.numel() for x in inputs[i:]) - j)\n",
    "\n",
    "            out[ai, ai:].add_(row.type_as(out))  # ai's row\n",
    "            if ai + 1 < n:\n",
    "                out[ai + 1:, ai].add_(row[1:].type_as(out))  # ai's column\n",
    "            del row\n",
    "            ai += 1\n",
    "        del grad\n",
    "\n",
    "    return out"
   ]
  },
  {
   "cell_type": "markdown",
   "metadata": {
    "colab_type": "text",
    "id": "dYhvcbLmIWeA"
   },
   "source": [
    "# Переопределеный оптимизатор"
   ]
  },
  {
   "cell_type": "markdown",
   "metadata": {},
   "source": [
    "Переопределим оптимизатор, чтобы оптимизировать только те переменые, которые не были удалены из модели"
   ]
  },
  {
   "cell_type": "code",
   "execution_count": 7,
   "metadata": {
    "colab": {},
    "colab_type": "code",
    "collapsed": true,
    "id": "7J43Um9tIWeA"
   },
   "outputs": [],
   "source": [
    "class Adam(Optimizer):\n",
    "    def __init__(self, params, lr=0.001, betas=(0.9, 0.999), eps=1e-8, weight_decay=0, amsgrad=False):\n",
    "        if not 0.0 <= lr:\n",
    "            raise ValueError(\"Invalid learning rate: {}\".format(lr))\n",
    "        if not 0.0 <= eps:\n",
    "            raise ValueError(\"Invalid epsilon value: {}\".format(eps))\n",
    "        if not 0.0 <= betas[0] < 1.0:\n",
    "            raise ValueError(\"Invalid beta parameter at index 0: {}\".format(betas[0]))\n",
    "        if not 0.0 <= betas[1] < 1.0:\n",
    "            raise ValueError(\"Invalid beta parameter at index 1: {}\".format(betas[1]))\n",
    "        defaults = dict(lr=lr, betas=betas, eps=eps, weight_decay=weight_decay, amsgrad=amsgrad)\n",
    "        super(Adam, self).__init__(params, defaults)\n",
    "\n",
    "    def __setstate__(self, state):\n",
    "        super(Adam, self).__setstate__(state)\n",
    "        for group in self.param_groups:\n",
    "            group.setdefault('amsgrad', False)\n",
    "            \n",
    "# ==================================================\n",
    "# Additition function\n",
    "    def get_masks(self, kind = 'prune'):\n",
    "        list_of_mask = []\n",
    "        LIST_prune = []\n",
    "        mask_vector = None\n",
    "        if kind == 'prune':\n",
    "            for group in self.param_groups:\n",
    "                 for p in group['params']:\n",
    "                    param_state = self.state[p]\n",
    "                    if 'prune' not in param_state:\n",
    "                        param_state['prune'] = torch.ones_like(p)\n",
    "\n",
    "                    p_vector = p.view(-1)\n",
    "                    prune_vector = param_state['prune'].view(-1)\n",
    "                    LIST_prune.append(prune_vector)\n",
    "        mask_vector = torch.cat(LIST_prune)\n",
    "        return mask_vector\n",
    "\n",
    "    def prune(self, _noise_ = 0.1, method='random', **argv):\n",
    "        if method == 'random':\n",
    "            for group in self.param_groups:\n",
    "                 for p in group['params']:\n",
    "                    param_state = self.state[p]\n",
    "                    if 'prune' not in param_state:\n",
    "                        param_state['prune'] = torch.ones_like(p)\n",
    "\n",
    "                    p_vector = p.view(-1)\n",
    "                    prune_vector = param_state['prune'].view(-1)\n",
    "                    if int(_noise_*len(p_vector)) > 0:\n",
    "                        prune_vector[torch.randperm(p_vector.shape[0])[:int(_noise_*len(p_vector))]] = 0\n",
    "                        p_vector.data.mul_(prune_vector)\n",
    "\n",
    "        elif method == 'OBD':\n",
    "            if argv['hessian'] is None:\n",
    "                pass\n",
    "            else:\n",
    "                for group in self.param_groups:\n",
    "                    for p, h in zip(group['params'], argv['hessian']):\n",
    "                        param_state = self.state[p]\n",
    "                        if 'prune' not in param_state:\n",
    "                            param_state['prune'] = torch.ones_like(p)\n",
    "\n",
    "                        p_vector = p.view(-1)\n",
    "                        score = (p*h).view(-1)\n",
    "                        prune_vector = param_state['prune'].view(-1)\n",
    "                        if int(_noise_*len(p_vector)) > 0:\n",
    "                            prune_vector[torch.sort(score)[1][:int(_noise_*len(p_vector))]] = 0\n",
    "                            p_vector.data.mul_(prune_vector)\n",
    "\n",
    "            pass\n",
    "    \n",
    "    def deprune(self):\n",
    "        for group in self.param_groups:\n",
    "             for p in group['params']:\n",
    "                param_state = self.state[p]\n",
    "                param_state['prune'] = torch.ones_like(p)\n",
    "# ==================================================\n",
    "\n",
    "    def step(self, closure=None):\n",
    "        loss = None\n",
    "        if closure is not None:\n",
    "            loss = closure()\n",
    "\n",
    "        for group in self.param_groups:\n",
    "            for p in group['params']:\n",
    "                if p.grad is None:\n",
    "                    continue\n",
    "                    \n",
    "# ==================================================\n",
    "# Addition in each step\n",
    "                d_p = p.grad.data.detach()\n",
    "                param_state = self.state[p]\n",
    "    \n",
    "                if 'prune' in param_state:\n",
    "                    prune = param_state['prune']\n",
    "                else:\n",
    "                    prune = torch.ones_like(p)\n",
    "                    param_state['prune'] = prune\n",
    "# ==================================================                   \n",
    "                    \n",
    "                grad = p.grad.data\n",
    "                if grad.is_sparse:\n",
    "                    raise RuntimeError('Adam does not support sparse gradients, please consider SparseAdam instead')\n",
    "                amsgrad = group['amsgrad']\n",
    "\n",
    "                state = self.state[p]\n",
    "\n",
    "                # State initialization\n",
    "                if 'step' not in state:\n",
    "                    state['step'] = 0\n",
    "                # Exponential moving average of gradient values\n",
    "                if 'exp_avg' not in state:\n",
    "                    state['exp_avg'] = torch.zeros_like(p.data)\n",
    "                # Exponential moving average of squared gradient values\n",
    "                if 'exp_avg_sq' not in state:\n",
    "                    state['exp_avg_sq'] = torch.zeros_like(p.data)\n",
    "                if amsgrad:\n",
    "                    # Maintains max of all exp. moving avg. of sq. grad. values\n",
    "                    if 'max_exp_avg_sq' not in state:\n",
    "                        state['max_exp_avg_sq'] = torch.zeros_like(p.data)\n",
    "                \n",
    "                exp_avg, exp_avg_sq = state['exp_avg'], state['exp_avg_sq']\n",
    "                if amsgrad:\n",
    "                    max_exp_avg_sq = state['max_exp_avg_sq']\n",
    "                beta1, beta2 = group['betas']\n",
    "\n",
    "                state['step'] += 1\n",
    "\n",
    "                if group['weight_decay'] != 0:\n",
    "                    grad.add_(group['weight_decay'], p.data)\n",
    "\n",
    "                # Decay the first and second moment running average coefficient\n",
    "                exp_avg.mul_(beta1).add_(1 - beta1, grad)\n",
    "                exp_avg_sq.mul_(beta2).addcmul_(1 - beta2, grad, grad)\n",
    "                if amsgrad:\n",
    "                    # Maintains the maximum of all 2nd moment running avg. till now\n",
    "                    torch.max(max_exp_avg_sq, exp_avg_sq, out=max_exp_avg_sq)\n",
    "                    # Use the max. for normalizing running avg. of gradient\n",
    "                    denom = max_exp_avg_sq.sqrt().add_(group['eps'])\n",
    "                else:\n",
    "                    denom = exp_avg_sq.sqrt().add_(group['eps'])\n",
    "\n",
    "                    \n",
    "                bias_correction1 = 1 - beta1 ** state['step']\n",
    "                bias_correction2 = 1 - beta2 ** state['step']\n",
    "                step_size = group['lr'] * (bias_correction2**(0.5)) / bias_correction1\n",
    "\n",
    "                p.data.addcdiv_(-step_size, prune*exp_avg, denom)\n",
    "\n",
    "        return loss"
   ]
  },
  {
   "cell_type": "markdown",
   "metadata": {
    "colab_type": "text",
    "id": "Z-de7oKsIWeB"
   },
   "source": [
    "# Обучение"
   ]
  },
  {
   "cell_type": "code",
   "execution_count": 8,
   "metadata": {
    "colab": {
     "base_uri": "https://localhost:8080/",
     "height": 34
    },
    "colab_type": "code",
    "id": "SpRX1OD_IWeC",
    "outputId": "9b7c81cd-09a0-4bf1-ca1c-d2fe12ae0b12"
   },
   "outputs": [
    {
     "data": {
      "text/plain": [
       "device(type='cpu')"
      ]
     },
     "execution_count": 8,
     "metadata": {},
     "output_type": "execute_result"
    }
   ],
   "source": [
    "device = torch.device(\"cuda\" if torch.cuda.is_available() else \"cpu\")\n",
    "device"
   ]
  },
  {
   "cell_type": "code",
   "execution_count": 9,
   "metadata": {
    "colab": {},
    "colab_type": "code",
    "collapsed": true,
    "id": "47AcefhNIWeE"
   },
   "outputs": [],
   "source": [
    "loss_function = torch.nn.CrossEntropyLoss()"
   ]
  },
  {
   "cell_type": "code",
   "execution_count": 10,
   "metadata": {
    "colab": {},
    "colab_type": "code",
    "collapsed": true,
    "id": "s2Pte2nfIWeF"
   },
   "outputs": [],
   "source": [
    "train_device = TensorDataset(X_train.to(device), Y_train.to(device))\n",
    "test_device = TensorDataset(X_test.to(device), Y_test.to(device))"
   ]
  },
  {
   "cell_type": "code",
   "execution_count": 11,
   "metadata": {
    "colab": {},
    "colab_type": "code",
    "collapsed": true,
    "id": "nAYSy-dZIWeG"
   },
   "outputs": [],
   "source": [
    "model = LogisticRegression(input_dim=X_train.shape[1], output_dim = 10, device=device)"
   ]
  },
  {
   "cell_type": "code",
   "execution_count": 12,
   "metadata": {
    "colab": {},
    "colab_type": "code",
    "collapsed": true,
    "id": "jcykU8MDIWeG"
   },
   "outputs": [],
   "source": [
    "optimizer = Adam(model.parameters())"
   ]
  },
  {
   "cell_type": "code",
   "execution_count": 21,
   "metadata": {
    "colab": {
     "base_uri": "https://localhost:8080/",
     "height": 34
    },
    "colab_type": "code",
    "id": "VXz5GEQ9IWeI",
    "outputId": "558bc9c6-5e10-457e-d17a-dadd6bfb5894"
   },
   "outputs": [
    {
     "data": {
      "application/vnd.jupyter.widget-view+json": {
       "model_id": "b17a6fca16334e85b2c00a52b2612e27"
      }
     },
     "metadata": {},
     "output_type": "display_data"
    },
    {
     "name": "stdout",
     "output_type": "stream",
     "text": [
      "\n"
     ]
    }
   ],
   "source": [
    "full_train(num_of_epoch = 100,\n",
    "        batch_size = 64,\n",
    "        dataset = train_device,\n",
    "        model = model,\n",
    "        loss_function = loss_function,\n",
    "        optimizer = optimizer,\n",
    "        progress = tqdm\n",
    "       )"
   ]
  },
  {
   "cell_type": "code",
   "execution_count": 14,
   "metadata": {
    "colab": {},
    "colab_type": "code",
    "collapsed": true,
    "id": "3n2QdIc7-FnH"
   },
   "outputs": [],
   "source": [
    "# torch.save(model.state_dict(), 'train_model.sv')"
   ]
  },
  {
   "cell_type": "code",
   "execution_count": 15,
   "metadata": {
    "colab": {},
    "colab_type": "code",
    "collapsed": true,
    "id": "An5G7SSRIWeJ"
   },
   "outputs": [],
   "source": [
    "output = model(train_device[:][0])\n",
    "\n",
    "loss = loss_function(output, train_device[:][1])"
   ]
  },
  {
   "cell_type": "code",
   "execution_count": 16,
   "metadata": {
    "colab": {},
    "colab_type": "code",
    "collapsed": true,
    "id": "Ng4dPeRmtEln"
   },
   "outputs": [],
   "source": [
    "def new_hessian(model, hess):\n",
    "    delta = 0\n",
    "    output = []\n",
    "    for obj in model.parameters():\n",
    "        obj_size = torch.tensor(obj.size()).prod()\n",
    "        output.append(hess[delta:delta+obj_size].view_as(obj))\n",
    "        delta+=obj_size\n",
    "    return output"
   ]
  },
  {
   "cell_type": "code",
   "execution_count": 17,
   "metadata": {
    "colab": {
     "base_uri": "https://localhost:8080/",
     "height": 51
    },
    "colab_type": "code",
    "id": "sYNkYmHpnLAB",
    "outputId": "a1a1dd4d-a3d8-44aa-d405-6ee0a1b0a3cc"
   },
   "outputs": [
    {
     "name": "stdout",
     "output_type": "stream",
     "text": [
      "CPU times: user 31min 43s, sys: 1min, total: 32min 43s\n",
      "Wall time: 17min 49s\n"
     ]
    }
   ],
   "source": [
    "%%time\n",
    "hess = hessian(loss, model.parameters())\n",
    "\n",
    "hhs = torch.diag(hess)\n",
    "hs = new_hessian(model, hhs)"
   ]
  },
  {
   "cell_type": "code",
   "execution_count": 23,
   "metadata": {
    "colab": {
     "base_uri": "https://localhost:8080/",
     "height": 493
    },
    "colab_type": "code",
    "id": "Tp0v1YVi_gqB",
    "outputId": "7473626a-7d04-407c-ef9e-295132ebe64d"
   },
   "outputs": [
    {
     "data": {
      "application/vnd.jupyter.widget-view+json": {
       "model_id": "436d1a957403426fbb18cdd5dfeca07b"
      }
     },
     "metadata": {},
     "output_type": "display_data"
    },
    {
     "name": "stdout",
     "output_type": "stream",
     "text": [
      "\n"
     ]
    },
    {
     "data": {
      "application/vnd.jupyter.widget-view+json": {
       "model_id": "ba0876f1e1ef4fd38de062f709c0b6c1"
      }
     },
     "metadata": {},
     "output_type": "display_data"
    },
    {
     "name": "stdout",
     "output_type": "stream",
     "text": [
      "\n"
     ]
    }
   ],
   "source": [
    "_noise_ = np.linspace(0, 1, 10)\n",
    "k = 5\n",
    "\n",
    "random_accuracy = []\n",
    "for i in tqdm(_range_):\n",
    "    accuracy = []\n",
    "    for _ in range(k):\n",
    "#         model.load_state_dict(torch.load('dump/train_model.sv'))\n",
    "        optimizer = Adam(model.parameters())\n",
    "        optimizer.prune(_noise_=i, method='random', hessian=hs)\n",
    "\n",
    "        full_train(num_of_epoch = 2,\n",
    "            batch_size = 64,\n",
    "            dataset = train_device,\n",
    "            model = model,\n",
    "            loss_function = loss_function,\n",
    "            optimizer = optimizer\n",
    "        )\n",
    "\n",
    "        output = model(test_device[:][0])\n",
    "        output.sum(dim = 1)\n",
    "        output_f = torch.argmax(torch.softmax(output, dim = 1), dim = 1)\n",
    "        \n",
    "        frac = float((test_device[:][1] == output_f).sum())/test[:][1].shape[0]\n",
    "        accuracy.append(frac)\n",
    "    random_accuracy.append(accuracy)\n",
    "  \n",
    "random_accuracy_array = np.array(random_accuracy)\n",
    "\n",
    "\n",
    "OBD_accuracy = []\n",
    "for i in tqdm(_range_):\n",
    "    optimizer = Adam(model.parameters())\n",
    "    optimizer.prune(_noise_=i, method='OBD', hessian=hs)\n",
    "\n",
    "    full_train(num_of_epoch = 2,\n",
    "        batch_size = 64,\n",
    "        dataset = train_device,\n",
    "        model = model,\n",
    "        loss_function = loss_function,\n",
    "        optimizer = optimizer\n",
    "    )\n",
    "\n",
    "    output = model(test_device[:][0])\n",
    "    output.sum(dim = 1)\n",
    "    _output_ = torch.argmax(torch.softmax(output, dim = 1), dim = 1)\n",
    "    frac = float((test_device[:][1] == _output_).sum())/test_device[:][1].shape[0]\n",
    "    OBD_accuracy.append(frac)\n",
    "  \n",
    "OBD_accuracy_array = np.array(OBD_accuracy)"
   ]
  },
  {
   "cell_type": "code",
   "execution_count": 24,
   "metadata": {
    "colab": {},
    "colab_type": "code",
    "collapsed": true,
    "id": "bYU8pQfjBKrV"
   },
   "outputs": [],
   "source": [
    "_mean_ = np.mean(random_accuracy_array, axis = 1)\n",
    "_std_ = np.std(random_accuracy_array, axis = 1)"
   ]
  },
  {
   "cell_type": "markdown",
   "metadata": {},
   "source": [
    "# Иллюстрация"
   ]
  },
  {
   "cell_type": "code",
   "execution_count": 29,
   "metadata": {
    "colab": {
     "base_uri": "https://localhost:8080/",
     "height": 285
    },
    "colab_type": "code",
    "id": "oSJPNaJv9Z4o",
    "outputId": "19f929de-65a0-40bd-99e1-08f41433e495"
   },
   "outputs": [
    {
     "name": "stderr",
     "output_type": "stream",
     "text": [
      "/Users/alarco/anaconda/lib/python3.6/site-packages/matplotlib/font_manager.py:1297: UserWarning: findfont: Font family ['Djvu Serif'] not found. Falling back to DejaVu Sans\n",
      "  (prop.get_family(), self.defaultFamily[fontext]))\n"
     ]
    },
    {
     "data": {
      "image/png": "[encoded data removed]",
      "text/plain": [
       "<matplotlib.figure.Figure at 0x1545a9cf8>"
      ]
     },
     "metadata": {},
     "output_type": "display_data"
    }
   ],
   "source": [
    "plt.errorbar(_noise_,_mean_,_std_,alpha = 0.5,label='random')\n",
    "plt.plot(_noise_, OBD_accuracy_array, label='Optimal Brain Damage')\n",
    "\n",
    "plt.legend(loc='best')\n",
    "plt.grid()\n",
    "plt.rcParams[\"font.family\"] = 'Djvu Serif'\n",
    "\n",
    "plt.rcParams['text.latex.unicode'] = True\n",
    "\n",
    "plt.rcParams['text.usetex'] = False\n",
    "plt.rcParams['text.latex.preamble'] = [r'\\usepackage[utf8x]{inputenc}', \n",
    "                                       r'\\usepackage[english,russian]{babel}', \n",
    "                                       r'\\usepackage{amsmath}']\n",
    "plt.rcParams['lines.linewidth'] = 3\n",
    "plt.rcParams['lines.markersize'] = 6\n",
    "plt.rcParams['xtick.labelsize'] = 36\n",
    "plt.rcParams['ytick.labelsize'] = 36\n",
    "plt.rcParams['legend.fontsize'] = 36\n",
    "plt.rcParams['axes.titlesize']=36\n",
    "plt.rcParams['axes.labelsize']=36\n",
    "plt.rcParams['figure.figsize'] = (24.0, 12.0)\n",
    "plt.rcParams['font.size'] = 40\n",
    "plt.xlabel('noise')\n",
    "plt.ylabel('Accuracy')\n",
    "plt.show()"
   ]
  },
  {
   "cell_type": "markdown",
   "metadata": {},
   "source": [
    "# Вывод"
   ]
  },
  {
   "cell_type": "markdown",
   "metadata": {},
   "source": [
    "Optimal Brain Damage позволяет примерно до 68%, тогда как случайное удаление работает примерно до 60%. Заметим, что после 80% графики совпадают"
   ]
  },
  {
   "cell_type": "code",
   "execution_count": null,
   "metadata": {
    "collapsed": true
   },
   "outputs": [],
   "source": []
  }
 ],
 "metadata": {
  "colab": {
   "collapsed_sections": [],
   "name": "main.ipynb",
   "provenance": []
  },
  "kernelspec": {
   "display_name": "Python 3",
   "language": "python",
   "name": "python3"
  },
  "language_info": {
   "codemirror_mode": {
    "name": "ipython",
    "version": 3
   },
   "file_extension": ".py",
   "mimetype": "text/x-python",
   "name": "python",
   "nbconvert_exporter": "python",
   "pygments_lexer": "ipython3",
   "version": "3.6.1"
  }
 },
 "nbformat": 4,
 "nbformat_minor": 1
}
