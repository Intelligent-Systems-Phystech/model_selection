{
 "cells": [
  {
   "cell_type": "markdown",
   "metadata": {
    "colab_type": "text",
    "id": "FM9iBRe64B-1"
   },
   "source": [
    "# Практическая работа 1"
   ]
  },
  {
   "cell_type": "markdown",
   "metadata": {
    "colab_type": "text",
    "id": "uG9oprz74B--"
   },
   "source": [
    "## Импортируем библиотеки"
   ]
  },
  {
   "cell_type": "code",
   "execution_count": 1,
   "metadata": {
    "colab": {},
    "colab_type": "code",
    "collapsed": true,
    "id": "eEEBmcuNZC2j"
   },
   "outputs": [],
   "source": [
    "from torch.utils.data import TensorDataset, DataLoader, Dataset\n",
    "import torch\n",
    "from torch import nn\n",
    "from torch import optim\n",
    "\n",
    "import math\n",
    "\n",
    "import numpy as np\n",
    "import matplotlib.pyplot as plt\n",
    "\n",
    "from tqdm import tqdm_notebook as tqdm\n",
    "from multiprocessing import Pool"
   ]
  },
  {
   "cell_type": "markdown",
   "metadata": {
    "colab_type": "text",
    "id": "Uigj_Lccul-X"
   },
   "source": [
    "## Функции\n",
    "Берем все те же функции из статьи "
   ]
  },
  {
   "cell_type": "code",
   "execution_count": 2,
   "metadata": {
    "colab": {},
    "colab_type": "code",
    "collapsed": true,
    "id": "9J3miuTR4B_W"
   },
   "outputs": [],
   "source": [
    "def gradient(outputs, inputs, grad_outputs=None, retain_graph=None, create_graph=False):\n",
    "    '''\n",
    "    Compute the gradient of `outputs` with respect to `inputs`\n",
    "    gradient(x.sum(), x)\n",
    "    gradient((x * y).sum(), [x, y])\n",
    "    '''\n",
    "    if torch.is_tensor(inputs):\n",
    "        inputs = [inputs]\n",
    "    else:\n",
    "        inputs = list(inputs)\n",
    "    grads = torch.autograd.grad(outputs, inputs, grad_outputs,\n",
    "                                allow_unused=True,\n",
    "                                retain_graph=retain_graph,\n",
    "                                create_graph=create_graph)\n",
    "    grads = [x if x is not None else torch.zeros_like(y) for x, y in zip(grads, inputs)]\n",
    "    return torch.cat([x.contiguous().view(-1) for x in grads])"
   ]
  },
  {
   "cell_type": "code",
   "execution_count": 3,
   "metadata": {
    "colab": {},
    "colab_type": "code",
    "collapsed": true,
    "id": "ZNeJh2bF4B_c"
   },
   "outputs": [],
   "source": [
    "def jacobian(outputs, inputs, create_graph=False):\n",
    "    '''\n",
    "    Compute the Jacobian of `outputs` with respect to `inputs`\n",
    "    jacobian(x, x)\n",
    "    jacobian(x * y, [x, y])\n",
    "    jacobian([x * y, x.sqrt()], [x, y])\n",
    "    '''\n",
    "    if torch.is_tensor(outputs):\n",
    "        outputs = [outputs]\n",
    "    else:\n",
    "        outputs = list(outputs)\n",
    "\n",
    "    if torch.is_tensor(inputs):\n",
    "        inputs = [inputs]\n",
    "    else:\n",
    "        inputs = list(inputs)\n",
    "\n",
    "    jac = []\n",
    "    for output in outputs:\n",
    "        output_flat = output.view(-1)\n",
    "        output_grad = torch.zeros_like(output_flat)\n",
    "        for i in range(len(output_flat)):\n",
    "            output_grad[i] = 1\n",
    "            jac += [gradient(output_flat, inputs, output_grad, True, create_graph)]\n",
    "            output_grad[i] = 0\n",
    "    return torch.stack(jac)"
   ]
  },
  {
   "cell_type": "code",
   "execution_count": 4,
   "metadata": {
    "colab": {},
    "colab_type": "code",
    "collapsed": true,
    "id": "9x0wUHnE4B_h"
   },
   "outputs": [],
   "source": [
    "def hessian(output, inputs, out=None, allow_unused=False, create_graph=False):\n",
    "    '''\n",
    "    Compute the Hessian of `output` with respect to `inputs`\n",
    "    hessian((x * y).sum(), [x, y])\n",
    "    '''\n",
    "    assert output.ndimension() == 0\n",
    "\n",
    "    if torch.is_tensor(inputs):\n",
    "        inputs = [inputs]\n",
    "    else:\n",
    "        inputs = list(inputs)\n",
    "\n",
    "    n = sum(p.numel() for p in inputs)\n",
    "    if out is None:\n",
    "        out = output.new_zeros(n, n)\n",
    "\n",
    "    ai = 0\n",
    "    for i, inp in enumerate(inputs):\n",
    "        [grad] = torch.autograd.grad(output, inp, create_graph=True, allow_unused=allow_unused)\n",
    "        grad = torch.zeros_like(inp) if grad is None else grad\n",
    "        grad = grad.contiguous().view(-1)\n",
    "\n",
    "        for j in range(inp.numel()):\n",
    "            if grad[j].requires_grad:\n",
    "                row = gradient(grad[j], inputs[i:], retain_graph=True, create_graph=create_graph)[j:]\n",
    "            else:\n",
    "                row = grad[j].new_zeros(sum(x.numel() for x in inputs[i:]) - j)\n",
    "\n",
    "            out[ai, ai:].add_(row.type_as(out))  # ai's row\n",
    "            if ai + 1 < n:\n",
    "                out[ai + 1:, ai].add_(row[1:].type_as(out))  # ai's column\n",
    "            del row\n",
    "            ai += 1\n",
    "        del grad\n",
    "\n",
    "    return out"
   ]
  },
  {
   "cell_type": "markdown",
   "metadata": {
    "colab_type": "text",
    "id": "E4gd24dt4B_m"
   },
   "source": [
    "## Устройство"
   ]
  },
  {
   "cell_type": "code",
   "execution_count": 5,
   "metadata": {
    "colab": {
     "base_uri": "https://localhost:8080/",
     "height": 34
    },
    "colab_type": "code",
    "id": "_MrQdFwZZC24",
    "outputId": "60b2e251-d5a2-4bbb-e5be-184ba698e793"
   },
   "outputs": [
    {
     "data": {
      "text/plain": [
       "device(type='cpu')"
      ]
     },
     "execution_count": 5,
     "metadata": {},
     "output_type": "execute_result"
    }
   ],
   "source": [
    "device = torch.device(\"cuda\" if torch.cuda.is_available() else \"cpu\")\n",
    "device"
   ]
  },
  {
   "cell_type": "markdown",
   "metadata": {
    "colab_type": "text",
    "id": "O3LiSwXu4B_t"
   },
   "source": [
    "## Модель "
   ]
  },
  {
   "cell_type": "markdown",
   "metadata": {
    "colab_type": "text",
    "id": "sw9je-yPIyAn"
   },
   "source": [
    "В качестве модели рассматривалась полносвязная нейросеть c одним скрытым слоем."
   ]
  },
  {
   "cell_type": "code",
   "execution_count": 6,
   "metadata": {
    "colab": {},
    "colab_type": "code",
    "collapsed": true,
    "id": "non2f-LKZC3O"
   },
   "outputs": [],
   "source": [
    "class Neural_model(nn.Module):\n",
    "    def __init__(self, input_dim=10, hidden_dim=3, output_dim=1, device='cpu'):\n",
    "        \"\"\"\n",
    "        \"\"\"\n",
    "        super(Neural_model, self).__init__()\n",
    "        self.input_dim = input_dim\n",
    "        self.hidden_dim = hidden_dim\n",
    "        self.output_dim = output_dim\n",
    "        self.device = device\n",
    "\n",
    "        self.network = nn.Sequential(\n",
    "            nn.Linear(self.input_dim, self.hidden_dim),\n",
    "            nn.ReLU(),\n",
    "        )\n",
    "        \n",
    "        self.output = nn.Linear(self.hidden_dim, self.output_dim)\n",
    "        \n",
    "        list_of_params = []\n",
    "        for param in self.parameters():\n",
    "            list_of_params.append(param.data.view(-1))\n",
    "        self.D = len(torch.cat(list_of_params).view(-1))\n",
    "\n",
    "        list_of_hyperparams = []\n",
    "        for param in self.parameters():\n",
    "            list_of_hyperparams.append(torch.ones_like(param.data, requires_grad=True))\n",
    "        \n",
    "        self.list_of_hyperparams = list_of_hyperparams\n",
    "        \n",
    "        self.to(device)\n",
    "\n",
    "        \n",
    "    def forward(self, input):\n",
    "        x = input\n",
    "        x = self.network(x)\n",
    "        return self.output(x)\n",
    "    \n",
    "    def log_prior_w(self, w, h):\n",
    "\n",
    "        w = w.view(-1)\n",
    "        h = h.view(-1)\n",
    "        return -0.5*torch.dot(w*(h**2), w)\n",
    "      \n",
    "    def log_prior_all(self):\n",
    "        T = 0\n",
    "        i_T = 0\n",
    "        for param, hyperparam in zip(self.parameters(), self.list_of_hyperparams):\n",
    "            T += self.log_prior_w(param, hyperparam)\n",
    "        return T\n",
    "     \n",
    "    def loglikelihood(self, batch_x, batch_y):\n",
    "\n",
    "        return -0.5*torch.mean((self.forward(batch_x) - batch_y)**2)\n",
    "    \n",
    "    def margin_log_likelihood(self, batch_x, batch_y):\n",
    "\n",
    "        T = self.log_prior_all() + self.loglikelihood(batch_x, batch_y)\n",
    "        return T\n",
    "    \n",
    "    def loss(self, batch_x, batch_y):\n",
    "        prediction = self.forward(batch_x)\n",
    "        return nn.MSELoss()(prediction, batch_y)\n",
    "    \n",
    "#     Добавим необходимые функции: инициализации, обнуления и задания гиперпараметров и их градиентов\n",
    "    \n",
    "    def random_hyperparam(self):\n",
    "        for h in self.list_of_hyperparams:\n",
    "            h.data = torch.rand_like(h.data)\n",
    "\n",
    "    def zero_grad_hyperparam(self):\n",
    "        for h in self.list_of_hyperparams:\n",
    "            h.grad.zero_()\n",
    "\n",
    "    def set_grad_hyperparam(self, grad):\n",
    "        bias = 0\n",
    "        for param in self.list_of_hyperparams:\n",
    "            param_size = torch.tensor(param.size()).prod()\n",
    "            param.grad = grad[bias:bias+param_size].view_as(param)\n",
    "            bias+=param_size\n",
    "            \n",
    "    def set_data_hyperparam(self, data):\n",
    "        bias = 0\n",
    "        for h in self.list_of_hyperparams:\n",
    "            h_size = torch.tensor(h.size()).prod()\n",
    "            h.data = data[bias:bias+h_size].view_as(h)\n",
    "            if h.grad is not None:\n",
    "                h.grad.zero_()\n",
    "            bias+=h_size"
   ]
  },
  {
   "cell_type": "markdown",
   "metadata": {
    "colab_type": "text",
    "id": "I4A3Fhmy4B_w"
   },
   "source": [
    "## Эксперимент"
   ]
  },
  {
   "cell_type": "markdown",
   "metadata": {
    "colab_type": "text",
    "id": "tDKxBszE4B_x"
   },
   "source": [
    "Реализуем совсем простую выборку"
   ]
  },
  {
   "cell_type": "code",
   "execution_count": 7,
   "metadata": {
    "colab": {},
    "colab_type": "code",
    "collapsed": true,
    "id": "IG2k8xWD4B_y"
   },
   "outputs": [],
   "source": [
    "def get_dataset(w, m,n,eps):\n",
    "    \n",
    "    X = np.random.randn(m, n)\n",
    "    Y = (X@w + eps*np.random.randn(m)).reshape([-1, 1])\n",
    "    return X,Y"
   ]
  },
  {
   "cell_type": "code",
   "execution_count": 8,
   "metadata": {
    "colab": {},
    "colab_type": "code",
    "collapsed": true,
    "id": "5Q_ojFlb4B_0"
   },
   "outputs": [],
   "source": [
    "m = 150\n",
    "n = 20\n",
    "eps = 0.001\n",
    "\n",
    "w = np.random.randn(n)\n",
    "\n",
    "X_train, Y_train = get_dataset(w, m,n,eps)\n",
    "X_test, Y_test = get_dataset(w, m,n,eps)\n",
    "X_valid, Y_valid = get_dataset(w, m,n,eps)"
   ]
  },
  {
   "cell_type": "code",
   "execution_count": 9,
   "metadata": {
    "colab": {},
    "colab_type": "code",
    "collapsed": true,
    "id": "8iTTbmIT4B_2"
   },
   "outputs": [],
   "source": [
    "train_data = TensorDataset(torch.Tensor(X_train).to(device), torch.Tensor(Y_train).to(device))\n",
    "X_tr, Y_tr = train_data[:]\n",
    "valid_data = TensorDataset(torch.Tensor(X_test).to(device), torch.Tensor(Y_test).to(device))\n",
    "X_valid, Y_valid = valid_data[:]\n",
    "test_data = TensorDataset(torch.Tensor(X_test).to(device), torch.Tensor(Y_test).to(device))\n",
    "X_ts, Y_ts = test_data[:]"
   ]
  },
  {
   "cell_type": "markdown",
   "metadata": {
    "colab_type": "text",
    "id": "_DZf_A_eVvuX"
   },
   "source": [
    "# Random Search"
   ]
  },
  {
   "cell_type": "code",
   "execution_count": 10,
   "metadata": {
    "colab": {},
    "colab_type": "code",
    "collapsed": true,
    "id": "XQMISxFR4B_4"
   },
   "outputs": [],
   "source": [
    "def hyperarray(model):\n",
    "    list_of_hyperparams = []\n",
    "    for h in model.list_of_hyperparams:\n",
    "        list_of_hyperparams.append(h.data.cpu().numpy().reshape(-1))\n",
    "\n",
    "    return np.hstack(list_of_hyperparams)\n",
    "# Сохраняем параметры в numpy массиве\n",
    "\n",
    "def get_loss_param_hyper(model, hyper):\n",
    "\n",
    "    model.__init__(model.input_dim, model.hidden_dim, model.output_dim, model.device)\n",
    "    model.set_data_hyperparam(hyper)\n",
    "    \n",
    "    optimazer = optim.Adam(model.parameters(), lr=0.01)\n",
    "\n",
    "    steps = []\n",
    "\n",
    "    for epoch in range(200):\n",
    "        generator = DataLoader(train_data, batch_size=64, shuffle=True)\n",
    "        for batch_x, batch_y in generator:\n",
    "            model.zero_grad()\n",
    "            loss = -model.margin_log_likelihood(batch_x, batch_y)\n",
    "            loss.backward()\n",
    "            optimazer.step()\n",
    "            \n",
    "    return hyperarray(model), model.loss(X_valid, Y_valid).item()\n",
    "# Считаем ошибку на валидационной выборке\n",
    "    "
   ]
  },
  {
   "cell_type": "code",
   "execution_count": 11,
   "metadata": {
    "colab": {},
    "colab_type": "code",
    "collapsed": true,
    "id": "I1px3D96QAEt"
   },
   "outputs": [],
   "source": [
    "def random_search(number_of_search = 10, model = None):\n",
    "    hyperparams = []\n",
    "    losses = []\n",
    "\n",
    "    for _ in tqdm(range(number_of_search)):\n",
    "        hyperparam = torch.rand(model.D)\n",
    "        hyperparam, loss_of_f = get_loss_param_hyper(model, hyperparam)\n",
    "\n",
    "        hyperparams.append(hyperparam)\n",
    "        losses.append(loss_of_f)\n",
    "\n",
    "    return np.array(hyperparams), np.array(losses)\n"
   ]
  },
  {
   "cell_type": "code",
   "execution_count": 12,
   "metadata": {
    "colab": {},
    "colab_type": "code",
    "collapsed": true,
    "id": "89lQWQAf4B_8"
   },
   "outputs": [],
   "source": [
    "model = Neural_model(input_dim=n, output_dim=1, hidden_dim=1)"
   ]
  },
  {
   "cell_type": "code",
   "execution_count": 13,
   "metadata": {
    "colab": {
     "base_uri": "https://localhost:8080/",
     "height": 375
    },
    "colab_type": "code",
    "id": "zcaltzFsVMIe",
    "outputId": "0117f0e9-09eb-48b1-87a8-9c960ca33a09"
   },
   "outputs": [
    {
     "data": {
      "application/vnd.jupyter.widget-view+json": {
       "model_id": "626d29fd91d94490b58e7511fa08bc2d"
      }
     },
     "metadata": {},
     "output_type": "display_data"
    },
    {
     "name": "stdout",
     "output_type": "stream",
     "text": [
      "\n",
      "CPU times: user 3min 5s, sys: 5.75 s, total: 3min 11s\n",
      "Wall time: 3min 15s\n"
     ]
    }
   ],
   "source": [
    "%%time\n",
    "hyperparams_rand, losses_rand = random_search(200, model)"
   ]
  },
  {
   "cell_type": "code",
   "execution_count": 14,
   "metadata": {
    "colab": {
     "base_uri": "https://localhost:8080/",
     "height": 34
    },
    "colab_type": "code",
    "id": "ic8ZTYgaG0Vi",
    "outputId": "9e97ecc8-45b4-4d3c-98a5-cdef4d52c91d"
   },
   "outputs": [
    {
     "data": {
      "text/plain": [
       "tensor(2.8413, grad_fn=<MseLossBackward>)"
      ]
     },
     "execution_count": 14,
     "metadata": {},
     "output_type": "execute_result"
    }
   ],
   "source": [
    "model.loss(X_tr, Y_tr)"
   ]
  },
  {
   "cell_type": "code",
   "execution_count": 37,
   "metadata": {
    "colab": {
     "base_uri": "https://localhost:8080/",
     "height": 265
    },
    "colab_type": "code",
    "id": "BqL7VUHXQyW5",
    "outputId": "23a4cd83-058f-4a8d-f3cb-f6c5a9d1d5b7"
   },
   "outputs": [
    {
     "data": {
      "image/png": "[encoded data removed]",
      "text/plain": [
       "<matplotlib.figure.Figure at 0x1263074e0>"
      ]
     },
     "metadata": {},
     "output_type": "display_data"
    }
   ],
   "source": [
    "k = len(losses_rand)\n",
    "_ = plt.plot([np.min(losses_rand[:i]) for i in range(1, k)])\n",
    "plt.rcParams['figure.figsize'] = (16.0, 8.0)\n",
    "plt.rcParams['font.size'] = 24\n",
    "plt.ylabel('loss')\n",
    "plt.xlabel('iteration')\n",
    "plt.grid()\n",
    "plt.show()"
   ]
  },
  {
   "cell_type": "code",
   "execution_count": 17,
   "metadata": {
    "colab": {
     "base_uri": "https://localhost:8080/",
     "height": 136
    },
    "colab_type": "code",
    "id": "KoMzP2EI4CAE",
    "outputId": "38719618-d32c-467f-929e-2b85a23997ef"
   },
   "outputs": [
    {
     "name": "stdout",
     "output_type": "stream",
     "text": [
      "[0.45583606 0.6268117  0.2495963  0.5435631  0.61643946 0.57098174\n",
      " 0.92471147 0.5416199  0.9154121  0.5861751  0.88748235 0.7966057\n",
      " 0.8623083  0.81819975 0.99346834 0.8772899  0.4746846  0.2629453\n",
      " 0.9281426  0.6055253  0.17288554 0.01675969 0.12517273]\n",
      "\n",
      "\n",
      "1.7995758056640625\n"
     ]
    }
   ],
   "source": [
    "poss = np.argmin(losses_rand)\n",
    "optimal_hyperparam_rand = hyperparams_rand[poss]\n",
    "optimal_loss_rand = losses_rand[poss]\n",
    "print(optimal_hyperparam_rand)\n",
    "print('\\n')\n",
    "print(optimal_loss_rand)"
   ]
  },
  {
   "cell_type": "markdown",
   "metadata": {
    "colab_type": "text",
    "id": "kXunz3vA4CAI"
   },
   "source": [
    "Скорость выполнения как ни странно довольно быстрая, а также алгоритм быстро сходится на ранних итерациях.\n",
    "\n",
    "Поскольку берется аргумент минимума, то функция получается ступенчатой."
   ]
  },
  {
   "cell_type": "markdown",
   "metadata": {
    "colab_type": "text",
    "id": "zhCJkyPo4CAJ"
   },
   "source": [
    "## HOAG"
   ]
  },
  {
   "cell_type": "code",
   "execution_count": 18,
   "metadata": {
    "colab": {},
    "colab_type": "code",
    "collapsed": true,
    "id": "CpnVxqpkuFut"
   },
   "outputs": [],
   "source": [
    "model = Neural_model(input_dim=n, output_dim=1, hidden_dim=1)\n",
    "model.random_hyperparam()\n",
    "\n",
    "optimazer_theta = optim.Adam(model.parameters(), lr=0.01)\n",
    "optimazer_h = optim.SGD(model.list_of_hyperparams, lr=0.01)\n",
    "\n",
    "List_of_h = []\n",
    "List_of_loss = []"
   ]
  },
  {
   "cell_type": "code",
   "execution_count": 19,
   "metadata": {
    "colab": {
     "base_uri": "https://localhost:8080/",
     "height": 34
    },
    "colab_type": "code",
    "id": "7HO36bOx4CAK",
    "outputId": "b9e37f6d-172c-42ed-ed56-c8b80485cd0a"
   },
   "outputs": [
    {
     "data": {
      "application/vnd.jupyter.widget-view+json": {
       "model_id": "f70e0d8afc6c4d67ba916b87ab3dc9dd"
      }
     },
     "metadata": {},
     "output_type": "display_data"
    },
    {
     "name": "stdout",
     "output_type": "stream",
     "text": [
      "\n",
      "CPU times: user 3min 6s, sys: 5.78 s, total: 3min 12s\n",
      "Wall time: 3min 15s\n"
     ]
    }
   ],
   "source": [
    "%%time\n",
    "\n",
    "for epoch in tqdm(range(200)):\n",
    "    for ep in range(200):\n",
    "        generator = DataLoader(train_data, batch_size=64, shuffle=True)\n",
    "        for batch_x, batch_y in generator:\n",
    "            model.zero_grad()\n",
    "            loss = -model.margin_log_likelihood(batch_x, batch_y)\n",
    "            loss.backward()\n",
    "            optimazer_theta.step()\n",
    "    \n",
    "    model.zero_grad()\n",
    "    model.zero_grad_hyperparam()\n",
    "    hess = hessian(-model.margin_log_likelihood(X_valid, Y_valid), model.parameters())\n",
    "    \n",
    "    model.zero_grad_hyperparam()\n",
    "    model.zero_grad()\n",
    "    grad = gradient(model.loss(X_valid, Y_valid), model.parameters())\n",
    "\n",
    "    lambd = torch.inverse(hess)@grad\n",
    "\n",
    "    model.zero_grad_hyperparam()\n",
    "    model.zero_grad()\n",
    "    grad = gradient(-model.margin_log_likelihood(X_valid, Y_valid), model.parameters(), create_graph=True)\n",
    "\n",
    "    mat = torch.cat([gradient(gr, model.list_of_hyperparams, retain_graph=True).view([-1, 1]) for gr in grad], dim = 1)\n",
    "\n",
    "    full_grad = -mat.transpose(0,1)@lambd\n",
    "\n",
    "    model.zero_grad()\n",
    "    model.zero_grad_hyperparam()\n",
    "    model.set_grad_hyperparam(full_grad)\n",
    "\n",
    "    optimazer_h.step()\n",
    "    List_of_h.append(hyperarray(model))\n",
    "    List_of_loss.append(model.loss(X_valid, Y_valid).item())\n",
    "\n",
    "    \n",
    "\n",
    "List_of_h = np.array(List_of_h)\n",
    "List_of_loss = np.array(List_of_loss)"
   ]
  },
  {
   "cell_type": "code",
   "execution_count": 20,
   "metadata": {
    "colab": {
     "base_uri": "https://localhost:8080/",
     "height": 497
    },
    "colab_type": "code",
    "id": "tBjTAt7Q4CAO",
    "outputId": "1a6ee4ff-967a-405e-ea43-af8e9b629522"
   },
   "outputs": [
    {
     "data": {
      "image/png": "[encoded data removed]",
      "text/plain": [
       "<matplotlib.figure.Figure at 0x122e795c0>"
      ]
     },
     "metadata": {},
     "output_type": "display_data"
    }
   ],
   "source": [
    "_ = plt.plot(List_of_h)\n",
    "plt.rcParams['figure.figsize'] = (16.0, 8.0)\n",
    "plt.rcParams['font.size'] = 24\n",
    "plt.grid()\n",
    "plt.show()"
   ]
  },
  {
   "cell_type": "markdown",
   "metadata": {},
   "source": [
    "Замечаем, что лишь три гиперпараметра значительно изменили свои значения "
   ]
  },
  {
   "cell_type": "code",
   "execution_count": 36,
   "metadata": {
    "colab": {},
    "colab_type": "code",
    "id": "zFWF0S174CAQ"
   },
   "outputs": [
    {
     "data": {
      "image/png": "[encoded data removed]",
      "text/plain": [
       "<matplotlib.figure.Figure at 0x126629940>"
      ]
     },
     "metadata": {},
     "output_type": "display_data"
    }
   ],
   "source": [
    "_ = plt.plot(List_of_loss)\n",
    "plt.rcParams['figure.figsize'] = (16.0, 8.0)\n",
    "plt.rcParams['font.size'] = 24\n",
    "plt.ylabel('loss')\n",
    "plt.xlabel('iteration')\n",
    "plt.grid()\n",
    "plt.show()"
   ]
  },
  {
   "cell_type": "markdown",
   "metadata": {
    "colab": {},
    "colab_type": "code",
    "id": "drHNCLWm4CAb"
   },
   "source": [
    "Не смотря на то, что время было затрачено в полтора раз дольше, точность, получаемая этим алгоритмом намного лучше. Также алгоритм быстро сходится в начале, поэтому имеет смысл делать технику рестартов."
   ]
  },
  {
   "cell_type": "markdown",
   "metadata": {
    "colab_type": "text",
    "id": "SjEDJ8RnY0m7"
   },
   "source": [
    "# Гаусовский процесс"
   ]
  },
  {
   "cell_type": "code",
   "execution_count": 23,
   "metadata": {
    "colab": {},
    "colab_type": "code",
    "collapsed": true,
    "id": "yPDXT8x1Ujqn"
   },
   "outputs": [],
   "source": [
    "\n",
    "from pyGPGO.covfunc import squaredExponential\n",
    "from pyGPGO.acquisition import Acquisition\n",
    "from pyGPGO.surrogates.GaussianProcess import GaussianProcess\n",
    "from pyGPGO.GPGO import GPGO\n",
    "from pyGPGO.covfunc import matern32"
   ]
  },
  {
   "cell_type": "code",
   "execution_count": 24,
   "metadata": {
    "colab": {},
    "colab_type": "code",
    "collapsed": true,
    "id": "7B--ixw9Y7O8"
   },
   "outputs": [],
   "source": [
    "model = Neural_model(input_dim=n, output_dim=1, hidden_dim=1)\n",
    "D = model.D\n",
    "\n",
    "param_dict = dict()\n",
    "\n",
    "for i in range(D):\n",
    "    param_dict['h'+str(i)] = ('cont', [0, 1])"
   ]
  },
  {
   "cell_type": "code",
   "execution_count": 25,
   "metadata": {
    "colab": {
     "base_uri": "https://localhost:8080/",
     "height": 408
    },
    "colab_type": "code",
    "id": "-6ikvtVw4CAi",
    "outputId": "237a7874-7290-4aed-b538-370c4255225a"
   },
   "outputs": [
    {
     "data": {
      "text/plain": [
       "{'h0': ('cont', [0, 1]),\n",
       " 'h1': ('cont', [0, 1]),\n",
       " 'h10': ('cont', [0, 1]),\n",
       " 'h11': ('cont', [0, 1]),\n",
       " 'h12': ('cont', [0, 1]),\n",
       " 'h13': ('cont', [0, 1]),\n",
       " 'h14': ('cont', [0, 1]),\n",
       " 'h15': ('cont', [0, 1]),\n",
       " 'h16': ('cont', [0, 1]),\n",
       " 'h17': ('cont', [0, 1]),\n",
       " 'h18': ('cont', [0, 1]),\n",
       " 'h19': ('cont', [0, 1]),\n",
       " 'h2': ('cont', [0, 1]),\n",
       " 'h20': ('cont', [0, 1]),\n",
       " 'h21': ('cont', [0, 1]),\n",
       " 'h22': ('cont', [0, 1]),\n",
       " 'h3': ('cont', [0, 1]),\n",
       " 'h4': ('cont', [0, 1]),\n",
       " 'h5': ('cont', [0, 1]),\n",
       " 'h6': ('cont', [0, 1]),\n",
       " 'h7': ('cont', [0, 1]),\n",
       " 'h8': ('cont', [0, 1]),\n",
       " 'h9': ('cont', [0, 1])}"
      ]
     },
     "execution_count": 25,
     "metadata": {},
     "output_type": "execute_result"
    }
   ],
   "source": [
    "param_dict"
   ]
  },
  {
   "cell_type": "code",
   "execution_count": 26,
   "metadata": {
    "colab": {
     "base_uri": "https://localhost:8080/",
     "height": 1000
    },
    "colab_type": "code",
    "id": "TSz9XpxJ4CAl",
    "outputId": "288e287b-34f5-4672-87ad-a5519ed7a994",
    "scrolled": true
   },
   "outputs": [
    {
     "name": "stdout",
     "output_type": "stream",
     "text": [
      "Evaluation \t Proposed point \t  Current eval. \t Best eval.\n",
      "init   \t [0.51729788 0.9469626  0.76545976 0.28239584 0.22104536 0.68622209\n",
      " 0.1671392  0.39244247 0.61805235 0.41193009 0.00246488 0.88403218\n",
      " 0.88494754 0.30040969 0.58958187 0.97842692 0.84509382 0.06507544\n",
      " 0.29474446 0.28793444 0.82246634 0.62618304 0.11047771]. \t  -3.3168962001800537 \t -2.868901252746582\n",
      "init   \t [5.28811169e-04 9.42166233e-01 1.41500758e-01 4.21596526e-01\n",
      " 3.46489440e-01 8.69785084e-01 4.28601812e-01 8.28751484e-01\n",
      " 7.17851838e-01 1.19226694e-01 5.96384173e-01 1.29756298e-01\n",
      " 7.75340917e-02 8.31205256e-01 4.64385615e-01 1.62012479e-01\n",
      " 5.47975292e-01 5.88485822e-01 7.73613169e-01 6.55845458e-01\n",
      " 5.57706759e-01 1.78247267e-01 2.40583531e-01]. \t  -2.868901252746582 \t -2.868901252746582\n",
      "init   \t [0.50605463 0.3967457  0.48305519 0.95573984 0.90160219 0.50575932\n",
      " 0.82070149 0.82771593 0.23183335 0.07905549 0.46576293 0.87897581\n",
      " 0.14750306 0.23125131 0.91794581 0.12906353 0.91640772 0.23479755\n",
      " 0.61598677 0.95158776 0.25513082 0.45025515 0.97251778]. \t  -7.17547607421875 \t -2.868901252746582\n",
      "1      \t [ 1.00000000e+00  0.00000000e+00  1.00000000e+00  0.00000000e+00\n",
      "  0.00000000e+00  0.00000000e+00  1.00000000e+00  0.00000000e+00\n",
      "  1.00000000e+00  1.00000000e+00  1.00000000e+00  0.00000000e+00\n",
      "  0.00000000e+00  1.00000000e+00 -2.77555756e-17  1.00000000e+00\n",
      "  0.00000000e+00  1.00000000e+00  1.00000000e+00  0.00000000e+00\n",
      "  0.00000000e+00  0.00000000e+00  0.00000000e+00]. \t  \u001b[92m-1.9114571809768677\u001b[0m \t -1.9114571809768677\n",
      "2      \t [1. 0. 0. 1. 0. 0. 1. 0. 0. 1. 0. 0. 1. 1. 0. 0. 0. 1. 0. 0. 1. 1. 1.]. \t  -10.479098320007324 \t -1.9114571809768677\n",
      "3      \t [1. 1. 1. 1. 1. 0. 0. 0. 1. 1. 1. 0. 1. 0. 1. 1. 0. 1. 1. 1. 0. 0. 0.]. \t  -2.00410795211792 \t -1.9114571809768677\n",
      "4      \t [ 0.00000000e+00 -1.38777878e-17  1.00000000e+00  0.00000000e+00\n",
      "  1.00000000e+00  1.00000000e+00  0.00000000e+00  1.00000000e+00\n",
      "  1.00000000e+00  0.00000000e+00  1.00000000e+00  1.00000000e+00\n",
      "  1.00000000e+00  1.00000000e+00  0.00000000e+00  1.00000000e+00\n",
      "  0.00000000e+00  1.00000000e+00  1.00000000e+00  0.00000000e+00\n",
      "  0.00000000e+00  1.00000000e+00  0.00000000e+00]. \t  -3.1684138774871826 \t -1.9114571809768677\n",
      "5      \t [0. 1. 1. 0. 1. 0. 0. 0. 0. 1. 1. 0. 0. 1. 0. 1. 0. 0. 0. 1. 1. 0. 1.]. \t  -6.853835582733154 \t -1.9114571809768677\n",
      "6      \t [0. 0. 0. 0. 0. 0. 1. 1. 1. 1. 1. 1. 1. 0. 1. 1. 1. 1. 0. 0. 0. 1. 0.]. \t  -4.468629837036133 \t -1.9114571809768677\n",
      "7      \t [ 1.00000000e+00  0.00000000e+00  0.00000000e+00  0.00000000e+00\n",
      "  1.00000000e+00  1.00000000e+00  0.00000000e+00  0.00000000e+00\n",
      "  1.00000000e+00  0.00000000e+00  0.00000000e+00  1.00000000e+00\n",
      "  0.00000000e+00  0.00000000e+00  1.00000000e+00  0.00000000e+00\n",
      " -5.55111512e-17  1.00000000e+00  0.00000000e+00  0.00000000e+00\n",
      "  1.00000000e+00  0.00000000e+00  0.00000000e+00]. \t  -2.3163950443267822 \t -1.9114571809768677\n",
      "8      \t [1. 1. 1. 1. 0. 1. 0. 1. 0. 1. 0. 0. 0. 0. 0. 1. 0. 0. 1. 0. 0. 0. 0.]. \t  \u001b[92m-1.8683007955551147\u001b[0m \t -1.8683007955551147\n",
      "9      \t [1. 0. 1. 0. 0. 1. 0. 0. 0. 0. 1. 0. 1. 0. 1. 0. 0. 0. 1. 1. 0. 1. 0.]. \t  -3.833571672439575 \t -1.8683007955551147\n",
      "10     \t [0. 0. 1. 0. 0. 1. 1. 0. 1. 1. 0. 1. 0. 0. 0. 1. 1. 1. 1. 1. 1. 1. 1.]. \t  -9.84941577911377 \t -1.8683007955551147\n",
      "11     \t [0. 1. 0. 1. 1. 0. 0. 1. 1. 1. 1. 0. 1. 1. 0. 0. 1. 0. 1. 0. 1. 0. 0.]. \t  -2.6959726810455322 \t -1.8683007955551147\n",
      "12     \t [1. 1. 0. 0. 1. 0. 0. 1. 1. 0. 0. 1. 1. 1. 0. 1. 1. 1. 0. 1. 0. 0. 0.]. \t  -2.194357395172119 \t -1.8683007955551147\n",
      "13     \t [1. 1. 1. 1. 0. 1. 1. 1. 1. 0. 1. 1. 1. 1. 1. 1. 0. 0. 1. 0. 1. 0. 1.]. \t  -6.919960975646973 \t -1.8683007955551147\n",
      "14     \t [1. 1. 0. 0. 0. 1. 0. 1. 1. 0. 1. 0. 0. 0. 0. 0. 1. 0. 0. 0. 0. 1. 0.]. \t  -4.30031156539917 \t -1.8683007955551147\n",
      "15     \t [0. 1. 1. 1. 1. 0. 0. 1. 0. 0. 0. 0. 0. 1. 1. 0. 0. 1. 0. 0. 0. 1. 0.]. \t  -3.12499737739563 \t -1.8683007955551147\n",
      "16     \t [0. 1. 0. 1. 1. 1. 1. 0. 1. 1. 0. 1. 1. 1. 1. 1. 0. 0. 0. 1. 0. 0. 0.]. \t  \u001b[92m-1.6439368724822998\u001b[0m \t -1.6439368724822998\n",
      "17     \t [0. 1. 0. 0. 0. 1. 0. 1. 0. 1. 1. 1. 1. 0. 1. 0. 0. 1. 0. 1. 1. 0. 0.]. \t  -3.1667349338531494 \t -1.6439368724822998\n",
      "18     \t [1. 0. 0. 0. 1. 0. 0. 0. 0. 1. 1. 0. 0. 0. 1. 0. 1. 0. 1. 0. 0. 0. 0.]. \t  -2.2150425910949707 \t -1.6439368724822998\n",
      "19     \t [1. 0. 0. 0. 1. 1. 1. 1. 0. 1. 1. 0. 1. 1. 0. 1. 1. 0. 1. 1. 0. 0. 0.]. \t  -2.367576837539673 \t -1.6439368724822998\n",
      "20     \t [1. 0. 0. 1. 0. 0. 0. 0. 0. 0. 0. 1. 1. 1. 0. 1. 1. 1. 1. 1. 0. 0. 0.]. \t  -2.0975632667541504 \t -1.6439368724822998\n",
      "21     \t [0. 1. 1. 1. 1. 1. 1. 0. 1. 1. 0. 0. 1. 0. 1. 1. 1. 1. 0. 0. 0. 0. 0.]. \t  \u001b[92m-1.5900989770889282\u001b[0m \t -1.5900989770889282\n",
      "22     \t [0. 1. 0. 1. 1. 1. 0. 0. 1. 0. 1. 1. 1. 0. 0. 0. 0. 1. 1. 0. 0. 1. 1.]. \t  -8.971799850463867 \t -1.5900989770889282\n",
      "23     \t [1. 0. 0. 1. 1. 0. 0. 0. 1. 0. 0. 0. 0. 1. 1. 1. 1. 0. 0. 0. 1. 0. 0.]. \t  -2.6609363555908203 \t -1.5900989770889282\n",
      "24     \t [1. 0. 1. 0. 1. 1. 0. 1. 0. 1. 0. 0. 1. 0. 1. 1. 1. 1. 1. 0. 1. 0. 1.]. \t  -6.91060733795166 \t -1.5900989770889282\n",
      "25     \t [0. 1. 0. 1. 0. 0. 1. 0. 1. 1. 1. 0. 0. 1. 1. 0. 1. 0. 0. 1. 0. 1. 0.]. \t  -4.387278079986572 \t -1.5900989770889282\n",
      "26     \t [ 1.00000000e+00  0.00000000e+00  1.00000000e+00 -5.55111512e-17\n",
      "  0.00000000e+00  0.00000000e+00  1.00000000e+00  1.00000000e+00\n",
      "  0.00000000e+00  0.00000000e+00  1.00000000e+00  1.00000000e+00\n",
      "  0.00000000e+00  1.00000000e+00  1.00000000e+00  1.00000000e+00\n",
      "  0.00000000e+00  1.00000000e+00  0.00000000e+00  1.00000000e+00\n",
      "  1.00000000e+00  1.00000000e+00  0.00000000e+00]. \t  -8.96274471282959 \t -1.5900989770889282\n",
      "27     \t [0. 1. 1. 0. 1. 0. 1. 1. 0. 1. 0. 0. 1. 1. 1. 0. 0. 0. 1. 0. 0. 0. 0.]. \t  -2.108687400817871 \t -1.5900989770889282\n",
      "28     \t [1. 0. 0. 0. 1. 0. 0. 1. 1. 1. 0. 0. 1. 1. 0. 0. 0. 0. 1. 1. 0. 1. 1.]. \t  -9.107282638549805 \t -1.5900989770889282\n",
      "29     \t [0. 1. 1. 0. 0. 1. 1. 0. 0. 0. 0. 0. 0. 0. 1. 1. 1. 0. 1. 0. 0. 0. 0.]. \t  -2.258740186691284 \t -1.5900989770889282\n",
      "30     \t [ 1.00000000e+00  0.00000000e+00  1.00000000e+00  1.00000000e+00\n",
      "  1.00000000e+00  1.00000000e+00  1.00000000e+00  0.00000000e+00\n",
      "  1.00000000e+00  1.00000000e+00  0.00000000e+00  1.00000000e+00\n",
      " -5.55111512e-17  0.00000000e+00  0.00000000e+00  0.00000000e+00\n",
      "  0.00000000e+00  0.00000000e+00  0.00000000e+00  0.00000000e+00\n",
      "  1.00000000e+00  0.00000000e+00  0.00000000e+00]. \t  -2.531832695007324 \t -1.5900989770889282\n",
      "31     \t [0. 1. 0. 0. 1. 1. 1. 1. 0. 0. 1. 0. 0. 1. 0. 0. 1. 1. 1. 0. 1. 0. 0.]. \t  -2.853119134902954 \t -1.5900989770889282\n",
      "32     \t [0. 0. 1. 1. 0. 0. 0. 0. 0. 0. 1. 0. 1. 0. 0. 0. 1. 0. 1. 0. 1. 0. 0.]. \t  -2.4499659538269043 \t -1.5900989770889282\n",
      "33     \t [1. 1. 0. 1. 0. 1. 1. 1. 1. 1. 0. 1. 0. 0. 0. 1. 0. 0. 0. 1. 0. 0. 0.]. \t  -1.9584506750106812 \t -1.5900989770889282\n",
      "34     \t [1. 0. 1. 1. 0. 1. 0. 0. 1. 0. 0. 0. 1. 0. 0. 1. 1. 1. 0. 1. 0. 0. 0.]. \t  -2.358365535736084 \t -1.5900989770889282\n",
      "35     \t [0. 1. 0. 1. 0. 1. 0. 0. 0. 1. 0. 1. 0. 1. 1. 1. 0. 0. 1. 1. 0. 0. 0.]. \t  \u001b[92m-1.5398677587509155\u001b[0m \t -1.5398677587509155\n",
      "36     \t [1. 1. 1. 1. 0. 0. 0. 0. 1. 1. 0. 1. 0. 1. 0. 1. 1. 0. 0. 0. 0. 0. 1.]. \t  -7.0005621910095215 \t -1.5398677587509155\n",
      "37     \t [0. 1. 0. 1. 1. 1. 1. 0. 1. 0. 0. 0. 1. 0. 1. 0. 0. 0. 0. 1. 1. 1. 0.]. \t  -7.867691516876221 \t -1.5398677587509155\n",
      "38     \t [0. 0. 0. 1. 0. 1. 0. 1. 0. 1. 1. 1. 0. 1. 1. 1. 1. 0. 1. 0. 1. 1. 0.]. \t  -7.327354431152344 \t -1.5398677587509155\n",
      "39     \t [0. 1. 1. 0. 1. 1. 1. 1. 0. 0. 1. 0. 1. 0. 0. 1. 1. 1. 0. 1. 0. 0. 0.]. \t  -1.6146297454833984 \t -1.5398677587509155\n",
      "40     \t [0. 0. 1. 0. 1. 0. 1. 0. 0. 0. 1. 1. 1. 0. 0. 1. 1. 0. 0. 1. 0. 0. 0.]. \t  -1.6419790983200073 \t -1.5398677587509155\n",
      "41     \t [0. 0. 1. 0. 0. 0. 0. 0. 1. 0. 1. 0. 1. 1. 1. 0. 1. 1. 0. 0. 1. 0. 1.]. \t  -6.847874641418457 \t -1.5398677587509155\n",
      "42     \t [1. 1. 1. 0. 0. 0. 1. 1. 1. 0. 0. 0. 0. 0. 0. 0. 1. 1. 1. 1. 0. 0. 0.]. \t  -2.187021493911743 \t -1.5398677587509155\n",
      "43     \t [1. 1. 0. 0. 1. 0. 0. 0. 0. 0. 0. 1. 1. 0. 1. 1. 0. 0. 0. 0. 0. 0. 0.]. \t  -1.6881320476531982 \t -1.5398677587509155\n",
      "44     \t [1. 1. 0. 0. 0. 0. 1. 0. 0. 0. 1. 1. 1. 0. 0. 1. 0. 0. 1. 1. 0. 0. 0.]. \t  -1.7590152025222778 \t -1.5398677587509155\n",
      "45     \t [1. 1. 1. 1. 1. 1. 1. 0. 0. 1. 0. 0. 1. 1. 0. 0. 1. 1. 0. 1. 0. 0. 0.]. \t  -1.791926383972168 \t -1.5398677587509155\n"
     ]
    },
    {
     "name": "stdout",
     "output_type": "stream",
     "text": [
      "46     \t [0. 1. 0. 0. 0. 1. 1. 1. 0. 0. 0. 0. 0. 1. 0. 1. 0. 0. 0. 0. 0. 0. 1.]. \t  -6.63370943069458 \t -1.5398677587509155\n",
      "47     \t [1. 1. 1. 1. 1. 0. 1. 0. 0. 0. 0. 0. 1. 0. 0. 1. 1. 1. 1. 0. 0. 0. 0.]. \t  -2.4780502319335938 \t -1.5398677587509155\n",
      "48     \t [0. 0. 1. 1. 1. 0. 0. 1. 1. 1. 1. 1. 0. 0. 1. 0. 0. 1. 1. 1. 0. 0. 0.]. \t  -1.9510103464126587 \t -1.5398677587509155\n",
      "49     \t [0. 0. 0. 1. 0. 0. 0. 1. 0. 0. 0. 0. 0. 0. 1. 1. 0. 1. 1. 1. 0. 0. 0.]. \t  -2.431997776031494 \t -1.5398677587509155\n",
      "50     \t [0. 1. 1. 1. 1. 0. 0. 1. 0. 1. 0. 1. 1. 1. 0. 1. 1. 1. 1. 1. 1. 0. 0.]. \t  -2.1694369316101074 \t -1.5398677587509155\n",
      "CPU times: user 19min 36s, sys: 32.9 s, total: 20min 9s\n",
      "Wall time: 19min 43s\n"
     ]
    }
   ],
   "source": [
    "%%time\n",
    "\n",
    "def f(**argv):\n",
    "    x = []\n",
    "    for par in argv:\n",
    "        x.append(argv[par])\n",
    "    if not torch.is_tensor(x):\n",
    "        x = torch.tensor(x)\n",
    "# так как максимизирует библиотека возьмем ошибку со знаком минус\n",
    "    return -get_loss_param_hyper(model, x)[1]\n",
    "\n",
    "\n",
    "sexp = matern32()\n",
    "gp = GaussianProcess(sexp, optimize=True, usegrads=True)\n",
    "acq = Acquisition(mode='ExpectedImprovement')\n",
    "\n",
    "np.random.seed(23)\n",
    "gpgo = GPGO(gp, acq, f, param_dict)\n",
    "gpgo.run(max_iter=50)"
   ]
  },
  {
   "cell_type": "code",
   "execution_count": 29,
   "metadata": {
    "colab": {},
    "colab_type": "code",
    "collapsed": true,
    "id": "AKJ0kVwu4CAn"
   },
   "outputs": [],
   "source": [
    "List_of_loss_gaus = -1*np.array(gpgo.history)"
   ]
  },
  {
   "cell_type": "code",
   "execution_count": 35,
   "metadata": {
    "colab": {
     "base_uri": "https://localhost:8080/",
     "height": 500
    },
    "colab_type": "code",
    "id": "nf21YxgJ4CAq",
    "outputId": "70a891d6-1539-4684-f3d4-c55d2f8e951d"
   },
   "outputs": [
    {
     "data": {
      "image/png": "[encoded data removed]",
      "text/plain": [
       "<matplotlib.figure.Figure at 0x1263caac8>"
      ]
     },
     "metadata": {},
     "output_type": "display_data"
    }
   ],
   "source": [
    "_ = plt.plot(List_of_loss_gaus)\n",
    "plt.rcParams['figure.figsize'] = (16.0, 8.0)\n",
    "plt.rcParams['font.size'] = 24\n",
    "plt.ylabel('loss')\n",
    "plt.xlabel('iteration')\n",
    "plt.grid()\n",
    "plt.show()"
   ]
  },
  {
   "cell_type": "code",
   "execution_count": 38,
   "metadata": {
    "colab": {
     "base_uri": "https://localhost:8080/",
     "height": 51
    },
    "colab_type": "code",
    "id": "BGAaROv14CAs",
    "outputId": "06c19018-67ca-48de-8ad6-0bc0085a06ef"
   },
   "outputs": [
    {
     "name": "stdout",
     "output_type": "stream",
     "text": [
      "[0. 1. 0. 1. 0. 1. 0. 0. 0. 1. 0. 1. 0. 1. 1. 1. 0. 0. 1. 1. 0. 0. 0.]\n",
      "\n",
      "\n",
      "1.5398677587509155\n"
     ]
    }
   ],
   "source": [
    "best_h_gaus, best_loss_gaus = gpgo.getResult()[0], -gpgo.getResult()[1]\n",
    "List_of_h = []\n",
    "for key in best_h_gaus:\n",
    "    List_of_h.append(best_h_gaus[key])\n",
    "    \n",
    "best_h_gaus = np.array(List_of_h)\n",
    "print(best_h_gaus)\n",
    "print('\\n')\n",
    "print(best_loss_gaus)"
   ]
  },
  {
   "cell_type": "markdown",
   "metadata": {
    "colab": {},
    "colab_type": "code",
    "id": "S_1BoOJgn6-U"
   },
   "source": [
    "## Анализ результатов"
   ]
  },
  {
   "cell_type": "markdown",
   "metadata": {},
   "source": [
    "Выведем все графики вместе:"
   ]
  },
  {
   "cell_type": "code",
   "execution_count": 34,
   "metadata": {},
   "outputs": [
    {
     "data": {
      "image/png": "[encoded data removed]",
      "text/plain": [
       "<matplotlib.figure.Figure at 0x126083160>"
      ]
     },
     "metadata": {},
     "output_type": "display_data"
    }
   ],
   "source": [
    "plt.plot([np.min(losses_rand[:i]) for i in range(1, k)])\n",
    "plt.plot(List_of_loss)\n",
    "plt.plot(List_of_loss_gaus)\n",
    "plt.rcParams['figure.figsize'] = (16.0, 8.0)\n",
    "plt.rcParams['font.size'] = 24\n",
    "plt.grid()\n",
    "plt.show()"
   ]
  },
  {
   "cell_type": "markdown",
   "metadata": {},
   "source": [
    "Метод с гауссовыми процессами самый медленный и при этом качество имеет не сильно лучше, чем случайный поиск.\n",
    "\n",
    "Случайный поиск самый быстрый, однако его качество желает быть лучшим.\n",
    "\n",
    "Самый успешный метод это HOAG, он не сильно медленнее, чем случайный поиск, но при этом его качество намного лучше остальных"
   ]
  },
  {
   "cell_type": "code",
   "execution_count": null,
   "metadata": {
    "collapsed": true
   },
   "outputs": [],
   "source": []
  }
 ],
 "metadata": {
  "colab": {
   "collapsed_sections": [],
   "name": "full.ipynb",
   "provenance": []
  },
  "kernelspec": {
   "display_name": "Python 3",
   "language": "python",
   "name": "python3"
  },
  "language_info": {
   "codemirror_mode": {
    "name": "ipython",
    "version": 3
   },
   "file_extension": ".py",
   "mimetype": "text/x-python",
   "name": "python",
   "nbconvert_exporter": "python",
   "pygments_lexer": "ipython3",
   "version": "3.6.1"
  }
 },
 "nbformat": 4,
 "nbformat_minor": 1
}
