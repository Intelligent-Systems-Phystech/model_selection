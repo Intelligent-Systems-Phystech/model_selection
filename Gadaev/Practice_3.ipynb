{
 "cells": [
  {
   "cell_type": "code",
   "execution_count": 1,
   "metadata": {},
   "outputs": [],
   "source": [
    "import numpy as np\n",
    "import matplotlib.pyplot as plt\n",
    "import torch"
   ]
  },
  {
   "cell_type": "code",
   "execution_count": 2,
   "metadata": {},
   "outputs": [],
   "source": [
    "from sklearn.datasets import make_classification\n",
    "from sklearn.linear_model import LogisticRegression\n",
    "from torch.optim import Adam\n",
    "from torch import nn\n",
    "from sklearn.metrics import accuracy_score"
   ]
  },
  {
   "cell_type": "code",
   "execution_count": 3,
   "metadata": {},
   "outputs": [],
   "source": [
    "class BayesianLogReg(nn.Module):\n",
    "    \n",
    "    def __init__(self, features_num = 784, classes_num=10, samples_num=1):\n",
    "        super(BayesianLogReg, self).__init__()\n",
    "        self.features_num = features_num\n",
    "        self.classes_num = classes_num\n",
    "        self.mu = nn.Parameter(torch.randn(features_num*classes_num))\n",
    "        self.sigma = nn.Parameter(torch.abs(torch.randn(features_num*classes_num)))\n",
    "        self.standart_normal = torch.distributions.MultivariateNormal(\n",
    "            loc = torch.zeros_like(self.mu), \n",
    "            precision_matrix=torch.eye(self.mu.shape[0]))\n",
    "        self.samples_num = samples_num\n",
    "    def forward(self, x):\n",
    "        w_est = torch.zeros(self.features_num, self.classes_num)\n",
    "        for i in range(self.samples_num):\n",
    "            z = self.standart_normal.sample()\n",
    "            w = torch.diag(self.sigma) @ z  + self.mu\n",
    "            w = w.view(self.features_num, self.classes_num)\n",
    "            w_est += w\n",
    "        return x @ w_est\n",
    "    \n",
    "    def infer(self, x):\n",
    "        return x @ self.mu.view(self.features_num, self.classes_num)\n",
    "    \n",
    "    def masked_infer(self, x, mask):\n",
    "        w = mask * self.mu\n",
    "        return x @ w.view(self.features_num, self.classes_num)"
   ]
  },
  {
   "cell_type": "code",
   "execution_count": 4,
   "metadata": {},
   "outputs": [],
   "source": [
    "from torch.utils.data import TensorDataset, DataLoader"
   ]
  },
  {
   "cell_type": "code",
   "execution_count": 28,
   "metadata": {},
   "outputs": [],
   "source": [
    "def get_loader(data, batch_size=128):\n",
    "    data_loader = DataLoader(data, batch_size=batch_size, shuffle=True, num_workers=8)\n",
    "    return data_loader\n",
    "\n",
    "def train_epoch(model, optimizer, train_loader, criterion):\n",
    "    model.train()\n",
    "    k = 0\n",
    "    for X, y in train_loader:\n",
    "        k += 1\n",
    "        out = model(X)\n",
    "        loss = criterion(out, y, model)\n",
    "        optimizer.zero_grad()\n",
    "        loss.backward()\n",
    "        optimizer.step()\n",
    "        if k%100 == 0:\n",
    "            print('On {}th batch loss is {}'.format(k, loss.detach().numpy()))\n",
    "    return \n",
    "\n",
    "def evaluate_loss(loader, model, criterion):\n",
    "    with torch.no_grad():\n",
    "        model.eval()\n",
    "        loss = 0\n",
    "        k = 0\n",
    "        for X, y in loader:\n",
    "            k += 1\n",
    "            out = model(X)\n",
    "            loss += criterion(out, y, model).cpu().numpy() \n",
    "        loss /= k + 1\n",
    "    return loss\n",
    "\n",
    "def evaluate_accuracy(loader, model, mask=None):\n",
    "    predictions = []\n",
    "    labels = []\n",
    "    with torch.no_grad():\n",
    "        model.eval()\n",
    "        for X, y in loader:\n",
    "            if mask is not None:\n",
    "                out = model.masked_infer(X, mask)\n",
    "            else:\n",
    "                out = model.infer(X)\n",
    "            labels.append(y)\n",
    "            predictions.append(torch.argmax(out, dim=-1)) \n",
    "        labels = torch.cat(labels).numpy()\n",
    "        predictions = torch.cat(predictions).numpy()\n",
    "    return labels, predictions\n",
    "\n",
    "def train(model, opt, train_loader, test_loader, criterion, n_epochs, verbose=True, device='cpu'):\n",
    "    for epoch in range(n_epochs):\n",
    "        train_epoch(model, opt, train_loader, criterion)\n",
    "        train_loss = evaluate_loss(train_loader, model, criterion)\n",
    "        val_loss = evaluate_loss(test_loader, model, criterion)\n",
    "        if verbose:\n",
    "             print(('Epoch [%d/%d], Loss (train/test): %.6f/%.6f,')\n",
    "                   %(epoch+1, n_epochs, \\\n",
    "                     train_loss, val_loss))\n",
    "    return"
   ]
  },
  {
   "cell_type": "code",
   "execution_count": 29,
   "metadata": {},
   "outputs": [],
   "source": [
    "from torchvision.datasets import MNIST\n",
    "data = MNIST('mnist', download=True, train=True)\n",
    "train_data = TensorDataset(data.train_data.view(-1, 28 * 28).float() / 255, data.train_labels)\n",
    "data = MNIST('mnist', download=True, train=False)\n",
    "test_data = TensorDataset(data.test_data.view(-1, 28 * 28).float() / 255, data.test_labels)"
   ]
  },
  {
   "cell_type": "code",
   "execution_count": 12,
   "metadata": {},
   "outputs": [],
   "source": [
    "model = BayesianLogReg(samples_num=1)"
   ]
  },
  {
   "cell_type": "code",
   "execution_count": 30,
   "metadata": {},
   "outputs": [],
   "source": [
    "optimizer = Adam(model.parameters(), lr=1e-3)"
   ]
  },
  {
   "cell_type": "code",
   "execution_count": 31,
   "metadata": {},
   "outputs": [],
   "source": [
    "crossentropy = nn.CrossEntropyLoss(reduction='sum')\n",
    "def elbo(out, y, model):\n",
    "    cross = crossentropy(out, y)\n",
    "    # \n",
    "    kl = 0.5 * (torch.sum(model.sigma) + torch.dot(model.mu, model.mu) - torch.sum(torch.log(model.sigma)))\n",
    "    return cross + kl"
   ]
  },
  {
   "cell_type": "code",
   "execution_count": 32,
   "metadata": {},
   "outputs": [],
   "source": [
    "train_loader = get_loader(train_data, batch_size=64)\n",
    "valid_loader  = get_loader(test_data, batch_size=64)"
   ]
  },
  {
   "cell_type": "code",
   "execution_count": 33,
   "metadata": {},
   "outputs": [
    {
     "name": "stdout",
     "output_type": "stream",
     "text": [
      "On 100th batch loss is 4230.017578125\n",
      "On 200th batch loss is 4393.67138671875\n",
      "On 300th batch loss is 4250.4189453125\n",
      "On 400th batch loss is 4252.8955078125\n",
      "On 500th batch loss is 4359.22705078125\n",
      "On 600th batch loss is 4352.44970703125\n",
      "On 700th batch loss is 4267.53662109375\n",
      "On 800th batch loss is 4235.97900390625\n",
      "On 900th batch loss is 4304.10595703125\n",
      "Epoch [1/1], Loss (train/test): 4288.457540/4254.331200,\n"
     ]
    }
   ],
   "source": [
    "train(model, optimizer, train_loader, valid_loader, elbo, 1)"
   ]
  },
  {
   "cell_type": "code",
   "execution_count": 34,
   "metadata": {},
   "outputs": [
    {
     "name": "stdout",
     "output_type": "stream",
     "text": [
      "0.8763\n"
     ]
    }
   ],
   "source": [
    "true, pred = evaluate_accuracy(valid_loader, model)\n",
    "print(accuracy_score(true, pred))"
   ]
  },
  {
   "cell_type": "code",
   "execution_count": 35,
   "metadata": {},
   "outputs": [],
   "source": [
    "from copy import deepcopy\n",
    "from tqdm import tqdm_notebook as tqdm\n",
    "prune = lambda percentage, lamb: lamb < np.percentile(lamb, percentage)"
   ]
  },
  {
   "cell_type": "code",
   "execution_count": 36,
   "metadata": {},
   "outputs": [],
   "source": [
    "lamb = torch.exp(- model.mu**2 / 2*model.sigma**2).detach().numpy()"
   ]
  },
  {
   "cell_type": "code",
   "execution_count": 37,
   "metadata": {},
   "outputs": [
    {
     "data": {
      "image/png": "[encoded data removed]",
      "text/plain": [
       "<Figure size 864x432 with 1 Axes>"
      ]
     },
     "metadata": {
      "needs_background": "light"
     },
     "output_type": "display_data"
    }
   ],
   "source": [
    "fig = plt.figure(figsize=(12,6)) \n",
    "plt.plot(sorted(lamb))\n",
    "_ = plt.title('Lambdas distribution')"
   ]
  },
  {
   "cell_type": "code",
   "execution_count": 38,
   "metadata": {},
   "outputs": [],
   "source": [
    "model_copy = deepcopy(model)\n",
    "model.mu = model_copy.mu\n",
    "model.sigma = model_copy.sigma"
   ]
  },
  {
   "cell_type": "code",
   "execution_count": 39,
   "metadata": {},
   "outputs": [],
   "source": [
    "def conduct_pruning_experiment(model):\n",
    "    lamb = torch.exp(- model.mu**2 / 2*model.sigma**2).detach().numpy()\n",
    "    accuracies_bayesian = []\n",
    "    accuracies_random = []\n",
    "    order = np.random.permutation(model.mu.shape[0])\n",
    "    x = np.arange(0,100)\n",
    "    for perc in tqdm(x[::-1]):\n",
    "\n",
    "        mask_bayesian = torch.FloatTensor(prune(perc, lamb))\n",
    "\n",
    "        to = np.percentile(np.arange(model.mu.shape[0]), perc).astype(int)\n",
    "        mask_random = torch.zeros(model.mu.shape[0])\n",
    "        mask_random[[order[:to]]] = 1\n",
    "\n",
    "        true, pred = evaluate_accuracy(valid_loader, model, mask_bayesian)\n",
    "        accuracies_bayesian.append(accuracy_score(true, pred))\n",
    "\n",
    "        true, pred = evaluate_accuracy(valid_loader, model, mask_random)\n",
    "        accuracies_random.append(accuracy_score(true, pred))\n",
    "    return x, accuracies_random, accuracies_bayesian"
   ]
  },
  {
   "cell_type": "code",
   "execution_count": 40,
   "metadata": {},
   "outputs": [
    {
     "data": {
      "application/vnd.jupyter.widget-view+json": {
       "model_id": "ee5d48e742d94f4889ab2e683c5bc277",
       "version_major": 2,
       "version_minor": 0
      },
      "text/plain": [
       "HBox(children=(IntProgress(value=0), HTML(value='')))"
      ]
     },
     "metadata": {},
     "output_type": "display_data"
    },
    {
     "name": "stdout",
     "output_type": "stream",
     "text": [
      "\n"
     ]
    }
   ],
   "source": [
    "x, accuracies_random, accuracies_bayesian = conduct_pruning_experiment(model)"
   ]
  },
  {
   "cell_type": "code",
   "execution_count": 41,
   "metadata": {},
   "outputs": [
    {
     "data": {
      "image/png": "[encoded data removed]",
      "text/plain": [
       "<Figure size 864x432 with 1 Axes>"
      ]
     },
     "metadata": {
      "needs_background": "light"
     },
     "output_type": "display_data"
    }
   ],
   "source": [
    "fig = plt.figure(figsize=(12,6)) \n",
    "plt.plot(x, accuracies_bayesian, label = 'Bayesian')\n",
    "plt.plot(x, accuracies_random, label = 'Random')\n",
    "plt.xlabel('Percentage of deleted neurons')\n",
    "plt.ylabel('Accuracy')\n",
    "# plt.xlim(99, 1)\n",
    "_=plt.legend()"
   ]
  },
  {
   "cell_type": "code",
   "execution_count": null,
   "metadata": {},
   "outputs": [],
   "source": []
  },
  {
   "cell_type": "code",
   "execution_count": null,
   "metadata": {},
   "outputs": [],
   "source": []
  },
  {
   "cell_type": "code",
   "execution_count": null,
   "metadata": {},
   "outputs": [],
   "source": []
  }
 ],
 "metadata": {
  "kernelspec": {
   "display_name": "Python 3",
   "language": "python",
   "name": "python3"
  },
  "language_info": {
   "codemirror_mode": {
    "name": "ipython",
    "version": 3
   },
   "file_extension": ".py",
   "mimetype": "text/x-python",
   "name": "python",
   "nbconvert_exporter": "python",
   "pygments_lexer": "ipython3",
   "version": "3.7.3"
  }
 },
 "nbformat": 4,
 "nbformat_minor": 2
}
